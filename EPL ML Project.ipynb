{
 "cells": [
  {
   "cell_type": "code",
   "execution_count": 1,
   "metadata": {},
   "outputs": [
    {
     "name": "stdout",
     "output_type": "stream",
     "text": [
      "Populating the interactive namespace from numpy and matplotlib\n"
     ]
    }
   ],
   "source": [
    "#import modules and packages\n",
    "\n",
    "import pandas as pd\n",
    "pd.set_option('display.max_columns', 50)\n",
    "import numpy as np\n",
    "import seaborn as sns\n",
    "import matplotlib.pyplot as plt\n",
    "%pylab inline\n",
    "\n",
    "# Cross Validation Imports\n",
    "from sklearn.model_selection import cross_val_score\n",
    "from sklearn.model_selection import validation_curve\n",
    "\n",
    "# print all the outputs in a cell\n",
    "from IPython.core.interactiveshell import InteractiveShell\n",
    "InteractiveShell.ast_node_interactivity = \"all\""
   ]
  },
  {
   "cell_type": "code",
   "execution_count": 2,
   "metadata": {},
   "outputs": [],
   "source": [
    "import warnings\n",
    "#suppress all future warning\n",
    "warnings.filterwarnings('ignore')\n",
    "#see only one time warning\n",
    "#warnings.filterwarnings(action='once')"
   ]
  },
  {
   "cell_type": "code",
   "execution_count": 3,
   "metadata": {},
   "outputs": [],
   "source": [
    "#import data\n",
    "\n",
    "df = pd.read_csv('EPL.csv')"
   ]
  },
  {
   "cell_type": "markdown",
   "metadata": {},
   "source": [
    "# <div class = \"alert alert-block alert-success\"> DATA DESCRIPTION</div>"
   ]
  },
  {
   "cell_type": "markdown",
   "metadata": {},
   "source": [
    "## EPL Results 2006/07-2018/19"
   ]
  },
  {
   "cell_type": "markdown",
   "metadata": {},
   "source": [
    "This data set represents information gathered about matches played in the English Premier League from the 2006/07 to 2018/19 seasons. This data set offers insight into the common trends and patterns of winning teams and hopefully, we can uncover a winning formula, or game performances of teams that are successful. Each row represents one match and contains the following columns for a Home and Away team:\n",
    "\n",
    "* Home Team\n",
    "* Away Team\n",
    "* Goals\n",
    "* Posession Percentage\n",
    "* Shots on Target\n",
    "* Total Shots\n",
    "* Total Touches on Ball\n",
    "* Total Passes\n",
    "* Total Number of Tackles\n",
    "* Total Number of Clearances\n",
    "* Total Number of Corners\n",
    "* Total Number of Yellow Cards\n",
    "* Total Number of Red Cards\n",
    "* Total Number of Fouls\n",
    "* Winner\n",
    "* Match Week\n",
    "* Season\n",
    "\n",
    "For the Winner column, 0 represents a Tie, 1 represents a Home Team Win, 2 represents an Away Team Win.\n",
    "\n",
    "* 0 = Tie\n",
    "* 1 = Home Team Win\n",
    "* 2 = Away Team Win\n",
    "\n",
    "\n",
    " \n"
   ]
  },
  {
   "cell_type": "code",
   "execution_count": 4,
   "metadata": {},
   "outputs": [
    {
     "data": {
      "text/plain": [
       "4938"
      ]
     },
     "execution_count": 4,
     "metadata": {},
     "output_type": "execute_result"
    }
   ],
   "source": [
    "#finding the length of the dataframe\n",
    "\n",
    "len(df)"
   ]
  },
  {
   "cell_type": "markdown",
   "metadata": {},
   "source": [
    "## <div class=\"alert alert-block alert-info\"> DATA CLEANING </div>"
   ]
  },
  {
   "cell_type": "code",
   "execution_count": 5,
   "metadata": {
    "scrolled": true
   },
   "outputs": [
    {
     "data": {
      "text/plain": [
       "Index(['home_team', 'away_team', 'home_goals', 'away_goals', 'home_pos',\n",
       "       'away_pos', 'home_shots_on_target', 'away_shots_on_target',\n",
       "       'home_shots', 'away_shots', 'home_touch', 'away_touch', 'home_pass',\n",
       "       'away_pass', 'home_tackles', 'away_tackles', 'home_clear', 'away_clear',\n",
       "       'home_corner', 'away_corner', 'home_off', 'away_off', 'home_yellow',\n",
       "       'away_yellow', 'home_red', 'away_red', 'home_fouls', 'away_fouls',\n",
       "       'winner', 'matchweek', 'season'],\n",
       "      dtype='object')"
      ]
     },
     "execution_count": 5,
     "metadata": {},
     "output_type": "execute_result"
    }
   ],
   "source": [
    "#listing all columns\n",
    "\n",
    "df.columns"
   ]
  },
  {
   "cell_type": "code",
   "execution_count": 6,
   "metadata": {},
   "outputs": [],
   "source": [
    "#dropping matchweek\n",
    "\n",
    "df = df.drop('matchweek', 1)"
   ]
  },
  {
   "cell_type": "code",
   "execution_count": 7,
   "metadata": {
    "scrolled": true
   },
   "outputs": [
    {
     "data": {
      "text/html": [
       "<div>\n",
       "<style scoped>\n",
       "    .dataframe tbody tr th:only-of-type {\n",
       "        vertical-align: middle;\n",
       "    }\n",
       "\n",
       "    .dataframe tbody tr th {\n",
       "        vertical-align: top;\n",
       "    }\n",
       "\n",
       "    .dataframe thead th {\n",
       "        text-align: right;\n",
       "    }\n",
       "</style>\n",
       "<table border=\"1\" class=\"dataframe\">\n",
       "  <thead>\n",
       "    <tr style=\"text-align: right;\">\n",
       "      <th></th>\n",
       "      <th>home_team</th>\n",
       "      <th>away_team</th>\n",
       "      <th>home_goals</th>\n",
       "      <th>away_goals</th>\n",
       "      <th>home_pos</th>\n",
       "      <th>away_pos</th>\n",
       "      <th>home_shots_on_target</th>\n",
       "      <th>away_shots_on_target</th>\n",
       "      <th>home_shots</th>\n",
       "      <th>away_shots</th>\n",
       "      <th>home_touch</th>\n",
       "      <th>away_touch</th>\n",
       "      <th>home_pass</th>\n",
       "      <th>away_pass</th>\n",
       "      <th>home_tackles</th>\n",
       "      <th>away_tackles</th>\n",
       "      <th>home_clear</th>\n",
       "      <th>away_clear</th>\n",
       "      <th>home_corner</th>\n",
       "      <th>away_corner</th>\n",
       "      <th>home_off</th>\n",
       "      <th>away_off</th>\n",
       "      <th>home_yellow</th>\n",
       "      <th>away_yellow</th>\n",
       "      <th>home_red</th>\n",
       "      <th>away_red</th>\n",
       "      <th>home_fouls</th>\n",
       "      <th>away_fouls</th>\n",
       "      <th>winner</th>\n",
       "    </tr>\n",
       "    <tr>\n",
       "      <th>season</th>\n",
       "      <th></th>\n",
       "      <th></th>\n",
       "      <th></th>\n",
       "      <th></th>\n",
       "      <th></th>\n",
       "      <th></th>\n",
       "      <th></th>\n",
       "      <th></th>\n",
       "      <th></th>\n",
       "      <th></th>\n",
       "      <th></th>\n",
       "      <th></th>\n",
       "      <th></th>\n",
       "      <th></th>\n",
       "      <th></th>\n",
       "      <th></th>\n",
       "      <th></th>\n",
       "      <th></th>\n",
       "      <th></th>\n",
       "      <th></th>\n",
       "      <th></th>\n",
       "      <th></th>\n",
       "      <th></th>\n",
       "      <th></th>\n",
       "      <th></th>\n",
       "      <th></th>\n",
       "      <th></th>\n",
       "      <th></th>\n",
       "      <th></th>\n",
       "    </tr>\n",
       "  </thead>\n",
       "  <tbody>\n",
       "    <tr>\n",
       "      <th>2006/2007</th>\n",
       "      <td>ARS</td>\n",
       "      <td>AVL</td>\n",
       "      <td>1</td>\n",
       "      <td>1</td>\n",
       "      <td>72.9</td>\n",
       "      <td>27.1</td>\n",
       "      <td>7</td>\n",
       "      <td>3</td>\n",
       "      <td>24</td>\n",
       "      <td>6</td>\n",
       "      <td>807</td>\n",
       "      <td>417</td>\n",
       "      <td>631</td>\n",
       "      <td>232</td>\n",
       "      <td>22</td>\n",
       "      <td>33</td>\n",
       "      <td>14</td>\n",
       "      <td>51</td>\n",
       "      <td>18</td>\n",
       "      <td>1</td>\n",
       "      <td>2</td>\n",
       "      <td>6</td>\n",
       "      <td>1</td>\n",
       "      <td>2</td>\n",
       "      <td>0</td>\n",
       "      <td>0</td>\n",
       "      <td>10</td>\n",
       "      <td>19</td>\n",
       "      <td>0</td>\n",
       "    </tr>\n",
       "    <tr>\n",
       "      <th>2006/2007</th>\n",
       "      <td>BOL</td>\n",
       "      <td>TOT</td>\n",
       "      <td>2</td>\n",
       "      <td>0</td>\n",
       "      <td>37.8</td>\n",
       "      <td>62.2</td>\n",
       "      <td>4</td>\n",
       "      <td>2</td>\n",
       "      <td>13</td>\n",
       "      <td>10</td>\n",
       "      <td>411</td>\n",
       "      <td>591</td>\n",
       "      <td>243</td>\n",
       "      <td>427</td>\n",
       "      <td>28</td>\n",
       "      <td>17</td>\n",
       "      <td>20</td>\n",
       "      <td>43</td>\n",
       "      <td>6</td>\n",
       "      <td>3</td>\n",
       "      <td>3</td>\n",
       "      <td>1</td>\n",
       "      <td>0</td>\n",
       "      <td>0</td>\n",
       "      <td>0</td>\n",
       "      <td>0</td>\n",
       "      <td>22</td>\n",
       "      <td>22</td>\n",
       "      <td>1</td>\n",
       "    </tr>\n",
       "    <tr>\n",
       "      <th>2006/2007</th>\n",
       "      <td>EVE</td>\n",
       "      <td>WAT</td>\n",
       "      <td>2</td>\n",
       "      <td>1</td>\n",
       "      <td>47.0</td>\n",
       "      <td>53.0</td>\n",
       "      <td>2</td>\n",
       "      <td>7</td>\n",
       "      <td>8</td>\n",
       "      <td>13</td>\n",
       "      <td>460</td>\n",
       "      <td>493</td>\n",
       "      <td>288</td>\n",
       "      <td>321</td>\n",
       "      <td>17</td>\n",
       "      <td>24</td>\n",
       "      <td>61</td>\n",
       "      <td>32</td>\n",
       "      <td>0</td>\n",
       "      <td>6</td>\n",
       "      <td>5</td>\n",
       "      <td>1</td>\n",
       "      <td>2</td>\n",
       "      <td>2</td>\n",
       "      <td>0</td>\n",
       "      <td>0</td>\n",
       "      <td>12</td>\n",
       "      <td>15</td>\n",
       "      <td>1</td>\n",
       "    </tr>\n",
       "    <tr>\n",
       "      <th>2006/2007</th>\n",
       "      <td>NEW</td>\n",
       "      <td>WIG</td>\n",
       "      <td>2</td>\n",
       "      <td>1</td>\n",
       "      <td>55.3</td>\n",
       "      <td>44.7</td>\n",
       "      <td>5</td>\n",
       "      <td>4</td>\n",
       "      <td>8</td>\n",
       "      <td>13</td>\n",
       "      <td>519</td>\n",
       "      <td>448</td>\n",
       "      <td>352</td>\n",
       "      <td>278</td>\n",
       "      <td>27</td>\n",
       "      <td>33</td>\n",
       "      <td>15</td>\n",
       "      <td>16</td>\n",
       "      <td>4</td>\n",
       "      <td>11</td>\n",
       "      <td>6</td>\n",
       "      <td>3</td>\n",
       "      <td>1</td>\n",
       "      <td>2</td>\n",
       "      <td>0</td>\n",
       "      <td>0</td>\n",
       "      <td>18</td>\n",
       "      <td>19</td>\n",
       "      <td>1</td>\n",
       "    </tr>\n",
       "    <tr>\n",
       "      <th>2006/2007</th>\n",
       "      <td>POR</td>\n",
       "      <td>BLB</td>\n",
       "      <td>3</td>\n",
       "      <td>0</td>\n",
       "      <td>44.3</td>\n",
       "      <td>55.7</td>\n",
       "      <td>11</td>\n",
       "      <td>3</td>\n",
       "      <td>21</td>\n",
       "      <td>8</td>\n",
       "      <td>415</td>\n",
       "      <td>527</td>\n",
       "      <td>279</td>\n",
       "      <td>327</td>\n",
       "      <td>23</td>\n",
       "      <td>19</td>\n",
       "      <td>15</td>\n",
       "      <td>28</td>\n",
       "      <td>6</td>\n",
       "      <td>2</td>\n",
       "      <td>5</td>\n",
       "      <td>0</td>\n",
       "      <td>2</td>\n",
       "      <td>0</td>\n",
       "      <td>0</td>\n",
       "      <td>1</td>\n",
       "      <td>22</td>\n",
       "      <td>17</td>\n",
       "      <td>1</td>\n",
       "    </tr>\n",
       "  </tbody>\n",
       "</table>\n",
       "</div>"
      ],
      "text/plain": [
       "          home_team away_team  home_goals  away_goals  home_pos  away_pos  \\\n",
       "season                                                                      \n",
       "2006/2007       ARS       AVL           1           1      72.9      27.1   \n",
       "2006/2007       BOL       TOT           2           0      37.8      62.2   \n",
       "2006/2007       EVE       WAT           2           1      47.0      53.0   \n",
       "2006/2007       NEW       WIG           2           1      55.3      44.7   \n",
       "2006/2007       POR       BLB           3           0      44.3      55.7   \n",
       "\n",
       "           home_shots_on_target  away_shots_on_target  home_shots  away_shots  \\\n",
       "season                                                                          \n",
       "2006/2007                     7                     3          24           6   \n",
       "2006/2007                     4                     2          13          10   \n",
       "2006/2007                     2                     7           8          13   \n",
       "2006/2007                     5                     4           8          13   \n",
       "2006/2007                    11                     3          21           8   \n",
       "\n",
       "           home_touch  away_touch  home_pass  away_pass  home_tackles  \\\n",
       "season                                                                  \n",
       "2006/2007         807         417        631        232            22   \n",
       "2006/2007         411         591        243        427            28   \n",
       "2006/2007         460         493        288        321            17   \n",
       "2006/2007         519         448        352        278            27   \n",
       "2006/2007         415         527        279        327            23   \n",
       "\n",
       "           away_tackles  home_clear  away_clear  home_corner  away_corner  \\\n",
       "season                                                                      \n",
       "2006/2007            33          14          51           18            1   \n",
       "2006/2007            17          20          43            6            3   \n",
       "2006/2007            24          61          32            0            6   \n",
       "2006/2007            33          15          16            4           11   \n",
       "2006/2007            19          15          28            6            2   \n",
       "\n",
       "           home_off  away_off  home_yellow  away_yellow  home_red  away_red  \\\n",
       "season                                                                        \n",
       "2006/2007         2         6            1            2         0         0   \n",
       "2006/2007         3         1            0            0         0         0   \n",
       "2006/2007         5         1            2            2         0         0   \n",
       "2006/2007         6         3            1            2         0         0   \n",
       "2006/2007         5         0            2            0         0         1   \n",
       "\n",
       "           home_fouls  away_fouls  winner  \n",
       "season                                     \n",
       "2006/2007          10          19       0  \n",
       "2006/2007          22          22       1  \n",
       "2006/2007          12          15       1  \n",
       "2006/2007          18          19       1  \n",
       "2006/2007          22          17       1  "
      ]
     },
     "execution_count": 7,
     "metadata": {},
     "output_type": "execute_result"
    }
   ],
   "source": [
    "#set 'Year_Month' as index\n",
    "\n",
    "df = df.set_index('season')\n",
    "df.head()"
   ]
  },
  {
   "cell_type": "code",
   "execution_count": 8,
   "metadata": {},
   "outputs": [
    {
     "data": {
      "text/html": [
       "<div>\n",
       "<style scoped>\n",
       "    .dataframe tbody tr th:only-of-type {\n",
       "        vertical-align: middle;\n",
       "    }\n",
       "\n",
       "    .dataframe tbody tr th {\n",
       "        vertical-align: top;\n",
       "    }\n",
       "\n",
       "    .dataframe thead th {\n",
       "        text-align: right;\n",
       "    }\n",
       "</style>\n",
       "<table border=\"1\" class=\"dataframe\">\n",
       "  <thead>\n",
       "    <tr style=\"text-align: right;\">\n",
       "      <th></th>\n",
       "      <th>home_team</th>\n",
       "      <th>away_team</th>\n",
       "      <th>home_goals</th>\n",
       "      <th>away_goals</th>\n",
       "      <th>home_pos</th>\n",
       "      <th>away_pos</th>\n",
       "      <th>home_shots_on_target</th>\n",
       "      <th>away_shots_on_target</th>\n",
       "      <th>home_shots</th>\n",
       "      <th>away_shots</th>\n",
       "      <th>home_touch</th>\n",
       "      <th>away_touch</th>\n",
       "      <th>home_pass</th>\n",
       "      <th>away_pass</th>\n",
       "      <th>home_tackles</th>\n",
       "      <th>away_tackles</th>\n",
       "      <th>home_clear</th>\n",
       "      <th>away_clear</th>\n",
       "      <th>home_corner</th>\n",
       "      <th>away_corner</th>\n",
       "      <th>home_off</th>\n",
       "      <th>away_off</th>\n",
       "      <th>home_yellow</th>\n",
       "      <th>away_yellow</th>\n",
       "      <th>home_red</th>\n",
       "      <th>away_red</th>\n",
       "      <th>home_fouls</th>\n",
       "      <th>away_fouls</th>\n",
       "      <th>winner</th>\n",
       "    </tr>\n",
       "    <tr>\n",
       "      <th>season</th>\n",
       "      <th></th>\n",
       "      <th></th>\n",
       "      <th></th>\n",
       "      <th></th>\n",
       "      <th></th>\n",
       "      <th></th>\n",
       "      <th></th>\n",
       "      <th></th>\n",
       "      <th></th>\n",
       "      <th></th>\n",
       "      <th></th>\n",
       "      <th></th>\n",
       "      <th></th>\n",
       "      <th></th>\n",
       "      <th></th>\n",
       "      <th></th>\n",
       "      <th></th>\n",
       "      <th></th>\n",
       "      <th></th>\n",
       "      <th></th>\n",
       "      <th></th>\n",
       "      <th></th>\n",
       "      <th></th>\n",
       "      <th></th>\n",
       "      <th></th>\n",
       "      <th></th>\n",
       "      <th></th>\n",
       "      <th></th>\n",
       "      <th></th>\n",
       "    </tr>\n",
       "  </thead>\n",
       "  <tbody>\n",
       "    <tr>\n",
       "      <th>2006/2007</th>\n",
       "      <td>1</td>\n",
       "      <td>13</td>\n",
       "      <td>1</td>\n",
       "      <td>1</td>\n",
       "      <td>72.9</td>\n",
       "      <td>27.1</td>\n",
       "      <td>7</td>\n",
       "      <td>3</td>\n",
       "      <td>24</td>\n",
       "      <td>6</td>\n",
       "      <td>807</td>\n",
       "      <td>417</td>\n",
       "      <td>631</td>\n",
       "      <td>232</td>\n",
       "      <td>22</td>\n",
       "      <td>33</td>\n",
       "      <td>14</td>\n",
       "      <td>51</td>\n",
       "      <td>18</td>\n",
       "      <td>1</td>\n",
       "      <td>2</td>\n",
       "      <td>6</td>\n",
       "      <td>1</td>\n",
       "      <td>2</td>\n",
       "      <td>0</td>\n",
       "      <td>0</td>\n",
       "      <td>10</td>\n",
       "      <td>19</td>\n",
       "      <td>0</td>\n",
       "    </tr>\n",
       "    <tr>\n",
       "      <th>2006/2007</th>\n",
       "      <td>2</td>\n",
       "      <td>11</td>\n",
       "      <td>2</td>\n",
       "      <td>0</td>\n",
       "      <td>37.8</td>\n",
       "      <td>62.2</td>\n",
       "      <td>4</td>\n",
       "      <td>2</td>\n",
       "      <td>13</td>\n",
       "      <td>10</td>\n",
       "      <td>411</td>\n",
       "      <td>591</td>\n",
       "      <td>243</td>\n",
       "      <td>427</td>\n",
       "      <td>28</td>\n",
       "      <td>17</td>\n",
       "      <td>20</td>\n",
       "      <td>43</td>\n",
       "      <td>6</td>\n",
       "      <td>3</td>\n",
       "      <td>3</td>\n",
       "      <td>1</td>\n",
       "      <td>0</td>\n",
       "      <td>0</td>\n",
       "      <td>0</td>\n",
       "      <td>0</td>\n",
       "      <td>22</td>\n",
       "      <td>22</td>\n",
       "      <td>1</td>\n",
       "    </tr>\n",
       "    <tr>\n",
       "      <th>2006/2007</th>\n",
       "      <td>3</td>\n",
       "      <td>12</td>\n",
       "      <td>2</td>\n",
       "      <td>1</td>\n",
       "      <td>47.0</td>\n",
       "      <td>53.0</td>\n",
       "      <td>2</td>\n",
       "      <td>7</td>\n",
       "      <td>8</td>\n",
       "      <td>13</td>\n",
       "      <td>460</td>\n",
       "      <td>493</td>\n",
       "      <td>288</td>\n",
       "      <td>321</td>\n",
       "      <td>17</td>\n",
       "      <td>24</td>\n",
       "      <td>61</td>\n",
       "      <td>32</td>\n",
       "      <td>0</td>\n",
       "      <td>6</td>\n",
       "      <td>5</td>\n",
       "      <td>1</td>\n",
       "      <td>2</td>\n",
       "      <td>2</td>\n",
       "      <td>0</td>\n",
       "      <td>0</td>\n",
       "      <td>12</td>\n",
       "      <td>15</td>\n",
       "      <td>1</td>\n",
       "    </tr>\n",
       "    <tr>\n",
       "      <th>2006/2007</th>\n",
       "      <td>4</td>\n",
       "      <td>20</td>\n",
       "      <td>2</td>\n",
       "      <td>1</td>\n",
       "      <td>55.3</td>\n",
       "      <td>44.7</td>\n",
       "      <td>5</td>\n",
       "      <td>4</td>\n",
       "      <td>8</td>\n",
       "      <td>13</td>\n",
       "      <td>519</td>\n",
       "      <td>448</td>\n",
       "      <td>352</td>\n",
       "      <td>278</td>\n",
       "      <td>27</td>\n",
       "      <td>33</td>\n",
       "      <td>15</td>\n",
       "      <td>16</td>\n",
       "      <td>4</td>\n",
       "      <td>11</td>\n",
       "      <td>6</td>\n",
       "      <td>3</td>\n",
       "      <td>1</td>\n",
       "      <td>2</td>\n",
       "      <td>0</td>\n",
       "      <td>0</td>\n",
       "      <td>18</td>\n",
       "      <td>19</td>\n",
       "      <td>1</td>\n",
       "    </tr>\n",
       "    <tr>\n",
       "      <th>2006/2007</th>\n",
       "      <td>5</td>\n",
       "      <td>14</td>\n",
       "      <td>3</td>\n",
       "      <td>0</td>\n",
       "      <td>44.3</td>\n",
       "      <td>55.7</td>\n",
       "      <td>11</td>\n",
       "      <td>3</td>\n",
       "      <td>21</td>\n",
       "      <td>8</td>\n",
       "      <td>415</td>\n",
       "      <td>527</td>\n",
       "      <td>279</td>\n",
       "      <td>327</td>\n",
       "      <td>23</td>\n",
       "      <td>19</td>\n",
       "      <td>15</td>\n",
       "      <td>28</td>\n",
       "      <td>6</td>\n",
       "      <td>2</td>\n",
       "      <td>5</td>\n",
       "      <td>0</td>\n",
       "      <td>2</td>\n",
       "      <td>0</td>\n",
       "      <td>0</td>\n",
       "      <td>1</td>\n",
       "      <td>22</td>\n",
       "      <td>17</td>\n",
       "      <td>1</td>\n",
       "    </tr>\n",
       "  </tbody>\n",
       "</table>\n",
       "</div>"
      ],
      "text/plain": [
       "           home_team  away_team  home_goals  away_goals  home_pos  away_pos  \\\n",
       "season                                                                        \n",
       "2006/2007          1         13           1           1      72.9      27.1   \n",
       "2006/2007          2         11           2           0      37.8      62.2   \n",
       "2006/2007          3         12           2           1      47.0      53.0   \n",
       "2006/2007          4         20           2           1      55.3      44.7   \n",
       "2006/2007          5         14           3           0      44.3      55.7   \n",
       "\n",
       "           home_shots_on_target  away_shots_on_target  home_shots  away_shots  \\\n",
       "season                                                                          \n",
       "2006/2007                     7                     3          24           6   \n",
       "2006/2007                     4                     2          13          10   \n",
       "2006/2007                     2                     7           8          13   \n",
       "2006/2007                     5                     4           8          13   \n",
       "2006/2007                    11                     3          21           8   \n",
       "\n",
       "           home_touch  away_touch  home_pass  away_pass  home_tackles  \\\n",
       "season                                                                  \n",
       "2006/2007         807         417        631        232            22   \n",
       "2006/2007         411         591        243        427            28   \n",
       "2006/2007         460         493        288        321            17   \n",
       "2006/2007         519         448        352        278            27   \n",
       "2006/2007         415         527        279        327            23   \n",
       "\n",
       "           away_tackles  home_clear  away_clear  home_corner  away_corner  \\\n",
       "season                                                                      \n",
       "2006/2007            33          14          51           18            1   \n",
       "2006/2007            17          20          43            6            3   \n",
       "2006/2007            24          61          32            0            6   \n",
       "2006/2007            33          15          16            4           11   \n",
       "2006/2007            19          15          28            6            2   \n",
       "\n",
       "           home_off  away_off  home_yellow  away_yellow  home_red  away_red  \\\n",
       "season                                                                        \n",
       "2006/2007         2         6            1            2         0         0   \n",
       "2006/2007         3         1            0            0         0         0   \n",
       "2006/2007         5         1            2            2         0         0   \n",
       "2006/2007         6         3            1            2         0         0   \n",
       "2006/2007         5         0            2            0         0         1   \n",
       "\n",
       "           home_fouls  away_fouls  winner  \n",
       "season                                     \n",
       "2006/2007          10          19       0  \n",
       "2006/2007          22          22       1  \n",
       "2006/2007          12          15       1  \n",
       "2006/2007          18          19       1  \n",
       "2006/2007          22          17       1  "
      ]
     },
     "execution_count": 8,
     "metadata": {},
     "output_type": "execute_result"
    }
   ],
   "source": [
    "#giving each team a unique number for organizational purposes\n",
    "\n",
    "code = {'ARS': 1, 'BOL' : 2, 'EVE': 3, 'NEW' : 4, 'POR' : 5, 'RDG' : 6, 'SHU' : 7, 'WHU' : 8, 'CHE' : 9,\n",
    "       'MUN' : 10, 'TOT' : 11, 'WAT': 12, 'AVL' : 13, 'BLB' : 14, 'CHA' : 15, 'FUL' : 16, 'MCI' : 17, 'MID' : 18,\n",
    "       'LIV' : 19, 'WIG' : 20, 'DER' : 21, 'SUN' : 22, 'BIR' : 23, 'HUL' : 24, 'STK' : 25, 'WBA' : 26, 'WOL' : 27,\n",
    "       'BUR' : 28, 'BLP' : 29, 'QPR' : 30, 'SWA' : 31, 'NOR' : 32, 'SOU' : 33, 'CRY' : 34, 'CAR' : 35, 'LEI' : 36,\n",
    "       'BOU' : 37, 'BHA' : 38, 'HUD' : 39}\n",
    "\n",
    "df.home_team = [code[item] for item in df.home_team] \n",
    "df.away_team = [code[item] for item in df.away_team] \n",
    "\n",
    "df.head()"
   ]
  },
  {
   "cell_type": "code",
   "execution_count": 9,
   "metadata": {
    "scrolled": true
   },
   "outputs": [
    {
     "data": {
      "text/plain": [
       "array([ 1,  2,  3,  4,  5,  6,  7,  8,  9, 10, 11, 12, 13, 14, 15, 16, 17,\n",
       "       18, 19, 20, 21, 22, 23, 24, 25, 26, 27, 28, 29, 30, 31, 32, 33, 34,\n",
       "       35, 36, 37, 38, 39])"
      ]
     },
     "execution_count": 9,
     "metadata": {},
     "output_type": "execute_result"
    }
   ],
   "source": [
    "#check\n",
    "\n",
    "df.home_team.unique()"
   ]
  },
  {
   "cell_type": "code",
   "execution_count": 10,
   "metadata": {},
   "outputs": [
    {
     "data": {
      "text/plain": [
       "home_team               False\n",
       "away_team               False\n",
       "home_goals              False\n",
       "away_goals              False\n",
       "home_pos                False\n",
       "away_pos                False\n",
       "home_shots_on_target    False\n",
       "away_shots_on_target    False\n",
       "home_shots              False\n",
       "away_shots              False\n",
       "home_touch              False\n",
       "away_touch              False\n",
       "home_pass               False\n",
       "away_pass               False\n",
       "home_tackles            False\n",
       "away_tackles            False\n",
       "home_clear              False\n",
       "away_clear              False\n",
       "home_corner             False\n",
       "away_corner             False\n",
       "home_off                False\n",
       "away_off                False\n",
       "home_yellow             False\n",
       "away_yellow             False\n",
       "home_red                False\n",
       "away_red                False\n",
       "home_fouls              False\n",
       "away_fouls              False\n",
       "winner                  False\n",
       "dtype: bool"
      ]
     },
     "execution_count": 10,
     "metadata": {},
     "output_type": "execute_result"
    }
   ],
   "source": [
    "#NaN check\n",
    "\n",
    "df.isna().any()"
   ]
  },
  {
   "cell_type": "code",
   "execution_count": 11,
   "metadata": {},
   "outputs": [
    {
     "name": "stdout",
     "output_type": "stream",
     "text": [
      "home_team :  False\n",
      "away_team :  False\n",
      "home_goals :  False\n",
      "away_goals :  False\n",
      "home_pos :  False\n",
      "away_pos :  False\n",
      "home_shots_on_target :  False\n",
      "away_shots_on_target :  False\n",
      "home_shots :  False\n",
      "away_shots :  False\n",
      "home_touch :  False\n",
      "away_touch :  False\n",
      "home_pass :  False\n",
      "away_pass :  False\n",
      "home_tackles :  False\n",
      "away_tackles :  False\n",
      "home_clear :  False\n",
      "away_clear :  False\n",
      "home_corner :  False\n",
      "away_corner :  False\n",
      "home_off :  False\n",
      "away_off :  False\n",
      "home_yellow :  False\n",
      "away_yellow :  False\n",
      "home_red :  False\n",
      "away_red :  False\n",
      "home_fouls :  False\n",
      "away_fouls :  False\n",
      "winner :  False\n"
     ]
    }
   ],
   "source": [
    "#check for blank values\n",
    "\n",
    "for c in df.columns:\n",
    "    print(c, \": \", df.groupby(c).size().index == ' ')"
   ]
  },
  {
   "cell_type": "code",
   "execution_count": 12,
   "metadata": {},
   "outputs": [
    {
     "data": {
      "text/plain": [
       "array([  1. ,  13. ,   1. ,   1. ,  72.9,  27.1,   7. ,   3. ,  24. ,\n",
       "         6. , 807. , 417. , 631. , 232. ,  22. ,  33. ,  14. ,  51. ,\n",
       "        18. ,   1. ,   2. ,   6. ,   1. ,   2. ,   0. ,   0. ,  10. ,\n",
       "        19. ,   0. ])"
      ]
     },
     "execution_count": 12,
     "metadata": {},
     "output_type": "execute_result"
    }
   ],
   "source": [
    "#checking the format of inputs\n",
    "\n",
    "df.iloc[0].values"
   ]
  },
  {
   "cell_type": "code",
   "execution_count": 13,
   "metadata": {},
   "outputs": [
    {
     "name": "stdout",
     "output_type": "stream",
     "text": [
      "home_team: 39\n",
      "away_team: 39\n",
      "home_goals: 10\n",
      "away_goals: 8\n",
      "home_pos: 537\n",
      "away_pos: 537\n",
      "home_shots_on_target: 18\n",
      "away_shots_on_target: 16\n",
      "home_shots: 44\n",
      "away_shots: 35\n",
      "home_touch: 602\n",
      "away_touch: 578\n",
      "home_pass: 588\n",
      "away_pass: 558\n",
      "home_tackles: 45\n",
      "away_tackles: 45\n",
      "home_clear: 90\n",
      "away_clear: 103\n",
      "home_corner: 21\n",
      "away_corner: 20\n",
      "home_off: 14\n",
      "away_off: 13\n",
      "home_yellow: 8\n",
      "away_yellow: 10\n",
      "home_red: 3\n",
      "away_red: 4\n",
      "home_fouls: 29\n",
      "away_fouls: 27\n",
      "winner: 3\n"
     ]
    }
   ],
   "source": [
    "#finding the unique values of each column\n",
    "\n",
    "for c in df.columns:\n",
    "    print(c + ': ' + str(df[c].nunique()) )"
   ]
  },
  {
   "cell_type": "markdown",
   "metadata": {},
   "source": [
    "# <div class=\"alert alert-block alert-info\"> Data Investigation </div>"
   ]
  },
  {
   "cell_type": "markdown",
   "metadata": {},
   "source": [
    "## Home Wins"
   ]
  },
  {
   "cell_type": "code",
   "execution_count": 14,
   "metadata": {},
   "outputs": [
    {
     "data": {
      "text/plain": [
       "home_team  winner\n",
       "10         1         181\n",
       "17         1         174\n",
       "1          1         166\n",
       "9          1         165\n",
       "19         1         152\n",
       "11         1         150\n",
       "3          1         131\n",
       "8          1          93\n",
       "4          1          84\n",
       "25         1          81\n",
       "dtype: int64"
      ]
     },
     "execution_count": 14,
     "metadata": {},
     "output_type": "execute_result"
    }
   ],
   "source": [
    "# Teams with the most home wins\n",
    "\n",
    "df.groupby(['home_team','winner']).size().nlargest(10)"
   ]
  },
  {
   "cell_type": "markdown",
   "metadata": {},
   "source": [
    "## Averages"
   ]
  },
  {
   "cell_type": "code",
   "execution_count": 15,
   "metadata": {},
   "outputs": [],
   "source": [
    "# Including only numerical columns that are considered to be independent\n",
    "\n",
    "num_cols = df[['home_goals', 'away_goals', 'home_pos',\n",
    "       'away_pos', 'home_shots_on_target', 'away_shots_on_target',\n",
    "       'home_shots', 'away_shots', 'home_touch', 'away_touch', 'home_pass',\n",
    "       'away_pass', 'home_tackles', 'away_tackles', 'home_clear', 'away_clear',\n",
    "       'home_corner', 'away_corner', 'home_off', 'away_off', 'home_yellow',\n",
    "       'away_yellow', 'home_red', 'away_red', 'home_fouls', 'away_fouls']]\n",
    "\n",
    "mean_cols = num_cols\n"
   ]
  },
  {
   "cell_type": "code",
   "execution_count": 16,
   "metadata": {
    "scrolled": true
   },
   "outputs": [
    {
     "data": {
      "text/html": [
       "<div>\n",
       "<style scoped>\n",
       "    .dataframe tbody tr th:only-of-type {\n",
       "        vertical-align: middle;\n",
       "    }\n",
       "\n",
       "    .dataframe tbody tr th {\n",
       "        vertical-align: top;\n",
       "    }\n",
       "\n",
       "    .dataframe thead th {\n",
       "        text-align: right;\n",
       "    }\n",
       "</style>\n",
       "<table border=\"1\" class=\"dataframe\">\n",
       "  <thead>\n",
       "    <tr style=\"text-align: right;\">\n",
       "      <th></th>\n",
       "      <th>Mean Values</th>\n",
       "    </tr>\n",
       "  </thead>\n",
       "  <tbody>\n",
       "    <tr>\n",
       "      <th>home_goals</th>\n",
       "      <td>1.545565</td>\n",
       "    </tr>\n",
       "    <tr>\n",
       "      <th>away_goals</th>\n",
       "      <td>1.152693</td>\n",
       "    </tr>\n",
       "    <tr>\n",
       "      <th>home_pos</th>\n",
       "      <td>51.372418</td>\n",
       "    </tr>\n",
       "    <tr>\n",
       "      <th>away_pos</th>\n",
       "      <td>48.627582</td>\n",
       "    </tr>\n",
       "    <tr>\n",
       "      <th>home_shots_on_target</th>\n",
       "      <td>4.930336</td>\n",
       "    </tr>\n",
       "    <tr>\n",
       "      <th>away_shots_on_target</th>\n",
       "      <td>3.912313</td>\n",
       "    </tr>\n",
       "    <tr>\n",
       "      <th>home_shots</th>\n",
       "      <td>15.183880</td>\n",
       "    </tr>\n",
       "    <tr>\n",
       "      <th>away_shots</th>\n",
       "      <td>12.014986</td>\n",
       "    </tr>\n",
       "    <tr>\n",
       "      <th>home_touch</th>\n",
       "      <td>643.230458</td>\n",
       "    </tr>\n",
       "    <tr>\n",
       "      <th>away_touch</th>\n",
       "      <td>619.017416</td>\n",
       "    </tr>\n",
       "    <tr>\n",
       "      <th>home_pass</th>\n",
       "      <td>427.041312</td>\n",
       "    </tr>\n",
       "    <tr>\n",
       "      <th>away_pass</th>\n",
       "      <td>405.739976</td>\n",
       "    </tr>\n",
       "    <tr>\n",
       "      <th>home_tackles</th>\n",
       "      <td>19.617051</td>\n",
       "    </tr>\n",
       "    <tr>\n",
       "      <th>away_tackles</th>\n",
       "      <td>20.032807</td>\n",
       "    </tr>\n",
       "    <tr>\n",
       "      <th>home_clear</th>\n",
       "      <td>29.764885</td>\n",
       "    </tr>\n",
       "    <tr>\n",
       "      <th>away_clear</th>\n",
       "      <td>34.571689</td>\n",
       "    </tr>\n",
       "    <tr>\n",
       "      <th>home_corner</th>\n",
       "      <td>6.074524</td>\n",
       "    </tr>\n",
       "    <tr>\n",
       "      <th>away_corner</th>\n",
       "      <td>4.782098</td>\n",
       "    </tr>\n",
       "    <tr>\n",
       "      <th>home_off</th>\n",
       "      <td>2.335358</td>\n",
       "    </tr>\n",
       "    <tr>\n",
       "      <th>away_off</th>\n",
       "      <td>2.188740</td>\n",
       "    </tr>\n",
       "    <tr>\n",
       "      <th>home_yellow</th>\n",
       "      <td>1.437019</td>\n",
       "    </tr>\n",
       "    <tr>\n",
       "      <th>away_yellow</th>\n",
       "      <td>1.761037</td>\n",
       "    </tr>\n",
       "    <tr>\n",
       "      <th>home_red</th>\n",
       "      <td>0.061361</td>\n",
       "    </tr>\n",
       "    <tr>\n",
       "      <th>away_red</th>\n",
       "      <td>0.088902</td>\n",
       "    </tr>\n",
       "    <tr>\n",
       "      <th>home_fouls</th>\n",
       "      <td>11.401175</td>\n",
       "    </tr>\n",
       "    <tr>\n",
       "      <th>away_fouls</th>\n",
       "      <td>11.989672</td>\n",
       "    </tr>\n",
       "  </tbody>\n",
       "</table>\n",
       "</div>"
      ],
      "text/plain": [
       "                      Mean Values\n",
       "home_goals               1.545565\n",
       "away_goals               1.152693\n",
       "home_pos                51.372418\n",
       "away_pos                48.627582\n",
       "home_shots_on_target     4.930336\n",
       "away_shots_on_target     3.912313\n",
       "home_shots              15.183880\n",
       "away_shots              12.014986\n",
       "home_touch             643.230458\n",
       "away_touch             619.017416\n",
       "home_pass              427.041312\n",
       "away_pass              405.739976\n",
       "home_tackles            19.617051\n",
       "away_tackles            20.032807\n",
       "home_clear              29.764885\n",
       "away_clear              34.571689\n",
       "home_corner              6.074524\n",
       "away_corner              4.782098\n",
       "home_off                 2.335358\n",
       "away_off                 2.188740\n",
       "home_yellow              1.437019\n",
       "away_yellow              1.761037\n",
       "home_red                 0.061361\n",
       "away_red                 0.088902\n",
       "home_fouls              11.401175\n",
       "away_fouls              11.989672"
      ]
     },
     "execution_count": 16,
     "metadata": {},
     "output_type": "execute_result"
    }
   ],
   "source": [
    "# Averages of all numberical columns\n",
    "\n",
    "mean_cols = mean_cols.mean().to_frame()\n",
    "mean_cols.rename(columns = {0 : 'Mean Values'}, inplace=True)\n",
    "mean_cols"
   ]
  },
  {
   "cell_type": "code",
   "execution_count": 17,
   "metadata": {},
   "outputs": [],
   "source": [
    "# Average of columns for winning home team\n",
    "\n",
    "win_mean_cols = df[['home_goals', 'away_goals', 'home_pos',\n",
    "       'away_pos', 'home_shots_on_target', 'away_shots_on_target',\n",
    "       'home_shots', 'away_shots', 'home_touch', 'away_touch', 'home_pass',\n",
    "       'away_pass', 'home_tackles', 'away_tackles', 'home_clear', 'away_clear',\n",
    "       'home_corner', 'away_corner', 'home_off', 'away_off', 'home_yellow',\n",
    "       'away_yellow', 'home_red', 'away_red', 'home_fouls', 'away_fouls',\n",
    "       'winner']]\n",
    "\n",
    "win_mean_cols = win_mean_cols[win_mean_cols.winner == 1]"
   ]
  },
  {
   "cell_type": "code",
   "execution_count": 18,
   "metadata": {},
   "outputs": [
    {
     "data": {
      "text/html": [
       "<div>\n",
       "<style scoped>\n",
       "    .dataframe tbody tr th:only-of-type {\n",
       "        vertical-align: middle;\n",
       "    }\n",
       "\n",
       "    .dataframe tbody tr th {\n",
       "        vertical-align: top;\n",
       "    }\n",
       "\n",
       "    .dataframe thead th {\n",
       "        text-align: right;\n",
       "    }\n",
       "</style>\n",
       "<table border=\"1\" class=\"dataframe\">\n",
       "  <thead>\n",
       "    <tr style=\"text-align: right;\">\n",
       "      <th></th>\n",
       "      <th>Mean Values (Win)</th>\n",
       "    </tr>\n",
       "  </thead>\n",
       "  <tbody>\n",
       "    <tr>\n",
       "      <th>home_goals</th>\n",
       "      <td>2.446920</td>\n",
       "    </tr>\n",
       "    <tr>\n",
       "      <th>away_goals</th>\n",
       "      <td>0.532984</td>\n",
       "    </tr>\n",
       "    <tr>\n",
       "      <th>home_pos</th>\n",
       "      <td>52.734557</td>\n",
       "    </tr>\n",
       "    <tr>\n",
       "      <th>away_pos</th>\n",
       "      <td>47.265443</td>\n",
       "    </tr>\n",
       "    <tr>\n",
       "      <th>home_shots_on_target</th>\n",
       "      <td>6.065968</td>\n",
       "    </tr>\n",
       "    <tr>\n",
       "      <th>away_shots_on_target</th>\n",
       "      <td>3.147226</td>\n",
       "    </tr>\n",
       "    <tr>\n",
       "      <th>home_shots</th>\n",
       "      <td>16.291830</td>\n",
       "    </tr>\n",
       "    <tr>\n",
       "      <th>away_shots</th>\n",
       "      <td>10.877676</td>\n",
       "    </tr>\n",
       "    <tr>\n",
       "      <th>home_touch</th>\n",
       "      <td>663.481433</td>\n",
       "    </tr>\n",
       "    <tr>\n",
       "      <th>away_touch</th>\n",
       "      <td>602.076453</td>\n",
       "    </tr>\n",
       "    <tr>\n",
       "      <th>home_pass</th>\n",
       "      <td>447.582350</td>\n",
       "    </tr>\n",
       "    <tr>\n",
       "      <th>away_pass</th>\n",
       "      <td>393.516383</td>\n",
       "    </tr>\n",
       "    <tr>\n",
       "      <th>home_tackles</th>\n",
       "      <td>19.587156</td>\n",
       "    </tr>\n",
       "    <tr>\n",
       "      <th>away_tackles</th>\n",
       "      <td>19.885540</td>\n",
       "    </tr>\n",
       "    <tr>\n",
       "      <th>home_clear</th>\n",
       "      <td>31.269550</td>\n",
       "    </tr>\n",
       "    <tr>\n",
       "      <th>away_clear</th>\n",
       "      <td>30.952818</td>\n",
       "    </tr>\n",
       "    <tr>\n",
       "      <th>home_corner</th>\n",
       "      <td>6.182176</td>\n",
       "    </tr>\n",
       "    <tr>\n",
       "      <th>away_corner</th>\n",
       "      <td>4.657055</td>\n",
       "    </tr>\n",
       "    <tr>\n",
       "      <th>home_off</th>\n",
       "      <td>2.489297</td>\n",
       "    </tr>\n",
       "    <tr>\n",
       "      <th>away_off</th>\n",
       "      <td>2.073394</td>\n",
       "    </tr>\n",
       "    <tr>\n",
       "      <th>home_yellow</th>\n",
       "      <td>1.285277</td>\n",
       "    </tr>\n",
       "    <tr>\n",
       "      <th>away_yellow</th>\n",
       "      <td>1.739624</td>\n",
       "    </tr>\n",
       "    <tr>\n",
       "      <th>home_red</th>\n",
       "      <td>0.029270</td>\n",
       "    </tr>\n",
       "    <tr>\n",
       "      <th>away_red</th>\n",
       "      <td>0.114460</td>\n",
       "    </tr>\n",
       "    <tr>\n",
       "      <th>home_fouls</th>\n",
       "      <td>11.200961</td>\n",
       "    </tr>\n",
       "    <tr>\n",
       "      <th>away_fouls</th>\n",
       "      <td>12.016601</td>\n",
       "    </tr>\n",
       "    <tr>\n",
       "      <th>winner</th>\n",
       "      <td>1.000000</td>\n",
       "    </tr>\n",
       "  </tbody>\n",
       "</table>\n",
       "</div>"
      ],
      "text/plain": [
       "                      Mean Values (Win)\n",
       "home_goals                     2.446920\n",
       "away_goals                     0.532984\n",
       "home_pos                      52.734557\n",
       "away_pos                      47.265443\n",
       "home_shots_on_target           6.065968\n",
       "away_shots_on_target           3.147226\n",
       "home_shots                    16.291830\n",
       "away_shots                    10.877676\n",
       "home_touch                   663.481433\n",
       "away_touch                   602.076453\n",
       "home_pass                    447.582350\n",
       "away_pass                    393.516383\n",
       "home_tackles                  19.587156\n",
       "away_tackles                  19.885540\n",
       "home_clear                    31.269550\n",
       "away_clear                    30.952818\n",
       "home_corner                    6.182176\n",
       "away_corner                    4.657055\n",
       "home_off                       2.489297\n",
       "away_off                       2.073394\n",
       "home_yellow                    1.285277\n",
       "away_yellow                    1.739624\n",
       "home_red                       0.029270\n",
       "away_red                       0.114460\n",
       "home_fouls                    11.200961\n",
       "away_fouls                    12.016601\n",
       "winner                         1.000000"
      ]
     },
     "execution_count": 18,
     "metadata": {},
     "output_type": "execute_result"
    }
   ],
   "source": [
    "win_mean_cols = win_mean_cols.mean().to_frame()\n",
    "win_mean_cols.rename(columns = {0 : 'Mean Values (Win)'}, inplace=True)\n",
    "win_mean_cols"
   ]
  },
  {
   "cell_type": "code",
   "execution_count": 19,
   "metadata": {},
   "outputs": [],
   "source": [
    "# Average of columns for non loss home team\n",
    "\n",
    "non_loss_mean_cols = df[['home_goals', 'away_goals', 'home_pos',\n",
    "       'away_pos', 'home_shots_on_target', 'away_shots_on_target',\n",
    "       'home_shots', 'away_shots', 'home_touch', 'away_touch', 'home_pass',\n",
    "       'away_pass', 'home_tackles', 'away_tackles', 'home_clear', 'away_clear',\n",
    "       'home_corner', 'away_corner', 'home_off', 'away_off', 'home_yellow',\n",
    "       'away_yellow', 'home_red', 'away_red', 'home_fouls', 'away_fouls',\n",
    "       'winner']]\n",
    "\n",
    "non_loss_mean_cols = non_loss_mean_cols[(non_loss_mean_cols.winner == 1) | (non_loss_mean_cols.winner == 0)]"
   ]
  },
  {
   "cell_type": "code",
   "execution_count": 20,
   "metadata": {},
   "outputs": [
    {
     "data": {
      "text/html": [
       "<div>\n",
       "<style scoped>\n",
       "    .dataframe tbody tr th:only-of-type {\n",
       "        vertical-align: middle;\n",
       "    }\n",
       "\n",
       "    .dataframe tbody tr th {\n",
       "        vertical-align: top;\n",
       "    }\n",
       "\n",
       "    .dataframe thead th {\n",
       "        text-align: right;\n",
       "    }\n",
       "</style>\n",
       "<table border=\"1\" class=\"dataframe\">\n",
       "  <thead>\n",
       "    <tr style=\"text-align: right;\">\n",
       "      <th></th>\n",
       "      <th>Mean Values (Non Loss)</th>\n",
       "    </tr>\n",
       "  </thead>\n",
       "  <tbody>\n",
       "    <tr>\n",
       "      <th>home_goals</th>\n",
       "      <td>1.936418</td>\n",
       "    </tr>\n",
       "    <tr>\n",
       "      <th>away_goals</th>\n",
       "      <td>0.692875</td>\n",
       "    </tr>\n",
       "    <tr>\n",
       "      <th>home_pos</th>\n",
       "      <td>52.364377</td>\n",
       "    </tr>\n",
       "    <tr>\n",
       "      <th>away_pos</th>\n",
       "      <td>47.635623</td>\n",
       "    </tr>\n",
       "    <tr>\n",
       "      <th>home_shots_on_target</th>\n",
       "      <td>5.434005</td>\n",
       "    </tr>\n",
       "    <tr>\n",
       "      <th>away_shots_on_target</th>\n",
       "      <td>3.351689</td>\n",
       "    </tr>\n",
       "    <tr>\n",
       "      <th>home_shots</th>\n",
       "      <td>15.912291</td>\n",
       "    </tr>\n",
       "    <tr>\n",
       "      <th>away_shots</th>\n",
       "      <td>11.372694</td>\n",
       "    </tr>\n",
       "    <tr>\n",
       "      <th>home_touch</th>\n",
       "      <td>653.607437</td>\n",
       "    </tr>\n",
       "    <tr>\n",
       "      <th>away_touch</th>\n",
       "      <td>604.552086</td>\n",
       "    </tr>\n",
       "    <tr>\n",
       "      <th>home_pass</th>\n",
       "      <td>436.038887</td>\n",
       "    </tr>\n",
       "    <tr>\n",
       "      <th>away_pass</th>\n",
       "      <td>392.709622</td>\n",
       "    </tr>\n",
       "    <tr>\n",
       "      <th>home_tackles</th>\n",
       "      <td>19.653137</td>\n",
       "    </tr>\n",
       "    <tr>\n",
       "      <th>away_tackles</th>\n",
       "      <td>19.975589</td>\n",
       "    </tr>\n",
       "    <tr>\n",
       "      <th>home_clear</th>\n",
       "      <td>31.095089</td>\n",
       "    </tr>\n",
       "    <tr>\n",
       "      <th>away_clear</th>\n",
       "      <td>33.290378</td>\n",
       "    </tr>\n",
       "    <tr>\n",
       "      <th>home_corner</th>\n",
       "      <td>6.197559</td>\n",
       "    </tr>\n",
       "    <tr>\n",
       "      <th>away_corner</th>\n",
       "      <td>4.701107</td>\n",
       "    </tr>\n",
       "    <tr>\n",
       "      <th>home_off</th>\n",
       "      <td>2.414987</td>\n",
       "    </tr>\n",
       "    <tr>\n",
       "      <th>away_off</th>\n",
       "      <td>2.143344</td>\n",
       "    </tr>\n",
       "    <tr>\n",
       "      <th>home_yellow</th>\n",
       "      <td>1.371558</td>\n",
       "    </tr>\n",
       "    <tr>\n",
       "      <th>away_yellow</th>\n",
       "      <td>1.794777</td>\n",
       "    </tr>\n",
       "    <tr>\n",
       "      <th>home_red</th>\n",
       "      <td>0.040874</td>\n",
       "    </tr>\n",
       "    <tr>\n",
       "      <th>away_red</th>\n",
       "      <td>0.104456</td>\n",
       "    </tr>\n",
       "    <tr>\n",
       "      <th>home_fouls</th>\n",
       "      <td>11.369855</td>\n",
       "    </tr>\n",
       "    <tr>\n",
       "      <th>away_fouls</th>\n",
       "      <td>12.174851</td>\n",
       "    </tr>\n",
       "    <tr>\n",
       "      <th>winner</th>\n",
       "      <td>0.649730</td>\n",
       "    </tr>\n",
       "  </tbody>\n",
       "</table>\n",
       "</div>"
      ],
      "text/plain": [
       "                      Mean Values (Non Loss)\n",
       "home_goals                          1.936418\n",
       "away_goals                          0.692875\n",
       "home_pos                           52.364377\n",
       "away_pos                           47.635623\n",
       "home_shots_on_target                5.434005\n",
       "away_shots_on_target                3.351689\n",
       "home_shots                         15.912291\n",
       "away_shots                         11.372694\n",
       "home_touch                        653.607437\n",
       "away_touch                        604.552086\n",
       "home_pass                         436.038887\n",
       "away_pass                         392.709622\n",
       "home_tackles                       19.653137\n",
       "away_tackles                       19.975589\n",
       "home_clear                         31.095089\n",
       "away_clear                         33.290378\n",
       "home_corner                         6.197559\n",
       "away_corner                         4.701107\n",
       "home_off                            2.414987\n",
       "away_off                            2.143344\n",
       "home_yellow                         1.371558\n",
       "away_yellow                         1.794777\n",
       "home_red                            0.040874\n",
       "away_red                            0.104456\n",
       "home_fouls                         11.369855\n",
       "away_fouls                         12.174851\n",
       "winner                              0.649730"
      ]
     },
     "execution_count": 20,
     "metadata": {},
     "output_type": "execute_result"
    }
   ],
   "source": [
    "non_loss_mean_cols = non_loss_mean_cols.mean().to_frame()\n",
    "non_loss_mean_cols.rename(columns = {0 : 'Mean Values (Non Loss)'}, inplace=True)\n",
    "non_loss_mean_cols"
   ]
  },
  {
   "cell_type": "markdown",
   "metadata": {},
   "source": [
    "## Correlation"
   ]
  },
  {
   "cell_type": "code",
   "execution_count": 21,
   "metadata": {
    "scrolled": true
   },
   "outputs": [
    {
     "data": {
      "text/html": [
       "<div>\n",
       "<style scoped>\n",
       "    .dataframe tbody tr th:only-of-type {\n",
       "        vertical-align: middle;\n",
       "    }\n",
       "\n",
       "    .dataframe tbody tr th {\n",
       "        vertical-align: top;\n",
       "    }\n",
       "\n",
       "    .dataframe thead th {\n",
       "        text-align: right;\n",
       "    }\n",
       "</style>\n",
       "<table border=\"1\" class=\"dataframe\">\n",
       "  <thead>\n",
       "    <tr style=\"text-align: right;\">\n",
       "      <th></th>\n",
       "      <th>home_goals</th>\n",
       "      <th>away_goals</th>\n",
       "      <th>home_pos</th>\n",
       "      <th>away_pos</th>\n",
       "      <th>home_shots_on_target</th>\n",
       "      <th>away_shots_on_target</th>\n",
       "      <th>home_shots</th>\n",
       "      <th>away_shots</th>\n",
       "      <th>home_touch</th>\n",
       "      <th>away_touch</th>\n",
       "      <th>home_pass</th>\n",
       "      <th>away_pass</th>\n",
       "      <th>home_tackles</th>\n",
       "      <th>away_tackles</th>\n",
       "      <th>home_clear</th>\n",
       "      <th>away_clear</th>\n",
       "      <th>home_corner</th>\n",
       "      <th>away_corner</th>\n",
       "      <th>home_off</th>\n",
       "      <th>away_off</th>\n",
       "      <th>home_yellow</th>\n",
       "      <th>away_yellow</th>\n",
       "      <th>home_red</th>\n",
       "      <th>away_red</th>\n",
       "      <th>home_fouls</th>\n",
       "      <th>away_fouls</th>\n",
       "    </tr>\n",
       "  </thead>\n",
       "  <tbody>\n",
       "    <tr>\n",
       "      <th>home_goals</th>\n",
       "      <td>1.000000</td>\n",
       "      <td>-0.078465</td>\n",
       "      <td>0.161401</td>\n",
       "      <td>-0.161401</td>\n",
       "      <td>0.562620</td>\n",
       "      <td>-0.112996</td>\n",
       "      <td>0.128937</td>\n",
       "      <td>-0.077706</td>\n",
       "      <td>0.197887</td>\n",
       "      <td>-0.146823</td>\n",
       "      <td>0.218475</td>\n",
       "      <td>-0.103254</td>\n",
       "      <td>-0.008576</td>\n",
       "      <td>-0.036109</td>\n",
       "      <td>-0.011665</td>\n",
       "      <td>-0.191401</td>\n",
       "      <td>0.038133</td>\n",
       "      <td>-0.077117</td>\n",
       "      <td>0.051034</td>\n",
       "      <td>-0.045513</td>\n",
       "      <td>-0.110040</td>\n",
       "      <td>-0.003638</td>\n",
       "      <td>-0.079077</td>\n",
       "      <td>0.076452</td>\n",
       "      <td>-0.063718</td>\n",
       "      <td>-0.026992</td>\n",
       "    </tr>\n",
       "    <tr>\n",
       "      <th>away_goals</th>\n",
       "      <td>-0.078465</td>\n",
       "      <td>1.000000</td>\n",
       "      <td>-0.146411</td>\n",
       "      <td>0.146411</td>\n",
       "      <td>-0.123394</td>\n",
       "      <td>0.559204</td>\n",
       "      <td>-0.075412</td>\n",
       "      <td>0.131976</td>\n",
       "      <td>-0.139646</td>\n",
       "      <td>0.183978</td>\n",
       "      <td>-0.116399</td>\n",
       "      <td>0.177163</td>\n",
       "      <td>-0.016044</td>\n",
       "      <td>0.008497</td>\n",
       "      <td>-0.126445</td>\n",
       "      <td>0.073632</td>\n",
       "      <td>-0.080149</td>\n",
       "      <td>0.049103</td>\n",
       "      <td>-0.062909</td>\n",
       "      <td>0.044111</td>\n",
       "      <td>0.118987</td>\n",
       "      <td>-0.014644</td>\n",
       "      <td>0.121027</td>\n",
       "      <td>-0.062786</td>\n",
       "      <td>0.020678</td>\n",
       "      <td>-0.050025</td>\n",
       "    </tr>\n",
       "    <tr>\n",
       "      <th>home_pos</th>\n",
       "      <td>0.161401</td>\n",
       "      <td>-0.146411</td>\n",
       "      <td>1.000000</td>\n",
       "      <td>-1.000000</td>\n",
       "      <td>0.368149</td>\n",
       "      <td>-0.318876</td>\n",
       "      <td>0.287054</td>\n",
       "      <td>-0.247091</td>\n",
       "      <td>0.833485</td>\n",
       "      <td>-0.838954</td>\n",
       "      <td>0.822013</td>\n",
       "      <td>-0.828066</td>\n",
       "      <td>-0.178468</td>\n",
       "      <td>0.148507</td>\n",
       "      <td>-0.247515</td>\n",
       "      <td>0.209350</td>\n",
       "      <td>0.441740</td>\n",
       "      <td>-0.411305</td>\n",
       "      <td>-0.017023</td>\n",
       "      <td>-0.003242</td>\n",
       "      <td>-0.130791</td>\n",
       "      <td>0.088128</td>\n",
       "      <td>-0.097490</td>\n",
       "      <td>0.088585</td>\n",
       "      <td>-0.164409</td>\n",
       "      <td>0.107697</td>\n",
       "    </tr>\n",
       "    <tr>\n",
       "      <th>away_pos</th>\n",
       "      <td>-0.161401</td>\n",
       "      <td>0.146411</td>\n",
       "      <td>-1.000000</td>\n",
       "      <td>1.000000</td>\n",
       "      <td>-0.368149</td>\n",
       "      <td>0.318876</td>\n",
       "      <td>-0.287054</td>\n",
       "      <td>0.247091</td>\n",
       "      <td>-0.833485</td>\n",
       "      <td>0.838954</td>\n",
       "      <td>-0.822013</td>\n",
       "      <td>0.828066</td>\n",
       "      <td>0.178468</td>\n",
       "      <td>-0.148507</td>\n",
       "      <td>0.247515</td>\n",
       "      <td>-0.209350</td>\n",
       "      <td>-0.441740</td>\n",
       "      <td>0.411305</td>\n",
       "      <td>0.017023</td>\n",
       "      <td>0.003242</td>\n",
       "      <td>0.130791</td>\n",
       "      <td>-0.088128</td>\n",
       "      <td>0.097490</td>\n",
       "      <td>-0.088585</td>\n",
       "      <td>0.164409</td>\n",
       "      <td>-0.107697</td>\n",
       "    </tr>\n",
       "    <tr>\n",
       "      <th>home_shots_on_target</th>\n",
       "      <td>0.562620</td>\n",
       "      <td>-0.123394</td>\n",
       "      <td>0.368149</td>\n",
       "      <td>-0.368149</td>\n",
       "      <td>1.000000</td>\n",
       "      <td>-0.174695</td>\n",
       "      <td>0.397115</td>\n",
       "      <td>-0.078882</td>\n",
       "      <td>0.364964</td>\n",
       "      <td>-0.292580</td>\n",
       "      <td>0.341331</td>\n",
       "      <td>-0.287340</td>\n",
       "      <td>-0.030840</td>\n",
       "      <td>0.031436</td>\n",
       "      <td>-0.098330</td>\n",
       "      <td>-0.011930</td>\n",
       "      <td>0.305070</td>\n",
       "      <td>-0.191871</td>\n",
       "      <td>0.039392</td>\n",
       "      <td>-0.027875</td>\n",
       "      <td>-0.132023</td>\n",
       "      <td>0.001116</td>\n",
       "      <td>-0.086616</td>\n",
       "      <td>0.095387</td>\n",
       "      <td>-0.089408</td>\n",
       "      <td>-0.009029</td>\n",
       "    </tr>\n",
       "  </tbody>\n",
       "</table>\n",
       "</div>"
      ],
      "text/plain": [
       "                      home_goals  away_goals  home_pos  away_pos  \\\n",
       "home_goals              1.000000   -0.078465  0.161401 -0.161401   \n",
       "away_goals             -0.078465    1.000000 -0.146411  0.146411   \n",
       "home_pos                0.161401   -0.146411  1.000000 -1.000000   \n",
       "away_pos               -0.161401    0.146411 -1.000000  1.000000   \n",
       "home_shots_on_target    0.562620   -0.123394  0.368149 -0.368149   \n",
       "\n",
       "                      home_shots_on_target  away_shots_on_target  home_shots  \\\n",
       "home_goals                        0.562620             -0.112996    0.128937   \n",
       "away_goals                       -0.123394              0.559204   -0.075412   \n",
       "home_pos                          0.368149             -0.318876    0.287054   \n",
       "away_pos                         -0.368149              0.318876   -0.287054   \n",
       "home_shots_on_target              1.000000             -0.174695    0.397115   \n",
       "\n",
       "                      away_shots  home_touch  away_touch  home_pass  \\\n",
       "home_goals             -0.077706    0.197887   -0.146823   0.218475   \n",
       "away_goals              0.131976   -0.139646    0.183978  -0.116399   \n",
       "home_pos               -0.247091    0.833485   -0.838954   0.822013   \n",
       "away_pos                0.247091   -0.833485    0.838954  -0.822013   \n",
       "home_shots_on_target   -0.078882    0.364964   -0.292580   0.341331   \n",
       "\n",
       "                      away_pass  home_tackles  away_tackles  home_clear  \\\n",
       "home_goals            -0.103254     -0.008576     -0.036109   -0.011665   \n",
       "away_goals             0.177163     -0.016044      0.008497   -0.126445   \n",
       "home_pos              -0.828066     -0.178468      0.148507   -0.247515   \n",
       "away_pos               0.828066      0.178468     -0.148507    0.247515   \n",
       "home_shots_on_target  -0.287340     -0.030840      0.031436   -0.098330   \n",
       "\n",
       "                      away_clear  home_corner  away_corner  home_off  \\\n",
       "home_goals             -0.191401     0.038133    -0.077117  0.051034   \n",
       "away_goals              0.073632    -0.080149     0.049103 -0.062909   \n",
       "home_pos                0.209350     0.441740    -0.411305 -0.017023   \n",
       "away_pos               -0.209350    -0.441740     0.411305  0.017023   \n",
       "home_shots_on_target   -0.011930     0.305070    -0.191871  0.039392   \n",
       "\n",
       "                      away_off  home_yellow  away_yellow  home_red  away_red  \\\n",
       "home_goals           -0.045513    -0.110040    -0.003638 -0.079077  0.076452   \n",
       "away_goals            0.044111     0.118987    -0.014644  0.121027 -0.062786   \n",
       "home_pos             -0.003242    -0.130791     0.088128 -0.097490  0.088585   \n",
       "away_pos              0.003242     0.130791    -0.088128  0.097490 -0.088585   \n",
       "home_shots_on_target -0.027875    -0.132023     0.001116 -0.086616  0.095387   \n",
       "\n",
       "                      home_fouls  away_fouls  \n",
       "home_goals             -0.063718   -0.026992  \n",
       "away_goals              0.020678   -0.050025  \n",
       "home_pos               -0.164409    0.107697  \n",
       "away_pos                0.164409   -0.107697  \n",
       "home_shots_on_target   -0.089408   -0.009029  "
      ]
     },
     "execution_count": 21,
     "metadata": {},
     "output_type": "execute_result"
    }
   ],
   "source": [
    "# Correlation Matrix\n",
    "\n",
    "corr = num_cols.corr()\n",
    "corr.head()"
   ]
  },
  {
   "cell_type": "code",
   "execution_count": 22,
   "metadata": {},
   "outputs": [
    {
     "data": {
      "text/plain": [
       "away_goals            away_pass               0.177163\n",
       "away_red              home_shots              0.178212\n",
       "home_tackles          away_pos                0.178468\n",
       "home_shots            home_pass               0.181070\n",
       "away_fouls            away_clear              0.182606\n",
       "away_touch            away_goals              0.183978\n",
       "home_clear            home_tackles            0.184610\n",
       "away_touch            away_shots              0.186726\n",
       "home_clear            home_fouls              0.187458\n",
       "home_touch            home_goals              0.197887\n",
       "home_tackles          away_touch              0.201718\n",
       "away_clear            home_pos                0.209350\n",
       "home_pass             home_goals              0.218475\n",
       "home_shots            home_touch              0.226814\n",
       "away_corner           away_shots              0.227007\n",
       "                      away_pass               0.241980\n",
       "away_shots            away_pos                0.247091\n",
       "home_clear            away_pos                0.247515\n",
       "away_clear            home_clear              0.250871\n",
       "home_shots            home_corner             0.259857\n",
       "home_corner           home_pass               0.272695\n",
       "away_shots_on_target  away_pass               0.279124\n",
       "away_corner           away_touch              0.279361\n",
       "away_shots_on_target  away_corner             0.285289\n",
       "home_pos              home_shots              0.287054\n",
       "home_corner           home_shots_on_target    0.305070\n",
       "away_shots_on_target  away_touch              0.308764\n",
       "away_clear            home_corner             0.313591\n",
       "home_touch            home_corner             0.313613\n",
       "away_shots            away_shots_on_target    0.314344\n",
       "away_shots_on_target  away_pos                0.318876\n",
       "away_tackles          home_tackles            0.322264\n",
       "away_corner           home_clear              0.333156\n",
       "home_yellow           home_fouls              0.335877\n",
       "home_pass             home_shots_on_target    0.341331\n",
       "away_fouls            away_yellow             0.361482\n",
       "home_shots_on_target  home_touch              0.364964\n",
       "                      home_pos                0.368149\n",
       "home_shots            home_shots_on_target    0.397115\n",
       "away_pos              away_corner             0.411305\n",
       "home_corner           home_pos                0.441740\n",
       "away_goals            away_shots_on_target    0.559204\n",
       "home_shots_on_target  home_goals              0.562620\n",
       "home_shots            away_shots              0.654800\n",
       "home_pass             home_pos                0.822013\n",
       "away_pos              away_pass               0.828066\n",
       "home_touch            home_pos                0.833485\n",
       "away_touch            away_pos                0.838954\n",
       "                      away_pass               0.952293\n",
       "home_pass             home_touch              0.955631\n",
       "dtype: float64"
      ]
     },
     "execution_count": 22,
     "metadata": {},
     "output_type": "execute_result"
    }
   ],
   "source": [
    "# unstacking correlations\n",
    "corr_unstacked = corr.unstack().sort_values()\n",
    "\n",
    "# dropping perfet correlations\n",
    "corr_unstacked = corr_unstacked[(round(corr_unstacked,2) != 1.00) & (round(corr_unstacked,2) != -1.00)]\n",
    "\n",
    "# dropping duplicates\n",
    "corr_unstacked = corr_unstacked.drop_duplicates()\n",
    "\n",
    "corr_unstacked.tail(50)"
   ]
  },
  {
   "cell_type": "code",
   "execution_count": 23,
   "metadata": {},
   "outputs": [
    {
     "data": {
      "text/plain": [
       "<matplotlib.axes._subplots.AxesSubplot at 0x118880080>"
      ]
     },
     "execution_count": 23,
     "metadata": {},
     "output_type": "execute_result"
    },
    {
     "data": {
      "image/png": "[encoded data removed]",
      "text/plain": [
       "<Figure size 1080x720 with 2 Axes>"
      ]
     },
     "metadata": {
      "needs_background": "light"
     },
     "output_type": "display_data"
    }
   ],
   "source": [
    "# Using heatmap for correlation matrix\n",
    "\n",
    "fig, ax = plt.subplots(figsize=(15,10))\n",
    "sns.heatmap(corr, ax=ax)\n",
    "plt.show()"
   ]
  },
  {
   "cell_type": "markdown",
   "metadata": {},
   "source": [
    "# Datasets/Assigning Variables"
   ]
  },
  {
   "cell_type": "code",
   "execution_count": 24,
   "metadata": {},
   "outputs": [
    {
     "data": {
      "text/plain": [
       "'#start at home_pos with win as y\\nX = df2.iloc[:,4:-3]\\ny = df2.iloc[:,-2]'"
      ]
     },
     "execution_count": 24,
     "metadata": {},
     "output_type": "execute_result"
    },
    {
     "data": {
      "text/plain": [
       "'#start at home_pos with non loss as y\\nX = df2.iloc[:,4:-3]\\ny = df2.iloc[:,-1]\\ny'"
      ]
     },
     "execution_count": 24,
     "metadata": {},
     "output_type": "execute_result"
    }
   ],
   "source": [
    "#df2 will include \"win\" and \"non loss\" columns.\n",
    "#Win - 0 for loss or tie for home team, 1 for win for home team\n",
    "#Non loss - 0 for loss for home team, 1 for tie or win for home team\n",
    "\n",
    "df2 = df.copy()\n",
    "\n",
    "df2['win'] = df2['winner'].apply(lambda x: 1 if x == 1 else 0)\n",
    "df2['non_loss'] = df2['winner'].apply(lambda x: 1 if x != 2 else 0)\n",
    "\n",
    "\n",
    "\"\"\"#start at home_pos with win as y\n",
    "X = df2.iloc[:,4:-3]\n",
    "y = df2.iloc[:,-2]\"\"\"\n",
    "\n",
    "\n",
    "\"\"\"#start at home_pos with non loss as y\n",
    "X = df2.iloc[:,4:-3]\n",
    "y = df2.iloc[:,-1]\n",
    "y\"\"\""
   ]
  },
  {
   "cell_type": "code",
   "execution_count": 25,
   "metadata": {},
   "outputs": [
    {
     "data": {
      "text/plain": [
       "'#start at home_team with win as y\\nX = df3.iloc[:,:-3]\\ny = df3.iloc[:,-2]'"
      ]
     },
     "execution_count": 25,
     "metadata": {},
     "output_type": "execute_result"
    },
    {
     "data": {
      "text/plain": [
       "'#start at home_team with non loss as y\\nX = df3.iloc[:,:-3]\\ny = df3.iloc[:,-1]'"
      ]
     },
     "execution_count": 25,
     "metadata": {},
     "output_type": "execute_result"
    }
   ],
   "source": [
    "#df3 is df2 wihtout home and away team goals, but include home and away team numbers\n",
    "#Win - 0 for loss or tie for home team, 1 for win for home team\n",
    "#Non loss - 0 for loss for home team, 1 for tie or win for home team\n",
    "\n",
    "df3 = df2.copy()\n",
    "\n",
    "df3.drop(['home_goals', 'away_goals'],axis = 1, inplace = True)\n",
    "\n",
    "\"\"\"#start at home_team with win as y\n",
    "X = df3.iloc[:,:-3]\n",
    "y = df3.iloc[:,-2]\"\"\"\n",
    "\n",
    "\n",
    "\n",
    "\"\"\"#start at home_team with non loss as y\n",
    "X = df3.iloc[:,:-3]\n",
    "y = df3.iloc[:,-1]\"\"\""
   ]
  },
  {
   "cell_type": "code",
   "execution_count": 26,
   "metadata": {},
   "outputs": [],
   "source": [
    "\n",
    "\n",
    "\n",
    "\n",
    "\n",
    "\n",
    "\n",
    "\n",
    "\n",
    "\n",
    "\n",
    "\n",
    "\n",
    "\n",
    "#"
   ]
  },
  {
   "cell_type": "markdown",
   "metadata": {},
   "source": [
    "# <div class=\"alert alert-block alert-info\"> DF2-A </div>"
   ]
  },
  {
   "cell_type": "code",
   "execution_count": 27,
   "metadata": {},
   "outputs": [
    {
     "data": {
      "text/html": [
       "<div>\n",
       "<style scoped>\n",
       "    .dataframe tbody tr th:only-of-type {\n",
       "        vertical-align: middle;\n",
       "    }\n",
       "\n",
       "    .dataframe tbody tr th {\n",
       "        vertical-align: top;\n",
       "    }\n",
       "\n",
       "    .dataframe thead th {\n",
       "        text-align: right;\n",
       "    }\n",
       "</style>\n",
       "<table border=\"1\" class=\"dataframe\">\n",
       "  <thead>\n",
       "    <tr style=\"text-align: right;\">\n",
       "      <th></th>\n",
       "      <th>home_pos</th>\n",
       "      <th>away_pos</th>\n",
       "      <th>home_shots_on_target</th>\n",
       "      <th>away_shots_on_target</th>\n",
       "      <th>home_shots</th>\n",
       "      <th>away_shots</th>\n",
       "      <th>home_touch</th>\n",
       "      <th>away_touch</th>\n",
       "      <th>home_pass</th>\n",
       "      <th>away_pass</th>\n",
       "      <th>home_tackles</th>\n",
       "      <th>away_tackles</th>\n",
       "      <th>home_clear</th>\n",
       "      <th>away_clear</th>\n",
       "      <th>home_corner</th>\n",
       "      <th>away_corner</th>\n",
       "      <th>home_off</th>\n",
       "      <th>away_off</th>\n",
       "      <th>home_yellow</th>\n",
       "      <th>away_yellow</th>\n",
       "      <th>home_red</th>\n",
       "      <th>away_red</th>\n",
       "      <th>home_fouls</th>\n",
       "      <th>away_fouls</th>\n",
       "      <th>winner</th>\n",
       "      <th>win</th>\n",
       "    </tr>\n",
       "    <tr>\n",
       "      <th>season</th>\n",
       "      <th></th>\n",
       "      <th></th>\n",
       "      <th></th>\n",
       "      <th></th>\n",
       "      <th></th>\n",
       "      <th></th>\n",
       "      <th></th>\n",
       "      <th></th>\n",
       "      <th></th>\n",
       "      <th></th>\n",
       "      <th></th>\n",
       "      <th></th>\n",
       "      <th></th>\n",
       "      <th></th>\n",
       "      <th></th>\n",
       "      <th></th>\n",
       "      <th></th>\n",
       "      <th></th>\n",
       "      <th></th>\n",
       "      <th></th>\n",
       "      <th></th>\n",
       "      <th></th>\n",
       "      <th></th>\n",
       "      <th></th>\n",
       "      <th></th>\n",
       "      <th></th>\n",
       "    </tr>\n",
       "  </thead>\n",
       "  <tbody>\n",
       "    <tr>\n",
       "      <th>2006/2007</th>\n",
       "      <td>72.9</td>\n",
       "      <td>27.1</td>\n",
       "      <td>7</td>\n",
       "      <td>3</td>\n",
       "      <td>24</td>\n",
       "      <td>6</td>\n",
       "      <td>807</td>\n",
       "      <td>417</td>\n",
       "      <td>631</td>\n",
       "      <td>232</td>\n",
       "      <td>22</td>\n",
       "      <td>33</td>\n",
       "      <td>14</td>\n",
       "      <td>51</td>\n",
       "      <td>18</td>\n",
       "      <td>1</td>\n",
       "      <td>2</td>\n",
       "      <td>6</td>\n",
       "      <td>1</td>\n",
       "      <td>2</td>\n",
       "      <td>0</td>\n",
       "      <td>0</td>\n",
       "      <td>10</td>\n",
       "      <td>19</td>\n",
       "      <td>0</td>\n",
       "      <td>0</td>\n",
       "    </tr>\n",
       "    <tr>\n",
       "      <th>2006/2007</th>\n",
       "      <td>37.8</td>\n",
       "      <td>62.2</td>\n",
       "      <td>4</td>\n",
       "      <td>2</td>\n",
       "      <td>13</td>\n",
       "      <td>10</td>\n",
       "      <td>411</td>\n",
       "      <td>591</td>\n",
       "      <td>243</td>\n",
       "      <td>427</td>\n",
       "      <td>28</td>\n",
       "      <td>17</td>\n",
       "      <td>20</td>\n",
       "      <td>43</td>\n",
       "      <td>6</td>\n",
       "      <td>3</td>\n",
       "      <td>3</td>\n",
       "      <td>1</td>\n",
       "      <td>0</td>\n",
       "      <td>0</td>\n",
       "      <td>0</td>\n",
       "      <td>0</td>\n",
       "      <td>22</td>\n",
       "      <td>22</td>\n",
       "      <td>1</td>\n",
       "      <td>1</td>\n",
       "    </tr>\n",
       "    <tr>\n",
       "      <th>2006/2007</th>\n",
       "      <td>47.0</td>\n",
       "      <td>53.0</td>\n",
       "      <td>2</td>\n",
       "      <td>7</td>\n",
       "      <td>8</td>\n",
       "      <td>13</td>\n",
       "      <td>460</td>\n",
       "      <td>493</td>\n",
       "      <td>288</td>\n",
       "      <td>321</td>\n",
       "      <td>17</td>\n",
       "      <td>24</td>\n",
       "      <td>61</td>\n",
       "      <td>32</td>\n",
       "      <td>0</td>\n",
       "      <td>6</td>\n",
       "      <td>5</td>\n",
       "      <td>1</td>\n",
       "      <td>2</td>\n",
       "      <td>2</td>\n",
       "      <td>0</td>\n",
       "      <td>0</td>\n",
       "      <td>12</td>\n",
       "      <td>15</td>\n",
       "      <td>1</td>\n",
       "      <td>1</td>\n",
       "    </tr>\n",
       "    <tr>\n",
       "      <th>2006/2007</th>\n",
       "      <td>55.3</td>\n",
       "      <td>44.7</td>\n",
       "      <td>5</td>\n",
       "      <td>4</td>\n",
       "      <td>8</td>\n",
       "      <td>13</td>\n",
       "      <td>519</td>\n",
       "      <td>448</td>\n",
       "      <td>352</td>\n",
       "      <td>278</td>\n",
       "      <td>27</td>\n",
       "      <td>33</td>\n",
       "      <td>15</td>\n",
       "      <td>16</td>\n",
       "      <td>4</td>\n",
       "      <td>11</td>\n",
       "      <td>6</td>\n",
       "      <td>3</td>\n",
       "      <td>1</td>\n",
       "      <td>2</td>\n",
       "      <td>0</td>\n",
       "      <td>0</td>\n",
       "      <td>18</td>\n",
       "      <td>19</td>\n",
       "      <td>1</td>\n",
       "      <td>1</td>\n",
       "    </tr>\n",
       "    <tr>\n",
       "      <th>2006/2007</th>\n",
       "      <td>44.3</td>\n",
       "      <td>55.7</td>\n",
       "      <td>11</td>\n",
       "      <td>3</td>\n",
       "      <td>21</td>\n",
       "      <td>8</td>\n",
       "      <td>415</td>\n",
       "      <td>527</td>\n",
       "      <td>279</td>\n",
       "      <td>327</td>\n",
       "      <td>23</td>\n",
       "      <td>19</td>\n",
       "      <td>15</td>\n",
       "      <td>28</td>\n",
       "      <td>6</td>\n",
       "      <td>2</td>\n",
       "      <td>5</td>\n",
       "      <td>0</td>\n",
       "      <td>2</td>\n",
       "      <td>0</td>\n",
       "      <td>0</td>\n",
       "      <td>1</td>\n",
       "      <td>22</td>\n",
       "      <td>17</td>\n",
       "      <td>1</td>\n",
       "      <td>1</td>\n",
       "    </tr>\n",
       "  </tbody>\n",
       "</table>\n",
       "</div>"
      ],
      "text/plain": [
       "           home_pos  away_pos  home_shots_on_target  away_shots_on_target  \\\n",
       "season                                                                      \n",
       "2006/2007      72.9      27.1                     7                     3   \n",
       "2006/2007      37.8      62.2                     4                     2   \n",
       "2006/2007      47.0      53.0                     2                     7   \n",
       "2006/2007      55.3      44.7                     5                     4   \n",
       "2006/2007      44.3      55.7                    11                     3   \n",
       "\n",
       "           home_shots  away_shots  home_touch  away_touch  home_pass  \\\n",
       "season                                                                 \n",
       "2006/2007          24           6         807         417        631   \n",
       "2006/2007          13          10         411         591        243   \n",
       "2006/2007           8          13         460         493        288   \n",
       "2006/2007           8          13         519         448        352   \n",
       "2006/2007          21           8         415         527        279   \n",
       "\n",
       "           away_pass  home_tackles  away_tackles  home_clear  away_clear  \\\n",
       "season                                                                     \n",
       "2006/2007        232            22            33          14          51   \n",
       "2006/2007        427            28            17          20          43   \n",
       "2006/2007        321            17            24          61          32   \n",
       "2006/2007        278            27            33          15          16   \n",
       "2006/2007        327            23            19          15          28   \n",
       "\n",
       "           home_corner  away_corner  home_off  away_off  home_yellow  \\\n",
       "season                                                                 \n",
       "2006/2007           18            1         2         6            1   \n",
       "2006/2007            6            3         3         1            0   \n",
       "2006/2007            0            6         5         1            2   \n",
       "2006/2007            4           11         6         3            1   \n",
       "2006/2007            6            2         5         0            2   \n",
       "\n",
       "           away_yellow  home_red  away_red  home_fouls  away_fouls  winner  \\\n",
       "season                                                                       \n",
       "2006/2007            2         0         0          10          19       0   \n",
       "2006/2007            0         0         0          22          22       1   \n",
       "2006/2007            2         0         0          12          15       1   \n",
       "2006/2007            2         0         0          18          19       1   \n",
       "2006/2007            0         0         1          22          17       1   \n",
       "\n",
       "           win  \n",
       "season          \n",
       "2006/2007    0  \n",
       "2006/2007    1  \n",
       "2006/2007    1  \n",
       "2006/2007    1  \n",
       "2006/2007    1  "
      ]
     },
     "execution_count": 27,
     "metadata": {},
     "output_type": "execute_result"
    }
   ],
   "source": [
    "# The DF2-A Dataset\n",
    "\n",
    "# Independent Variable is 0 for a home loss or tie and 1 for a home win.\n",
    "\n",
    "df2.iloc[:,4:-1].head()"
   ]
  },
  {
   "cell_type": "markdown",
   "metadata": {},
   "source": [
    "## DF for Scores"
   ]
  },
  {
   "cell_type": "code",
   "execution_count": 28,
   "metadata": {},
   "outputs": [],
   "source": [
    "#rquares df\n",
    "\n",
    "rsquaresdf2_A = pd.DataFrame()\n",
    "\n",
    "\n",
    "#accuracy df\n",
    "\n",
    "accuracydf2_A = pd.DataFrame()"
   ]
  },
  {
   "cell_type": "markdown",
   "metadata": {},
   "source": [
    "# Multi Linear Regression"
   ]
  },
  {
   "cell_type": "code",
   "execution_count": 29,
   "metadata": {},
   "outputs": [],
   "source": [
    "# Asigning Variables\n",
    "\n",
    "X = df2.iloc[:,4:-3]\n",
    "y = df2.iloc[:,-2]"
   ]
  },
  {
   "cell_type": "code",
   "execution_count": 30,
   "metadata": {},
   "outputs": [],
   "source": [
    "# Sperate train and test data\n",
    "from sklearn.model_selection import train_test_split\n",
    "\n",
    "X_train, X_test, y_train, y_test = train_test_split(X, y, test_size = 0.20)"
   ]
  },
  {
   "cell_type": "code",
   "execution_count": 31,
   "metadata": {},
   "outputs": [],
   "source": [
    "#import the model\n",
    "from sklearn.linear_model import LinearRegression"
   ]
  },
  {
   "cell_type": "code",
   "execution_count": 32,
   "metadata": {},
   "outputs": [],
   "source": [
    "my_model = LinearRegression().fit(X_train, y_train)"
   ]
  },
  {
   "cell_type": "code",
   "execution_count": 33,
   "metadata": {},
   "outputs": [],
   "source": [
    "#prediction test\n",
    "y_predict = my_model.predict(X_test)\n",
    "\n",
    "#prediction train\n",
    "y_predict_train = my_model.predict(X_train)"
   ]
  },
  {
   "cell_type": "code",
   "execution_count": 34,
   "metadata": {},
   "outputs": [
    {
     "name": "stdout",
     "output_type": "stream",
     "text": [
      "R Squared for test data is:  0.32491967360646323\n",
      "R Squared for training data is:  0.3518132287498601\n"
     ]
    }
   ],
   "source": [
    "#accuracy metrics\n",
    "from sklearn.metrics import r2_score\n",
    "\n",
    "print('R Squared for test data is: ', r2_score(y_test, y_predict))\n",
    "print('R Squared for training data is: ', r2_score(y_train, y_predict_train))"
   ]
  },
  {
   "cell_type": "code",
   "execution_count": 35,
   "metadata": {},
   "outputs": [],
   "source": [
    "#add to metrics df\n",
    "\n",
    "rsquaresdf2_A['MLR'] = [ r2_score(y_test, y_predict), r2_score(y_train, y_predict_train)]\n",
    "\n"
   ]
  },
  {
   "cell_type": "markdown",
   "metadata": {},
   "source": [
    "# Regularized Regression - Ridge"
   ]
  },
  {
   "cell_type": "code",
   "execution_count": 36,
   "metadata": {},
   "outputs": [],
   "source": [
    "# Asigning Variables\n",
    "\n",
    "X = df2.iloc[:,4:-3]\n",
    "y = df2.iloc[:,-2]"
   ]
  },
  {
   "cell_type": "code",
   "execution_count": 37,
   "metadata": {},
   "outputs": [],
   "source": [
    "# Sperate train and test data\n",
    "from sklearn.model_selection import train_test_split\n",
    "\n",
    "X_train, X_test, y_train, y_test = train_test_split(X, y, test_size = 0.20)"
   ]
  },
  {
   "cell_type": "code",
   "execution_count": 38,
   "metadata": {},
   "outputs": [],
   "source": [
    "#import the model\n",
    "from sklearn.linear_model import Ridge"
   ]
  },
  {
   "cell_type": "code",
   "execution_count": 39,
   "metadata": {},
   "outputs": [],
   "source": [
    "my_Ridge = Ridge(alpha = .45).fit(X_train, y_train)"
   ]
  },
  {
   "cell_type": "code",
   "execution_count": 40,
   "metadata": {},
   "outputs": [],
   "source": [
    "#predict test\n",
    "y_predict = my_Ridge.predict(X_test)\n",
    "\n",
    "#predict train\n",
    "y_predict_train = my_Ridge.predict(X_train)"
   ]
  },
  {
   "cell_type": "code",
   "execution_count": 41,
   "metadata": {},
   "outputs": [
    {
     "name": "stdout",
     "output_type": "stream",
     "text": [
      "R Squared for test data is:  0.3179229504522537\n",
      "R Squared for training data is:  0.35800740618931326\n"
     ]
    }
   ],
   "source": [
    "#add to metrics df\n",
    "\n",
    "\n",
    "#accuracy metrics\n",
    "from sklearn.metrics import r2_score\n",
    "\n",
    "print('R Squared for test data is: ', r2_score(y_test, y_predict))\n",
    "print('R Squared for training data is: ', r2_score(y_train, y_predict_train))"
   ]
  },
  {
   "cell_type": "code",
   "execution_count": 42,
   "metadata": {},
   "outputs": [],
   "source": [
    "#add to metrics df\n",
    "\n",
    "rsquaresdf2_A['Ridge'] = [ r2_score(y_test, y_predict), r2_score(y_train, y_predict_train)]\n"
   ]
  },
  {
   "cell_type": "markdown",
   "metadata": {},
   "source": [
    "# Ridge + Feature Scaling (Normalization)"
   ]
  },
  {
   "cell_type": "code",
   "execution_count": 43,
   "metadata": {},
   "outputs": [],
   "source": [
    "# Asigning Variables\n",
    "\n",
    "X = df2.iloc[:,4:-3]\n",
    "y = df2.iloc[:,-2]"
   ]
  },
  {
   "cell_type": "code",
   "execution_count": 44,
   "metadata": {},
   "outputs": [],
   "source": [
    "# Sperate train and test data\n",
    "from sklearn.model_selection import train_test_split\n",
    "# Asigning Variables\n",
    "\n",
    "\n",
    "X_train, X_test, y_train, y_test = train_test_split(X, y, test_size = 0.20)"
   ]
  },
  {
   "cell_type": "code",
   "execution_count": 45,
   "metadata": {},
   "outputs": [],
   "source": [
    "#importing MinMaxScaler\n",
    "from sklearn.preprocessing import MinMaxScaler"
   ]
  },
  {
   "cell_type": "code",
   "execution_count": 46,
   "metadata": {},
   "outputs": [],
   "source": [
    "#create an object of MinMaxScaler\n",
    "scaler = MinMaxScaler()"
   ]
  },
  {
   "cell_type": "code",
   "execution_count": 47,
   "metadata": {},
   "outputs": [
    {
     "data": {
      "text/plain": [
       "MinMaxScaler(copy=True, feature_range=(0, 1))"
      ]
     },
     "execution_count": 47,
     "metadata": {},
     "output_type": "execute_result"
    }
   ],
   "source": [
    "#normalizing the data\n",
    "\n",
    "#fitting\n",
    "scaler.fit(X_train)\n",
    "\n",
    "#transforming the x varaible\n",
    "X_train_scaled = scaler.transform(X_train)\n",
    "\n",
    "X_test_scaled = scaler.transform(X_test)"
   ]
  },
  {
   "cell_type": "code",
   "execution_count": 48,
   "metadata": {},
   "outputs": [],
   "source": [
    "#create model with scaled data\n",
    "my_ridge = Ridge(alpha = 7).fit(X_train_scaled, y_train)"
   ]
  },
  {
   "cell_type": "code",
   "execution_count": 49,
   "metadata": {},
   "outputs": [],
   "source": [
    "#make predictions\n",
    "\n",
    "#test data\n",
    "y_predict = my_ridge.predict(X_test_scaled)\n",
    "\n",
    "#train data\n",
    "y_predict_train = my_ridge.predict(X_train_scaled)\n"
   ]
  },
  {
   "cell_type": "code",
   "execution_count": 50,
   "metadata": {
    "scrolled": true
   },
   "outputs": [
    {
     "name": "stdout",
     "output_type": "stream",
     "text": [
      "R Squared for test data is:  0.3290713260782716\n",
      "R Squared for training data is:  0.32996504106981595\n"
     ]
    }
   ],
   "source": [
    "#accuracy metrics\n",
    "from sklearn.metrics import r2_score\n",
    "\n",
    "print('R Squared for test data is: ', r2_score(y_test, y_predict))\n",
    "print('R Squared for training data is: ', r2_score(y_train, y_predict_train))"
   ]
  },
  {
   "cell_type": "code",
   "execution_count": 51,
   "metadata": {},
   "outputs": [],
   "source": [
    "#add to metrics df\n",
    "\n",
    "rsquaresdf2_A['Ridge - Feature Scale'] = [ r2_score(y_test, y_predict), r2_score(y_train, y_predict_train)]\n"
   ]
  },
  {
   "cell_type": "markdown",
   "metadata": {},
   "source": [
    "# Ridge + Polynomial Features"
   ]
  },
  {
   "cell_type": "code",
   "execution_count": 52,
   "metadata": {},
   "outputs": [],
   "source": [
    "# Asigning Variables\n",
    "\n",
    "X = df2.iloc[:,4:-3]\n",
    "y = df2.iloc[:,-2]"
   ]
  },
  {
   "cell_type": "code",
   "execution_count": 53,
   "metadata": {},
   "outputs": [],
   "source": [
    "#import polynomial features\n",
    "from sklearn.preprocessing import PolynomialFeatures"
   ]
  },
  {
   "cell_type": "code",
   "execution_count": 54,
   "metadata": {},
   "outputs": [],
   "source": [
    "#Create an object\n",
    "poly = PolynomialFeatures(degree=2)\n",
    "\n",
    "#Create new features of X variable\n",
    "X_poly = poly.fit_transform(X)"
   ]
  },
  {
   "cell_type": "code",
   "execution_count": 55,
   "metadata": {},
   "outputs": [],
   "source": [
    "# Sperate train and test data\n",
    "from sklearn.model_selection import train_test_split\n",
    "\n",
    "X_train, X_test, y_train, y_test = train_test_split(X, y, test_size = 0.20)"
   ]
  },
  {
   "cell_type": "code",
   "execution_count": 56,
   "metadata": {},
   "outputs": [],
   "source": [
    "my_ridge = Ridge(alpha = .4).fit(X_train, y_train)"
   ]
  },
  {
   "cell_type": "code",
   "execution_count": 57,
   "metadata": {},
   "outputs": [],
   "source": [
    "#predict test\n",
    "y_predict = my_ridge.predict(X_test)\n",
    "\n",
    "#predict train\n",
    "y_predict_train = my_ridge.predict(X_train)"
   ]
  },
  {
   "cell_type": "code",
   "execution_count": 58,
   "metadata": {},
   "outputs": [
    {
     "name": "stdout",
     "output_type": "stream",
     "text": [
      "R Squared for test data is:  0.35437805642213027\n",
      "R Squared for training data is:  0.34839322426524344\n"
     ]
    }
   ],
   "source": [
    "from sklearn.metrics import r2_score\n",
    "\n",
    "print('R Squared for test data is: ', r2_score(y_test, y_predict))\n",
    "print('R Squared for training data is: ', r2_score(y_train, y_predict_train))"
   ]
  },
  {
   "cell_type": "code",
   "execution_count": 59,
   "metadata": {},
   "outputs": [],
   "source": [
    "#add to metrics df\n",
    "\n",
    "rsquaresdf2_A['Ridge - Poly Features'] = [ r2_score(y_test, y_predict), r2_score(y_train, y_predict_train)]\n"
   ]
  },
  {
   "cell_type": "markdown",
   "metadata": {},
   "source": [
    "# Regularized Regression - Lasso"
   ]
  },
  {
   "cell_type": "code",
   "execution_count": 60,
   "metadata": {},
   "outputs": [],
   "source": [
    "# Asigning Variables\n",
    "\n",
    "X = df2.iloc[:,4:-3]\n",
    "y = df2.iloc[:,-2]"
   ]
  },
  {
   "cell_type": "code",
   "execution_count": 61,
   "metadata": {},
   "outputs": [],
   "source": [
    "# Sperate train and test data\n",
    "from sklearn.model_selection import train_test_split\n",
    "\n",
    "X_train, X_test, y_train, y_test = train_test_split(X, y, test_size = 0.20)# Asigning Variables\n",
    "\n"
   ]
  },
  {
   "cell_type": "code",
   "execution_count": 62,
   "metadata": {},
   "outputs": [],
   "source": [
    "#import the model\n",
    "from sklearn.linear_model import Lasso"
   ]
  },
  {
   "cell_type": "code",
   "execution_count": 63,
   "metadata": {},
   "outputs": [],
   "source": [
    "my_Lasso = Lasso(alpha = .15).fit(X_train, y_train)"
   ]
  },
  {
   "cell_type": "code",
   "execution_count": 64,
   "metadata": {},
   "outputs": [],
   "source": [
    "#predict test\n",
    "y_predict = my_Lasso.predict(X_test)\n",
    "\n",
    "#predict_train\n",
    "y_predict_train = my_Lasso.predict(X_train)"
   ]
  },
  {
   "cell_type": "code",
   "execution_count": 65,
   "metadata": {},
   "outputs": [
    {
     "name": "stdout",
     "output_type": "stream",
     "text": [
      "R Squared for test data is:  0.2790926089984217\n",
      "R Squared for training data is:  0.28580710934762743\n"
     ]
    }
   ],
   "source": [
    "from sklearn.metrics import r2_score\n",
    "\n",
    "print('R Squared for test data is: ', r2_score(y_test, y_predict))\n",
    "print('R Squared for training data is: ', r2_score(y_train, y_predict_train))"
   ]
  },
  {
   "cell_type": "code",
   "execution_count": 66,
   "metadata": {},
   "outputs": [],
   "source": [
    "#add to metrics df\n",
    "\n",
    "rsquaresdf2_A['Lasso'] = [ r2_score(y_test, y_predict), r2_score(y_train, y_predict_train)]\n"
   ]
  },
  {
   "cell_type": "markdown",
   "metadata": {},
   "source": [
    "# Lasso + Feature Scaling (Normalization)"
   ]
  },
  {
   "cell_type": "code",
   "execution_count": 67,
   "metadata": {},
   "outputs": [],
   "source": [
    "# Asigning Variables\n",
    "\n",
    "X = df2.iloc[:,4:-3]\n",
    "y = df2.iloc[:,-2]"
   ]
  },
  {
   "cell_type": "code",
   "execution_count": 68,
   "metadata": {},
   "outputs": [],
   "source": [
    "# Sperate train and test data\n",
    "from sklearn.model_selection import train_test_split\n",
    "\n",
    "X_train, X_test, y_train, y_test = train_test_split(X, y, test_size = 0.20)"
   ]
  },
  {
   "cell_type": "code",
   "execution_count": 69,
   "metadata": {},
   "outputs": [],
   "source": [
    "#importing MinMaxScaler\n",
    "from sklearn.preprocessing import MinMaxScaler"
   ]
  },
  {
   "cell_type": "code",
   "execution_count": 70,
   "metadata": {},
   "outputs": [],
   "source": [
    "#create an object of MinMaxScaler\n",
    "scaler = MinMaxScaler()"
   ]
  },
  {
   "cell_type": "code",
   "execution_count": 71,
   "metadata": {},
   "outputs": [
    {
     "data": {
      "text/plain": [
       "MinMaxScaler(copy=True, feature_range=(0, 1))"
      ]
     },
     "execution_count": 71,
     "metadata": {},
     "output_type": "execute_result"
    }
   ],
   "source": [
    "#normalizing the data\n",
    "\n",
    "#fitting\n",
    "scaler.fit(X_train)\n",
    "\n",
    "#transforming the x varaible\n",
    "X_train_scaled = scaler.transform(X_train)\n",
    "\n",
    "X_test_scaled = scaler.transform(X_test)"
   ]
  },
  {
   "cell_type": "code",
   "execution_count": 72,
   "metadata": {},
   "outputs": [],
   "source": [
    "#import the model\n",
    "from sklearn.linear_model import Lasso"
   ]
  },
  {
   "cell_type": "code",
   "execution_count": 73,
   "metadata": {},
   "outputs": [],
   "source": [
    "my_Lasso = Lasso(alpha = .8).fit(X_train_scaled, y_train)"
   ]
  },
  {
   "cell_type": "code",
   "execution_count": 74,
   "metadata": {},
   "outputs": [],
   "source": [
    "#predict test\n",
    "y_predict = my_Lasso.predict(X_test_scaled)\n",
    "\n",
    "#predict_train\n",
    "y_predict_train = my_Lasso.predict(X_train_scaled)"
   ]
  },
  {
   "cell_type": "code",
   "execution_count": 75,
   "metadata": {},
   "outputs": [
    {
     "name": "stdout",
     "output_type": "stream",
     "text": [
      "R Squared for test data is:  -0.0014536021076803074\n",
      "R Squared for training data is:  0.0\n"
     ]
    }
   ],
   "source": [
    "from sklearn.metrics import r2_score\n",
    "\n",
    "print('R Squared for test data is: ', r2_score(y_test, y_predict))\n",
    "print('R Squared for training data is: ', r2_score(y_train, y_predict_train))"
   ]
  },
  {
   "cell_type": "code",
   "execution_count": 76,
   "metadata": {},
   "outputs": [],
   "source": [
    "#add to metrics df\n",
    "\n",
    "rsquaresdf2_A['Lasso - Feature Scaling'] = [ r2_score(y_test, y_predict), r2_score(y_train, y_predict_train)]\n"
   ]
  },
  {
   "cell_type": "markdown",
   "metadata": {},
   "source": [
    "# KNN"
   ]
  },
  {
   "cell_type": "code",
   "execution_count": 77,
   "metadata": {},
   "outputs": [],
   "source": [
    "# Asigning Variables\n",
    "\n",
    "X = df2.iloc[:,4:-3]\n",
    "y = df2.iloc[:,-2]"
   ]
  },
  {
   "cell_type": "code",
   "execution_count": 78,
   "metadata": {},
   "outputs": [],
   "source": [
    "# Sperate train and test data\n",
    "from sklearn.model_selection import train_test_split\n",
    "\n",
    "X_train, X_test, y_train, y_test = train_test_split(X, y, test_size = 0.20)\n"
   ]
  },
  {
   "cell_type": "code",
   "execution_count": 79,
   "metadata": {},
   "outputs": [],
   "source": [
    "#Normalizing (Feature Scaling)\n",
    "from sklearn.preprocessing import StandardScaler\n",
    "\n",
    "scaler = StandardScaler()\n",
    "\n",
    "X_train = scaler.fit_transform(X_train)\n",
    "X_test = scaler.fit_transform(X_test)"
   ]
  },
  {
   "cell_type": "code",
   "execution_count": 80,
   "metadata": {},
   "outputs": [],
   "source": [
    "#import model\n",
    "from sklearn.neighbors import KNeighborsClassifier"
   ]
  },
  {
   "cell_type": "markdown",
   "metadata": {},
   "source": [
    "## Paramater Tuning Code"
   ]
  },
  {
   "cell_type": "code",
   "execution_count": 81,
   "metadata": {
    "scrolled": true
   },
   "outputs": [
    {
     "data": {
      "text/plain": [
       "KNeighborsClassifier(algorithm='auto', leaf_size=30, metric='minkowski',\n",
       "                     metric_params=None, n_jobs=None, n_neighbors=1, p=2,\n",
       "                     weights='uniform')"
      ]
     },
     "execution_count": 81,
     "metadata": {},
     "output_type": "execute_result"
    },
    {
     "data": {
      "text/plain": [
       "KNeighborsClassifier(algorithm='auto', leaf_size=30, metric='minkowski',\n",
       "                     metric_params=None, n_jobs=None, n_neighbors=2, p=2,\n",
       "                     weights='uniform')"
      ]
     },
     "execution_count": 81,
     "metadata": {},
     "output_type": "execute_result"
    },
    {
     "data": {
      "text/plain": [
       "KNeighborsClassifier(algorithm='auto', leaf_size=30, metric='minkowski',\n",
       "                     metric_params=None, n_jobs=None, n_neighbors=3, p=2,\n",
       "                     weights='uniform')"
      ]
     },
     "execution_count": 81,
     "metadata": {},
     "output_type": "execute_result"
    },
    {
     "data": {
      "text/plain": [
       "KNeighborsClassifier(algorithm='auto', leaf_size=30, metric='minkowski',\n",
       "                     metric_params=None, n_jobs=None, n_neighbors=4, p=2,\n",
       "                     weights='uniform')"
      ]
     },
     "execution_count": 81,
     "metadata": {},
     "output_type": "execute_result"
    },
    {
     "data": {
      "text/plain": [
       "KNeighborsClassifier(algorithm='auto', leaf_size=30, metric='minkowski',\n",
       "                     metric_params=None, n_jobs=None, n_neighbors=5, p=2,\n",
       "                     weights='uniform')"
      ]
     },
     "execution_count": 81,
     "metadata": {},
     "output_type": "execute_result"
    },
    {
     "data": {
      "text/plain": [
       "KNeighborsClassifier(algorithm='auto', leaf_size=30, metric='minkowski',\n",
       "                     metric_params=None, n_jobs=None, n_neighbors=6, p=2,\n",
       "                     weights='uniform')"
      ]
     },
     "execution_count": 81,
     "metadata": {},
     "output_type": "execute_result"
    },
    {
     "data": {
      "text/plain": [
       "KNeighborsClassifier(algorithm='auto', leaf_size=30, metric='minkowski',\n",
       "                     metric_params=None, n_jobs=None, n_neighbors=7, p=2,\n",
       "                     weights='uniform')"
      ]
     },
     "execution_count": 81,
     "metadata": {},
     "output_type": "execute_result"
    },
    {
     "data": {
      "text/plain": [
       "KNeighborsClassifier(algorithm='auto', leaf_size=30, metric='minkowski',\n",
       "                     metric_params=None, n_jobs=None, n_neighbors=8, p=2,\n",
       "                     weights='uniform')"
      ]
     },
     "execution_count": 81,
     "metadata": {},
     "output_type": "execute_result"
    },
    {
     "data": {
      "text/plain": [
       "KNeighborsClassifier(algorithm='auto', leaf_size=30, metric='minkowski',\n",
       "                     metric_params=None, n_jobs=None, n_neighbors=9, p=2,\n",
       "                     weights='uniform')"
      ]
     },
     "execution_count": 81,
     "metadata": {},
     "output_type": "execute_result"
    },
    {
     "data": {
      "text/plain": [
       "KNeighborsClassifier(algorithm='auto', leaf_size=30, metric='minkowski',\n",
       "                     metric_params=None, n_jobs=None, n_neighbors=10, p=2,\n",
       "                     weights='uniform')"
      ]
     },
     "execution_count": 81,
     "metadata": {},
     "output_type": "execute_result"
    },
    {
     "data": {
      "text/plain": [
       "KNeighborsClassifier(algorithm='auto', leaf_size=30, metric='minkowski',\n",
       "                     metric_params=None, n_jobs=None, n_neighbors=11, p=2,\n",
       "                     weights='uniform')"
      ]
     },
     "execution_count": 81,
     "metadata": {},
     "output_type": "execute_result"
    },
    {
     "data": {
      "text/plain": [
       "KNeighborsClassifier(algorithm='auto', leaf_size=30, metric='minkowski',\n",
       "                     metric_params=None, n_jobs=None, n_neighbors=12, p=2,\n",
       "                     weights='uniform')"
      ]
     },
     "execution_count": 81,
     "metadata": {},
     "output_type": "execute_result"
    },
    {
     "data": {
      "text/plain": [
       "KNeighborsClassifier(algorithm='auto', leaf_size=30, metric='minkowski',\n",
       "                     metric_params=None, n_jobs=None, n_neighbors=13, p=2,\n",
       "                     weights='uniform')"
      ]
     },
     "execution_count": 81,
     "metadata": {},
     "output_type": "execute_result"
    },
    {
     "data": {
      "text/plain": [
       "KNeighborsClassifier(algorithm='auto', leaf_size=30, metric='minkowski',\n",
       "                     metric_params=None, n_jobs=None, n_neighbors=14, p=2,\n",
       "                     weights='uniform')"
      ]
     },
     "execution_count": 81,
     "metadata": {},
     "output_type": "execute_result"
    },
    {
     "data": {
      "text/plain": [
       "KNeighborsClassifier(algorithm='auto', leaf_size=30, metric='minkowski',\n",
       "                     metric_params=None, n_jobs=None, n_neighbors=15, p=2,\n",
       "                     weights='uniform')"
      ]
     },
     "execution_count": 81,
     "metadata": {},
     "output_type": "execute_result"
    },
    {
     "data": {
      "text/plain": [
       "KNeighborsClassifier(algorithm='auto', leaf_size=30, metric='minkowski',\n",
       "                     metric_params=None, n_jobs=None, n_neighbors=16, p=2,\n",
       "                     weights='uniform')"
      ]
     },
     "execution_count": 81,
     "metadata": {},
     "output_type": "execute_result"
    },
    {
     "data": {
      "text/plain": [
       "KNeighborsClassifier(algorithm='auto', leaf_size=30, metric='minkowski',\n",
       "                     metric_params=None, n_jobs=None, n_neighbors=17, p=2,\n",
       "                     weights='uniform')"
      ]
     },
     "execution_count": 81,
     "metadata": {},
     "output_type": "execute_result"
    },
    {
     "data": {
      "text/plain": [
       "KNeighborsClassifier(algorithm='auto', leaf_size=30, metric='minkowski',\n",
       "                     metric_params=None, n_jobs=None, n_neighbors=18, p=2,\n",
       "                     weights='uniform')"
      ]
     },
     "execution_count": 81,
     "metadata": {},
     "output_type": "execute_result"
    },
    {
     "data": {
      "text/plain": [
       "KNeighborsClassifier(algorithm='auto', leaf_size=30, metric='minkowski',\n",
       "                     metric_params=None, n_jobs=None, n_neighbors=19, p=2,\n",
       "                     weights='uniform')"
      ]
     },
     "execution_count": 81,
     "metadata": {},
     "output_type": "execute_result"
    },
    {
     "data": {
      "text/plain": [
       "KNeighborsClassifier(algorithm='auto', leaf_size=30, metric='minkowski',\n",
       "                     metric_params=None, n_jobs=None, n_neighbors=20, p=2,\n",
       "                     weights='uniform')"
      ]
     },
     "execution_count": 81,
     "metadata": {},
     "output_type": "execute_result"
    },
    {
     "data": {
      "text/plain": [
       "KNeighborsClassifier(algorithm='auto', leaf_size=30, metric='minkowski',\n",
       "                     metric_params=None, n_jobs=None, n_neighbors=21, p=2,\n",
       "                     weights='uniform')"
      ]
     },
     "execution_count": 81,
     "metadata": {},
     "output_type": "execute_result"
    },
    {
     "data": {
      "text/plain": [
       "KNeighborsClassifier(algorithm='auto', leaf_size=30, metric='minkowski',\n",
       "                     metric_params=None, n_jobs=None, n_neighbors=22, p=2,\n",
       "                     weights='uniform')"
      ]
     },
     "execution_count": 81,
     "metadata": {},
     "output_type": "execute_result"
    },
    {
     "data": {
      "text/plain": [
       "KNeighborsClassifier(algorithm='auto', leaf_size=30, metric='minkowski',\n",
       "                     metric_params=None, n_jobs=None, n_neighbors=23, p=2,\n",
       "                     weights='uniform')"
      ]
     },
     "execution_count": 81,
     "metadata": {},
     "output_type": "execute_result"
    },
    {
     "data": {
      "text/plain": [
       "KNeighborsClassifier(algorithm='auto', leaf_size=30, metric='minkowski',\n",
       "                     metric_params=None, n_jobs=None, n_neighbors=24, p=2,\n",
       "                     weights='uniform')"
      ]
     },
     "execution_count": 81,
     "metadata": {},
     "output_type": "execute_result"
    },
    {
     "data": {
      "text/plain": [
       "KNeighborsClassifier(algorithm='auto', leaf_size=30, metric='minkowski',\n",
       "                     metric_params=None, n_jobs=None, n_neighbors=25, p=2,\n",
       "                     weights='uniform')"
      ]
     },
     "execution_count": 81,
     "metadata": {},
     "output_type": "execute_result"
    },
    {
     "data": {
      "text/plain": [
       "KNeighborsClassifier(algorithm='auto', leaf_size=30, metric='minkowski',\n",
       "                     metric_params=None, n_jobs=None, n_neighbors=26, p=2,\n",
       "                     weights='uniform')"
      ]
     },
     "execution_count": 81,
     "metadata": {},
     "output_type": "execute_result"
    },
    {
     "data": {
      "text/plain": [
       "KNeighborsClassifier(algorithm='auto', leaf_size=30, metric='minkowski',\n",
       "                     metric_params=None, n_jobs=None, n_neighbors=27, p=2,\n",
       "                     weights='uniform')"
      ]
     },
     "execution_count": 81,
     "metadata": {},
     "output_type": "execute_result"
    },
    {
     "data": {
      "text/plain": [
       "KNeighborsClassifier(algorithm='auto', leaf_size=30, metric='minkowski',\n",
       "                     metric_params=None, n_jobs=None, n_neighbors=28, p=2,\n",
       "                     weights='uniform')"
      ]
     },
     "execution_count": 81,
     "metadata": {},
     "output_type": "execute_result"
    },
    {
     "data": {
      "text/plain": [
       "KNeighborsClassifier(algorithm='auto', leaf_size=30, metric='minkowski',\n",
       "                     metric_params=None, n_jobs=None, n_neighbors=29, p=2,\n",
       "                     weights='uniform')"
      ]
     },
     "execution_count": 81,
     "metadata": {},
     "output_type": "execute_result"
    },
    {
     "data": {
      "text/plain": [
       "KNeighborsClassifier(algorithm='auto', leaf_size=30, metric='minkowski',\n",
       "                     metric_params=None, n_jobs=None, n_neighbors=30, p=2,\n",
       "                     weights='uniform')"
      ]
     },
     "execution_count": 81,
     "metadata": {},
     "output_type": "execute_result"
    },
    {
     "data": {
      "text/plain": [
       "KNeighborsClassifier(algorithm='auto', leaf_size=30, metric='minkowski',\n",
       "                     metric_params=None, n_jobs=None, n_neighbors=31, p=2,\n",
       "                     weights='uniform')"
      ]
     },
     "execution_count": 81,
     "metadata": {},
     "output_type": "execute_result"
    },
    {
     "data": {
      "text/plain": [
       "KNeighborsClassifier(algorithm='auto', leaf_size=30, metric='minkowski',\n",
       "                     metric_params=None, n_jobs=None, n_neighbors=32, p=2,\n",
       "                     weights='uniform')"
      ]
     },
     "execution_count": 81,
     "metadata": {},
     "output_type": "execute_result"
    },
    {
     "data": {
      "text/plain": [
       "KNeighborsClassifier(algorithm='auto', leaf_size=30, metric='minkowski',\n",
       "                     metric_params=None, n_jobs=None, n_neighbors=33, p=2,\n",
       "                     weights='uniform')"
      ]
     },
     "execution_count": 81,
     "metadata": {},
     "output_type": "execute_result"
    },
    {
     "data": {
      "text/plain": [
       "KNeighborsClassifier(algorithm='auto', leaf_size=30, metric='minkowski',\n",
       "                     metric_params=None, n_jobs=None, n_neighbors=34, p=2,\n",
       "                     weights='uniform')"
      ]
     },
     "execution_count": 81,
     "metadata": {},
     "output_type": "execute_result"
    },
    {
     "data": {
      "text/plain": [
       "KNeighborsClassifier(algorithm='auto', leaf_size=30, metric='minkowski',\n",
       "                     metric_params=None, n_jobs=None, n_neighbors=35, p=2,\n",
       "                     weights='uniform')"
      ]
     },
     "execution_count": 81,
     "metadata": {},
     "output_type": "execute_result"
    },
    {
     "data": {
      "text/plain": [
       "KNeighborsClassifier(algorithm='auto', leaf_size=30, metric='minkowski',\n",
       "                     metric_params=None, n_jobs=None, n_neighbors=36, p=2,\n",
       "                     weights='uniform')"
      ]
     },
     "execution_count": 81,
     "metadata": {},
     "output_type": "execute_result"
    },
    {
     "data": {
      "text/plain": [
       "KNeighborsClassifier(algorithm='auto', leaf_size=30, metric='minkowski',\n",
       "                     metric_params=None, n_jobs=None, n_neighbors=37, p=2,\n",
       "                     weights='uniform')"
      ]
     },
     "execution_count": 81,
     "metadata": {},
     "output_type": "execute_result"
    },
    {
     "data": {
      "text/plain": [
       "KNeighborsClassifier(algorithm='auto', leaf_size=30, metric='minkowski',\n",
       "                     metric_params=None, n_jobs=None, n_neighbors=38, p=2,\n",
       "                     weights='uniform')"
      ]
     },
     "execution_count": 81,
     "metadata": {},
     "output_type": "execute_result"
    },
    {
     "data": {
      "text/plain": [
       "KNeighborsClassifier(algorithm='auto', leaf_size=30, metric='minkowski',\n",
       "                     metric_params=None, n_jobs=None, n_neighbors=39, p=2,\n",
       "                     weights='uniform')"
      ]
     },
     "execution_count": 81,
     "metadata": {},
     "output_type": "execute_result"
    },
    {
     "data": {
      "text/plain": [
       "<Figure size 864x432 with 0 Axes>"
      ]
     },
     "execution_count": 81,
     "metadata": {},
     "output_type": "execute_result"
    },
    {
     "data": {
      "text/plain": [
       "[<matplotlib.lines.Line2D at 0x1a20f60358>]"
      ]
     },
     "execution_count": 81,
     "metadata": {},
     "output_type": "execute_result"
    },
    {
     "data": {
      "text/plain": [
       "Text(0.5, 1.0, 'Error Rates for different k-values')"
      ]
     },
     "execution_count": 81,
     "metadata": {},
     "output_type": "execute_result"
    },
    {
     "data": {
      "text/plain": [
       "Text(0.5, 0, 'k-value')"
      ]
     },
     "execution_count": 81,
     "metadata": {},
     "output_type": "execute_result"
    },
    {
     "data": {
      "text/plain": [
       "Text(0, 0.5, 'Mean Error')"
      ]
     },
     "execution_count": 81,
     "metadata": {},
     "output_type": "execute_result"
    },
    {
     "data": {
      "image/png": "[encoded data removed]",
      "text/plain": [
       "<Figure size 864x432 with 1 Axes>"
      ]
     },
     "metadata": {
      "needs_background": "light"
     },
     "output_type": "display_data"
    }
   ],
   "source": [
    "# Arbitrarily we chose k = 5 and it turns out to be a good choice. However, in reality we have to try mutiple values and select\n",
    "# the best one. This is what we do here:\n",
    "\n",
    "error = []\n",
    "\n",
    "# calculate the error for k values between 1 and 40\n",
    "for i in range(1, 40):\n",
    "    knn = KNeighborsClassifier(n_neighbors = i)\n",
    "    knn.fit(X_train, y_train)\n",
    "    pred_y_i = knn.predict(X_test)\n",
    "    error.append(np.mean(pred_y_i != y_test))\n",
    "    \n",
    "    \n",
    "# Now, we can plot the errors\n",
    "plt.figure(figsize = (12, 6))\n",
    "plt.plot(range(1, 40), error, color = 'red', linestyle = 'dashed', marker = 'o',\n",
    "        markerfacecolor = 'green', markersize = 10)\n",
    "\n",
    "plt.title('Error Rates for different k-values')\n",
    "plt.xlabel('k-value')\n",
    "plt.ylabel('Mean Error')\n",
    "plt.show()\n"
   ]
  },
  {
   "cell_type": "code",
   "execution_count": 82,
   "metadata": {},
   "outputs": [
    {
     "data": {
      "text/plain": [
       "KNeighborsClassifier(algorithm='auto', leaf_size=30, metric='minkowski',\n",
       "                     metric_params=None, n_jobs=None, n_neighbors=21, p=2,\n",
       "                     weights='uniform')"
      ]
     },
     "execution_count": 82,
     "metadata": {},
     "output_type": "execute_result"
    }
   ],
   "source": [
    "#create an instance\n",
    "\n",
    "My_KNN = KNeighborsClassifier(n_neighbors = 21) \n",
    "My_KNN.fit(X_train, y_train)"
   ]
  },
  {
   "cell_type": "code",
   "execution_count": 83,
   "metadata": {},
   "outputs": [],
   "source": [
    "#predict test\n",
    "y_predict = My_KNN.predict(X_test)\n",
    "\n",
    "#predict train\n",
    "y_predict_train = My_KNN.predict(X_train)"
   ]
  },
  {
   "cell_type": "code",
   "execution_count": 84,
   "metadata": {},
   "outputs": [
    {
     "name": "stdout",
     "output_type": "stream",
     "text": [
      "test data is:  0.7206477732793523\n",
      "training data is:  0.7524050632911392\n"
     ]
    }
   ],
   "source": [
    "#accuracy score\n",
    "from sklearn.metrics import accuracy_score\n",
    "\n",
    "print('test data is: ', accuracy_score(y_test, y_predict))\n",
    "print('training data is: ', accuracy_score(y_train, y_predict_train))"
   ]
  },
  {
   "cell_type": "code",
   "execution_count": 85,
   "metadata": {},
   "outputs": [],
   "source": [
    "#add to metrics df\n",
    "\n",
    "accuracydf2_A['KNN'] = [accuracy_score(y_test, y_predict), accuracy_score(y_train, y_predict_train)]\n"
   ]
  },
  {
   "cell_type": "markdown",
   "metadata": {},
   "source": [
    "# DECISION TREE"
   ]
  },
  {
   "cell_type": "code",
   "execution_count": 86,
   "metadata": {},
   "outputs": [],
   "source": [
    "# Asigning Variables\n",
    "\n",
    "X = df2.iloc[:,4:-3]\n",
    "y = df2.iloc[:,-2]"
   ]
  },
  {
   "cell_type": "code",
   "execution_count": 87,
   "metadata": {},
   "outputs": [
    {
     "data": {
      "text/plain": [
       "DecisionTreeClassifier(ccp_alpha=0.0, class_weight=None, criterion='gini',\n",
       "                       max_depth=3, max_features=None, max_leaf_nodes=None,\n",
       "                       min_impurity_decrease=0.0, min_impurity_split=None,\n",
       "                       min_samples_leaf=7, min_samples_split=2,\n",
       "                       min_weight_fraction_leaf=0.0, presort='deprecated',\n",
       "                       random_state=None, splitter='best')"
      ]
     },
     "execution_count": 87,
     "metadata": {},
     "output_type": "execute_result"
    }
   ],
   "source": [
    "from sklearn.model_selection import train_test_split as SPLIT\n",
    "\n",
    "X_train, X_test, y_train, y_test = SPLIT(X, y, test_size = .2)\n",
    "\n",
    "from sklearn.tree import DecisionTreeClassifier\n",
    "\n",
    "My_Tree = DecisionTreeClassifier(max_depth = 3 ,min_samples_leaf = 7)\n",
    "\n",
    "My_Tree.fit(X_train, y_train)"
   ]
  },
  {
   "cell_type": "code",
   "execution_count": 88,
   "metadata": {},
   "outputs": [
    {
     "name": "stdout",
     "output_type": "stream",
     "text": [
      "test 0.7024291497975709\n",
      "train 0.710379746835443\n"
     ]
    }
   ],
   "source": [
    "# print accuracy scores\n",
    "\n",
    "y_predict = My_Tree.predict(X_test)\n",
    "y_predict_train = My_Tree.predict(X_train)\n",
    "\n",
    "from sklearn.metrics import accuracy_score\n",
    "\n",
    "print(\"test\", accuracy_score(y_test, y_predict))\n",
    "print(\"train\", accuracy_score(y_train, y_predict_train))"
   ]
  },
  {
   "cell_type": "code",
   "execution_count": 89,
   "metadata": {},
   "outputs": [],
   "source": [
    "#add to metrics df\n",
    "\n",
    "accuracydf2_A['Decision Tree'] = [accuracy_score(y_test, y_predict), accuracy_score(y_train, y_predict_train)]\n"
   ]
  },
  {
   "cell_type": "markdown",
   "metadata": {},
   "source": [
    "## SVM - Only for Binary"
   ]
  },
  {
   "cell_type": "code",
   "execution_count": 90,
   "metadata": {},
   "outputs": [],
   "source": [
    "# Asigning Variables\n",
    "\n",
    "X = df2.iloc[:,4:-3]\n",
    "y = df2.iloc[:,-2]"
   ]
  },
  {
   "cell_type": "markdown",
   "metadata": {},
   "source": [
    "## SVM Parameter Tuning"
   ]
  },
  {
   "cell_type": "code",
   "execution_count": 91,
   "metadata": {},
   "outputs": [
    {
     "data": {
      "text/plain": [
       "SVC(C=0.1, break_ties=False, cache_size=200, class_weight=None, coef0=0.0,\n",
       "    decision_function_shape='ovr', degree=3, gamma='scale', kernel='linear',\n",
       "    max_iter=-1, probability=False, random_state=None, shrinking=True,\n",
       "    tol=0.001, verbose=False)"
      ]
     },
     "execution_count": 91,
     "metadata": {},
     "output_type": "execute_result"
    },
    {
     "name": "stdout",
     "output_type": "stream",
     "text": [
      "SVC accuracy Test Data 0.1 =  0.7530364372469636\n",
      "SVC accuracy Training Data 0.1 =  0.7731645569620254\n",
      "Error = : 0.02\n"
     ]
    },
    {
     "data": {
      "text/plain": [
       "SVC(C=0.5, break_ties=False, cache_size=200, class_weight=None, coef0=0.0,\n",
       "    decision_function_shape='ovr', degree=3, gamma='scale', kernel='linear',\n",
       "    max_iter=-1, probability=False, random_state=None, shrinking=True,\n",
       "    tol=0.001, verbose=False)"
      ]
     },
     "execution_count": 91,
     "metadata": {},
     "output_type": "execute_result"
    },
    {
     "name": "stdout",
     "output_type": "stream",
     "text": [
      "SVC accuracy Test Data 0.5 =  0.7591093117408907\n",
      "SVC accuracy Training Data 0.5 =  0.7681012658227848\n",
      "Error = : 0.009\n"
     ]
    },
    {
     "data": {
      "text/plain": [
       "SVC(C=1, break_ties=False, cache_size=200, class_weight=None, coef0=0.0,\n",
       "    decision_function_shape='ovr', degree=3, gamma='scale', kernel='linear',\n",
       "    max_iter=-1, probability=False, random_state=None, shrinking=True,\n",
       "    tol=0.001, verbose=False)"
      ]
     },
     "execution_count": 91,
     "metadata": {},
     "output_type": "execute_result"
    },
    {
     "name": "stdout",
     "output_type": "stream",
     "text": [
      "SVC accuracy Test Data 1 =  0.7550607287449392\n",
      "SVC accuracy Training Data 1 =  0.7744303797468355\n",
      "Error = : 0.019\n"
     ]
    },
    {
     "data": {
      "text/plain": [
       "SVC(C=5, break_ties=False, cache_size=200, class_weight=None, coef0=0.0,\n",
       "    decision_function_shape='ovr', degree=3, gamma='scale', kernel='linear',\n",
       "    max_iter=-1, probability=False, random_state=None, shrinking=True,\n",
       "    tol=0.001, verbose=False)"
      ]
     },
     "execution_count": 91,
     "metadata": {},
     "output_type": "execute_result"
    },
    {
     "name": "stdout",
     "output_type": "stream",
     "text": [
      "SVC accuracy Test Data 5 =  0.7763157894736842\n",
      "SVC accuracy Training Data 5 =  0.7640506329113924\n",
      "Error = : 0.012\n"
     ]
    }
   ],
   "source": [
    "c_parameters = [.1,.5,1,5]\n",
    "\n",
    "for c in c_parameters:\n",
    "   # splitting data\n",
    "    from sklearn.model_selection import train_test_split as SPLIT\n",
    "\n",
    "    X_train, X_test, y_train, y_test = SPLIT(X, y, test_size = .2)\n",
    "\n",
    "    # Developing Model\n",
    "    from sklearn.svm import SVC\n",
    "\n",
    "    My_SVC = SVC(kernel = 'linear', C = c)\n",
    "\n",
    "    My_SVC.fit(X_train, y_train)\n",
    "    \n",
    "    y_predict = My_SVC.predict(X_test)\n",
    "\n",
    "    y_predict_train = My_SVC.predict(X_train)\n",
    "    \n",
    "    from sklearn.metrics import accuracy_score\n",
    "    \n",
    "    print(f'SVC accuracy Test Data {c} = ', accuracy_score(y_test, y_predict))\n",
    "\n",
    "    print(f'SVC accuracy Training Data {c} = ', accuracy_score(y_train, y_predict_train))\n",
    "    \n",
    "    print('Error = :', round(abs(accuracy_score(y_test, y_predict) - accuracy_score(y_train, y_predict_train)),3))\n"
   ]
  },
  {
   "cell_type": "code",
   "execution_count": 92,
   "metadata": {},
   "outputs": [
    {
     "data": {
      "text/plain": [
       "SVC(C=0.1, break_ties=False, cache_size=200, class_weight=None, coef0=0.0,\n",
       "    decision_function_shape='ovr', degree=3, gamma='scale', kernel='linear',\n",
       "    max_iter=-1, probability=False, random_state=None, shrinking=True,\n",
       "    tol=0.001, verbose=False)"
      ]
     },
     "execution_count": 92,
     "metadata": {},
     "output_type": "execute_result"
    }
   ],
   "source": [
    "# splitting data\n",
    "from sklearn.model_selection import train_test_split as SPLIT\n",
    "\n",
    "X_train, X_test, y_train, y_test = SPLIT(X, y, test_size = .2)\n",
    "\n",
    "# Developing Model\n",
    "from sklearn.svm import SVC\n",
    "\n",
    "My_SVC = SVC(kernel = 'linear', C = .1)\n",
    "\n",
    "My_SVC.fit(X_train, y_train)"
   ]
  },
  {
   "cell_type": "code",
   "execution_count": 93,
   "metadata": {},
   "outputs": [],
   "source": [
    "y_predict = My_SVC.predict(X_test)\n",
    "\n",
    "y_predict_train = My_SVC.predict(X_train)"
   ]
  },
  {
   "cell_type": "code",
   "execution_count": 94,
   "metadata": {},
   "outputs": [],
   "source": [
    "from sklearn.metrics import accuracy_score"
   ]
  },
  {
   "cell_type": "code",
   "execution_count": 95,
   "metadata": {},
   "outputs": [
    {
     "name": "stdout",
     "output_type": "stream",
     "text": [
      "SVC accuracy on Test Data =  0.7844129554655871\n",
      "SVC accuracy on Training Data =  0.7673417721518987\n"
     ]
    }
   ],
   "source": [
    "print('SVC accuracy on Test Data = ', accuracy_score(y_test, y_predict))\n",
    "\n",
    "print('SVC accuracy on Training Data = ', accuracy_score(y_train, y_predict_train))\n"
   ]
  },
  {
   "cell_type": "code",
   "execution_count": 96,
   "metadata": {},
   "outputs": [],
   "source": [
    "#add to metrics df\n",
    "\n",
    "accuracydf2_A['SVM'] = [accuracy_score(y_test, y_predict), accuracy_score(y_train, y_predict_train)]\n"
   ]
  },
  {
   "cell_type": "markdown",
   "metadata": {},
   "source": [
    "# Dummy Classifier for SVC Model"
   ]
  },
  {
   "cell_type": "code",
   "execution_count": 97,
   "metadata": {},
   "outputs": [
    {
     "name": "stdout",
     "output_type": "stream",
     "text": [
      "Original labels: season\n",
      "2006/2007    1\n",
      "2006/2007    1\n",
      "2006/2007    1\n",
      "2006/2007    1\n",
      "2006/2007    1\n",
      "2006/2007    0\n",
      "2006/2007    1\n",
      "2006/2007    1\n",
      "2006/2007    1\n",
      "2006/2007    1\n",
      "2006/2007    0\n",
      "2006/2007    1\n",
      "2006/2007    0\n",
      "2006/2007    0\n",
      "2006/2007    0\n",
      "2006/2007    0\n",
      "2006/2007    1\n",
      "2006/2007    1\n",
      "2006/2007    1\n",
      "2006/2007    1\n",
      "2006/2007    1\n",
      "2006/2007    0\n",
      "2006/2007    0\n",
      "2006/2007    1\n",
      "2006/2007    1\n",
      "2006/2007    0\n",
      "2006/2007    0\n",
      "2006/2007    0\n",
      "2006/2007    1\n",
      "Name: win, dtype: int64\n",
      "New binary labels: season\n",
      "2006/2007    1\n",
      "2006/2007    1\n",
      "2006/2007    1\n",
      "2006/2007    1\n",
      "2006/2007    1\n",
      "2006/2007    0\n",
      "2006/2007    1\n",
      "2006/2007    1\n",
      "2006/2007    1\n",
      "2006/2007    1\n",
      "2006/2007    0\n",
      "2006/2007    1\n",
      "2006/2007    0\n",
      "2006/2007    0\n",
      "2006/2007    0\n",
      "2006/2007    0\n",
      "2006/2007    1\n",
      "2006/2007    1\n",
      "2006/2007    1\n",
      "2006/2007    1\n",
      "2006/2007    1\n",
      "2006/2007    0\n",
      "2006/2007    0\n",
      "2006/2007    1\n",
      "2006/2007    1\n",
      "2006/2007    0\n",
      "2006/2007    0\n",
      "2006/2007    0\n",
      "2006/2007    1\n",
      "Name: win, dtype: int64\n"
     ]
    }
   ],
   "source": [
    "y_binary_imbalanced = y.copy()\n",
    "\n",
    "y_binary_imbalanced[y_binary_imbalanced != 1] = 0\n",
    "\n",
    "print ('Original labels:', y[1:30])\n",
    "\n",
    "print ('New binary labels:', y_binary_imbalanced[1:30])"
   ]
  },
  {
   "cell_type": "code",
   "execution_count": 98,
   "metadata": {},
   "outputs": [
    {
     "data": {
      "text/plain": [
       "array([0, 0, 0, 0, 0, 0, 0, 0, 0, 0, 0, 0, 0, 0, 0, 0, 0, 0, 0, 0, 0, 0,\n",
       "       0, 0, 0, 0, 0, 0, 0, 0, 0, 0, 0, 0, 0, 0, 0, 0, 0, 0, 0, 0, 0, 0,\n",
       "       0, 0, 0, 0, 0, 0, 0, 0, 0, 0, 0, 0, 0, 0, 0, 0, 0, 0, 0, 0, 0, 0,\n",
       "       0, 0, 0, 0, 0, 0, 0, 0, 0, 0, 0, 0, 0, 0, 0, 0, 0, 0, 0, 0, 0, 0,\n",
       "       0, 0, 0, 0, 0, 0, 0, 0, 0, 0, 0, 0, 0, 0, 0, 0, 0, 0, 0, 0, 0, 0,\n",
       "       0, 0, 0, 0, 0, 0, 0, 0, 0, 0, 0, 0, 0, 0, 0, 0, 0, 0, 0, 0, 0, 0,\n",
       "       0, 0, 0, 0, 0, 0, 0, 0, 0, 0, 0, 0, 0, 0, 0, 0, 0, 0, 0, 0, 0, 0,\n",
       "       0, 0, 0, 0, 0, 0, 0, 0, 0, 0, 0, 0, 0, 0, 0, 0, 0, 0, 0, 0, 0, 0,\n",
       "       0, 0, 0, 0, 0, 0, 0, 0, 0, 0, 0, 0, 0, 0, 0, 0, 0, 0, 0, 0, 0, 0,\n",
       "       0, 0, 0, 0, 0, 0, 0, 0, 0, 0, 0, 0, 0, 0, 0, 0, 0, 0, 0, 0, 0, 0,\n",
       "       0, 0, 0, 0, 0, 0, 0, 0, 0, 0, 0, 0, 0, 0, 0, 0, 0, 0, 0, 0, 0, 0,\n",
       "       0, 0, 0, 0, 0, 0, 0, 0, 0, 0, 0, 0, 0, 0, 0, 0, 0, 0, 0, 0, 0, 0,\n",
       "       0, 0, 0, 0, 0, 0, 0, 0, 0, 0, 0, 0, 0, 0, 0, 0, 0, 0, 0, 0, 0, 0,\n",
       "       0, 0, 0, 0, 0, 0, 0, 0, 0, 0, 0, 0, 0, 0, 0, 0, 0, 0, 0, 0, 0, 0,\n",
       "       0, 0, 0, 0, 0, 0, 0, 0, 0, 0, 0, 0, 0, 0, 0, 0, 0, 0, 0, 0, 0, 0,\n",
       "       0, 0, 0, 0, 0, 0, 0, 0, 0, 0, 0, 0, 0, 0, 0, 0, 0, 0, 0, 0, 0, 0,\n",
       "       0, 0, 0, 0, 0, 0, 0, 0, 0, 0, 0, 0, 0, 0, 0, 0, 0, 0, 0, 0, 0, 0,\n",
       "       0, 0, 0, 0, 0, 0, 0, 0, 0, 0, 0, 0, 0, 0, 0, 0, 0, 0, 0, 0, 0, 0,\n",
       "       0, 0, 0, 0, 0, 0, 0, 0, 0, 0, 0, 0, 0, 0, 0, 0, 0, 0, 0, 0, 0, 0,\n",
       "       0, 0, 0, 0, 0, 0, 0, 0, 0, 0, 0, 0, 0, 0, 0, 0, 0, 0, 0, 0, 0, 0,\n",
       "       0, 0, 0, 0, 0, 0, 0, 0, 0, 0, 0, 0, 0, 0, 0, 0, 0, 0, 0, 0, 0, 0,\n",
       "       0, 0, 0, 0, 0, 0, 0, 0, 0, 0, 0, 0, 0, 0, 0, 0, 0, 0, 0, 0, 0, 0,\n",
       "       0, 0, 0, 0, 0, 0, 0, 0, 0, 0, 0, 0, 0, 0, 0, 0, 0, 0, 0, 0, 0, 0,\n",
       "       0, 0, 0, 0, 0, 0, 0, 0, 0, 0, 0, 0, 0, 0, 0, 0, 0, 0, 0, 0, 0, 0,\n",
       "       0, 0, 0, 0, 0, 0, 0, 0, 0, 0, 0, 0, 0, 0, 0, 0, 0, 0, 0, 0, 0, 0,\n",
       "       0, 0, 0, 0, 0, 0, 0, 0, 0, 0, 0, 0, 0, 0, 0, 0, 0, 0, 0, 0, 0, 0,\n",
       "       0, 0, 0, 0, 0, 0, 0, 0, 0, 0, 0, 0, 0, 0, 0, 0, 0, 0, 0, 0, 0, 0,\n",
       "       0, 0, 0, 0, 0, 0, 0, 0, 0, 0, 0, 0, 0, 0, 0, 0, 0, 0, 0, 0, 0, 0,\n",
       "       0, 0, 0, 0, 0, 0, 0, 0, 0, 0, 0, 0, 0, 0, 0, 0, 0, 0, 0, 0, 0, 0,\n",
       "       0, 0, 0, 0, 0, 0, 0, 0, 0, 0, 0, 0, 0, 0, 0, 0, 0, 0, 0, 0, 0, 0,\n",
       "       0, 0, 0, 0, 0, 0, 0, 0, 0, 0, 0, 0, 0, 0, 0, 0, 0, 0, 0, 0, 0, 0,\n",
       "       0, 0, 0, 0, 0, 0, 0, 0, 0, 0, 0, 0, 0, 0, 0, 0, 0, 0, 0, 0, 0, 0,\n",
       "       0, 0, 0, 0, 0, 0, 0, 0, 0, 0, 0, 0, 0, 0, 0, 0, 0, 0, 0, 0, 0, 0,\n",
       "       0, 0, 0, 0, 0, 0, 0, 0, 0, 0, 0, 0, 0, 0, 0, 0, 0, 0, 0, 0, 0, 0,\n",
       "       0, 0, 0, 0, 0, 0, 0, 0, 0, 0, 0, 0, 0, 0, 0, 0, 0, 0, 0, 0, 0, 0,\n",
       "       0, 0, 0, 0, 0, 0, 0, 0, 0, 0, 0, 0, 0, 0, 0, 0, 0, 0, 0, 0, 0, 0,\n",
       "       0, 0, 0, 0, 0, 0, 0, 0, 0, 0, 0, 0, 0, 0, 0, 0, 0, 0, 0, 0, 0, 0,\n",
       "       0, 0, 0, 0, 0, 0, 0, 0, 0, 0, 0, 0, 0, 0, 0, 0, 0, 0, 0, 0, 0, 0,\n",
       "       0, 0, 0, 0, 0, 0, 0, 0, 0, 0, 0, 0, 0, 0, 0, 0, 0, 0, 0, 0, 0, 0,\n",
       "       0, 0, 0, 0, 0, 0, 0, 0, 0, 0, 0, 0, 0, 0, 0, 0, 0, 0, 0, 0, 0, 0,\n",
       "       0, 0, 0, 0, 0, 0, 0, 0, 0, 0, 0, 0, 0, 0, 0, 0, 0, 0, 0, 0, 0, 0,\n",
       "       0, 0, 0, 0, 0, 0, 0, 0, 0, 0, 0, 0, 0, 0, 0, 0, 0, 0, 0, 0, 0, 0,\n",
       "       0, 0, 0, 0, 0, 0, 0, 0, 0, 0, 0, 0, 0, 0, 0, 0, 0, 0, 0, 0, 0, 0,\n",
       "       0, 0, 0, 0, 0, 0, 0, 0, 0, 0, 0, 0, 0, 0, 0, 0, 0, 0, 0, 0, 0, 0,\n",
       "       0, 0, 0, 0, 0, 0, 0, 0, 0, 0, 0, 0, 0, 0, 0, 0, 0, 0, 0, 0])"
      ]
     },
     "execution_count": 98,
     "metadata": {},
     "output_type": "execute_result"
    }
   ],
   "source": [
    "from sklearn.dummy import DummyClassifier\n",
    "\n",
    "# Negative class (0) is most frequent\n",
    "dummy_majority = DummyClassifier(strategy = 'most_frequent').fit(X_train, y_train)\n",
    "\n",
    "#  The dummy 'most_frequent' classifier always predicts class 0\n",
    "y_dummy_predictions = dummy_majority.predict(X_test)\n",
    "\n",
    "y_dummy_predictions"
   ]
  },
  {
   "cell_type": "code",
   "execution_count": 99,
   "metadata": {},
   "outputs": [
    {
     "name": "stdout",
     "output_type": "stream",
     "text": [
      "Accuracy score of Dummy Classifier =  0.5323886639676113\n"
     ]
    }
   ],
   "source": [
    "print (\"Accuracy score of Dummy Classifier = \", accuracy_score(y_test, y_dummy_predictions))"
   ]
  },
  {
   "cell_type": "markdown",
   "metadata": {
    "collapsed": true
   },
   "source": [
    "# GNB"
   ]
  },
  {
   "cell_type": "code",
   "execution_count": 100,
   "metadata": {},
   "outputs": [],
   "source": [
    "# Asigning Variables\n",
    "\n",
    "X = df2.iloc[:,4:-3]\n",
    "y = df2.iloc[:,-2]"
   ]
  },
  {
   "cell_type": "code",
   "execution_count": 101,
   "metadata": {},
   "outputs": [],
   "source": [
    "from sklearn.model_selection import train_test_split as SPLIT\n",
    "\n",
    "X_train, X_test, y_train, y_test = SPLIT(X, y)"
   ]
  },
  {
   "cell_type": "code",
   "execution_count": 102,
   "metadata": {},
   "outputs": [],
   "source": [
    "# Import Libraries\n",
    "# from sklear.naive_bayes import GaussianNB\n",
    "\n",
    "from sklearn.naive_bayes import GaussianNB\n",
    "\n",
    "My_GNB = GaussianNB().fit(X_train,y_train)\n"
   ]
  },
  {
   "cell_type": "code",
   "execution_count": 103,
   "metadata": {},
   "outputs": [
    {
     "name": "stdout",
     "output_type": "stream",
     "text": [
      "Accuracy Test =  0.6242914979757085\n",
      "Accuracy Train =  0.6292195517148258\n"
     ]
    }
   ],
   "source": [
    "# make prediction on training and test data \n",
    "y_predict = My_GNB.predict(X_test)\n",
    "y_predict_train = My_GNB.predict(X_train)\n",
    "\n",
    "\n",
    "#accuracy score\n",
    "from sklearn.metrics import accuracy_score\n",
    "\n",
    "print(\"Accuracy Test = \", accuracy_score(y_test, y_predict))\n",
    "print(\"Accuracy Train = \", accuracy_score(y_train, y_predict_train))"
   ]
  },
  {
   "cell_type": "code",
   "execution_count": 104,
   "metadata": {},
   "outputs": [],
   "source": [
    "#add to metrics df\n",
    "\n",
    "accuracydf2_A['GNB'] = [accuracy_score(y_test, y_predict), accuracy_score(y_train, y_predict_train)]\n"
   ]
  },
  {
   "cell_type": "markdown",
   "metadata": {
    "collapsed": true
   },
   "source": [
    "# Random Forest"
   ]
  },
  {
   "cell_type": "code",
   "execution_count": 105,
   "metadata": {},
   "outputs": [],
   "source": [
    "# Asigning Variables\n",
    "\n",
    "X = df2.iloc[:,4:-3]\n",
    "y = df2.iloc[:,-2]"
   ]
  },
  {
   "cell_type": "code",
   "execution_count": 106,
   "metadata": {},
   "outputs": [],
   "source": [
    "# import RandomForestClassifier from sklearn.ensemble module\n",
    "\n",
    "from sklearn.ensemble import RandomForestClassifier as FOREST\n",
    "\n",
    "k = 10\n",
    "\n",
    "My_Forest = FOREST(max_depth = 4 ,min_samples_leaf = 10, max_features = k).fit(X_train, y_train)\n"
   ]
  },
  {
   "cell_type": "code",
   "execution_count": 107,
   "metadata": {},
   "outputs": [
    {
     "name": "stdout",
     "output_type": "stream",
     "text": [
      "Test 0.7263157894736842\n",
      "Train 0.7491223332433162\n"
     ]
    }
   ],
   "source": [
    "y_predict = My_Forest.predict(X_test)\n",
    "y_predict_train = My_Forest.predict(X_train)\n",
    "\n",
    "print('Test', accuracy_score(y_test, y_predict))\n",
    "print('Train', accuracy_score(y_train, y_predict_train))"
   ]
  },
  {
   "cell_type": "code",
   "execution_count": 108,
   "metadata": {},
   "outputs": [],
   "source": [
    "#add to metrics df\n",
    "\n",
    "accuracydf2_A['Rand Forest'] = [accuracy_score(y_test, y_predict), accuracy_score(y_train, y_predict_train)]\n"
   ]
  },
  {
   "cell_type": "markdown",
   "metadata": {
    "collapsed": true
   },
   "source": [
    "# Gradient Boosted Decision Trees"
   ]
  },
  {
   "cell_type": "code",
   "execution_count": 109,
   "metadata": {},
   "outputs": [],
   "source": [
    "# Asigning Variables\n",
    "\n",
    "X = df2.iloc[:,4:-3]\n",
    "y = df2.iloc[:,-2]"
   ]
  },
  {
   "cell_type": "code",
   "execution_count": 110,
   "metadata": {},
   "outputs": [],
   "source": [
    "# Import Libraries\n",
    "# from sklear.ensemble import GradientBoostingClassifier\n",
    "from sklearn.ensemble import GradientBoostingClassifier as GBDT\n",
    "\n",
    "# set the random_state = 0\n",
    "My_GBDT = GBDT().fit(X_train, y_train)"
   ]
  },
  {
   "cell_type": "code",
   "execution_count": 111,
   "metadata": {},
   "outputs": [
    {
     "name": "stdout",
     "output_type": "stream",
     "text": [
      "Accuracy Score on Test Data =  0.7578947368421053\n",
      "Accuracy Score on Train Data =  0.8096138266270592\n"
     ]
    }
   ],
   "source": [
    "from sklearn.metrics import accuracy_score\n",
    "\n",
    "# make prediction on training and test data \n",
    "\n",
    "y_pred = My_GBDT.predict(X_test)\n",
    "\n",
    "y_pred_train = My_GBDT.predict(X_train)\n",
    "\n",
    "# print accuracy_score for your predictions\n",
    "print (\"Accuracy Score on Test Data = \", accuracy_score(y_test, y_pred))\n",
    "print (\"Accuracy Score on Train Data = \", accuracy_score(y_train, y_pred_train))"
   ]
  },
  {
   "cell_type": "code",
   "execution_count": 112,
   "metadata": {},
   "outputs": [],
   "source": [
    "# set the values for learning_rate and max_depth to control the performance of the algorithm\n",
    "# ReDo it for different values\n",
    "\n",
    "My_GBDT_2 = GBDT(learning_rate = .1, max_depth = 2).fit(X_train, y_train)"
   ]
  },
  {
   "cell_type": "code",
   "execution_count": 113,
   "metadata": {},
   "outputs": [
    {
     "name": "stdout",
     "output_type": "stream",
     "text": [
      "Accuracy Score on Test Data =  0.7643724696356275\n",
      "Accuracy Score on Train Data =  0.7799081825546854\n"
     ]
    }
   ],
   "source": [
    "# make prediction on training and test data \n",
    "\n",
    "y_pred = My_GBDT_2.predict(X_test)\n",
    "\n",
    "y_pred_train = My_GBDT_2.predict(X_train)\n",
    "\n",
    "# print accuracy_score for your predictions\n",
    "print (\"Accuracy Score on Test Data = \", accuracy_score(y_test, y_pred))\n",
    "print (\"Accuracy Score on Train Data = \", accuracy_score(y_train, y_pred_train))"
   ]
  },
  {
   "cell_type": "code",
   "execution_count": 114,
   "metadata": {},
   "outputs": [],
   "source": [
    "#add to metrics df\n",
    "\n",
    "accuracydf2_A['GB Dec Tree'] = [accuracy_score(y_test, y_predict), accuracy_score(y_train, y_predict_train)]\n"
   ]
  },
  {
   "cell_type": "markdown",
   "metadata": {
    "collapsed": true
   },
   "source": [
    "# Artificial Neural Network"
   ]
  },
  {
   "cell_type": "code",
   "execution_count": 115,
   "metadata": {},
   "outputs": [],
   "source": [
    "# Asigning Variables\n",
    "\n",
    "X = df2.iloc[:,4:-3]\n",
    "y = df2.iloc[:,-2]"
   ]
  },
  {
   "cell_type": "code",
   "execution_count": 116,
   "metadata": {},
   "outputs": [],
   "source": [
    "# Import Libraries\n",
    "\n",
    "from sklearn.neural_network import MLPClassifier\n",
    "from sklearn.preprocessing import MinMaxScaler"
   ]
  },
  {
   "cell_type": "markdown",
   "metadata": {},
   "source": [
    "## ANN Paramater Tuning"
   ]
  },
  {
   "cell_type": "code",
   "execution_count": 117,
   "metadata": {},
   "outputs": [
    {
     "name": "stdout",
     "output_type": "stream",
     "text": [
      "Accuracy Score on Test Data = 1  0.7724696356275303\n",
      "Accuracy Score on Train Data = 1 0.7812584391034296\n",
      "Error 1 = : -0.008788803475899276\n",
      "Accuracy Score on Test Data = 3  0.7748987854251013\n",
      "Accuracy Score on Train Data = 3 0.7780178233864434\n",
      "Error 3 = : -0.0031190379613421637\n",
      "Accuracy Score on Test Data = 5  0.7781376518218623\n",
      "Accuracy Score on Train Data = 5 0.7753173102889549\n",
      "Error 5 = : 0.0028203415329074444\n",
      "Accuracy Score on Test Data = 10  0.7676113360323886\n",
      "Accuracy Score on Train Data = 10 0.7672157709964893\n",
      "Error 10 = : 0.0003955650358993257\n"
     ]
    }
   ],
   "source": [
    "a_parameters = [1, 3, 5, 10]\n",
    "\n",
    "for a in a_parameters:\n",
    "\n",
    "    \n",
    "    # Scale Data\n",
    "\n",
    "    Scaler = MinMaxScaler()\n",
    "\n",
    "    X_train_scaled = Scaler.fit_transform(X_train)\n",
    "    X_test_scaled = Scaler.transform(X_test)\n",
    "\n",
    "    # Build Model\n",
    "    My_ANN = MLPClassifier(activation = 'tanh', hidden_layer_sizes = [10, 10], alpha = a, solver = 'lbfgs').fit(X_train_scaled, y_train)\n",
    "\n",
    "    # make prediction on training and test data \n",
    "\n",
    "    y_pred = My_ANN.predict(X_test_scaled)\n",
    "\n",
    "    y_pred_train = My_ANN.predict(X_train_scaled)\n",
    "\n",
    "    # print accuracy_score for your predictions\n",
    "    print (f\"Accuracy Score on Test Data = {a} \", accuracy_score(y_test, y_pred))\n",
    "    print (f\"Accuracy Score on Train Data = {a}\", accuracy_score(y_train, y_pred_train))\n",
    "    print(f'Error {a} = :', accuracy_score(y_test, y_pred) - accuracy_score(y_train, y_pred_train))"
   ]
  },
  {
   "cell_type": "code",
   "execution_count": 118,
   "metadata": {},
   "outputs": [],
   "source": [
    "# Scale Data\n",
    "\n",
    "Scaler = MinMaxScaler()\n",
    "\n",
    "X_train_scaled = Scaler.fit_transform(X_train)\n",
    "X_test_scaled = Scaler.transform(X_test)"
   ]
  },
  {
   "cell_type": "code",
   "execution_count": 119,
   "metadata": {},
   "outputs": [],
   "source": [
    "# Build Model\n",
    "My_ANN = MLPClassifier(activation = 'tanh', hidden_layer_sizes = [10, 10], alpha = 3, solver = 'lbfgs').fit(X_train_scaled, y_train)"
   ]
  },
  {
   "cell_type": "code",
   "execution_count": 120,
   "metadata": {},
   "outputs": [
    {
     "name": "stdout",
     "output_type": "stream",
     "text": [
      "Accuracy Score on Test Data =  0.7781376518218623\n",
      "Accuracy Score on Train Data =  0.77882797731569\n"
     ]
    }
   ],
   "source": [
    "# make prediction on training and test data \n",
    "\n",
    "y_pred = My_ANN.predict(X_test_scaled)\n",
    "\n",
    "y_pred_train = My_ANN.predict(X_train_scaled)\n",
    "\n",
    "# print accuracy_score for your predictions\n",
    "print (\"Accuracy Score on Test Data = \", accuracy_score(y_test, y_pred))\n",
    "print (\"Accuracy Score on Train Data = \", accuracy_score(y_train, y_pred_train))"
   ]
  },
  {
   "cell_type": "code",
   "execution_count": 121,
   "metadata": {},
   "outputs": [],
   "source": [
    "# Add results to metrics df\n",
    "\n",
    "accuracydf2_A['ANN'] = [accuracy_score(y_test, y_predict), accuracy_score(y_train, y_predict_train)]"
   ]
  },
  {
   "cell_type": "code",
   "execution_count": 122,
   "metadata": {},
   "outputs": [
    {
     "data": {
      "text/html": [
       "<div>\n",
       "<style scoped>\n",
       "    .dataframe tbody tr th:only-of-type {\n",
       "        vertical-align: middle;\n",
       "    }\n",
       "\n",
       "    .dataframe tbody tr th {\n",
       "        vertical-align: top;\n",
       "    }\n",
       "\n",
       "    .dataframe thead th {\n",
       "        text-align: right;\n",
       "    }\n",
       "</style>\n",
       "<table border=\"1\" class=\"dataframe\">\n",
       "  <thead>\n",
       "    <tr style=\"text-align: right;\">\n",
       "      <th></th>\n",
       "      <th>MLR</th>\n",
       "      <th>Ridge</th>\n",
       "      <th>Ridge - Feature Scale</th>\n",
       "      <th>Ridge - Poly Features</th>\n",
       "      <th>Lasso</th>\n",
       "      <th>Lasso - Feature Scaling</th>\n",
       "    </tr>\n",
       "  </thead>\n",
       "  <tbody>\n",
       "    <tr>\n",
       "      <th>Test</th>\n",
       "      <td>0.324920</td>\n",
       "      <td>0.317923</td>\n",
       "      <td>0.329071</td>\n",
       "      <td>0.354378</td>\n",
       "      <td>0.279093</td>\n",
       "      <td>-0.001454</td>\n",
       "    </tr>\n",
       "    <tr>\n",
       "      <th>Train</th>\n",
       "      <td>0.351813</td>\n",
       "      <td>0.358007</td>\n",
       "      <td>0.329965</td>\n",
       "      <td>0.348393</td>\n",
       "      <td>0.285807</td>\n",
       "      <td>0.000000</td>\n",
       "    </tr>\n",
       "  </tbody>\n",
       "</table>\n",
       "</div>"
      ],
      "text/plain": [
       "            MLR     Ridge  Ridge - Feature Scale  Ridge - Poly Features  \\\n",
       "Test   0.324920  0.317923               0.329071               0.354378   \n",
       "Train  0.351813  0.358007               0.329965               0.348393   \n",
       "\n",
       "          Lasso  Lasso - Feature Scaling  \n",
       "Test   0.279093                -0.001454  \n",
       "Train  0.285807                 0.000000  "
      ]
     },
     "execution_count": 122,
     "metadata": {},
     "output_type": "execute_result"
    }
   ],
   "source": [
    "rsquaresdf2_A.rename(index = {0: \"Test\", 1:\"Train\"}, inplace = True)\n",
    "rsquaresdf2_A"
   ]
  },
  {
   "cell_type": "code",
   "execution_count": 123,
   "metadata": {
    "scrolled": false
   },
   "outputs": [
    {
     "data": {
      "text/html": [
       "<div>\n",
       "<style scoped>\n",
       "    .dataframe tbody tr th:only-of-type {\n",
       "        vertical-align: middle;\n",
       "    }\n",
       "\n",
       "    .dataframe tbody tr th {\n",
       "        vertical-align: top;\n",
       "    }\n",
       "\n",
       "    .dataframe thead th {\n",
       "        text-align: right;\n",
       "    }\n",
       "</style>\n",
       "<table border=\"1\" class=\"dataframe\">\n",
       "  <thead>\n",
       "    <tr style=\"text-align: right;\">\n",
       "      <th></th>\n",
       "      <th>KNN</th>\n",
       "      <th>Decision Tree</th>\n",
       "      <th>SVM</th>\n",
       "      <th>GNB</th>\n",
       "      <th>Rand Forest</th>\n",
       "      <th>GB Dec Tree</th>\n",
       "      <th>ANN</th>\n",
       "    </tr>\n",
       "  </thead>\n",
       "  <tbody>\n",
       "    <tr>\n",
       "      <th>Test</th>\n",
       "      <td>0.720648</td>\n",
       "      <td>0.702429</td>\n",
       "      <td>0.784413</td>\n",
       "      <td>0.624291</td>\n",
       "      <td>0.726316</td>\n",
       "      <td>0.726316</td>\n",
       "      <td>0.726316</td>\n",
       "    </tr>\n",
       "    <tr>\n",
       "      <th>Train</th>\n",
       "      <td>0.752405</td>\n",
       "      <td>0.710380</td>\n",
       "      <td>0.767342</td>\n",
       "      <td>0.629220</td>\n",
       "      <td>0.749122</td>\n",
       "      <td>0.749122</td>\n",
       "      <td>0.749122</td>\n",
       "    </tr>\n",
       "  </tbody>\n",
       "</table>\n",
       "</div>"
      ],
      "text/plain": [
       "            KNN  Decision Tree       SVM       GNB  Rand Forest  GB Dec Tree  \\\n",
       "Test   0.720648       0.702429  0.784413  0.624291     0.726316     0.726316   \n",
       "Train  0.752405       0.710380  0.767342  0.629220     0.749122     0.749122   \n",
       "\n",
       "            ANN  \n",
       "Test   0.726316  \n",
       "Train  0.749122  "
      ]
     },
     "execution_count": 123,
     "metadata": {},
     "output_type": "execute_result"
    }
   ],
   "source": [
    "accuracydf2_A.rename(index = {0: \"Test\", 1:\"Train\"}, inplace = True)\n",
    "accuracydf2_A"
   ]
  },
  {
   "cell_type": "markdown",
   "metadata": {},
   "source": [
    "# Cross-Validation"
   ]
  },
  {
   "cell_type": "code",
   "execution_count": 124,
   "metadata": {},
   "outputs": [
    {
     "name": "stdout",
     "output_type": "stream",
     "text": [
      "CV_scores are :  [0.27482295 0.2936357  0.33618223 0.3650744  0.27885834 0.40334534\n",
      " 0.34544882 0.31671863 0.39237692 0.39174691]\n",
      "Average CV_Score =  0.33982102214396315\n"
     ]
    }
   ],
   "source": [
    "# Multi Linear Regression\n",
    "CV_scores = cross_val_score(my_model, X, y, cv = 10)\n",
    "print (\"CV_scores are : \", CV_scores)\n",
    "print (\"Average CV_Score = \",np.mean(CV_scores))"
   ]
  },
  {
   "cell_type": "code",
   "execution_count": 125,
   "metadata": {},
   "outputs": [
    {
     "name": "stdout",
     "output_type": "stream",
     "text": [
      "CV_scores are :  [0.27483408 0.2936342  0.33618515 0.365069   0.27884394 0.40335546\n",
      " 0.34543869 0.31670806 0.39239668 0.39175081]\n",
      "Average CV_Score =  0.33982160695447333\n"
     ]
    }
   ],
   "source": [
    "# Ridge Regression\n",
    "CV_scores = cross_val_score(my_Ridge, X, y, cv = 10)\n",
    "print (\"CV_scores are : \", CV_scores)\n",
    "print (\"Average CV_Score = \",np.mean(CV_scores))"
   ]
  },
  {
   "cell_type": "code",
   "execution_count": 126,
   "metadata": {},
   "outputs": [
    {
     "name": "stdout",
     "output_type": "stream",
     "text": [
      "CV_scores are :  [0.27483284 0.29363437 0.33618483 0.3650696  0.27884554 0.40335434\n",
      " 0.34543981 0.31670923 0.39239449 0.39175038]\n",
      "Average CV_Score =  0.33982154406425297\n"
     ]
    }
   ],
   "source": [
    "# Ridge + Feature Scaling \n",
    "# Same Code for Ridge + Polynomial Features\n",
    "CV_scores = cross_val_score(my_ridge, X, y, cv = 10)\n",
    "print (\"CV_scores are : \", CV_scores)\n",
    "print (\"Average CV_Score = \",np.mean(CV_scores))"
   ]
  },
  {
   "cell_type": "code",
   "execution_count": 127,
   "metadata": {},
   "outputs": [
    {
     "name": "stdout",
     "output_type": "stream",
     "text": [
      "CV_scores are :  [0.11177818 0.09274462 0.10098983 0.10648778 0.10009977 0.12929607\n",
      " 0.08605656 0.05002369 0.11611393 0.12869043]\n",
      "Average CV_Score =  0.1022280850487975\n"
     ]
    }
   ],
   "source": [
    "# Lasso\n",
    "# Same Code for Lasso + Feature Scaling\n",
    "CV_scores = cross_val_score(my_Lasso, X, y, cv = 10)\n",
    "print (\"CV_scores are : \", CV_scores)\n",
    "print (\"Average CV_Score = \",np.mean(CV_scores))"
   ]
  },
  {
   "cell_type": "code",
   "execution_count": 128,
   "metadata": {},
   "outputs": [
    {
     "name": "stdout",
     "output_type": "stream",
     "text": [
      "CV_scores are :  [0.58299595 0.57692308 0.60323887 0.61336032 0.6417004  0.59716599\n",
      " 0.63157895 0.60323887 0.61054767 0.63488844]\n",
      "Average CV_Score =  0.6095638534626471\n"
     ]
    }
   ],
   "source": [
    "# KNN \n",
    "CV_scores = cross_val_score(My_KNN, X, y, cv = 10)\n",
    "print (\"CV_scores are : \", CV_scores)\n",
    "print (\"Average CV_Score = \",np.mean(CV_scores))"
   ]
  },
  {
   "cell_type": "code",
   "execution_count": 129,
   "metadata": {},
   "outputs": [
    {
     "name": "stdout",
     "output_type": "stream",
     "text": [
      "CV_scores are :  [0.69635628 0.66396761 0.66396761 0.70850202 0.70850202 0.73076923\n",
      " 0.68016194 0.68825911 0.73427992 0.71196755]\n",
      "Average CV_Score =  0.6986733294462557\n"
     ]
    }
   ],
   "source": [
    "# Decision Tree\n",
    "CV_scores = cross_val_score(My_Tree, X, y, cv = 10)\n",
    "print (\"CV_scores are : \", CV_scores)\n",
    "print (\"Average CV_Score = \",np.mean(CV_scores))"
   ]
  },
  {
   "cell_type": "code",
   "execution_count": 130,
   "metadata": {},
   "outputs": [
    {
     "name": "stdout",
     "output_type": "stream",
     "text": [
      "CV_scores are :  [0.73279352 0.7388664  0.75708502 0.79352227 0.7611336  0.78340081\n",
      " 0.76720648 0.7854251  0.78498986 0.77484787]\n",
      "Average CV_Score =  0.7679270926575292\n"
     ]
    }
   ],
   "source": [
    "# SVM\n",
    "CV_scores = cross_val_score(My_SVC, X, y, cv = 10)\n",
    "print (\"CV_scores are : \", CV_scores)\n",
    "print (\"Average CV_Score = \",np.mean(CV_scores))"
   ]
  },
  {
   "cell_type": "code",
   "execution_count": 131,
   "metadata": {},
   "outputs": [
    {
     "name": "stdout",
     "output_type": "stream",
     "text": [
      "CV_scores are :  [0.62145749 0.67206478 0.69635628 0.62348178 0.6194332  0.6659919\n",
      " 0.62753036 0.60323887 0.62068966 0.62271805]\n",
      "Average CV_Score =  0.6372962363781195\n"
     ]
    }
   ],
   "source": [
    "# GNB\n",
    "CV_scores = cross_val_score(My_GNB, X, y, cv = 10)\n",
    "print (\"CV_scores are : \", CV_scores)\n",
    "print (\"Average CV_Score = \",np.mean(CV_scores))"
   ]
  },
  {
   "cell_type": "code",
   "execution_count": 132,
   "metadata": {},
   "outputs": [
    {
     "name": "stdout",
     "output_type": "stream",
     "text": [
      "CV_scores are :  [0.73076923 0.70040486 0.72469636 0.7388664  0.7145749  0.7611336\n",
      " 0.72672065 0.71659919 0.76673428 0.73630832]\n",
      "Average CV_Score =  0.7316807778535119\n"
     ]
    }
   ],
   "source": [
    "#Random Forest\n",
    "CV_scores = cross_val_score(My_Forest, X, y, cv = 10)\n",
    "print (\"CV_scores are : \", CV_scores)\n",
    "print (\"Average CV_Score = \",np.mean(CV_scores))\n"
   ]
  },
  {
   "cell_type": "code",
   "execution_count": 133,
   "metadata": {},
   "outputs": [
    {
     "name": "stdout",
     "output_type": "stream",
     "text": [
      "CV_scores are :  [0.73684211 0.7145749  0.73481781 0.76923077 0.73684211 0.7854251\n",
      " 0.7611336  0.74291498 0.78498986 0.76267748]\n",
      "Average CV_Score =  0.7529448719317408\n"
     ]
    }
   ],
   "source": [
    "#Gradient Boosted \n",
    "CV_scores = cross_val_score(My_GBDT, X, y, cv = 10)\n",
    "print (\"CV_scores are : \", CV_scores)\n",
    "print (\"Average CV_Score = \",np.mean(CV_scores))"
   ]
  },
  {
   "cell_type": "code",
   "execution_count": 134,
   "metadata": {},
   "outputs": [],
   "source": [
    "\n",
    "\n",
    "\n",
    "\n",
    "\n",
    "\n",
    "\n",
    "\n",
    "\n",
    "\n",
    "\n",
    "\n",
    "\n",
    "\n",
    "#"
   ]
  },
  {
   "cell_type": "markdown",
   "metadata": {},
   "source": [
    "# <div class=\"alert alert-block alert-info\"> DF2-B </div>"
   ]
  },
  {
   "cell_type": "code",
   "execution_count": 135,
   "metadata": {},
   "outputs": [
    {
     "data": {
      "text/html": [
       "<div>\n",
       "<style scoped>\n",
       "    .dataframe tbody tr th:only-of-type {\n",
       "        vertical-align: middle;\n",
       "    }\n",
       "\n",
       "    .dataframe tbody tr th {\n",
       "        vertical-align: top;\n",
       "    }\n",
       "\n",
       "    .dataframe thead th {\n",
       "        text-align: right;\n",
       "    }\n",
       "</style>\n",
       "<table border=\"1\" class=\"dataframe\">\n",
       "  <thead>\n",
       "    <tr style=\"text-align: right;\">\n",
       "      <th></th>\n",
       "      <th>home_pos</th>\n",
       "      <th>away_pos</th>\n",
       "      <th>home_shots_on_target</th>\n",
       "      <th>away_shots_on_target</th>\n",
       "      <th>home_shots</th>\n",
       "      <th>away_shots</th>\n",
       "      <th>home_touch</th>\n",
       "      <th>away_touch</th>\n",
       "      <th>home_pass</th>\n",
       "      <th>away_pass</th>\n",
       "      <th>home_tackles</th>\n",
       "      <th>away_tackles</th>\n",
       "      <th>home_clear</th>\n",
       "      <th>away_clear</th>\n",
       "      <th>home_corner</th>\n",
       "      <th>away_corner</th>\n",
       "      <th>home_off</th>\n",
       "      <th>away_off</th>\n",
       "      <th>home_yellow</th>\n",
       "      <th>away_yellow</th>\n",
       "      <th>home_red</th>\n",
       "      <th>away_red</th>\n",
       "      <th>home_fouls</th>\n",
       "      <th>away_fouls</th>\n",
       "      <th>winner</th>\n",
       "      <th>win</th>\n",
       "      <th>non_loss</th>\n",
       "    </tr>\n",
       "    <tr>\n",
       "      <th>season</th>\n",
       "      <th></th>\n",
       "      <th></th>\n",
       "      <th></th>\n",
       "      <th></th>\n",
       "      <th></th>\n",
       "      <th></th>\n",
       "      <th></th>\n",
       "      <th></th>\n",
       "      <th></th>\n",
       "      <th></th>\n",
       "      <th></th>\n",
       "      <th></th>\n",
       "      <th></th>\n",
       "      <th></th>\n",
       "      <th></th>\n",
       "      <th></th>\n",
       "      <th></th>\n",
       "      <th></th>\n",
       "      <th></th>\n",
       "      <th></th>\n",
       "      <th></th>\n",
       "      <th></th>\n",
       "      <th></th>\n",
       "      <th></th>\n",
       "      <th></th>\n",
       "      <th></th>\n",
       "      <th></th>\n",
       "    </tr>\n",
       "  </thead>\n",
       "  <tbody>\n",
       "    <tr>\n",
       "      <th>2006/2007</th>\n",
       "      <td>72.9</td>\n",
       "      <td>27.1</td>\n",
       "      <td>7</td>\n",
       "      <td>3</td>\n",
       "      <td>24</td>\n",
       "      <td>6</td>\n",
       "      <td>807</td>\n",
       "      <td>417</td>\n",
       "      <td>631</td>\n",
       "      <td>232</td>\n",
       "      <td>22</td>\n",
       "      <td>33</td>\n",
       "      <td>14</td>\n",
       "      <td>51</td>\n",
       "      <td>18</td>\n",
       "      <td>1</td>\n",
       "      <td>2</td>\n",
       "      <td>6</td>\n",
       "      <td>1</td>\n",
       "      <td>2</td>\n",
       "      <td>0</td>\n",
       "      <td>0</td>\n",
       "      <td>10</td>\n",
       "      <td>19</td>\n",
       "      <td>0</td>\n",
       "      <td>0</td>\n",
       "      <td>1</td>\n",
       "    </tr>\n",
       "    <tr>\n",
       "      <th>2006/2007</th>\n",
       "      <td>37.8</td>\n",
       "      <td>62.2</td>\n",
       "      <td>4</td>\n",
       "      <td>2</td>\n",
       "      <td>13</td>\n",
       "      <td>10</td>\n",
       "      <td>411</td>\n",
       "      <td>591</td>\n",
       "      <td>243</td>\n",
       "      <td>427</td>\n",
       "      <td>28</td>\n",
       "      <td>17</td>\n",
       "      <td>20</td>\n",
       "      <td>43</td>\n",
       "      <td>6</td>\n",
       "      <td>3</td>\n",
       "      <td>3</td>\n",
       "      <td>1</td>\n",
       "      <td>0</td>\n",
       "      <td>0</td>\n",
       "      <td>0</td>\n",
       "      <td>0</td>\n",
       "      <td>22</td>\n",
       "      <td>22</td>\n",
       "      <td>1</td>\n",
       "      <td>1</td>\n",
       "      <td>1</td>\n",
       "    </tr>\n",
       "    <tr>\n",
       "      <th>2006/2007</th>\n",
       "      <td>47.0</td>\n",
       "      <td>53.0</td>\n",
       "      <td>2</td>\n",
       "      <td>7</td>\n",
       "      <td>8</td>\n",
       "      <td>13</td>\n",
       "      <td>460</td>\n",
       "      <td>493</td>\n",
       "      <td>288</td>\n",
       "      <td>321</td>\n",
       "      <td>17</td>\n",
       "      <td>24</td>\n",
       "      <td>61</td>\n",
       "      <td>32</td>\n",
       "      <td>0</td>\n",
       "      <td>6</td>\n",
       "      <td>5</td>\n",
       "      <td>1</td>\n",
       "      <td>2</td>\n",
       "      <td>2</td>\n",
       "      <td>0</td>\n",
       "      <td>0</td>\n",
       "      <td>12</td>\n",
       "      <td>15</td>\n",
       "      <td>1</td>\n",
       "      <td>1</td>\n",
       "      <td>1</td>\n",
       "    </tr>\n",
       "    <tr>\n",
       "      <th>2006/2007</th>\n",
       "      <td>55.3</td>\n",
       "      <td>44.7</td>\n",
       "      <td>5</td>\n",
       "      <td>4</td>\n",
       "      <td>8</td>\n",
       "      <td>13</td>\n",
       "      <td>519</td>\n",
       "      <td>448</td>\n",
       "      <td>352</td>\n",
       "      <td>278</td>\n",
       "      <td>27</td>\n",
       "      <td>33</td>\n",
       "      <td>15</td>\n",
       "      <td>16</td>\n",
       "      <td>4</td>\n",
       "      <td>11</td>\n",
       "      <td>6</td>\n",
       "      <td>3</td>\n",
       "      <td>1</td>\n",
       "      <td>2</td>\n",
       "      <td>0</td>\n",
       "      <td>0</td>\n",
       "      <td>18</td>\n",
       "      <td>19</td>\n",
       "      <td>1</td>\n",
       "      <td>1</td>\n",
       "      <td>1</td>\n",
       "    </tr>\n",
       "    <tr>\n",
       "      <th>2006/2007</th>\n",
       "      <td>44.3</td>\n",
       "      <td>55.7</td>\n",
       "      <td>11</td>\n",
       "      <td>3</td>\n",
       "      <td>21</td>\n",
       "      <td>8</td>\n",
       "      <td>415</td>\n",
       "      <td>527</td>\n",
       "      <td>279</td>\n",
       "      <td>327</td>\n",
       "      <td>23</td>\n",
       "      <td>19</td>\n",
       "      <td>15</td>\n",
       "      <td>28</td>\n",
       "      <td>6</td>\n",
       "      <td>2</td>\n",
       "      <td>5</td>\n",
       "      <td>0</td>\n",
       "      <td>2</td>\n",
       "      <td>0</td>\n",
       "      <td>0</td>\n",
       "      <td>1</td>\n",
       "      <td>22</td>\n",
       "      <td>17</td>\n",
       "      <td>1</td>\n",
       "      <td>1</td>\n",
       "      <td>1</td>\n",
       "    </tr>\n",
       "  </tbody>\n",
       "</table>\n",
       "</div>"
      ],
      "text/plain": [
       "           home_pos  away_pos  home_shots_on_target  away_shots_on_target  \\\n",
       "season                                                                      \n",
       "2006/2007      72.9      27.1                     7                     3   \n",
       "2006/2007      37.8      62.2                     4                     2   \n",
       "2006/2007      47.0      53.0                     2                     7   \n",
       "2006/2007      55.3      44.7                     5                     4   \n",
       "2006/2007      44.3      55.7                    11                     3   \n",
       "\n",
       "           home_shots  away_shots  home_touch  away_touch  home_pass  \\\n",
       "season                                                                 \n",
       "2006/2007          24           6         807         417        631   \n",
       "2006/2007          13          10         411         591        243   \n",
       "2006/2007           8          13         460         493        288   \n",
       "2006/2007           8          13         519         448        352   \n",
       "2006/2007          21           8         415         527        279   \n",
       "\n",
       "           away_pass  home_tackles  away_tackles  home_clear  away_clear  \\\n",
       "season                                                                     \n",
       "2006/2007        232            22            33          14          51   \n",
       "2006/2007        427            28            17          20          43   \n",
       "2006/2007        321            17            24          61          32   \n",
       "2006/2007        278            27            33          15          16   \n",
       "2006/2007        327            23            19          15          28   \n",
       "\n",
       "           home_corner  away_corner  home_off  away_off  home_yellow  \\\n",
       "season                                                                 \n",
       "2006/2007           18            1         2         6            1   \n",
       "2006/2007            6            3         3         1            0   \n",
       "2006/2007            0            6         5         1            2   \n",
       "2006/2007            4           11         6         3            1   \n",
       "2006/2007            6            2         5         0            2   \n",
       "\n",
       "           away_yellow  home_red  away_red  home_fouls  away_fouls  winner  \\\n",
       "season                                                                       \n",
       "2006/2007            2         0         0          10          19       0   \n",
       "2006/2007            0         0         0          22          22       1   \n",
       "2006/2007            2         0         0          12          15       1   \n",
       "2006/2007            2         0         0          18          19       1   \n",
       "2006/2007            0         0         1          22          17       1   \n",
       "\n",
       "           win  non_loss  \n",
       "season                    \n",
       "2006/2007    0         1  \n",
       "2006/2007    1         1  \n",
       "2006/2007    1         1  \n",
       "2006/2007    1         1  \n",
       "2006/2007    1         1  "
      ]
     },
     "execution_count": 135,
     "metadata": {},
     "output_type": "execute_result"
    }
   ],
   "source": [
    "# The DF2-B Dataset\n",
    "\n",
    "# Independent Variable is 0 for a home loss and 1 for a home win or tie.\n",
    "\n",
    "df2.iloc[:,4:].head()"
   ]
  },
  {
   "cell_type": "markdown",
   "metadata": {},
   "source": [
    "## DF for Scores"
   ]
  },
  {
   "cell_type": "code",
   "execution_count": 136,
   "metadata": {},
   "outputs": [],
   "source": [
    "#rquares df\n",
    "\n",
    "rsquaresdf2_B = pd.DataFrame()\n",
    "\n",
    "\n",
    "#accuracy df\n",
    "\n",
    "accuracydf2_B = pd.DataFrame()"
   ]
  },
  {
   "cell_type": "markdown",
   "metadata": {},
   "source": [
    "# Multi Linear Regression"
   ]
  },
  {
   "cell_type": "code",
   "execution_count": 137,
   "metadata": {},
   "outputs": [],
   "source": [
    "# Asigning Variables\n",
    "\n",
    "X = df2.iloc[:,4:-3]\n",
    "y = df2.iloc[:,-1]"
   ]
  },
  {
   "cell_type": "code",
   "execution_count": 138,
   "metadata": {},
   "outputs": [],
   "source": [
    "# Sperate train and test data\n",
    "from sklearn.model_selection import train_test_split\n",
    "\n",
    "X_train, X_test, y_train, y_test = train_test_split(X, y, test_size = 0.20)"
   ]
  },
  {
   "cell_type": "code",
   "execution_count": 139,
   "metadata": {},
   "outputs": [],
   "source": [
    "#import the model\n",
    "from sklearn.linear_model import LinearRegression"
   ]
  },
  {
   "cell_type": "code",
   "execution_count": 140,
   "metadata": {},
   "outputs": [],
   "source": [
    "my_model = LinearRegression().fit(X_train, y_train)"
   ]
  },
  {
   "cell_type": "code",
   "execution_count": 141,
   "metadata": {},
   "outputs": [],
   "source": [
    "#prediction test\n",
    "y_predict = my_model.predict(X_test)\n",
    "\n",
    "#prediction train\n",
    "y_predict_train = my_model.predict(X_train)"
   ]
  },
  {
   "cell_type": "code",
   "execution_count": 142,
   "metadata": {},
   "outputs": [
    {
     "name": "stdout",
     "output_type": "stream",
     "text": [
      "R Squared for test data is:  0.29751852685909097\n",
      "R Squared for training data is:  0.3181740407721999\n"
     ]
    }
   ],
   "source": [
    "#accuracy metrics\n",
    "from sklearn.metrics import r2_score\n",
    "\n",
    "print('R Squared for test data is: ', r2_score(y_test, y_predict))\n",
    "print('R Squared for training data is: ', r2_score(y_train, y_predict_train))"
   ]
  },
  {
   "cell_type": "code",
   "execution_count": 143,
   "metadata": {},
   "outputs": [],
   "source": [
    "#add to metrics df\n",
    "\n",
    "rsquaresdf2_B['MLR'] = [ r2_score(y_test, y_predict), r2_score(y_train, y_predict_train)]\n",
    "\n"
   ]
  },
  {
   "cell_type": "markdown",
   "metadata": {},
   "source": [
    "# Regularized Regression - Ridge"
   ]
  },
  {
   "cell_type": "code",
   "execution_count": 144,
   "metadata": {},
   "outputs": [],
   "source": [
    "# Asigning Variables\n",
    "\n",
    "X = df2.iloc[:,4:-3]\n",
    "y = df2.iloc[:,-1]"
   ]
  },
  {
   "cell_type": "code",
   "execution_count": 145,
   "metadata": {},
   "outputs": [],
   "source": [
    "# Sperate train and test data\n",
    "from sklearn.model_selection import train_test_split\n",
    "\n",
    "X_train, X_test, y_train, y_test = train_test_split(X, y, test_size = 0.20)"
   ]
  },
  {
   "cell_type": "code",
   "execution_count": 146,
   "metadata": {},
   "outputs": [],
   "source": [
    "#import the model\n",
    "from sklearn.linear_model import Ridge"
   ]
  },
  {
   "cell_type": "code",
   "execution_count": 147,
   "metadata": {},
   "outputs": [],
   "source": [
    "my_Ridge = Ridge(alpha = .45).fit(X_train, y_train)"
   ]
  },
  {
   "cell_type": "code",
   "execution_count": 148,
   "metadata": {},
   "outputs": [],
   "source": [
    "#predict test\n",
    "y_predict = my_Ridge.predict(X_test)\n",
    "\n",
    "#predict train\n",
    "y_predict_train = my_Ridge.predict(X_train)"
   ]
  },
  {
   "cell_type": "code",
   "execution_count": 149,
   "metadata": {},
   "outputs": [
    {
     "name": "stdout",
     "output_type": "stream",
     "text": [
      "R Squared for test data is:  0.30374790551216524\n",
      "R Squared for training data is:  0.31721685141370537\n"
     ]
    }
   ],
   "source": [
    "#add to metrics df\n",
    "\n",
    "\n",
    "#accuracy metrics\n",
    "from sklearn.metrics import r2_score\n",
    "\n",
    "print('R Squared for test data is: ', r2_score(y_test, y_predict))\n",
    "print('R Squared for training data is: ', r2_score(y_train, y_predict_train))"
   ]
  },
  {
   "cell_type": "code",
   "execution_count": 150,
   "metadata": {},
   "outputs": [],
   "source": [
    "#add to metrics df\n",
    "\n",
    "rsquaresdf2_B['Ridge'] = [ r2_score(y_test, y_predict), r2_score(y_train, y_predict_train)]\n"
   ]
  },
  {
   "cell_type": "markdown",
   "metadata": {},
   "source": [
    "# Ridge + Feature Scaling (Normalization)"
   ]
  },
  {
   "cell_type": "code",
   "execution_count": 151,
   "metadata": {},
   "outputs": [],
   "source": [
    "# Asigning Variables\n",
    "\n",
    "X = df2.iloc[:,4:-3]\n",
    "y = df2.iloc[:,-1]"
   ]
  },
  {
   "cell_type": "code",
   "execution_count": 152,
   "metadata": {},
   "outputs": [],
   "source": [
    "# Sperate train and test data\n",
    "from sklearn.model_selection import train_test_split\n",
    "# Asigning Variables\n",
    "\n",
    "\n",
    "X_train, X_test, y_train, y_test = train_test_split(X, y, test_size = 0.20)"
   ]
  },
  {
   "cell_type": "code",
   "execution_count": 153,
   "metadata": {},
   "outputs": [],
   "source": [
    "#importing MinMaxScaler\n",
    "from sklearn.preprocessing import MinMaxScaler"
   ]
  },
  {
   "cell_type": "code",
   "execution_count": 154,
   "metadata": {},
   "outputs": [],
   "source": [
    "#create an object of MinMaxScaler\n",
    "scaler = MinMaxScaler()"
   ]
  },
  {
   "cell_type": "code",
   "execution_count": 155,
   "metadata": {},
   "outputs": [
    {
     "data": {
      "text/plain": [
       "MinMaxScaler(copy=True, feature_range=(0, 1))"
      ]
     },
     "execution_count": 155,
     "metadata": {},
     "output_type": "execute_result"
    }
   ],
   "source": [
    "#normalizing the data\n",
    "\n",
    "#fitting\n",
    "scaler.fit(X_train)\n",
    "\n",
    "#transforming the x varaible\n",
    "X_train_scaled = scaler.transform(X_train)\n",
    "\n",
    "X_test_scaled = scaler.transform(X_test)"
   ]
  },
  {
   "cell_type": "code",
   "execution_count": 156,
   "metadata": {},
   "outputs": [],
   "source": [
    "#create model with scaled data\n",
    "my_ridge = Ridge(alpha = 7).fit(X_train_scaled, y_train)"
   ]
  },
  {
   "cell_type": "code",
   "execution_count": 157,
   "metadata": {},
   "outputs": [],
   "source": [
    "#make predictions\n",
    "\n",
    "#test data\n",
    "y_predict = my_ridge.predict(X_test_scaled)\n",
    "\n",
    "#train data\n",
    "y_predict_train = my_ridge.predict(X_train_scaled)\n"
   ]
  },
  {
   "cell_type": "code",
   "execution_count": 158,
   "metadata": {
    "scrolled": true
   },
   "outputs": [
    {
     "name": "stdout",
     "output_type": "stream",
     "text": [
      "R Squared for test data is:  0.2800905217616154\n",
      "R Squared for training data is:  0.3047751574296974\n"
     ]
    }
   ],
   "source": [
    "#accuracy metrics\n",
    "from sklearn.metrics import r2_score\n",
    "\n",
    "print('R Squared for test data is: ', r2_score(y_test, y_predict))\n",
    "print('R Squared for training data is: ', r2_score(y_train, y_predict_train))"
   ]
  },
  {
   "cell_type": "code",
   "execution_count": 159,
   "metadata": {},
   "outputs": [],
   "source": [
    "#add to metrics df\n",
    "\n",
    "rsquaresdf2_B['Ridge - Feature Scale'] = [ r2_score(y_test, y_predict), r2_score(y_train, y_predict_train)]\n"
   ]
  },
  {
   "cell_type": "markdown",
   "metadata": {},
   "source": [
    "# Ridge + Polynomial Features"
   ]
  },
  {
   "cell_type": "code",
   "execution_count": 160,
   "metadata": {},
   "outputs": [],
   "source": [
    "# Asigning Variables\n",
    "\n",
    "X = df2.iloc[:,4:-3]\n",
    "y = df2.iloc[:,-1]"
   ]
  },
  {
   "cell_type": "code",
   "execution_count": 161,
   "metadata": {},
   "outputs": [],
   "source": [
    "#import polynomial features\n",
    "from sklearn.preprocessing import PolynomialFeatures"
   ]
  },
  {
   "cell_type": "code",
   "execution_count": 162,
   "metadata": {},
   "outputs": [],
   "source": [
    "#Create an object\n",
    "poly = PolynomialFeatures(degree=2)\n",
    "\n",
    "#Create new features of X variable\n",
    "X_poly = poly.fit_transform(X)"
   ]
  },
  {
   "cell_type": "code",
   "execution_count": 163,
   "metadata": {},
   "outputs": [],
   "source": [
    "# Sperate train and test data\n",
    "from sklearn.model_selection import train_test_split\n",
    "\n",
    "X_train, X_test, y_train, y_test = train_test_split(X, y, test_size = 0.20)"
   ]
  },
  {
   "cell_type": "code",
   "execution_count": 164,
   "metadata": {},
   "outputs": [],
   "source": [
    "my_ridge = Ridge(alpha = .4).fit(X_train, y_train)"
   ]
  },
  {
   "cell_type": "code",
   "execution_count": 165,
   "metadata": {},
   "outputs": [],
   "source": [
    "#predict test\n",
    "y_predict = my_ridge.predict(X_test)\n",
    "\n",
    "#predict train\n",
    "y_predict_train = my_ridge.predict(X_train)"
   ]
  },
  {
   "cell_type": "code",
   "execution_count": 166,
   "metadata": {},
   "outputs": [
    {
     "name": "stdout",
     "output_type": "stream",
     "text": [
      "R Squared for test data is:  0.2832478818413502\n",
      "R Squared for training data is:  0.3225534401802296\n"
     ]
    }
   ],
   "source": [
    "from sklearn.metrics import r2_score\n",
    "\n",
    "print('R Squared for test data is: ', r2_score(y_test, y_predict))\n",
    "print('R Squared for training data is: ', r2_score(y_train, y_predict_train))"
   ]
  },
  {
   "cell_type": "code",
   "execution_count": 167,
   "metadata": {},
   "outputs": [],
   "source": [
    "#add to metrics df\n",
    "\n",
    "rsquaresdf2_B['Ridge - Poly Features'] = [ r2_score(y_test, y_predict), r2_score(y_train, y_predict_train)]\n"
   ]
  },
  {
   "cell_type": "markdown",
   "metadata": {},
   "source": [
    "# Regularized Regression - Lasso"
   ]
  },
  {
   "cell_type": "code",
   "execution_count": 168,
   "metadata": {},
   "outputs": [],
   "source": [
    "# Asigning Variables\n",
    "\n",
    "X = df2.iloc[:,4:-3]\n",
    "y = df2.iloc[:,-1]"
   ]
  },
  {
   "cell_type": "code",
   "execution_count": 169,
   "metadata": {},
   "outputs": [],
   "source": [
    "# Sperate train and test data\n",
    "from sklearn.model_selection import train_test_split\n",
    "\n",
    "X_train, X_test, y_train, y_test = train_test_split(X, y, test_size = 0.20)# Asigning Variables\n",
    "\n"
   ]
  },
  {
   "cell_type": "code",
   "execution_count": 170,
   "metadata": {},
   "outputs": [],
   "source": [
    "#import the model\n",
    "from sklearn.linear_model import Lasso"
   ]
  },
  {
   "cell_type": "code",
   "execution_count": 171,
   "metadata": {},
   "outputs": [],
   "source": [
    "my_Lasso = Lasso(alpha = .15).fit(X_train, y_train)"
   ]
  },
  {
   "cell_type": "code",
   "execution_count": 172,
   "metadata": {},
   "outputs": [],
   "source": [
    "#predict test\n",
    "y_predict = my_Lasso.predict(X_test)\n",
    "\n",
    "#predict_train\n",
    "y_predict_train = my_Lasso.predict(X_train)"
   ]
  },
  {
   "cell_type": "code",
   "execution_count": 173,
   "metadata": {},
   "outputs": [
    {
     "name": "stdout",
     "output_type": "stream",
     "text": [
      "R Squared for test data is:  0.21723223608172382\n",
      "R Squared for training data is:  0.25178798552776316\n"
     ]
    }
   ],
   "source": [
    "from sklearn.metrics import r2_score\n",
    "\n",
    "print('R Squared for test data is: ', r2_score(y_test, y_predict))\n",
    "print('R Squared for training data is: ', r2_score(y_train, y_predict_train))"
   ]
  },
  {
   "cell_type": "code",
   "execution_count": 174,
   "metadata": {},
   "outputs": [],
   "source": [
    "#add to metrics df\n",
    "\n",
    "rsquaresdf2_B['Lasso'] = [ r2_score(y_test, y_predict), r2_score(y_train, y_predict_train)]\n"
   ]
  },
  {
   "cell_type": "markdown",
   "metadata": {},
   "source": [
    "# Lasso + Feature Scaling (Normalization)"
   ]
  },
  {
   "cell_type": "code",
   "execution_count": 175,
   "metadata": {},
   "outputs": [],
   "source": [
    "# Asigning Variables\n",
    "\n",
    "X = df2.iloc[:,4:-3]\n",
    "y = df2.iloc[:,-1]"
   ]
  },
  {
   "cell_type": "code",
   "execution_count": 176,
   "metadata": {},
   "outputs": [],
   "source": [
    "# Sperate train and test data\n",
    "from sklearn.model_selection import train_test_split\n",
    "\n",
    "X_train, X_test, y_train, y_test = train_test_split(X, y, test_size = 0.20)"
   ]
  },
  {
   "cell_type": "code",
   "execution_count": 177,
   "metadata": {},
   "outputs": [],
   "source": [
    "#importing MinMaxScaler\n",
    "from sklearn.preprocessing import MinMaxScaler"
   ]
  },
  {
   "cell_type": "code",
   "execution_count": 178,
   "metadata": {},
   "outputs": [],
   "source": [
    "#create an object of MinMaxScaler\n",
    "scaler = MinMaxScaler()"
   ]
  },
  {
   "cell_type": "code",
   "execution_count": 179,
   "metadata": {},
   "outputs": [
    {
     "data": {
      "text/plain": [
       "MinMaxScaler(copy=True, feature_range=(0, 1))"
      ]
     },
     "execution_count": 179,
     "metadata": {},
     "output_type": "execute_result"
    }
   ],
   "source": [
    "#normalizing the data\n",
    "\n",
    "#fitting\n",
    "scaler.fit(X_train)\n",
    "\n",
    "#transforming the x varaible\n",
    "X_train_scaled = scaler.transform(X_train)\n",
    "\n",
    "X_test_scaled = scaler.transform(X_test)"
   ]
  },
  {
   "cell_type": "code",
   "execution_count": 180,
   "metadata": {},
   "outputs": [],
   "source": [
    "#import the model\n",
    "from sklearn.linear_model import Lasso"
   ]
  },
  {
   "cell_type": "code",
   "execution_count": 181,
   "metadata": {},
   "outputs": [],
   "source": [
    "my_Lasso = Lasso(alpha = .8).fit(X_train_scaled, y_train)"
   ]
  },
  {
   "cell_type": "code",
   "execution_count": 182,
   "metadata": {},
   "outputs": [],
   "source": [
    "#predict test\n",
    "y_predict = my_Lasso.predict(X_test_scaled)\n",
    "\n",
    "#predict_train\n",
    "y_predict_train = my_Lasso.predict(X_train_scaled)"
   ]
  },
  {
   "cell_type": "code",
   "execution_count": 183,
   "metadata": {},
   "outputs": [
    {
     "name": "stdout",
     "output_type": "stream",
     "text": [
      "R Squared for test data is:  -0.0011804272299518193\n",
      "R Squared for training data is:  0.0\n"
     ]
    }
   ],
   "source": [
    "from sklearn.metrics import r2_score\n",
    "\n",
    "print('R Squared for test data is: ', r2_score(y_test, y_predict))\n",
    "print('R Squared for training data is: ', r2_score(y_train, y_predict_train))"
   ]
  },
  {
   "cell_type": "code",
   "execution_count": 184,
   "metadata": {},
   "outputs": [],
   "source": [
    "#add to metrics df\n",
    "\n",
    "rsquaresdf2_B['Lasso - Feature Scaling'] = [ r2_score(y_test, y_predict), r2_score(y_train, y_predict_train)]\n"
   ]
  },
  {
   "cell_type": "markdown",
   "metadata": {},
   "source": [
    "# KNN"
   ]
  },
  {
   "cell_type": "code",
   "execution_count": 185,
   "metadata": {},
   "outputs": [],
   "source": [
    "# Asigning Variables\n",
    "\n",
    "X = df2.iloc[:,4:-3]\n",
    "y = df2.iloc[:,-1]"
   ]
  },
  {
   "cell_type": "code",
   "execution_count": 186,
   "metadata": {},
   "outputs": [],
   "source": [
    "# Sperate train and test data\n",
    "from sklearn.model_selection import train_test_split\n",
    "\n",
    "X_train, X_test, y_train, y_test = train_test_split(X, y, test_size = 0.20)\n"
   ]
  },
  {
   "cell_type": "code",
   "execution_count": 187,
   "metadata": {},
   "outputs": [],
   "source": [
    "#Normalizing (Feature Scaling)\n",
    "from sklearn.preprocessing import StandardScaler\n",
    "\n",
    "scaler = StandardScaler()\n",
    "\n",
    "X_train = scaler.fit_transform(X_train)\n",
    "X_test = scaler.fit_transform(X_test)"
   ]
  },
  {
   "cell_type": "code",
   "execution_count": 188,
   "metadata": {},
   "outputs": [],
   "source": [
    "#import model\n",
    "from sklearn.neighbors import KNeighborsClassifier"
   ]
  },
  {
   "cell_type": "markdown",
   "metadata": {},
   "source": [
    "## Paramater Tuning Code"
   ]
  },
  {
   "cell_type": "code",
   "execution_count": 189,
   "metadata": {},
   "outputs": [
    {
     "data": {
      "text/plain": [
       "KNeighborsClassifier(algorithm='auto', leaf_size=30, metric='minkowski',\n",
       "                     metric_params=None, n_jobs=None, n_neighbors=1, p=2,\n",
       "                     weights='uniform')"
      ]
     },
     "execution_count": 189,
     "metadata": {},
     "output_type": "execute_result"
    },
    {
     "data": {
      "text/plain": [
       "KNeighborsClassifier(algorithm='auto', leaf_size=30, metric='minkowski',\n",
       "                     metric_params=None, n_jobs=None, n_neighbors=2, p=2,\n",
       "                     weights='uniform')"
      ]
     },
     "execution_count": 189,
     "metadata": {},
     "output_type": "execute_result"
    },
    {
     "data": {
      "text/plain": [
       "KNeighborsClassifier(algorithm='auto', leaf_size=30, metric='minkowski',\n",
       "                     metric_params=None, n_jobs=None, n_neighbors=3, p=2,\n",
       "                     weights='uniform')"
      ]
     },
     "execution_count": 189,
     "metadata": {},
     "output_type": "execute_result"
    },
    {
     "data": {
      "text/plain": [
       "KNeighborsClassifier(algorithm='auto', leaf_size=30, metric='minkowski',\n",
       "                     metric_params=None, n_jobs=None, n_neighbors=4, p=2,\n",
       "                     weights='uniform')"
      ]
     },
     "execution_count": 189,
     "metadata": {},
     "output_type": "execute_result"
    },
    {
     "data": {
      "text/plain": [
       "KNeighborsClassifier(algorithm='auto', leaf_size=30, metric='minkowski',\n",
       "                     metric_params=None, n_jobs=None, n_neighbors=5, p=2,\n",
       "                     weights='uniform')"
      ]
     },
     "execution_count": 189,
     "metadata": {},
     "output_type": "execute_result"
    },
    {
     "data": {
      "text/plain": [
       "KNeighborsClassifier(algorithm='auto', leaf_size=30, metric='minkowski',\n",
       "                     metric_params=None, n_jobs=None, n_neighbors=6, p=2,\n",
       "                     weights='uniform')"
      ]
     },
     "execution_count": 189,
     "metadata": {},
     "output_type": "execute_result"
    },
    {
     "data": {
      "text/plain": [
       "KNeighborsClassifier(algorithm='auto', leaf_size=30, metric='minkowski',\n",
       "                     metric_params=None, n_jobs=None, n_neighbors=7, p=2,\n",
       "                     weights='uniform')"
      ]
     },
     "execution_count": 189,
     "metadata": {},
     "output_type": "execute_result"
    },
    {
     "data": {
      "text/plain": [
       "KNeighborsClassifier(algorithm='auto', leaf_size=30, metric='minkowski',\n",
       "                     metric_params=None, n_jobs=None, n_neighbors=8, p=2,\n",
       "                     weights='uniform')"
      ]
     },
     "execution_count": 189,
     "metadata": {},
     "output_type": "execute_result"
    },
    {
     "data": {
      "text/plain": [
       "KNeighborsClassifier(algorithm='auto', leaf_size=30, metric='minkowski',\n",
       "                     metric_params=None, n_jobs=None, n_neighbors=9, p=2,\n",
       "                     weights='uniform')"
      ]
     },
     "execution_count": 189,
     "metadata": {},
     "output_type": "execute_result"
    },
    {
     "data": {
      "text/plain": [
       "KNeighborsClassifier(algorithm='auto', leaf_size=30, metric='minkowski',\n",
       "                     metric_params=None, n_jobs=None, n_neighbors=10, p=2,\n",
       "                     weights='uniform')"
      ]
     },
     "execution_count": 189,
     "metadata": {},
     "output_type": "execute_result"
    },
    {
     "data": {
      "text/plain": [
       "KNeighborsClassifier(algorithm='auto', leaf_size=30, metric='minkowski',\n",
       "                     metric_params=None, n_jobs=None, n_neighbors=11, p=2,\n",
       "                     weights='uniform')"
      ]
     },
     "execution_count": 189,
     "metadata": {},
     "output_type": "execute_result"
    },
    {
     "data": {
      "text/plain": [
       "KNeighborsClassifier(algorithm='auto', leaf_size=30, metric='minkowski',\n",
       "                     metric_params=None, n_jobs=None, n_neighbors=12, p=2,\n",
       "                     weights='uniform')"
      ]
     },
     "execution_count": 189,
     "metadata": {},
     "output_type": "execute_result"
    },
    {
     "data": {
      "text/plain": [
       "KNeighborsClassifier(algorithm='auto', leaf_size=30, metric='minkowski',\n",
       "                     metric_params=None, n_jobs=None, n_neighbors=13, p=2,\n",
       "                     weights='uniform')"
      ]
     },
     "execution_count": 189,
     "metadata": {},
     "output_type": "execute_result"
    },
    {
     "data": {
      "text/plain": [
       "KNeighborsClassifier(algorithm='auto', leaf_size=30, metric='minkowski',\n",
       "                     metric_params=None, n_jobs=None, n_neighbors=14, p=2,\n",
       "                     weights='uniform')"
      ]
     },
     "execution_count": 189,
     "metadata": {},
     "output_type": "execute_result"
    },
    {
     "data": {
      "text/plain": [
       "KNeighborsClassifier(algorithm='auto', leaf_size=30, metric='minkowski',\n",
       "                     metric_params=None, n_jobs=None, n_neighbors=15, p=2,\n",
       "                     weights='uniform')"
      ]
     },
     "execution_count": 189,
     "metadata": {},
     "output_type": "execute_result"
    },
    {
     "data": {
      "text/plain": [
       "KNeighborsClassifier(algorithm='auto', leaf_size=30, metric='minkowski',\n",
       "                     metric_params=None, n_jobs=None, n_neighbors=16, p=2,\n",
       "                     weights='uniform')"
      ]
     },
     "execution_count": 189,
     "metadata": {},
     "output_type": "execute_result"
    },
    {
     "data": {
      "text/plain": [
       "KNeighborsClassifier(algorithm='auto', leaf_size=30, metric='minkowski',\n",
       "                     metric_params=None, n_jobs=None, n_neighbors=17, p=2,\n",
       "                     weights='uniform')"
      ]
     },
     "execution_count": 189,
     "metadata": {},
     "output_type": "execute_result"
    },
    {
     "data": {
      "text/plain": [
       "KNeighborsClassifier(algorithm='auto', leaf_size=30, metric='minkowski',\n",
       "                     metric_params=None, n_jobs=None, n_neighbors=18, p=2,\n",
       "                     weights='uniform')"
      ]
     },
     "execution_count": 189,
     "metadata": {},
     "output_type": "execute_result"
    },
    {
     "data": {
      "text/plain": [
       "KNeighborsClassifier(algorithm='auto', leaf_size=30, metric='minkowski',\n",
       "                     metric_params=None, n_jobs=None, n_neighbors=19, p=2,\n",
       "                     weights='uniform')"
      ]
     },
     "execution_count": 189,
     "metadata": {},
     "output_type": "execute_result"
    },
    {
     "data": {
      "text/plain": [
       "KNeighborsClassifier(algorithm='auto', leaf_size=30, metric='minkowski',\n",
       "                     metric_params=None, n_jobs=None, n_neighbors=20, p=2,\n",
       "                     weights='uniform')"
      ]
     },
     "execution_count": 189,
     "metadata": {},
     "output_type": "execute_result"
    },
    {
     "data": {
      "text/plain": [
       "KNeighborsClassifier(algorithm='auto', leaf_size=30, metric='minkowski',\n",
       "                     metric_params=None, n_jobs=None, n_neighbors=21, p=2,\n",
       "                     weights='uniform')"
      ]
     },
     "execution_count": 189,
     "metadata": {},
     "output_type": "execute_result"
    },
    {
     "data": {
      "text/plain": [
       "KNeighborsClassifier(algorithm='auto', leaf_size=30, metric='minkowski',\n",
       "                     metric_params=None, n_jobs=None, n_neighbors=22, p=2,\n",
       "                     weights='uniform')"
      ]
     },
     "execution_count": 189,
     "metadata": {},
     "output_type": "execute_result"
    },
    {
     "data": {
      "text/plain": [
       "KNeighborsClassifier(algorithm='auto', leaf_size=30, metric='minkowski',\n",
       "                     metric_params=None, n_jobs=None, n_neighbors=23, p=2,\n",
       "                     weights='uniform')"
      ]
     },
     "execution_count": 189,
     "metadata": {},
     "output_type": "execute_result"
    },
    {
     "data": {
      "text/plain": [
       "KNeighborsClassifier(algorithm='auto', leaf_size=30, metric='minkowski',\n",
       "                     metric_params=None, n_jobs=None, n_neighbors=24, p=2,\n",
       "                     weights='uniform')"
      ]
     },
     "execution_count": 189,
     "metadata": {},
     "output_type": "execute_result"
    },
    {
     "data": {
      "text/plain": [
       "KNeighborsClassifier(algorithm='auto', leaf_size=30, metric='minkowski',\n",
       "                     metric_params=None, n_jobs=None, n_neighbors=25, p=2,\n",
       "                     weights='uniform')"
      ]
     },
     "execution_count": 189,
     "metadata": {},
     "output_type": "execute_result"
    },
    {
     "data": {
      "text/plain": [
       "KNeighborsClassifier(algorithm='auto', leaf_size=30, metric='minkowski',\n",
       "                     metric_params=None, n_jobs=None, n_neighbors=26, p=2,\n",
       "                     weights='uniform')"
      ]
     },
     "execution_count": 189,
     "metadata": {},
     "output_type": "execute_result"
    },
    {
     "data": {
      "text/plain": [
       "KNeighborsClassifier(algorithm='auto', leaf_size=30, metric='minkowski',\n",
       "                     metric_params=None, n_jobs=None, n_neighbors=27, p=2,\n",
       "                     weights='uniform')"
      ]
     },
     "execution_count": 189,
     "metadata": {},
     "output_type": "execute_result"
    },
    {
     "data": {
      "text/plain": [
       "KNeighborsClassifier(algorithm='auto', leaf_size=30, metric='minkowski',\n",
       "                     metric_params=None, n_jobs=None, n_neighbors=28, p=2,\n",
       "                     weights='uniform')"
      ]
     },
     "execution_count": 189,
     "metadata": {},
     "output_type": "execute_result"
    },
    {
     "data": {
      "text/plain": [
       "KNeighborsClassifier(algorithm='auto', leaf_size=30, metric='minkowski',\n",
       "                     metric_params=None, n_jobs=None, n_neighbors=29, p=2,\n",
       "                     weights='uniform')"
      ]
     },
     "execution_count": 189,
     "metadata": {},
     "output_type": "execute_result"
    },
    {
     "data": {
      "text/plain": [
       "KNeighborsClassifier(algorithm='auto', leaf_size=30, metric='minkowski',\n",
       "                     metric_params=None, n_jobs=None, n_neighbors=30, p=2,\n",
       "                     weights='uniform')"
      ]
     },
     "execution_count": 189,
     "metadata": {},
     "output_type": "execute_result"
    },
    {
     "data": {
      "text/plain": [
       "KNeighborsClassifier(algorithm='auto', leaf_size=30, metric='minkowski',\n",
       "                     metric_params=None, n_jobs=None, n_neighbors=31, p=2,\n",
       "                     weights='uniform')"
      ]
     },
     "execution_count": 189,
     "metadata": {},
     "output_type": "execute_result"
    },
    {
     "data": {
      "text/plain": [
       "KNeighborsClassifier(algorithm='auto', leaf_size=30, metric='minkowski',\n",
       "                     metric_params=None, n_jobs=None, n_neighbors=32, p=2,\n",
       "                     weights='uniform')"
      ]
     },
     "execution_count": 189,
     "metadata": {},
     "output_type": "execute_result"
    },
    {
     "data": {
      "text/plain": [
       "KNeighborsClassifier(algorithm='auto', leaf_size=30, metric='minkowski',\n",
       "                     metric_params=None, n_jobs=None, n_neighbors=33, p=2,\n",
       "                     weights='uniform')"
      ]
     },
     "execution_count": 189,
     "metadata": {},
     "output_type": "execute_result"
    },
    {
     "data": {
      "text/plain": [
       "KNeighborsClassifier(algorithm='auto', leaf_size=30, metric='minkowski',\n",
       "                     metric_params=None, n_jobs=None, n_neighbors=34, p=2,\n",
       "                     weights='uniform')"
      ]
     },
     "execution_count": 189,
     "metadata": {},
     "output_type": "execute_result"
    },
    {
     "data": {
      "text/plain": [
       "KNeighborsClassifier(algorithm='auto', leaf_size=30, metric='minkowski',\n",
       "                     metric_params=None, n_jobs=None, n_neighbors=35, p=2,\n",
       "                     weights='uniform')"
      ]
     },
     "execution_count": 189,
     "metadata": {},
     "output_type": "execute_result"
    },
    {
     "data": {
      "text/plain": [
       "KNeighborsClassifier(algorithm='auto', leaf_size=30, metric='minkowski',\n",
       "                     metric_params=None, n_jobs=None, n_neighbors=36, p=2,\n",
       "                     weights='uniform')"
      ]
     },
     "execution_count": 189,
     "metadata": {},
     "output_type": "execute_result"
    },
    {
     "data": {
      "text/plain": [
       "KNeighborsClassifier(algorithm='auto', leaf_size=30, metric='minkowski',\n",
       "                     metric_params=None, n_jobs=None, n_neighbors=37, p=2,\n",
       "                     weights='uniform')"
      ]
     },
     "execution_count": 189,
     "metadata": {},
     "output_type": "execute_result"
    },
    {
     "data": {
      "text/plain": [
       "KNeighborsClassifier(algorithm='auto', leaf_size=30, metric='minkowski',\n",
       "                     metric_params=None, n_jobs=None, n_neighbors=38, p=2,\n",
       "                     weights='uniform')"
      ]
     },
     "execution_count": 189,
     "metadata": {},
     "output_type": "execute_result"
    },
    {
     "data": {
      "text/plain": [
       "KNeighborsClassifier(algorithm='auto', leaf_size=30, metric='minkowski',\n",
       "                     metric_params=None, n_jobs=None, n_neighbors=39, p=2,\n",
       "                     weights='uniform')"
      ]
     },
     "execution_count": 189,
     "metadata": {},
     "output_type": "execute_result"
    },
    {
     "data": {
      "text/plain": [
       "<Figure size 864x432 with 0 Axes>"
      ]
     },
     "execution_count": 189,
     "metadata": {},
     "output_type": "execute_result"
    },
    {
     "data": {
      "text/plain": [
       "[<matplotlib.lines.Line2D at 0x1a1fe567f0>]"
      ]
     },
     "execution_count": 189,
     "metadata": {},
     "output_type": "execute_result"
    },
    {
     "data": {
      "text/plain": [
       "Text(0.5, 1.0, 'Error Rates for different k-values')"
      ]
     },
     "execution_count": 189,
     "metadata": {},
     "output_type": "execute_result"
    },
    {
     "data": {
      "text/plain": [
       "Text(0.5, 0, 'k-value')"
      ]
     },
     "execution_count": 189,
     "metadata": {},
     "output_type": "execute_result"
    },
    {
     "data": {
      "text/plain": [
       "Text(0, 0.5, 'Mean Error')"
      ]
     },
     "execution_count": 189,
     "metadata": {},
     "output_type": "execute_result"
    },
    {
     "data": {
      "image/png": "[encoded data removed]",
      "text/plain": [
       "<Figure size 864x432 with 1 Axes>"
      ]
     },
     "metadata": {
      "needs_background": "light"
     },
     "output_type": "display_data"
    }
   ],
   "source": [
    "# Arbitrarily we chose k = 5 and it turns out to be a good choice. However, in reality we have to try mutiple values and select\n",
    "# the best one. This is what we do here:\n",
    "\n",
    "error = []\n",
    "\n",
    "# calculate the error for k values between 1 and 40\n",
    "for i in range(1, 40):\n",
    "    knn = KNeighborsClassifier(n_neighbors = i)\n",
    "    knn.fit(X_train, y_train)\n",
    "    pred_y_i = knn.predict(X_test)\n",
    "    error.append(np.mean(pred_y_i != y_test))\n",
    "    \n",
    "    \n",
    "# Now, we can plot the errors\n",
    "plt.figure(figsize = (12, 6))\n",
    "plt.plot(range(1, 40), error, color = 'red', linestyle = 'dashed', marker = 'o',\n",
    "        markerfacecolor = 'green', markersize = 10)\n",
    "\n",
    "plt.title('Error Rates for different k-values')\n",
    "plt.xlabel('k-value')\n",
    "plt.ylabel('Mean Error')\n",
    "plt.show()\n"
   ]
  },
  {
   "cell_type": "code",
   "execution_count": 190,
   "metadata": {},
   "outputs": [
    {
     "data": {
      "text/plain": [
       "KNeighborsClassifier(algorithm='auto', leaf_size=30, metric='minkowski',\n",
       "                     metric_params=None, n_jobs=None, n_neighbors=36, p=2,\n",
       "                     weights='uniform')"
      ]
     },
     "execution_count": 190,
     "metadata": {},
     "output_type": "execute_result"
    }
   ],
   "source": [
    "#create an instance\n",
    "\n",
    "My_KNN = KNeighborsClassifier(n_neighbors = 36) \n",
    "My_KNN.fit(X_train, y_train)"
   ]
  },
  {
   "cell_type": "code",
   "execution_count": 191,
   "metadata": {},
   "outputs": [],
   "source": [
    "#predict test\n",
    "y_predict = My_KNN.predict(X_test)\n",
    "\n",
    "#predict train\n",
    "y_predict_train = My_KNN.predict(X_train)"
   ]
  },
  {
   "cell_type": "code",
   "execution_count": 192,
   "metadata": {},
   "outputs": [
    {
     "name": "stdout",
     "output_type": "stream",
     "text": [
      "test data is:  0.7864372469635628\n",
      "training data is:  0.7855696202531646\n"
     ]
    }
   ],
   "source": [
    "#accuracy score\n",
    "from sklearn.metrics import accuracy_score\n",
    "\n",
    "print('test data is: ', accuracy_score(y_test, y_predict))\n",
    "print('training data is: ', accuracy_score(y_train, y_predict_train))"
   ]
  },
  {
   "cell_type": "code",
   "execution_count": 193,
   "metadata": {},
   "outputs": [],
   "source": [
    "#add to metrics df\n",
    "\n",
    "accuracydf2_B['KNN'] = [accuracy_score(y_test, y_predict), accuracy_score(y_train, y_predict_train)]\n"
   ]
  },
  {
   "cell_type": "markdown",
   "metadata": {},
   "source": [
    "# DECISION TREE"
   ]
  },
  {
   "cell_type": "code",
   "execution_count": 194,
   "metadata": {},
   "outputs": [],
   "source": [
    "# Asigning Variables\n",
    "\n",
    "X = df2.iloc[:,4:-3]\n",
    "y = df2.iloc[:,-1]"
   ]
  },
  {
   "cell_type": "code",
   "execution_count": 195,
   "metadata": {},
   "outputs": [
    {
     "data": {
      "text/plain": [
       "DecisionTreeClassifier(ccp_alpha=0.0, class_weight=None, criterion='gini',\n",
       "                       max_depth=3, max_features=None, max_leaf_nodes=None,\n",
       "                       min_impurity_decrease=0.0, min_impurity_split=None,\n",
       "                       min_samples_leaf=7, min_samples_split=2,\n",
       "                       min_weight_fraction_leaf=0.0, presort='deprecated',\n",
       "                       random_state=None, splitter='best')"
      ]
     },
     "execution_count": 195,
     "metadata": {},
     "output_type": "execute_result"
    }
   ],
   "source": [
    "from sklearn.model_selection import train_test_split as SPLIT\n",
    "\n",
    "X_train, X_test, y_train, y_test = SPLIT(X, y, test_size = .2)\n",
    "\n",
    "from sklearn.tree import DecisionTreeClassifier\n",
    "\n",
    "My_Tree = DecisionTreeClassifier(max_depth = 3 ,min_samples_leaf = 7)\n",
    "\n",
    "My_Tree.fit(X_train, y_train)"
   ]
  },
  {
   "cell_type": "code",
   "execution_count": 196,
   "metadata": {},
   "outputs": [
    {
     "name": "stdout",
     "output_type": "stream",
     "text": [
      "test 0.7479757085020243\n",
      "train 0.7526582278481012\n"
     ]
    }
   ],
   "source": [
    "# print accuracy scores\n",
    "\n",
    "y_predict = My_Tree.predict(X_test)\n",
    "y_predict_train = My_Tree.predict(X_train)\n",
    "\n",
    "from sklearn.metrics import accuracy_score\n",
    "\n",
    "print(\"test\", accuracy_score(y_test, y_predict))\n",
    "print(\"train\", accuracy_score(y_train, y_predict_train))"
   ]
  },
  {
   "cell_type": "code",
   "execution_count": 197,
   "metadata": {},
   "outputs": [],
   "source": [
    "#add to metrics df\n",
    "\n",
    "accuracydf2_B['Decision Tree'] = [accuracy_score(y_test, y_predict), accuracy_score(y_train, y_predict_train)]\n"
   ]
  },
  {
   "cell_type": "markdown",
   "metadata": {},
   "source": [
    "## SVM - Only for Binary"
   ]
  },
  {
   "cell_type": "code",
   "execution_count": 198,
   "metadata": {},
   "outputs": [],
   "source": [
    "# Asigning Variables\n",
    "\n",
    "X = df2.iloc[:,4:-3]\n",
    "y = df2.iloc[:,-1]"
   ]
  },
  {
   "cell_type": "markdown",
   "metadata": {},
   "source": [
    "## SVM Parameter Tuning"
   ]
  },
  {
   "cell_type": "code",
   "execution_count": 199,
   "metadata": {},
   "outputs": [
    {
     "data": {
      "text/plain": [
       "SVC(C=0.1, break_ties=False, cache_size=200, class_weight=None, coef0=0.0,\n",
       "    decision_function_shape='ovr', degree=3, gamma='scale', kernel='linear',\n",
       "    max_iter=-1, probability=False, random_state=None, shrinking=True,\n",
       "    tol=0.001, verbose=False)"
      ]
     },
     "execution_count": 199,
     "metadata": {},
     "output_type": "execute_result"
    },
    {
     "name": "stdout",
     "output_type": "stream",
     "text": [
      "SVC accuracy Test Data 0.1 =  0.805668016194332\n",
      "SVC accuracy Training Data 0.1 =  0.809620253164557\n",
      "Error = : 0.004\n"
     ]
    },
    {
     "data": {
      "text/plain": [
       "SVC(C=0.5, break_ties=False, cache_size=200, class_weight=None, coef0=0.0,\n",
       "    decision_function_shape='ovr', degree=3, gamma='scale', kernel='linear',\n",
       "    max_iter=-1, probability=False, random_state=None, shrinking=True,\n",
       "    tol=0.001, verbose=False)"
      ]
     },
     "execution_count": 199,
     "metadata": {},
     "output_type": "execute_result"
    },
    {
     "name": "stdout",
     "output_type": "stream",
     "text": [
      "SVC accuracy Test Data 0.5 =  0.791497975708502\n",
      "SVC accuracy Training Data 0.5 =  0.8129113924050633\n",
      "Error = : 0.021\n"
     ]
    },
    {
     "data": {
      "text/plain": [
       "SVC(C=1, break_ties=False, cache_size=200, class_weight=None, coef0=0.0,\n",
       "    decision_function_shape='ovr', degree=3, gamma='scale', kernel='linear',\n",
       "    max_iter=-1, probability=False, random_state=None, shrinking=True,\n",
       "    tol=0.001, verbose=False)"
      ]
     },
     "execution_count": 199,
     "metadata": {},
     "output_type": "execute_result"
    },
    {
     "name": "stdout",
     "output_type": "stream",
     "text": [
      "SVC accuracy Test Data 1 =  0.7935222672064778\n",
      "SVC accuracy Training Data 1 =  0.8075949367088607\n",
      "Error = : 0.014\n"
     ]
    },
    {
     "data": {
      "text/plain": [
       "SVC(C=5, break_ties=False, cache_size=200, class_weight=None, coef0=0.0,\n",
       "    decision_function_shape='ovr', degree=3, gamma='scale', kernel='linear',\n",
       "    max_iter=-1, probability=False, random_state=None, shrinking=True,\n",
       "    tol=0.001, verbose=False)"
      ]
     },
     "execution_count": 199,
     "metadata": {},
     "output_type": "execute_result"
    },
    {
     "name": "stdout",
     "output_type": "stream",
     "text": [
      "SVC accuracy Test Data 5 =  0.8066801619433198\n",
      "SVC accuracy Training Data 5 =  0.8070886075949367\n",
      "Error = : 0.0\n"
     ]
    }
   ],
   "source": [
    "c_parameters = [.1,.5,1,5]\n",
    "\n",
    "for c in c_parameters:\n",
    "   # splitting data\n",
    "    from sklearn.model_selection import train_test_split as SPLIT\n",
    "\n",
    "    X_train, X_test, y_train, y_test = SPLIT(X, y, test_size = .2)\n",
    "\n",
    "    # Developing Model\n",
    "    from sklearn.svm import SVC\n",
    "\n",
    "    My_SVC = SVC(kernel = 'linear', C = c)\n",
    "\n",
    "    My_SVC.fit(X_train, y_train)\n",
    "    \n",
    "    y_predict = My_SVC.predict(X_test)\n",
    "\n",
    "    y_predict_train = My_SVC.predict(X_train)\n",
    "    \n",
    "    from sklearn.metrics import accuracy_score\n",
    "    \n",
    "    print(f'SVC accuracy Test Data {c} = ', accuracy_score(y_test, y_predict))\n",
    "\n",
    "    print(f'SVC accuracy Training Data {c} = ', accuracy_score(y_train, y_predict_train))\n",
    "    \n",
    "    print('Error = :', round(abs(accuracy_score(y_test, y_predict) - accuracy_score(y_train, y_predict_train)),3))\n"
   ]
  },
  {
   "cell_type": "code",
   "execution_count": 200,
   "metadata": {},
   "outputs": [
    {
     "data": {
      "text/plain": [
       "SVC(C=0.1, break_ties=False, cache_size=200, class_weight=None, coef0=0.0,\n",
       "    decision_function_shape='ovr', degree=3, gamma='scale', kernel='linear',\n",
       "    max_iter=-1, probability=False, random_state=None, shrinking=True,\n",
       "    tol=0.001, verbose=False)"
      ]
     },
     "execution_count": 200,
     "metadata": {},
     "output_type": "execute_result"
    }
   ],
   "source": [
    "# splitting data\n",
    "from sklearn.model_selection import train_test_split as SPLIT\n",
    "\n",
    "X_train, X_test, y_train, y_test = SPLIT(X, y, test_size = .2)\n",
    "\n",
    "# Developing Model\n",
    "from sklearn.svm import SVC\n",
    "\n",
    "My_SVC = SVC(kernel = 'linear', C = .1)\n",
    "\n",
    "My_SVC.fit(X_train, y_train)"
   ]
  },
  {
   "cell_type": "code",
   "execution_count": 201,
   "metadata": {},
   "outputs": [],
   "source": [
    "y_predict = My_SVC.predict(X_test)\n",
    "\n",
    "y_predict_train = My_SVC.predict(X_train)"
   ]
  },
  {
   "cell_type": "code",
   "execution_count": 202,
   "metadata": {},
   "outputs": [],
   "source": [
    "from sklearn.metrics import accuracy_score"
   ]
  },
  {
   "cell_type": "code",
   "execution_count": 203,
   "metadata": {},
   "outputs": [
    {
     "name": "stdout",
     "output_type": "stream",
     "text": [
      "SVC accuracy on Test Data =  0.8036437246963563\n",
      "SVC accuracy on Training Data =  0.810126582278481\n"
     ]
    }
   ],
   "source": [
    "print('SVC accuracy on Test Data = ', accuracy_score(y_test, y_predict))\n",
    "\n",
    "print('SVC accuracy on Training Data = ', accuracy_score(y_train, y_predict_train))\n"
   ]
  },
  {
   "cell_type": "code",
   "execution_count": 204,
   "metadata": {},
   "outputs": [],
   "source": [
    "#add to metrics df\n",
    "\n",
    "accuracydf2_B['SVM'] = [accuracy_score(y_test, y_predict), accuracy_score(y_train, y_predict_train)]\n"
   ]
  },
  {
   "cell_type": "markdown",
   "metadata": {},
   "source": [
    "# Dummy Classifier for SVC Model"
   ]
  },
  {
   "cell_type": "code",
   "execution_count": 205,
   "metadata": {},
   "outputs": [
    {
     "name": "stdout",
     "output_type": "stream",
     "text": [
      "Original labels: season\n",
      "2006/2007    1\n",
      "2006/2007    1\n",
      "2006/2007    1\n",
      "2006/2007    1\n",
      "2006/2007    1\n",
      "2006/2007    1\n",
      "2006/2007    1\n",
      "2006/2007    1\n",
      "2006/2007    1\n",
      "2006/2007    1\n",
      "2006/2007    1\n",
      "2006/2007    1\n",
      "2006/2007    1\n",
      "2006/2007    0\n",
      "2006/2007    1\n",
      "2006/2007    1\n",
      "2006/2007    1\n",
      "2006/2007    1\n",
      "2006/2007    1\n",
      "2006/2007    1\n",
      "2006/2007    1\n",
      "2006/2007    0\n",
      "2006/2007    0\n",
      "2006/2007    1\n",
      "2006/2007    1\n",
      "2006/2007    0\n",
      "2006/2007    0\n",
      "2006/2007    1\n",
      "2006/2007    1\n",
      "Name: non_loss, dtype: int64\n",
      "New binary labels: season\n",
      "2006/2007    1\n",
      "2006/2007    1\n",
      "2006/2007    1\n",
      "2006/2007    1\n",
      "2006/2007    1\n",
      "2006/2007    1\n",
      "2006/2007    1\n",
      "2006/2007    1\n",
      "2006/2007    1\n",
      "2006/2007    1\n",
      "2006/2007    1\n",
      "2006/2007    1\n",
      "2006/2007    1\n",
      "2006/2007    0\n",
      "2006/2007    1\n",
      "2006/2007    1\n",
      "2006/2007    1\n",
      "2006/2007    1\n",
      "2006/2007    1\n",
      "2006/2007    1\n",
      "2006/2007    1\n",
      "2006/2007    0\n",
      "2006/2007    0\n",
      "2006/2007    1\n",
      "2006/2007    1\n",
      "2006/2007    0\n",
      "2006/2007    0\n",
      "2006/2007    1\n",
      "2006/2007    1\n",
      "Name: non_loss, dtype: int64\n"
     ]
    }
   ],
   "source": [
    "y_binary_imbalanced = y.copy()\n",
    "\n",
    "y_binary_imbalanced[y_binary_imbalanced != 1] = 0\n",
    "\n",
    "print ('Original labels:', y[1:30])\n",
    "\n",
    "print ('New binary labels:', y_binary_imbalanced[1:30])"
   ]
  },
  {
   "cell_type": "code",
   "execution_count": 206,
   "metadata": {},
   "outputs": [
    {
     "data": {
      "text/plain": [
       "array([1, 1, 1, 1, 1, 1, 1, 1, 1, 1, 1, 1, 1, 1, 1, 1, 1, 1, 1, 1, 1, 1,\n",
       "       1, 1, 1, 1, 1, 1, 1, 1, 1, 1, 1, 1, 1, 1, 1, 1, 1, 1, 1, 1, 1, 1,\n",
       "       1, 1, 1, 1, 1, 1, 1, 1, 1, 1, 1, 1, 1, 1, 1, 1, 1, 1, 1, 1, 1, 1,\n",
       "       1, 1, 1, 1, 1, 1, 1, 1, 1, 1, 1, 1, 1, 1, 1, 1, 1, 1, 1, 1, 1, 1,\n",
       "       1, 1, 1, 1, 1, 1, 1, 1, 1, 1, 1, 1, 1, 1, 1, 1, 1, 1, 1, 1, 1, 1,\n",
       "       1, 1, 1, 1, 1, 1, 1, 1, 1, 1, 1, 1, 1, 1, 1, 1, 1, 1, 1, 1, 1, 1,\n",
       "       1, 1, 1, 1, 1, 1, 1, 1, 1, 1, 1, 1, 1, 1, 1, 1, 1, 1, 1, 1, 1, 1,\n",
       "       1, 1, 1, 1, 1, 1, 1, 1, 1, 1, 1, 1, 1, 1, 1, 1, 1, 1, 1, 1, 1, 1,\n",
       "       1, 1, 1, 1, 1, 1, 1, 1, 1, 1, 1, 1, 1, 1, 1, 1, 1, 1, 1, 1, 1, 1,\n",
       "       1, 1, 1, 1, 1, 1, 1, 1, 1, 1, 1, 1, 1, 1, 1, 1, 1, 1, 1, 1, 1, 1,\n",
       "       1, 1, 1, 1, 1, 1, 1, 1, 1, 1, 1, 1, 1, 1, 1, 1, 1, 1, 1, 1, 1, 1,\n",
       "       1, 1, 1, 1, 1, 1, 1, 1, 1, 1, 1, 1, 1, 1, 1, 1, 1, 1, 1, 1, 1, 1,\n",
       "       1, 1, 1, 1, 1, 1, 1, 1, 1, 1, 1, 1, 1, 1, 1, 1, 1, 1, 1, 1, 1, 1,\n",
       "       1, 1, 1, 1, 1, 1, 1, 1, 1, 1, 1, 1, 1, 1, 1, 1, 1, 1, 1, 1, 1, 1,\n",
       "       1, 1, 1, 1, 1, 1, 1, 1, 1, 1, 1, 1, 1, 1, 1, 1, 1, 1, 1, 1, 1, 1,\n",
       "       1, 1, 1, 1, 1, 1, 1, 1, 1, 1, 1, 1, 1, 1, 1, 1, 1, 1, 1, 1, 1, 1,\n",
       "       1, 1, 1, 1, 1, 1, 1, 1, 1, 1, 1, 1, 1, 1, 1, 1, 1, 1, 1, 1, 1, 1,\n",
       "       1, 1, 1, 1, 1, 1, 1, 1, 1, 1, 1, 1, 1, 1, 1, 1, 1, 1, 1, 1, 1, 1,\n",
       "       1, 1, 1, 1, 1, 1, 1, 1, 1, 1, 1, 1, 1, 1, 1, 1, 1, 1, 1, 1, 1, 1,\n",
       "       1, 1, 1, 1, 1, 1, 1, 1, 1, 1, 1, 1, 1, 1, 1, 1, 1, 1, 1, 1, 1, 1,\n",
       "       1, 1, 1, 1, 1, 1, 1, 1, 1, 1, 1, 1, 1, 1, 1, 1, 1, 1, 1, 1, 1, 1,\n",
       "       1, 1, 1, 1, 1, 1, 1, 1, 1, 1, 1, 1, 1, 1, 1, 1, 1, 1, 1, 1, 1, 1,\n",
       "       1, 1, 1, 1, 1, 1, 1, 1, 1, 1, 1, 1, 1, 1, 1, 1, 1, 1, 1, 1, 1, 1,\n",
       "       1, 1, 1, 1, 1, 1, 1, 1, 1, 1, 1, 1, 1, 1, 1, 1, 1, 1, 1, 1, 1, 1,\n",
       "       1, 1, 1, 1, 1, 1, 1, 1, 1, 1, 1, 1, 1, 1, 1, 1, 1, 1, 1, 1, 1, 1,\n",
       "       1, 1, 1, 1, 1, 1, 1, 1, 1, 1, 1, 1, 1, 1, 1, 1, 1, 1, 1, 1, 1, 1,\n",
       "       1, 1, 1, 1, 1, 1, 1, 1, 1, 1, 1, 1, 1, 1, 1, 1, 1, 1, 1, 1, 1, 1,\n",
       "       1, 1, 1, 1, 1, 1, 1, 1, 1, 1, 1, 1, 1, 1, 1, 1, 1, 1, 1, 1, 1, 1,\n",
       "       1, 1, 1, 1, 1, 1, 1, 1, 1, 1, 1, 1, 1, 1, 1, 1, 1, 1, 1, 1, 1, 1,\n",
       "       1, 1, 1, 1, 1, 1, 1, 1, 1, 1, 1, 1, 1, 1, 1, 1, 1, 1, 1, 1, 1, 1,\n",
       "       1, 1, 1, 1, 1, 1, 1, 1, 1, 1, 1, 1, 1, 1, 1, 1, 1, 1, 1, 1, 1, 1,\n",
       "       1, 1, 1, 1, 1, 1, 1, 1, 1, 1, 1, 1, 1, 1, 1, 1, 1, 1, 1, 1, 1, 1,\n",
       "       1, 1, 1, 1, 1, 1, 1, 1, 1, 1, 1, 1, 1, 1, 1, 1, 1, 1, 1, 1, 1, 1,\n",
       "       1, 1, 1, 1, 1, 1, 1, 1, 1, 1, 1, 1, 1, 1, 1, 1, 1, 1, 1, 1, 1, 1,\n",
       "       1, 1, 1, 1, 1, 1, 1, 1, 1, 1, 1, 1, 1, 1, 1, 1, 1, 1, 1, 1, 1, 1,\n",
       "       1, 1, 1, 1, 1, 1, 1, 1, 1, 1, 1, 1, 1, 1, 1, 1, 1, 1, 1, 1, 1, 1,\n",
       "       1, 1, 1, 1, 1, 1, 1, 1, 1, 1, 1, 1, 1, 1, 1, 1, 1, 1, 1, 1, 1, 1,\n",
       "       1, 1, 1, 1, 1, 1, 1, 1, 1, 1, 1, 1, 1, 1, 1, 1, 1, 1, 1, 1, 1, 1,\n",
       "       1, 1, 1, 1, 1, 1, 1, 1, 1, 1, 1, 1, 1, 1, 1, 1, 1, 1, 1, 1, 1, 1,\n",
       "       1, 1, 1, 1, 1, 1, 1, 1, 1, 1, 1, 1, 1, 1, 1, 1, 1, 1, 1, 1, 1, 1,\n",
       "       1, 1, 1, 1, 1, 1, 1, 1, 1, 1, 1, 1, 1, 1, 1, 1, 1, 1, 1, 1, 1, 1,\n",
       "       1, 1, 1, 1, 1, 1, 1, 1, 1, 1, 1, 1, 1, 1, 1, 1, 1, 1, 1, 1, 1, 1,\n",
       "       1, 1, 1, 1, 1, 1, 1, 1, 1, 1, 1, 1, 1, 1, 1, 1, 1, 1, 1, 1, 1, 1,\n",
       "       1, 1, 1, 1, 1, 1, 1, 1, 1, 1, 1, 1, 1, 1, 1, 1, 1, 1, 1, 1, 1, 1,\n",
       "       1, 1, 1, 1, 1, 1, 1, 1, 1, 1, 1, 1, 1, 1, 1, 1, 1, 1, 1, 1])"
      ]
     },
     "execution_count": 206,
     "metadata": {},
     "output_type": "execute_result"
    }
   ],
   "source": [
    "from sklearn.dummy import DummyClassifier\n",
    "\n",
    "# Negative class (0) is most frequent\n",
    "dummy_majority = DummyClassifier(strategy = 'most_frequent').fit(X_train, y_train)\n",
    "\n",
    "#  The dummy 'most_frequent' classifier always predicts class 0\n",
    "y_dummy_predictions = dummy_majority.predict(X_test)\n",
    "\n",
    "y_dummy_predictions"
   ]
  },
  {
   "cell_type": "code",
   "execution_count": 207,
   "metadata": {},
   "outputs": [
    {
     "name": "stdout",
     "output_type": "stream",
     "text": [
      "Accuracy score of Dummy Classifier =  0.7176113360323887\n"
     ]
    }
   ],
   "source": [
    "print (\"Accuracy score of Dummy Classifier = \", accuracy_score(y_test, y_dummy_predictions))"
   ]
  },
  {
   "cell_type": "markdown",
   "metadata": {
    "collapsed": true
   },
   "source": [
    "# GNB"
   ]
  },
  {
   "cell_type": "code",
   "execution_count": 208,
   "metadata": {},
   "outputs": [],
   "source": [
    "# Asigning Variables\n",
    "\n",
    "X = df2.iloc[:,4:-3]\n",
    "y = df2.iloc[:,-1]"
   ]
  },
  {
   "cell_type": "code",
   "execution_count": 209,
   "metadata": {},
   "outputs": [],
   "source": [
    "from sklearn.model_selection import train_test_split as SPLIT\n",
    "\n",
    "X_train, X_test, y_train, y_test = SPLIT(X, y)"
   ]
  },
  {
   "cell_type": "code",
   "execution_count": 210,
   "metadata": {},
   "outputs": [],
   "source": [
    "# Import Libraries\n",
    "# from sklear.naive_bayes import GaussianNB\n",
    "\n",
    "from sklearn.naive_bayes import GaussianNB\n",
    "\n",
    "My_GNB = GaussianNB().fit(X_train,y_train)\n"
   ]
  },
  {
   "cell_type": "code",
   "execution_count": 211,
   "metadata": {},
   "outputs": [
    {
     "name": "stdout",
     "output_type": "stream",
     "text": [
      "Accuracy Test =  0.6615384615384615\n",
      "Accuracy Train =  0.6686470429381582\n"
     ]
    }
   ],
   "source": [
    "# make prediction on training and test data \n",
    "y_predict = My_GNB.predict(X_test)\n",
    "y_predict_train = My_GNB.predict(X_train)\n",
    "\n",
    "\n",
    "#accuracy score\n",
    "from sklearn.metrics import accuracy_score\n",
    "\n",
    "print(\"Accuracy Test = \", accuracy_score(y_test, y_predict))\n",
    "print(\"Accuracy Train = \", accuracy_score(y_train, y_predict_train))"
   ]
  },
  {
   "cell_type": "code",
   "execution_count": 212,
   "metadata": {},
   "outputs": [],
   "source": [
    "#add to metrics df\n",
    "\n",
    "accuracydf2_B['GNB'] = [accuracy_score(y_test, y_predict), accuracy_score(y_train, y_predict_train)]\n"
   ]
  },
  {
   "cell_type": "markdown",
   "metadata": {
    "collapsed": true
   },
   "source": [
    "# Random Forest"
   ]
  },
  {
   "cell_type": "code",
   "execution_count": 213,
   "metadata": {},
   "outputs": [],
   "source": [
    "# Asigning Variables\n",
    "\n",
    "X = df2.iloc[:,4:-3]\n",
    "y = df2.iloc[:,-1]"
   ]
  },
  {
   "cell_type": "code",
   "execution_count": 214,
   "metadata": {},
   "outputs": [],
   "source": [
    "# import RandomForestClassifier from sklearn.ensemble module\n",
    "\n",
    "from sklearn.ensemble import RandomForestClassifier as FOREST\n",
    "\n",
    "k = 10\n",
    "\n",
    "My_Forest = FOREST(max_depth = 4 ,min_samples_leaf = 10, max_features = k).fit(X_train, y_train)\n"
   ]
  },
  {
   "cell_type": "code",
   "execution_count": 215,
   "metadata": {},
   "outputs": [
    {
     "name": "stdout",
     "output_type": "stream",
     "text": [
      "Test 0.7805668016194331\n",
      "Train 0.7863894139886578\n"
     ]
    }
   ],
   "source": [
    "y_predict = My_Forest.predict(X_test)\n",
    "y_predict_train = My_Forest.predict(X_train)\n",
    "\n",
    "print('Test', accuracy_score(y_test, y_predict))\n",
    "print('Train', accuracy_score(y_train, y_predict_train))"
   ]
  },
  {
   "cell_type": "code",
   "execution_count": 216,
   "metadata": {},
   "outputs": [],
   "source": [
    "#add to metrics df\n",
    "\n",
    "accuracydf2_B['Rand Forest'] = [accuracy_score(y_test, y_predict), accuracy_score(y_train, y_predict_train)]\n"
   ]
  },
  {
   "cell_type": "markdown",
   "metadata": {
    "collapsed": true
   },
   "source": [
    "# Gradient Boosted Decision Trees"
   ]
  },
  {
   "cell_type": "code",
   "execution_count": 217,
   "metadata": {},
   "outputs": [],
   "source": [
    "# Asigning Variables\n",
    "\n",
    "X = df2.iloc[:,4:-3]\n",
    "y = df2.iloc[:,-1]"
   ]
  },
  {
   "cell_type": "code",
   "execution_count": 218,
   "metadata": {},
   "outputs": [],
   "source": [
    "# Import Libraries\n",
    "# from sklear.ensemble import GradientBoostingClassifier\n",
    "from sklearn.ensemble import GradientBoostingClassifier as GBDT\n",
    "\n",
    "# set the random_state = 0\n",
    "My_GBDT = GBDT().fit(X_train, y_train)"
   ]
  },
  {
   "cell_type": "code",
   "execution_count": 219,
   "metadata": {},
   "outputs": [
    {
     "name": "stdout",
     "output_type": "stream",
     "text": [
      "Accuracy Score on Test Data =  0.7951417004048583\n",
      "Accuracy Score on Train Data =  0.8441803942749122\n"
     ]
    }
   ],
   "source": [
    "from sklearn.metrics import accuracy_score\n",
    "\n",
    "# make prediction on training and test data \n",
    "\n",
    "y_pred = My_GBDT.predict(X_test)\n",
    "\n",
    "y_pred_train = My_GBDT.predict(X_train)\n",
    "\n",
    "# print accuracy_score for your predictions\n",
    "print (\"Accuracy Score on Test Data = \", accuracy_score(y_test, y_pred))\n",
    "print (\"Accuracy Score on Train Data = \", accuracy_score(y_train, y_pred_train))"
   ]
  },
  {
   "cell_type": "code",
   "execution_count": 220,
   "metadata": {},
   "outputs": [],
   "source": [
    "# set the values for learning_rate and max_depth to control the performance of the algorithm\n",
    "# ReDo it for different values\n",
    "\n",
    "My_GBDT_2 = GBDT(learning_rate = .1, max_depth = 2).fit(X_train, y_train)"
   ]
  },
  {
   "cell_type": "code",
   "execution_count": 221,
   "metadata": {},
   "outputs": [
    {
     "name": "stdout",
     "output_type": "stream",
     "text": [
      "Accuracy Score on Test Data =  0.7959514170040486\n",
      "Accuracy Score on Train Data =  0.8174453146097759\n"
     ]
    }
   ],
   "source": [
    "# make prediction on training and test data \n",
    "\n",
    "y_pred = My_GBDT_2.predict(X_test)\n",
    "\n",
    "y_pred_train = My_GBDT_2.predict(X_train)\n",
    "\n",
    "# print accuracy_score for your predictions\n",
    "print (\"Accuracy Score on Test Data = \", accuracy_score(y_test, y_pred))\n",
    "print (\"Accuracy Score on Train Data = \", accuracy_score(y_train, y_pred_train))"
   ]
  },
  {
   "cell_type": "code",
   "execution_count": 222,
   "metadata": {},
   "outputs": [],
   "source": [
    "#add to metrics df\n",
    "\n",
    "accuracydf2_B['GB Dec Tree'] = [accuracy_score(y_test, y_predict), accuracy_score(y_train, y_predict_train)]\n"
   ]
  },
  {
   "cell_type": "markdown",
   "metadata": {
    "collapsed": true
   },
   "source": [
    "# Artificial Neural Network"
   ]
  },
  {
   "cell_type": "code",
   "execution_count": 223,
   "metadata": {},
   "outputs": [],
   "source": [
    "# Asigning Variables\n",
    "\n",
    "X = df2.iloc[:,4:-3]\n",
    "y = df2.iloc[:,-1]"
   ]
  },
  {
   "cell_type": "code",
   "execution_count": 224,
   "metadata": {},
   "outputs": [],
   "source": [
    "# Import Libraries\n",
    "\n",
    "from sklearn.neural_network import MLPClassifier\n",
    "from sklearn.preprocessing import MinMaxScaler"
   ]
  },
  {
   "cell_type": "markdown",
   "metadata": {},
   "source": [
    "## ANN Paramater Tuning"
   ]
  },
  {
   "cell_type": "code",
   "execution_count": 225,
   "metadata": {
    "scrolled": false
   },
   "outputs": [
    {
     "name": "stdout",
     "output_type": "stream",
     "text": [
      "Accuracy Score on Test Data = 1  0.8040485829959514\n",
      "Accuracy Score on Train Data = 1 0.819065622468269\n",
      "Error 1 = : -0.015017039472317584\n",
      "Accuracy Score on Test Data = 3  0.8064777327935223\n",
      "Accuracy Score on Train Data = 3 0.8147448015122873\n",
      "Error 3 = : -0.008267068718765036\n",
      "Accuracy Score on Test Data = 5  0.8089068825910931\n",
      "Accuracy Score on Train Data = 5 0.8139346475830408\n",
      "Error 5 = : -0.005027764991947681\n",
      "Accuracy Score on Test Data = 10  0.8048582995951417\n",
      "Accuracy Score on Train Data = 10 0.8088036726978126\n",
      "Error 10 = : -0.003945373102670957\n"
     ]
    }
   ],
   "source": [
    "a_parameters = [1, 3, 5, 10]\n",
    "\n",
    "for a in a_parameters:\n",
    "\n",
    "    \n",
    "    # Scale Data\n",
    "\n",
    "    Scaler = MinMaxScaler()\n",
    "\n",
    "    X_train_scaled = Scaler.fit_transform(X_train)\n",
    "    X_test_scaled = Scaler.transform(X_test)\n",
    "\n",
    "    # Build Model\n",
    "    My_ANN = MLPClassifier(activation = 'tanh', hidden_layer_sizes = [10, 10], alpha = a, solver = 'lbfgs').fit(X_train_scaled, y_train)\n",
    "\n",
    "    # make prediction on training and test data \n",
    "\n",
    "    y_pred = My_ANN.predict(X_test_scaled)\n",
    "\n",
    "    y_pred_train = My_ANN.predict(X_train_scaled)\n",
    "\n",
    "    # print accuracy_score for your predictions\n",
    "    print (f\"Accuracy Score on Test Data = {a} \", accuracy_score(y_test, y_pred))\n",
    "    print (f\"Accuracy Score on Train Data = {a}\", accuracy_score(y_train, y_pred_train))\n",
    "    print(f'Error {a} = :', accuracy_score(y_test, y_pred) - accuracy_score(y_train, y_pred_train))"
   ]
  },
  {
   "cell_type": "code",
   "execution_count": 226,
   "metadata": {},
   "outputs": [],
   "source": [
    "# Scale Data\n",
    "\n",
    "Scaler = MinMaxScaler()\n",
    "\n",
    "X_train_scaled = Scaler.fit_transform(X_train)\n",
    "X_test_scaled = Scaler.transform(X_test)"
   ]
  },
  {
   "cell_type": "code",
   "execution_count": 227,
   "metadata": {},
   "outputs": [],
   "source": [
    "# Build Model\n",
    "My_ANN = MLPClassifier(activation = 'tanh', hidden_layer_sizes = [10, 10], alpha = 3, solver = 'lbfgs').fit(X_train_scaled, y_train)"
   ]
  },
  {
   "cell_type": "code",
   "execution_count": 228,
   "metadata": {},
   "outputs": [
    {
     "name": "stdout",
     "output_type": "stream",
     "text": [
      "Accuracy Score on Test Data =  0.8040485829959514\n",
      "Accuracy Score on Train Data =  0.8144747502025385\n"
     ]
    }
   ],
   "source": [
    "# make prediction on training and test data \n",
    "\n",
    "y_pred = My_ANN.predict(X_test_scaled)\n",
    "\n",
    "y_pred_train = My_ANN.predict(X_train_scaled)\n",
    "\n",
    "# print accuracy_score for your predictions\n",
    "print (\"Accuracy Score on Test Data = \", accuracy_score(y_test, y_pred))\n",
    "print (\"Accuracy Score on Train Data = \", accuracy_score(y_train, y_pred_train))"
   ]
  },
  {
   "cell_type": "code",
   "execution_count": 229,
   "metadata": {},
   "outputs": [],
   "source": [
    "# Add results to metrics df\n",
    "\n",
    "accuracydf2_B['ANN'] = [accuracy_score(y_test, y_predict), accuracy_score(y_train, y_predict_train)]"
   ]
  },
  {
   "cell_type": "code",
   "execution_count": 230,
   "metadata": {},
   "outputs": [
    {
     "data": {
      "text/html": [
       "<div>\n",
       "<style scoped>\n",
       "    .dataframe tbody tr th:only-of-type {\n",
       "        vertical-align: middle;\n",
       "    }\n",
       "\n",
       "    .dataframe tbody tr th {\n",
       "        vertical-align: top;\n",
       "    }\n",
       "\n",
       "    .dataframe thead th {\n",
       "        text-align: right;\n",
       "    }\n",
       "</style>\n",
       "<table border=\"1\" class=\"dataframe\">\n",
       "  <thead>\n",
       "    <tr style=\"text-align: right;\">\n",
       "      <th></th>\n",
       "      <th>MLR</th>\n",
       "      <th>Ridge</th>\n",
       "      <th>Ridge - Feature Scale</th>\n",
       "      <th>Ridge - Poly Features</th>\n",
       "      <th>Lasso</th>\n",
       "      <th>Lasso - Feature Scaling</th>\n",
       "    </tr>\n",
       "  </thead>\n",
       "  <tbody>\n",
       "    <tr>\n",
       "      <th>Test</th>\n",
       "      <td>0.297519</td>\n",
       "      <td>0.303748</td>\n",
       "      <td>0.280091</td>\n",
       "      <td>0.283248</td>\n",
       "      <td>0.217232</td>\n",
       "      <td>-0.00118</td>\n",
       "    </tr>\n",
       "    <tr>\n",
       "      <th>Train</th>\n",
       "      <td>0.318174</td>\n",
       "      <td>0.317217</td>\n",
       "      <td>0.304775</td>\n",
       "      <td>0.322553</td>\n",
       "      <td>0.251788</td>\n",
       "      <td>0.00000</td>\n",
       "    </tr>\n",
       "  </tbody>\n",
       "</table>\n",
       "</div>"
      ],
      "text/plain": [
       "            MLR     Ridge  Ridge - Feature Scale  Ridge - Poly Features  \\\n",
       "Test   0.297519  0.303748               0.280091               0.283248   \n",
       "Train  0.318174  0.317217               0.304775               0.322553   \n",
       "\n",
       "          Lasso  Lasso - Feature Scaling  \n",
       "Test   0.217232                 -0.00118  \n",
       "Train  0.251788                  0.00000  "
      ]
     },
     "execution_count": 230,
     "metadata": {},
     "output_type": "execute_result"
    }
   ],
   "source": [
    "rsquaresdf2_B.rename(index = {0: \"Test\", 1:\"Train\"}, inplace = True)\n",
    "rsquaresdf2_B"
   ]
  },
  {
   "cell_type": "code",
   "execution_count": 231,
   "metadata": {
    "scrolled": false
   },
   "outputs": [
    {
     "data": {
      "text/html": [
       "<div>\n",
       "<style scoped>\n",
       "    .dataframe tbody tr th:only-of-type {\n",
       "        vertical-align: middle;\n",
       "    }\n",
       "\n",
       "    .dataframe tbody tr th {\n",
       "        vertical-align: top;\n",
       "    }\n",
       "\n",
       "    .dataframe thead th {\n",
       "        text-align: right;\n",
       "    }\n",
       "</style>\n",
       "<table border=\"1\" class=\"dataframe\">\n",
       "  <thead>\n",
       "    <tr style=\"text-align: right;\">\n",
       "      <th></th>\n",
       "      <th>KNN</th>\n",
       "      <th>Decision Tree</th>\n",
       "      <th>SVM</th>\n",
       "      <th>GNB</th>\n",
       "      <th>Rand Forest</th>\n",
       "      <th>GB Dec Tree</th>\n",
       "      <th>ANN</th>\n",
       "    </tr>\n",
       "  </thead>\n",
       "  <tbody>\n",
       "    <tr>\n",
       "      <th>Test</th>\n",
       "      <td>0.786437</td>\n",
       "      <td>0.747976</td>\n",
       "      <td>0.803644</td>\n",
       "      <td>0.661538</td>\n",
       "      <td>0.780567</td>\n",
       "      <td>0.780567</td>\n",
       "      <td>0.780567</td>\n",
       "    </tr>\n",
       "    <tr>\n",
       "      <th>Train</th>\n",
       "      <td>0.785570</td>\n",
       "      <td>0.752658</td>\n",
       "      <td>0.810127</td>\n",
       "      <td>0.668647</td>\n",
       "      <td>0.786389</td>\n",
       "      <td>0.786389</td>\n",
       "      <td>0.786389</td>\n",
       "    </tr>\n",
       "  </tbody>\n",
       "</table>\n",
       "</div>"
      ],
      "text/plain": [
       "            KNN  Decision Tree       SVM       GNB  Rand Forest  GB Dec Tree  \\\n",
       "Test   0.786437       0.747976  0.803644  0.661538     0.780567     0.780567   \n",
       "Train  0.785570       0.752658  0.810127  0.668647     0.786389     0.786389   \n",
       "\n",
       "            ANN  \n",
       "Test   0.780567  \n",
       "Train  0.786389  "
      ]
     },
     "execution_count": 231,
     "metadata": {},
     "output_type": "execute_result"
    }
   ],
   "source": [
    "accuracydf2_B.rename(index = {0: \"Test\", 1:\"Train\"}, inplace = True)\n",
    "accuracydf2_B"
   ]
  },
  {
   "cell_type": "markdown",
   "metadata": {},
   "source": [
    "# Cross-Validation"
   ]
  },
  {
   "cell_type": "code",
   "execution_count": 232,
   "metadata": {},
   "outputs": [
    {
     "name": "stdout",
     "output_type": "stream",
     "text": [
      "CV_scores are :  [0.26510484 0.27039743 0.25441393 0.29029931 0.28185361 0.31324953\n",
      " 0.28487869 0.32632037 0.38820082 0.32953173]\n",
      "Average CV_Score =  0.300425025700345\n"
     ]
    }
   ],
   "source": [
    "# Multi Linear Regression\n",
    "CV_scores = cross_val_score(my_model, X, y, cv = 10)\n",
    "print (\"CV_scores are : \", CV_scores)\n",
    "print (\"Average CV_Score = \",np.mean(CV_scores))"
   ]
  },
  {
   "cell_type": "code",
   "execution_count": 233,
   "metadata": {},
   "outputs": [
    {
     "name": "stdout",
     "output_type": "stream",
     "text": [
      "CV_scores are :  [0.26513266 0.27040392 0.25441709 0.29030412 0.28181458 0.31326955\n",
      " 0.28486763 0.32631439 0.38820705 0.32953115]\n",
      "Average CV_Score =  0.3004262132513581\n"
     ]
    }
   ],
   "source": [
    "# Ridge Regression\n",
    "CV_scores = cross_val_score(my_Ridge, X, y, cv = 10)\n",
    "print (\"CV_scores are : \", CV_scores)\n",
    "print (\"Average CV_Score = \",np.mean(CV_scores))"
   ]
  },
  {
   "cell_type": "code",
   "execution_count": 234,
   "metadata": {},
   "outputs": [
    {
     "name": "stdout",
     "output_type": "stream",
     "text": [
      "CV_scores are :  [0.26512957 0.2704032  0.25441674 0.29030359 0.28181891 0.31326734\n",
      " 0.28486886 0.32631505 0.38820636 0.32953121]\n",
      "Average CV_Score =  0.3004260839609176\n"
     ]
    }
   ],
   "source": [
    "# Ridge + Feature Scaling \n",
    "# Same Code for Ridge + Polynomial Features\n",
    "CV_scores = cross_val_score(my_ridge, X, y, cv = 10)\n",
    "print (\"CV_scores are : \", CV_scores)\n",
    "print (\"Average CV_Score = \",np.mean(CV_scores))"
   ]
  },
  {
   "cell_type": "code",
   "execution_count": 235,
   "metadata": {},
   "outputs": [
    {
     "name": "stdout",
     "output_type": "stream",
     "text": [
      "CV_scores are :  [0.09197496 0.08988404 0.07940072 0.0449511  0.07718988 0.07852233\n",
      " 0.05956497 0.06022491 0.12094654 0.11303438]\n",
      "Average CV_Score =  0.08156938391474912\n"
     ]
    }
   ],
   "source": [
    "# Lasso\n",
    "# Same Code for Lasso + Feature Scaling\n",
    "CV_scores = cross_val_score(my_Lasso, X, y, cv = 10)\n",
    "print (\"CV_scores are : \", CV_scores)\n",
    "print (\"Average CV_Score = \",np.mean(CV_scores))"
   ]
  },
  {
   "cell_type": "code",
   "execution_count": 236,
   "metadata": {},
   "outputs": [
    {
     "name": "stdout",
     "output_type": "stream",
     "text": [
      "CV_scores are :  [0.72267206 0.73279352 0.71659919 0.72064777 0.72469636 0.72064777\n",
      " 0.71659919 0.71862348 0.73833671 0.71805274]\n",
      "Average CV_Score =  0.7229668804559378\n"
     ]
    }
   ],
   "source": [
    "# KNN \n",
    "CV_scores = cross_val_score(My_KNN, X, y, cv = 10)\n",
    "print (\"CV_scores are : \", CV_scores)\n",
    "print (\"Average CV_Score = \",np.mean(CV_scores))"
   ]
  },
  {
   "cell_type": "code",
   "execution_count": 237,
   "metadata": {},
   "outputs": [
    {
     "name": "stdout",
     "output_type": "stream",
     "text": [
      "CV_scores are :  [0.7388664  0.75101215 0.75506073 0.74898785 0.75101215 0.74898785\n",
      " 0.73076923 0.74493927 0.80121704 0.74442191]\n",
      "Average CV_Score =  0.751527457276363\n"
     ]
    }
   ],
   "source": [
    "# Decision Tree\n",
    "CV_scores = cross_val_score(My_Tree, X, y, cv = 10)\n",
    "print (\"CV_scores are : \", CV_scores)\n",
    "print (\"Average CV_Score = \",np.mean(CV_scores))"
   ]
  },
  {
   "cell_type": "code",
   "execution_count": 238,
   "metadata": {},
   "outputs": [
    {
     "name": "stdout",
     "output_type": "stream",
     "text": [
      "CV_scores are :  [0.80769231 0.77935223 0.8097166  0.80769231 0.81174089 0.77530364\n",
      " 0.80364372 0.81781377 0.8356998  0.81744422]\n",
      "Average CV_Score =  0.8066099481814225\n"
     ]
    }
   ],
   "source": [
    "# SVM\n",
    "CV_scores = cross_val_score(My_SVC, X, y, cv = 10)\n",
    "print (\"CV_scores are : \", CV_scores)\n",
    "print (\"Average CV_Score = \",np.mean(CV_scores))"
   ]
  },
  {
   "cell_type": "code",
   "execution_count": 239,
   "metadata": {},
   "outputs": [
    {
     "name": "stdout",
     "output_type": "stream",
     "text": [
      "CV_scores are :  [0.73481781 0.70040486 0.74696356 0.62955466 0.64979757 0.64574899\n",
      " 0.6437247  0.64574899 0.65720081 0.64908722]\n",
      "Average CV_Score =  0.67030491660576\n"
     ]
    }
   ],
   "source": [
    "# GNB\n",
    "CV_scores = cross_val_score(My_GNB, X, y, cv = 10)\n",
    "print (\"CV_scores are : \", CV_scores)\n",
    "print (\"Average CV_Score = \",np.mean(CV_scores))"
   ]
  },
  {
   "cell_type": "code",
   "execution_count": 240,
   "metadata": {},
   "outputs": [
    {
     "name": "stdout",
     "output_type": "stream",
     "text": [
      "CV_scores are :  [0.74696356 0.75708502 0.74291498 0.78137652 0.76923077 0.77732794\n",
      " 0.76518219 0.79352227 0.82758621 0.79513185]\n",
      "Average CV_Score =  0.7756321291604734\n"
     ]
    }
   ],
   "source": [
    "#Random Forest\n",
    "CV_scores = cross_val_score(My_Forest, X, y, cv = 10)\n",
    "print (\"CV_scores are : \", CV_scores)\n",
    "print (\"Average CV_Score = \",np.mean(CV_scores))\n"
   ]
  },
  {
   "cell_type": "code",
   "execution_count": 241,
   "metadata": {},
   "outputs": [
    {
     "name": "stdout",
     "output_type": "stream",
     "text": [
      "CV_scores are :  [0.78744939 0.78744939 0.78340081 0.77732794 0.81578947 0.76923077\n",
      " 0.80566802 0.80566802 0.8356998  0.81338742]\n",
      "Average CV_Score =  0.7981071026763351\n"
     ]
    }
   ],
   "source": [
    "#Gradient Boosted \n",
    "CV_scores = cross_val_score(My_GBDT, X, y, cv = 10)\n",
    "print (\"CV_scores are : \", CV_scores)\n",
    "print (\"Average CV_Score = \",np.mean(CV_scores))"
   ]
  },
  {
   "cell_type": "code",
   "execution_count": 242,
   "metadata": {},
   "outputs": [],
   "source": [
    "\n",
    "\n",
    "\n",
    "\n",
    "\n",
    "\n",
    "\n",
    "\n",
    "\n",
    "\n",
    "\n",
    "\n",
    "\n",
    "\n",
    "#"
   ]
  },
  {
   "cell_type": "markdown",
   "metadata": {},
   "source": [
    "# <div class=\"alert alert-block alert-info\"> DF3-A </div>"
   ]
  },
  {
   "cell_type": "code",
   "execution_count": 243,
   "metadata": {},
   "outputs": [
    {
     "data": {
      "text/html": [
       "<div>\n",
       "<style scoped>\n",
       "    .dataframe tbody tr th:only-of-type {\n",
       "        vertical-align: middle;\n",
       "    }\n",
       "\n",
       "    .dataframe tbody tr th {\n",
       "        vertical-align: top;\n",
       "    }\n",
       "\n",
       "    .dataframe thead th {\n",
       "        text-align: right;\n",
       "    }\n",
       "</style>\n",
       "<table border=\"1\" class=\"dataframe\">\n",
       "  <thead>\n",
       "    <tr style=\"text-align: right;\">\n",
       "      <th></th>\n",
       "      <th>home_team</th>\n",
       "      <th>away_team</th>\n",
       "      <th>home_pos</th>\n",
       "      <th>away_pos</th>\n",
       "      <th>home_shots_on_target</th>\n",
       "      <th>away_shots_on_target</th>\n",
       "      <th>home_shots</th>\n",
       "      <th>away_shots</th>\n",
       "      <th>home_touch</th>\n",
       "      <th>away_touch</th>\n",
       "      <th>home_pass</th>\n",
       "      <th>away_pass</th>\n",
       "      <th>home_tackles</th>\n",
       "      <th>away_tackles</th>\n",
       "      <th>home_clear</th>\n",
       "      <th>away_clear</th>\n",
       "      <th>home_corner</th>\n",
       "      <th>away_corner</th>\n",
       "      <th>home_off</th>\n",
       "      <th>away_off</th>\n",
       "      <th>home_yellow</th>\n",
       "      <th>away_yellow</th>\n",
       "      <th>home_red</th>\n",
       "      <th>away_red</th>\n",
       "      <th>home_fouls</th>\n",
       "      <th>away_fouls</th>\n",
       "      <th>winner</th>\n",
       "      <th>win</th>\n",
       "    </tr>\n",
       "    <tr>\n",
       "      <th>season</th>\n",
       "      <th></th>\n",
       "      <th></th>\n",
       "      <th></th>\n",
       "      <th></th>\n",
       "      <th></th>\n",
       "      <th></th>\n",
       "      <th></th>\n",
       "      <th></th>\n",
       "      <th></th>\n",
       "      <th></th>\n",
       "      <th></th>\n",
       "      <th></th>\n",
       "      <th></th>\n",
       "      <th></th>\n",
       "      <th></th>\n",
       "      <th></th>\n",
       "      <th></th>\n",
       "      <th></th>\n",
       "      <th></th>\n",
       "      <th></th>\n",
       "      <th></th>\n",
       "      <th></th>\n",
       "      <th></th>\n",
       "      <th></th>\n",
       "      <th></th>\n",
       "      <th></th>\n",
       "      <th></th>\n",
       "      <th></th>\n",
       "    </tr>\n",
       "  </thead>\n",
       "  <tbody>\n",
       "    <tr>\n",
       "      <th>2006/2007</th>\n",
       "      <td>1</td>\n",
       "      <td>13</td>\n",
       "      <td>72.9</td>\n",
       "      <td>27.1</td>\n",
       "      <td>7</td>\n",
       "      <td>3</td>\n",
       "      <td>24</td>\n",
       "      <td>6</td>\n",
       "      <td>807</td>\n",
       "      <td>417</td>\n",
       "      <td>631</td>\n",
       "      <td>232</td>\n",
       "      <td>22</td>\n",
       "      <td>33</td>\n",
       "      <td>14</td>\n",
       "      <td>51</td>\n",
       "      <td>18</td>\n",
       "      <td>1</td>\n",
       "      <td>2</td>\n",
       "      <td>6</td>\n",
       "      <td>1</td>\n",
       "      <td>2</td>\n",
       "      <td>0</td>\n",
       "      <td>0</td>\n",
       "      <td>10</td>\n",
       "      <td>19</td>\n",
       "      <td>0</td>\n",
       "      <td>0</td>\n",
       "    </tr>\n",
       "    <tr>\n",
       "      <th>2006/2007</th>\n",
       "      <td>2</td>\n",
       "      <td>11</td>\n",
       "      <td>37.8</td>\n",
       "      <td>62.2</td>\n",
       "      <td>4</td>\n",
       "      <td>2</td>\n",
       "      <td>13</td>\n",
       "      <td>10</td>\n",
       "      <td>411</td>\n",
       "      <td>591</td>\n",
       "      <td>243</td>\n",
       "      <td>427</td>\n",
       "      <td>28</td>\n",
       "      <td>17</td>\n",
       "      <td>20</td>\n",
       "      <td>43</td>\n",
       "      <td>6</td>\n",
       "      <td>3</td>\n",
       "      <td>3</td>\n",
       "      <td>1</td>\n",
       "      <td>0</td>\n",
       "      <td>0</td>\n",
       "      <td>0</td>\n",
       "      <td>0</td>\n",
       "      <td>22</td>\n",
       "      <td>22</td>\n",
       "      <td>1</td>\n",
       "      <td>1</td>\n",
       "    </tr>\n",
       "    <tr>\n",
       "      <th>2006/2007</th>\n",
       "      <td>3</td>\n",
       "      <td>12</td>\n",
       "      <td>47.0</td>\n",
       "      <td>53.0</td>\n",
       "      <td>2</td>\n",
       "      <td>7</td>\n",
       "      <td>8</td>\n",
       "      <td>13</td>\n",
       "      <td>460</td>\n",
       "      <td>493</td>\n",
       "      <td>288</td>\n",
       "      <td>321</td>\n",
       "      <td>17</td>\n",
       "      <td>24</td>\n",
       "      <td>61</td>\n",
       "      <td>32</td>\n",
       "      <td>0</td>\n",
       "      <td>6</td>\n",
       "      <td>5</td>\n",
       "      <td>1</td>\n",
       "      <td>2</td>\n",
       "      <td>2</td>\n",
       "      <td>0</td>\n",
       "      <td>0</td>\n",
       "      <td>12</td>\n",
       "      <td>15</td>\n",
       "      <td>1</td>\n",
       "      <td>1</td>\n",
       "    </tr>\n",
       "    <tr>\n",
       "      <th>2006/2007</th>\n",
       "      <td>4</td>\n",
       "      <td>20</td>\n",
       "      <td>55.3</td>\n",
       "      <td>44.7</td>\n",
       "      <td>5</td>\n",
       "      <td>4</td>\n",
       "      <td>8</td>\n",
       "      <td>13</td>\n",
       "      <td>519</td>\n",
       "      <td>448</td>\n",
       "      <td>352</td>\n",
       "      <td>278</td>\n",
       "      <td>27</td>\n",
       "      <td>33</td>\n",
       "      <td>15</td>\n",
       "      <td>16</td>\n",
       "      <td>4</td>\n",
       "      <td>11</td>\n",
       "      <td>6</td>\n",
       "      <td>3</td>\n",
       "      <td>1</td>\n",
       "      <td>2</td>\n",
       "      <td>0</td>\n",
       "      <td>0</td>\n",
       "      <td>18</td>\n",
       "      <td>19</td>\n",
       "      <td>1</td>\n",
       "      <td>1</td>\n",
       "    </tr>\n",
       "    <tr>\n",
       "      <th>2006/2007</th>\n",
       "      <td>5</td>\n",
       "      <td>14</td>\n",
       "      <td>44.3</td>\n",
       "      <td>55.7</td>\n",
       "      <td>11</td>\n",
       "      <td>3</td>\n",
       "      <td>21</td>\n",
       "      <td>8</td>\n",
       "      <td>415</td>\n",
       "      <td>527</td>\n",
       "      <td>279</td>\n",
       "      <td>327</td>\n",
       "      <td>23</td>\n",
       "      <td>19</td>\n",
       "      <td>15</td>\n",
       "      <td>28</td>\n",
       "      <td>6</td>\n",
       "      <td>2</td>\n",
       "      <td>5</td>\n",
       "      <td>0</td>\n",
       "      <td>2</td>\n",
       "      <td>0</td>\n",
       "      <td>0</td>\n",
       "      <td>1</td>\n",
       "      <td>22</td>\n",
       "      <td>17</td>\n",
       "      <td>1</td>\n",
       "      <td>1</td>\n",
       "    </tr>\n",
       "  </tbody>\n",
       "</table>\n",
       "</div>"
      ],
      "text/plain": [
       "           home_team  away_team  home_pos  away_pos  home_shots_on_target  \\\n",
       "season                                                                      \n",
       "2006/2007          1         13      72.9      27.1                     7   \n",
       "2006/2007          2         11      37.8      62.2                     4   \n",
       "2006/2007          3         12      47.0      53.0                     2   \n",
       "2006/2007          4         20      55.3      44.7                     5   \n",
       "2006/2007          5         14      44.3      55.7                    11   \n",
       "\n",
       "           away_shots_on_target  home_shots  away_shots  home_touch  \\\n",
       "season                                                                \n",
       "2006/2007                     3          24           6         807   \n",
       "2006/2007                     2          13          10         411   \n",
       "2006/2007                     7           8          13         460   \n",
       "2006/2007                     4           8          13         519   \n",
       "2006/2007                     3          21           8         415   \n",
       "\n",
       "           away_touch  home_pass  away_pass  home_tackles  away_tackles  \\\n",
       "season                                                                    \n",
       "2006/2007         417        631        232            22            33   \n",
       "2006/2007         591        243        427            28            17   \n",
       "2006/2007         493        288        321            17            24   \n",
       "2006/2007         448        352        278            27            33   \n",
       "2006/2007         527        279        327            23            19   \n",
       "\n",
       "           home_clear  away_clear  home_corner  away_corner  home_off  \\\n",
       "season                                                                  \n",
       "2006/2007          14          51           18            1         2   \n",
       "2006/2007          20          43            6            3         3   \n",
       "2006/2007          61          32            0            6         5   \n",
       "2006/2007          15          16            4           11         6   \n",
       "2006/2007          15          28            6            2         5   \n",
       "\n",
       "           away_off  home_yellow  away_yellow  home_red  away_red  home_fouls  \\\n",
       "season                                                                          \n",
       "2006/2007         6            1            2         0         0          10   \n",
       "2006/2007         1            0            0         0         0          22   \n",
       "2006/2007         1            2            2         0         0          12   \n",
       "2006/2007         3            1            2         0         0          18   \n",
       "2006/2007         0            2            0         0         1          22   \n",
       "\n",
       "           away_fouls  winner  win  \n",
       "season                              \n",
       "2006/2007          19       0    0  \n",
       "2006/2007          22       1    1  \n",
       "2006/2007          15       1    1  \n",
       "2006/2007          19       1    1  \n",
       "2006/2007          17       1    1  "
      ]
     },
     "execution_count": 243,
     "metadata": {},
     "output_type": "execute_result"
    }
   ],
   "source": [
    "# The DF3-A Dataset\n",
    "\n",
    "# Independent Variable is 0 for a home loss or tie and 1 for a home win.\n",
    "\n",
    "df3.iloc[:,:-1].head()"
   ]
  },
  {
   "cell_type": "markdown",
   "metadata": {},
   "source": [
    "## DF for Scores"
   ]
  },
  {
   "cell_type": "code",
   "execution_count": 244,
   "metadata": {},
   "outputs": [],
   "source": [
    "#rquares df\n",
    "\n",
    "rsquaresdf3_A = pd.DataFrame()\n",
    "\n",
    "\n",
    "#accuracy df\n",
    "\n",
    "accuracydf3_A = pd.DataFrame()"
   ]
  },
  {
   "cell_type": "markdown",
   "metadata": {},
   "source": [
    "# Multi Linear Regression"
   ]
  },
  {
   "cell_type": "code",
   "execution_count": 245,
   "metadata": {},
   "outputs": [],
   "source": [
    "# Asigning Variables\n",
    "X = df3.iloc[:,:-3]\n",
    "y = df3.iloc[:,-2]"
   ]
  },
  {
   "cell_type": "code",
   "execution_count": 246,
   "metadata": {},
   "outputs": [],
   "source": [
    "# Sperate train and test data\n",
    "from sklearn.model_selection import train_test_split\n",
    "\n",
    "X_train, X_test, y_train, y_test = train_test_split(X, y, test_size = 0.20)"
   ]
  },
  {
   "cell_type": "code",
   "execution_count": 247,
   "metadata": {},
   "outputs": [],
   "source": [
    "#import the model\n",
    "from sklearn.linear_model import LinearRegression"
   ]
  },
  {
   "cell_type": "code",
   "execution_count": 248,
   "metadata": {},
   "outputs": [],
   "source": [
    "my_model = LinearRegression().fit(X_train, y_train)"
   ]
  },
  {
   "cell_type": "code",
   "execution_count": 249,
   "metadata": {},
   "outputs": [],
   "source": [
    "#prediction test\n",
    "y_predict = my_model.predict(X_test)\n",
    "\n",
    "#prediction train\n",
    "y_predict_train = my_model.predict(X_train)"
   ]
  },
  {
   "cell_type": "code",
   "execution_count": 250,
   "metadata": {},
   "outputs": [
    {
     "name": "stdout",
     "output_type": "stream",
     "text": [
      "R Squared for test data is:  0.3954916066610725\n",
      "R Squared for training data is:  0.3481017386963331\n"
     ]
    }
   ],
   "source": [
    "#accuracy metrics\n",
    "from sklearn.metrics import r2_score\n",
    "\n",
    "print('R Squared for test data is: ', r2_score(y_test, y_predict))\n",
    "print('R Squared for training data is: ', r2_score(y_train, y_predict_train))"
   ]
  },
  {
   "cell_type": "code",
   "execution_count": 251,
   "metadata": {},
   "outputs": [],
   "source": [
    "#add to metrics df\n",
    "\n",
    "rsquaresdf3_A['MLR'] = [ r2_score(y_test, y_predict), r2_score(y_train, y_predict_train)]\n",
    "\n"
   ]
  },
  {
   "cell_type": "markdown",
   "metadata": {},
   "source": [
    "# Regularized Regression - Ridge"
   ]
  },
  {
   "cell_type": "code",
   "execution_count": 252,
   "metadata": {},
   "outputs": [],
   "source": [
    "# Asigning Variables\n",
    "\n",
    "X = df3.iloc[:,:-3]\n",
    "y = df3.iloc[:,-2]"
   ]
  },
  {
   "cell_type": "code",
   "execution_count": 253,
   "metadata": {},
   "outputs": [],
   "source": [
    "# Sperate train and test data\n",
    "from sklearn.model_selection import train_test_split\n",
    "\n",
    "X_train, X_test, y_train, y_test = train_test_split(X, y, test_size = 0.20)"
   ]
  },
  {
   "cell_type": "code",
   "execution_count": 254,
   "metadata": {},
   "outputs": [],
   "source": [
    "#import the model\n",
    "from sklearn.linear_model import Ridge"
   ]
  },
  {
   "cell_type": "code",
   "execution_count": 255,
   "metadata": {},
   "outputs": [],
   "source": [
    "my_Ridge = Ridge(alpha = .45).fit(X_train, y_train)"
   ]
  },
  {
   "cell_type": "code",
   "execution_count": 256,
   "metadata": {},
   "outputs": [],
   "source": [
    "#predict test\n",
    "y_predict = my_Ridge.predict(X_test)\n",
    "\n",
    "#predict train\n",
    "y_predict_train = my_Ridge.predict(X_train)"
   ]
  },
  {
   "cell_type": "code",
   "execution_count": 257,
   "metadata": {},
   "outputs": [
    {
     "name": "stdout",
     "output_type": "stream",
     "text": [
      "R Squared for test data is:  0.36795839592348956\n",
      "R Squared for training data is:  0.35491815108593416\n"
     ]
    }
   ],
   "source": [
    "#add to metrics df\n",
    "\n",
    "\n",
    "#accuracy metrics\n",
    "from sklearn.metrics import r2_score\n",
    "\n",
    "print('R Squared for test data is: ', r2_score(y_test, y_predict))\n",
    "print('R Squared for training data is: ', r2_score(y_train, y_predict_train))"
   ]
  },
  {
   "cell_type": "code",
   "execution_count": 258,
   "metadata": {},
   "outputs": [],
   "source": [
    "#add to metrics df\n",
    "\n",
    "rsquaresdf3_A['Ridge'] = [ r2_score(y_test, y_predict), r2_score(y_train, y_predict_train)]\n"
   ]
  },
  {
   "cell_type": "markdown",
   "metadata": {},
   "source": [
    "# Ridge + Feature Scaling (Normalization)"
   ]
  },
  {
   "cell_type": "code",
   "execution_count": 259,
   "metadata": {},
   "outputs": [],
   "source": [
    "# Asigning Variables\n",
    "\n",
    "X = df3.iloc[:,:-3]\n",
    "y = df3.iloc[:,-2]"
   ]
  },
  {
   "cell_type": "code",
   "execution_count": 260,
   "metadata": {},
   "outputs": [],
   "source": [
    "# Sperate train and test data\n",
    "from sklearn.model_selection import train_test_split\n",
    "# Asigning Variables\n",
    "\n",
    "\n",
    "X_train, X_test, y_train, y_test = train_test_split(X, y, test_size = 0.20)"
   ]
  },
  {
   "cell_type": "code",
   "execution_count": 261,
   "metadata": {},
   "outputs": [],
   "source": [
    "#importing MinMaxScaler\n",
    "from sklearn.preprocessing import MinMaxScaler"
   ]
  },
  {
   "cell_type": "code",
   "execution_count": 262,
   "metadata": {},
   "outputs": [],
   "source": [
    "#create an object of MinMaxScaler\n",
    "scaler = MinMaxScaler()"
   ]
  },
  {
   "cell_type": "code",
   "execution_count": 263,
   "metadata": {},
   "outputs": [
    {
     "data": {
      "text/plain": [
       "MinMaxScaler(copy=True, feature_range=(0, 1))"
      ]
     },
     "execution_count": 263,
     "metadata": {},
     "output_type": "execute_result"
    }
   ],
   "source": [
    "#normalizing the data\n",
    "\n",
    "#fitting\n",
    "scaler.fit(X_train)\n",
    "\n",
    "#transforming the x varaible\n",
    "X_train_scaled = scaler.transform(X_train)\n",
    "\n",
    "X_test_scaled = scaler.transform(X_test)"
   ]
  },
  {
   "cell_type": "code",
   "execution_count": 264,
   "metadata": {},
   "outputs": [],
   "source": [
    "#create model with scaled data\n",
    "my_ridge = Ridge(alpha = 7).fit(X_train_scaled, y_train)"
   ]
  },
  {
   "cell_type": "code",
   "execution_count": 265,
   "metadata": {},
   "outputs": [],
   "source": [
    "#make predictions\n",
    "\n",
    "#test data\n",
    "y_predict = my_ridge.predict(X_test_scaled)\n",
    "\n",
    "#train data\n",
    "y_predict_train = my_ridge.predict(X_train_scaled)\n"
   ]
  },
  {
   "cell_type": "code",
   "execution_count": 266,
   "metadata": {
    "scrolled": true
   },
   "outputs": [
    {
     "name": "stdout",
     "output_type": "stream",
     "text": [
      "R Squared for test data is:  0.32324825709405913\n",
      "R Squared for training data is:  0.3422023036923828\n"
     ]
    }
   ],
   "source": [
    "#accuracy metrics\n",
    "from sklearn.metrics import r2_score\n",
    "\n",
    "print('R Squared for test data is: ', r2_score(y_test, y_predict))\n",
    "print('R Squared for training data is: ', r2_score(y_train, y_predict_train))"
   ]
  },
  {
   "cell_type": "code",
   "execution_count": 267,
   "metadata": {},
   "outputs": [],
   "source": [
    "#add to metrics df\n",
    "\n",
    "rsquaresdf3_A['Ridge - Feature Scale'] = [ r2_score(y_test, y_predict), r2_score(y_train, y_predict_train)]\n"
   ]
  },
  {
   "cell_type": "markdown",
   "metadata": {},
   "source": [
    "# Ridge + Polynomial Features"
   ]
  },
  {
   "cell_type": "code",
   "execution_count": 268,
   "metadata": {},
   "outputs": [],
   "source": [
    "# Asigning Variables\n",
    "\n",
    "X = df3.iloc[:,:-3]\n",
    "y = df3.iloc[:,-2]"
   ]
  },
  {
   "cell_type": "code",
   "execution_count": 269,
   "metadata": {},
   "outputs": [],
   "source": [
    "#import polynomial features\n",
    "from sklearn.preprocessing import PolynomialFeatures"
   ]
  },
  {
   "cell_type": "code",
   "execution_count": 270,
   "metadata": {},
   "outputs": [],
   "source": [
    "#Create an object\n",
    "poly = PolynomialFeatures(degree=2)\n",
    "\n",
    "#Create new features of X variable\n",
    "X_poly = poly.fit_transform(X)"
   ]
  },
  {
   "cell_type": "code",
   "execution_count": 271,
   "metadata": {},
   "outputs": [],
   "source": [
    "# Sperate train and test data\n",
    "from sklearn.model_selection import train_test_split\n",
    "\n",
    "X_train, X_test, y_train, y_test = train_test_split(X, y, test_size = 0.20)"
   ]
  },
  {
   "cell_type": "code",
   "execution_count": 272,
   "metadata": {},
   "outputs": [],
   "source": [
    "my_ridge = Ridge(alpha = .4).fit(X_train, y_train)"
   ]
  },
  {
   "cell_type": "code",
   "execution_count": 273,
   "metadata": {},
   "outputs": [],
   "source": [
    "#predict test\n",
    "y_predict = my_ridge.predict(X_test)\n",
    "\n",
    "#predict train\n",
    "y_predict_train = my_ridge.predict(X_train)"
   ]
  },
  {
   "cell_type": "code",
   "execution_count": 274,
   "metadata": {},
   "outputs": [
    {
     "name": "stdout",
     "output_type": "stream",
     "text": [
      "R Squared for test data is:  0.38245083698736415\n",
      "R Squared for training data is:  0.35118360636142365\n"
     ]
    }
   ],
   "source": [
    "from sklearn.metrics import r2_score\n",
    "\n",
    "print('R Squared for test data is: ', r2_score(y_test, y_predict))\n",
    "print('R Squared for training data is: ', r2_score(y_train, y_predict_train))"
   ]
  },
  {
   "cell_type": "code",
   "execution_count": 275,
   "metadata": {},
   "outputs": [],
   "source": [
    "#add to metrics df\n",
    "\n",
    "rsquaresdf3_A['Ridge - Poly Features'] = [ r2_score(y_test, y_predict), r2_score(y_train, y_predict_train)]\n"
   ]
  },
  {
   "cell_type": "markdown",
   "metadata": {},
   "source": [
    "# Regularized Regression - Lasso"
   ]
  },
  {
   "cell_type": "code",
   "execution_count": 276,
   "metadata": {},
   "outputs": [],
   "source": [
    "# Asigning Variables\n",
    "\n",
    "X = df3.iloc[:,:-3]\n",
    "y = df3.iloc[:,-2]"
   ]
  },
  {
   "cell_type": "code",
   "execution_count": 277,
   "metadata": {},
   "outputs": [],
   "source": [
    "# Sperate train and test data\n",
    "from sklearn.model_selection import train_test_split\n",
    "\n",
    "X_train, X_test, y_train, y_test = train_test_split(X, y, test_size = 0.20)# Asigning Variables\n",
    "\n"
   ]
  },
  {
   "cell_type": "code",
   "execution_count": 278,
   "metadata": {},
   "outputs": [],
   "source": [
    "#import the model\n",
    "from sklearn.linear_model import Lasso"
   ]
  },
  {
   "cell_type": "code",
   "execution_count": 279,
   "metadata": {},
   "outputs": [],
   "source": [
    "my_Lasso = Lasso(alpha = .15).fit(X_train, y_train)"
   ]
  },
  {
   "cell_type": "code",
   "execution_count": 280,
   "metadata": {},
   "outputs": [],
   "source": [
    "#predict test\n",
    "y_predict = my_Lasso.predict(X_test)\n",
    "\n",
    "#predict_train\n",
    "y_predict_train = my_Lasso.predict(X_train)"
   ]
  },
  {
   "cell_type": "code",
   "execution_count": 281,
   "metadata": {},
   "outputs": [
    {
     "name": "stdout",
     "output_type": "stream",
     "text": [
      "R Squared for test data is:  0.2953442061810996\n",
      "R Squared for training data is:  0.28457671735212\n"
     ]
    }
   ],
   "source": [
    "from sklearn.metrics import r2_score\n",
    "\n",
    "print('R Squared for test data is: ', r2_score(y_test, y_predict))\n",
    "print('R Squared for training data is: ', r2_score(y_train, y_predict_train))"
   ]
  },
  {
   "cell_type": "code",
   "execution_count": 282,
   "metadata": {},
   "outputs": [],
   "source": [
    "#add to metrics df\n",
    "\n",
    "rsquaresdf3_A['Lasso'] = [ r2_score(y_test, y_predict), r2_score(y_train, y_predict_train)]\n"
   ]
  },
  {
   "cell_type": "markdown",
   "metadata": {},
   "source": [
    "# Lasso + Feature Scaling (Normalization)"
   ]
  },
  {
   "cell_type": "code",
   "execution_count": 283,
   "metadata": {},
   "outputs": [],
   "source": [
    "# Asigning Variables\n",
    "\n",
    "X = df3.iloc[:,:-3]\n",
    "y = df3.iloc[:,-2]"
   ]
  },
  {
   "cell_type": "code",
   "execution_count": 284,
   "metadata": {},
   "outputs": [],
   "source": [
    "# Sperate train and test data\n",
    "from sklearn.model_selection import train_test_split\n",
    "\n",
    "X_train, X_test, y_train, y_test = train_test_split(X, y, test_size = 0.20)"
   ]
  },
  {
   "cell_type": "code",
   "execution_count": 285,
   "metadata": {},
   "outputs": [],
   "source": [
    "#importing MinMaxScaler\n",
    "from sklearn.preprocessing import MinMaxScaler"
   ]
  },
  {
   "cell_type": "code",
   "execution_count": 286,
   "metadata": {},
   "outputs": [],
   "source": [
    "#create an object of MinMaxScaler\n",
    "scaler = MinMaxScaler()"
   ]
  },
  {
   "cell_type": "code",
   "execution_count": 287,
   "metadata": {},
   "outputs": [
    {
     "data": {
      "text/plain": [
       "MinMaxScaler(copy=True, feature_range=(0, 1))"
      ]
     },
     "execution_count": 287,
     "metadata": {},
     "output_type": "execute_result"
    }
   ],
   "source": [
    "#normalizing the data\n",
    "\n",
    "#fitting\n",
    "scaler.fit(X_train)\n",
    "\n",
    "#transforming the x varaible\n",
    "X_train_scaled = scaler.transform(X_train)\n",
    "\n",
    "X_test_scaled = scaler.transform(X_test)"
   ]
  },
  {
   "cell_type": "code",
   "execution_count": 288,
   "metadata": {},
   "outputs": [],
   "source": [
    "#import the model\n",
    "from sklearn.linear_model import Lasso"
   ]
  },
  {
   "cell_type": "code",
   "execution_count": 289,
   "metadata": {},
   "outputs": [],
   "source": [
    "my_Lasso = Lasso(alpha = .8).fit(X_train_scaled, y_train)"
   ]
  },
  {
   "cell_type": "code",
   "execution_count": 290,
   "metadata": {},
   "outputs": [],
   "source": [
    "#predict test\n",
    "y_predict = my_Lasso.predict(X_test_scaled)\n",
    "\n",
    "#predict_train\n",
    "y_predict_train = my_Lasso.predict(X_train_scaled)"
   ]
  },
  {
   "cell_type": "code",
   "execution_count": 291,
   "metadata": {},
   "outputs": [
    {
     "name": "stdout",
     "output_type": "stream",
     "text": [
      "R Squared for test data is:  -0.0010905864254822095\n",
      "R Squared for training data is:  0.0\n"
     ]
    }
   ],
   "source": [
    "from sklearn.metrics import r2_score\n",
    "\n",
    "print('R Squared for test data is: ', r2_score(y_test, y_predict))\n",
    "print('R Squared for training data is: ', r2_score(y_train, y_predict_train))"
   ]
  },
  {
   "cell_type": "code",
   "execution_count": 292,
   "metadata": {},
   "outputs": [],
   "source": [
    "#add to metrics df\n",
    "\n",
    "rsquaresdf3_A['Lasso - Feature Scaling'] = [ r2_score(y_test, y_predict), r2_score(y_train, y_predict_train)]\n"
   ]
  },
  {
   "cell_type": "markdown",
   "metadata": {},
   "source": [
    "# KNN"
   ]
  },
  {
   "cell_type": "code",
   "execution_count": 293,
   "metadata": {},
   "outputs": [],
   "source": [
    "# Asigning Variables\n",
    "\n",
    "X = df3.iloc[:,:-3]\n",
    "y = df3.iloc[:,-2]"
   ]
  },
  {
   "cell_type": "code",
   "execution_count": 294,
   "metadata": {},
   "outputs": [],
   "source": [
    "# Sperate train and test data\n",
    "from sklearn.model_selection import train_test_split\n",
    "\n",
    "X_train, X_test, y_train, y_test = train_test_split(X, y, test_size = 0.20)\n"
   ]
  },
  {
   "cell_type": "code",
   "execution_count": 295,
   "metadata": {},
   "outputs": [],
   "source": [
    "#Normalizing (Feature Scaling)\n",
    "from sklearn.preprocessing import StandardScaler\n",
    "\n",
    "scaler = StandardScaler()\n",
    "\n",
    "X_train = scaler.fit_transform(X_train)\n",
    "X_test = scaler.fit_transform(X_test)"
   ]
  },
  {
   "cell_type": "code",
   "execution_count": 296,
   "metadata": {},
   "outputs": [],
   "source": [
    "#import model\n",
    "from sklearn.neighbors import KNeighborsClassifier"
   ]
  },
  {
   "cell_type": "markdown",
   "metadata": {},
   "source": [
    "## Paramater Tuning Code"
   ]
  },
  {
   "cell_type": "code",
   "execution_count": 297,
   "metadata": {},
   "outputs": [
    {
     "data": {
      "text/plain": [
       "KNeighborsClassifier(algorithm='auto', leaf_size=30, metric='minkowski',\n",
       "                     metric_params=None, n_jobs=None, n_neighbors=1, p=2,\n",
       "                     weights='uniform')"
      ]
     },
     "execution_count": 297,
     "metadata": {},
     "output_type": "execute_result"
    },
    {
     "data": {
      "text/plain": [
       "KNeighborsClassifier(algorithm='auto', leaf_size=30, metric='minkowski',\n",
       "                     metric_params=None, n_jobs=None, n_neighbors=2, p=2,\n",
       "                     weights='uniform')"
      ]
     },
     "execution_count": 297,
     "metadata": {},
     "output_type": "execute_result"
    },
    {
     "data": {
      "text/plain": [
       "KNeighborsClassifier(algorithm='auto', leaf_size=30, metric='minkowski',\n",
       "                     metric_params=None, n_jobs=None, n_neighbors=3, p=2,\n",
       "                     weights='uniform')"
      ]
     },
     "execution_count": 297,
     "metadata": {},
     "output_type": "execute_result"
    },
    {
     "data": {
      "text/plain": [
       "KNeighborsClassifier(algorithm='auto', leaf_size=30, metric='minkowski',\n",
       "                     metric_params=None, n_jobs=None, n_neighbors=4, p=2,\n",
       "                     weights='uniform')"
      ]
     },
     "execution_count": 297,
     "metadata": {},
     "output_type": "execute_result"
    },
    {
     "data": {
      "text/plain": [
       "KNeighborsClassifier(algorithm='auto', leaf_size=30, metric='minkowski',\n",
       "                     metric_params=None, n_jobs=None, n_neighbors=5, p=2,\n",
       "                     weights='uniform')"
      ]
     },
     "execution_count": 297,
     "metadata": {},
     "output_type": "execute_result"
    },
    {
     "data": {
      "text/plain": [
       "KNeighborsClassifier(algorithm='auto', leaf_size=30, metric='minkowski',\n",
       "                     metric_params=None, n_jobs=None, n_neighbors=6, p=2,\n",
       "                     weights='uniform')"
      ]
     },
     "execution_count": 297,
     "metadata": {},
     "output_type": "execute_result"
    },
    {
     "data": {
      "text/plain": [
       "KNeighborsClassifier(algorithm='auto', leaf_size=30, metric='minkowski',\n",
       "                     metric_params=None, n_jobs=None, n_neighbors=7, p=2,\n",
       "                     weights='uniform')"
      ]
     },
     "execution_count": 297,
     "metadata": {},
     "output_type": "execute_result"
    },
    {
     "data": {
      "text/plain": [
       "KNeighborsClassifier(algorithm='auto', leaf_size=30, metric='minkowski',\n",
       "                     metric_params=None, n_jobs=None, n_neighbors=8, p=2,\n",
       "                     weights='uniform')"
      ]
     },
     "execution_count": 297,
     "metadata": {},
     "output_type": "execute_result"
    },
    {
     "data": {
      "text/plain": [
       "KNeighborsClassifier(algorithm='auto', leaf_size=30, metric='minkowski',\n",
       "                     metric_params=None, n_jobs=None, n_neighbors=9, p=2,\n",
       "                     weights='uniform')"
      ]
     },
     "execution_count": 297,
     "metadata": {},
     "output_type": "execute_result"
    },
    {
     "data": {
      "text/plain": [
       "KNeighborsClassifier(algorithm='auto', leaf_size=30, metric='minkowski',\n",
       "                     metric_params=None, n_jobs=None, n_neighbors=10, p=2,\n",
       "                     weights='uniform')"
      ]
     },
     "execution_count": 297,
     "metadata": {},
     "output_type": "execute_result"
    },
    {
     "data": {
      "text/plain": [
       "KNeighborsClassifier(algorithm='auto', leaf_size=30, metric='minkowski',\n",
       "                     metric_params=None, n_jobs=None, n_neighbors=11, p=2,\n",
       "                     weights='uniform')"
      ]
     },
     "execution_count": 297,
     "metadata": {},
     "output_type": "execute_result"
    },
    {
     "data": {
      "text/plain": [
       "KNeighborsClassifier(algorithm='auto', leaf_size=30, metric='minkowski',\n",
       "                     metric_params=None, n_jobs=None, n_neighbors=12, p=2,\n",
       "                     weights='uniform')"
      ]
     },
     "execution_count": 297,
     "metadata": {},
     "output_type": "execute_result"
    },
    {
     "data": {
      "text/plain": [
       "KNeighborsClassifier(algorithm='auto', leaf_size=30, metric='minkowski',\n",
       "                     metric_params=None, n_jobs=None, n_neighbors=13, p=2,\n",
       "                     weights='uniform')"
      ]
     },
     "execution_count": 297,
     "metadata": {},
     "output_type": "execute_result"
    },
    {
     "data": {
      "text/plain": [
       "KNeighborsClassifier(algorithm='auto', leaf_size=30, metric='minkowski',\n",
       "                     metric_params=None, n_jobs=None, n_neighbors=14, p=2,\n",
       "                     weights='uniform')"
      ]
     },
     "execution_count": 297,
     "metadata": {},
     "output_type": "execute_result"
    },
    {
     "data": {
      "text/plain": [
       "KNeighborsClassifier(algorithm='auto', leaf_size=30, metric='minkowski',\n",
       "                     metric_params=None, n_jobs=None, n_neighbors=15, p=2,\n",
       "                     weights='uniform')"
      ]
     },
     "execution_count": 297,
     "metadata": {},
     "output_type": "execute_result"
    },
    {
     "data": {
      "text/plain": [
       "KNeighborsClassifier(algorithm='auto', leaf_size=30, metric='minkowski',\n",
       "                     metric_params=None, n_jobs=None, n_neighbors=16, p=2,\n",
       "                     weights='uniform')"
      ]
     },
     "execution_count": 297,
     "metadata": {},
     "output_type": "execute_result"
    },
    {
     "data": {
      "text/plain": [
       "KNeighborsClassifier(algorithm='auto', leaf_size=30, metric='minkowski',\n",
       "                     metric_params=None, n_jobs=None, n_neighbors=17, p=2,\n",
       "                     weights='uniform')"
      ]
     },
     "execution_count": 297,
     "metadata": {},
     "output_type": "execute_result"
    },
    {
     "data": {
      "text/plain": [
       "KNeighborsClassifier(algorithm='auto', leaf_size=30, metric='minkowski',\n",
       "                     metric_params=None, n_jobs=None, n_neighbors=18, p=2,\n",
       "                     weights='uniform')"
      ]
     },
     "execution_count": 297,
     "metadata": {},
     "output_type": "execute_result"
    },
    {
     "data": {
      "text/plain": [
       "KNeighborsClassifier(algorithm='auto', leaf_size=30, metric='minkowski',\n",
       "                     metric_params=None, n_jobs=None, n_neighbors=19, p=2,\n",
       "                     weights='uniform')"
      ]
     },
     "execution_count": 297,
     "metadata": {},
     "output_type": "execute_result"
    },
    {
     "data": {
      "text/plain": [
       "KNeighborsClassifier(algorithm='auto', leaf_size=30, metric='minkowski',\n",
       "                     metric_params=None, n_jobs=None, n_neighbors=20, p=2,\n",
       "                     weights='uniform')"
      ]
     },
     "execution_count": 297,
     "metadata": {},
     "output_type": "execute_result"
    },
    {
     "data": {
      "text/plain": [
       "KNeighborsClassifier(algorithm='auto', leaf_size=30, metric='minkowski',\n",
       "                     metric_params=None, n_jobs=None, n_neighbors=21, p=2,\n",
       "                     weights='uniform')"
      ]
     },
     "execution_count": 297,
     "metadata": {},
     "output_type": "execute_result"
    },
    {
     "data": {
      "text/plain": [
       "KNeighborsClassifier(algorithm='auto', leaf_size=30, metric='minkowski',\n",
       "                     metric_params=None, n_jobs=None, n_neighbors=22, p=2,\n",
       "                     weights='uniform')"
      ]
     },
     "execution_count": 297,
     "metadata": {},
     "output_type": "execute_result"
    },
    {
     "data": {
      "text/plain": [
       "KNeighborsClassifier(algorithm='auto', leaf_size=30, metric='minkowski',\n",
       "                     metric_params=None, n_jobs=None, n_neighbors=23, p=2,\n",
       "                     weights='uniform')"
      ]
     },
     "execution_count": 297,
     "metadata": {},
     "output_type": "execute_result"
    },
    {
     "data": {
      "text/plain": [
       "KNeighborsClassifier(algorithm='auto', leaf_size=30, metric='minkowski',\n",
       "                     metric_params=None, n_jobs=None, n_neighbors=24, p=2,\n",
       "                     weights='uniform')"
      ]
     },
     "execution_count": 297,
     "metadata": {},
     "output_type": "execute_result"
    },
    {
     "data": {
      "text/plain": [
       "KNeighborsClassifier(algorithm='auto', leaf_size=30, metric='minkowski',\n",
       "                     metric_params=None, n_jobs=None, n_neighbors=25, p=2,\n",
       "                     weights='uniform')"
      ]
     },
     "execution_count": 297,
     "metadata": {},
     "output_type": "execute_result"
    },
    {
     "data": {
      "text/plain": [
       "KNeighborsClassifier(algorithm='auto', leaf_size=30, metric='minkowski',\n",
       "                     metric_params=None, n_jobs=None, n_neighbors=26, p=2,\n",
       "                     weights='uniform')"
      ]
     },
     "execution_count": 297,
     "metadata": {},
     "output_type": "execute_result"
    },
    {
     "data": {
      "text/plain": [
       "KNeighborsClassifier(algorithm='auto', leaf_size=30, metric='minkowski',\n",
       "                     metric_params=None, n_jobs=None, n_neighbors=27, p=2,\n",
       "                     weights='uniform')"
      ]
     },
     "execution_count": 297,
     "metadata": {},
     "output_type": "execute_result"
    },
    {
     "data": {
      "text/plain": [
       "KNeighborsClassifier(algorithm='auto', leaf_size=30, metric='minkowski',\n",
       "                     metric_params=None, n_jobs=None, n_neighbors=28, p=2,\n",
       "                     weights='uniform')"
      ]
     },
     "execution_count": 297,
     "metadata": {},
     "output_type": "execute_result"
    },
    {
     "data": {
      "text/plain": [
       "KNeighborsClassifier(algorithm='auto', leaf_size=30, metric='minkowski',\n",
       "                     metric_params=None, n_jobs=None, n_neighbors=29, p=2,\n",
       "                     weights='uniform')"
      ]
     },
     "execution_count": 297,
     "metadata": {},
     "output_type": "execute_result"
    },
    {
     "data": {
      "text/plain": [
       "KNeighborsClassifier(algorithm='auto', leaf_size=30, metric='minkowski',\n",
       "                     metric_params=None, n_jobs=None, n_neighbors=30, p=2,\n",
       "                     weights='uniform')"
      ]
     },
     "execution_count": 297,
     "metadata": {},
     "output_type": "execute_result"
    },
    {
     "data": {
      "text/plain": [
       "KNeighborsClassifier(algorithm='auto', leaf_size=30, metric='minkowski',\n",
       "                     metric_params=None, n_jobs=None, n_neighbors=31, p=2,\n",
       "                     weights='uniform')"
      ]
     },
     "execution_count": 297,
     "metadata": {},
     "output_type": "execute_result"
    },
    {
     "data": {
      "text/plain": [
       "KNeighborsClassifier(algorithm='auto', leaf_size=30, metric='minkowski',\n",
       "                     metric_params=None, n_jobs=None, n_neighbors=32, p=2,\n",
       "                     weights='uniform')"
      ]
     },
     "execution_count": 297,
     "metadata": {},
     "output_type": "execute_result"
    },
    {
     "data": {
      "text/plain": [
       "KNeighborsClassifier(algorithm='auto', leaf_size=30, metric='minkowski',\n",
       "                     metric_params=None, n_jobs=None, n_neighbors=33, p=2,\n",
       "                     weights='uniform')"
      ]
     },
     "execution_count": 297,
     "metadata": {},
     "output_type": "execute_result"
    },
    {
     "data": {
      "text/plain": [
       "KNeighborsClassifier(algorithm='auto', leaf_size=30, metric='minkowski',\n",
       "                     metric_params=None, n_jobs=None, n_neighbors=34, p=2,\n",
       "                     weights='uniform')"
      ]
     },
     "execution_count": 297,
     "metadata": {},
     "output_type": "execute_result"
    },
    {
     "data": {
      "text/plain": [
       "KNeighborsClassifier(algorithm='auto', leaf_size=30, metric='minkowski',\n",
       "                     metric_params=None, n_jobs=None, n_neighbors=35, p=2,\n",
       "                     weights='uniform')"
      ]
     },
     "execution_count": 297,
     "metadata": {},
     "output_type": "execute_result"
    },
    {
     "data": {
      "text/plain": [
       "KNeighborsClassifier(algorithm='auto', leaf_size=30, metric='minkowski',\n",
       "                     metric_params=None, n_jobs=None, n_neighbors=36, p=2,\n",
       "                     weights='uniform')"
      ]
     },
     "execution_count": 297,
     "metadata": {},
     "output_type": "execute_result"
    },
    {
     "data": {
      "text/plain": [
       "KNeighborsClassifier(algorithm='auto', leaf_size=30, metric='minkowski',\n",
       "                     metric_params=None, n_jobs=None, n_neighbors=37, p=2,\n",
       "                     weights='uniform')"
      ]
     },
     "execution_count": 297,
     "metadata": {},
     "output_type": "execute_result"
    },
    {
     "data": {
      "text/plain": [
       "KNeighborsClassifier(algorithm='auto', leaf_size=30, metric='minkowski',\n",
       "                     metric_params=None, n_jobs=None, n_neighbors=38, p=2,\n",
       "                     weights='uniform')"
      ]
     },
     "execution_count": 297,
     "metadata": {},
     "output_type": "execute_result"
    },
    {
     "data": {
      "text/plain": [
       "KNeighborsClassifier(algorithm='auto', leaf_size=30, metric='minkowski',\n",
       "                     metric_params=None, n_jobs=None, n_neighbors=39, p=2,\n",
       "                     weights='uniform')"
      ]
     },
     "execution_count": 297,
     "metadata": {},
     "output_type": "execute_result"
    },
    {
     "data": {
      "text/plain": [
       "<Figure size 864x432 with 0 Axes>"
      ]
     },
     "execution_count": 297,
     "metadata": {},
     "output_type": "execute_result"
    },
    {
     "data": {
      "text/plain": [
       "[<matplotlib.lines.Line2D at 0x1a1ff66160>]"
      ]
     },
     "execution_count": 297,
     "metadata": {},
     "output_type": "execute_result"
    },
    {
     "data": {
      "text/plain": [
       "Text(0.5, 1.0, 'Error Rates for different k-values')"
      ]
     },
     "execution_count": 297,
     "metadata": {},
     "output_type": "execute_result"
    },
    {
     "data": {
      "text/plain": [
       "Text(0.5, 0, 'k-value')"
      ]
     },
     "execution_count": 297,
     "metadata": {},
     "output_type": "execute_result"
    },
    {
     "data": {
      "text/plain": [
       "Text(0, 0.5, 'Mean Error')"
      ]
     },
     "execution_count": 297,
     "metadata": {},
     "output_type": "execute_result"
    },
    {
     "data": {
      "image/png": "[encoded data removed]",
      "text/plain": [
       "<Figure size 864x432 with 1 Axes>"
      ]
     },
     "metadata": {
      "needs_background": "light"
     },
     "output_type": "display_data"
    }
   ],
   "source": [
    "# Arbitrarily we chose k = 5 and it turns out to be a good choice. However, in reality we have to try mutiple values and select\n",
    "# the best one. This is what we do here:\n",
    "\n",
    "error = []\n",
    "\n",
    "# calculate the error for k values between 1 and 40\n",
    "for i in range(1, 40):\n",
    "    knn = KNeighborsClassifier(n_neighbors = i)\n",
    "    knn.fit(X_train, y_train)\n",
    "    pred_y_i = knn.predict(X_test)\n",
    "    error.append(np.mean(pred_y_i != y_test))\n",
    "    \n",
    "    \n",
    "# Now, we can plot the errors\n",
    "plt.figure(figsize = (12, 6))\n",
    "plt.plot(range(1, 40), error, color = 'red', linestyle = 'dashed', marker = 'o',\n",
    "        markerfacecolor = 'green', markersize = 10)\n",
    "\n",
    "plt.title('Error Rates for different k-values')\n",
    "plt.xlabel('k-value')\n",
    "plt.ylabel('Mean Error')\n",
    "plt.show()\n"
   ]
  },
  {
   "cell_type": "code",
   "execution_count": 298,
   "metadata": {},
   "outputs": [
    {
     "data": {
      "text/plain": [
       "KNeighborsClassifier(algorithm='auto', leaf_size=30, metric='minkowski',\n",
       "                     metric_params=None, n_jobs=None, n_neighbors=23, p=2,\n",
       "                     weights='uniform')"
      ]
     },
     "execution_count": 298,
     "metadata": {},
     "output_type": "execute_result"
    }
   ],
   "source": [
    "#create an instance\n",
    "\n",
    "My_KNN = KNeighborsClassifier(n_neighbors = 23) \n",
    "My_KNN.fit(X_train, y_train)"
   ]
  },
  {
   "cell_type": "code",
   "execution_count": 299,
   "metadata": {},
   "outputs": [],
   "source": [
    "#predict test\n",
    "y_predict = My_KNN.predict(X_test)\n",
    "\n",
    "#predict train\n",
    "y_predict_train = My_KNN.predict(X_train)"
   ]
  },
  {
   "cell_type": "code",
   "execution_count": 300,
   "metadata": {},
   "outputs": [
    {
     "name": "stdout",
     "output_type": "stream",
     "text": [
      "test data is:  0.6983805668016194\n",
      "training data is:  0.7437974683544304\n"
     ]
    }
   ],
   "source": [
    "#accuracy score\n",
    "from sklearn.metrics import accuracy_score\n",
    "\n",
    "print('test data is: ', accuracy_score(y_test, y_predict))\n",
    "print('training data is: ', accuracy_score(y_train, y_predict_train))"
   ]
  },
  {
   "cell_type": "code",
   "execution_count": 301,
   "metadata": {},
   "outputs": [],
   "source": [
    "#add to metrics df\n",
    "\n",
    "accuracydf3_A['KNN'] = [accuracy_score(y_test, y_predict), accuracy_score(y_train, y_predict_train)]\n"
   ]
  },
  {
   "cell_type": "markdown",
   "metadata": {},
   "source": [
    "# DECISION TREE"
   ]
  },
  {
   "cell_type": "code",
   "execution_count": 302,
   "metadata": {},
   "outputs": [],
   "source": [
    "# Asigning Variables\n",
    "\n",
    "X = df3.iloc[:,:-3]\n",
    "y = df3.iloc[:,-2]"
   ]
  },
  {
   "cell_type": "code",
   "execution_count": 303,
   "metadata": {},
   "outputs": [
    {
     "data": {
      "text/plain": [
       "DecisionTreeClassifier(ccp_alpha=0.0, class_weight=None, criterion='gini',\n",
       "                       max_depth=3, max_features=None, max_leaf_nodes=None,\n",
       "                       min_impurity_decrease=0.0, min_impurity_split=None,\n",
       "                       min_samples_leaf=7, min_samples_split=2,\n",
       "                       min_weight_fraction_leaf=0.0, presort='deprecated',\n",
       "                       random_state=None, splitter='best')"
      ]
     },
     "execution_count": 303,
     "metadata": {},
     "output_type": "execute_result"
    }
   ],
   "source": [
    "from sklearn.model_selection import train_test_split as SPLIT\n",
    "\n",
    "X_train, X_test, y_train, y_test = SPLIT(X, y, test_size = .2)\n",
    "\n",
    "from sklearn.tree import DecisionTreeClassifier\n",
    "\n",
    "My_Tree = DecisionTreeClassifier(max_depth = 3 ,min_samples_leaf = 7)\n",
    "\n",
    "My_Tree.fit(X_train, y_train)"
   ]
  },
  {
   "cell_type": "code",
   "execution_count": 304,
   "metadata": {},
   "outputs": [
    {
     "name": "stdout",
     "output_type": "stream",
     "text": [
      "test 0.6983805668016194\n",
      "train 0.7151898734177216\n"
     ]
    }
   ],
   "source": [
    "# print accuracy scores\n",
    "\n",
    "y_predict = My_Tree.predict(X_test)\n",
    "y_predict_train = My_Tree.predict(X_train)\n",
    "\n",
    "from sklearn.metrics import accuracy_score\n",
    "\n",
    "print(\"test\", accuracy_score(y_test, y_predict))\n",
    "print(\"train\", accuracy_score(y_train, y_predict_train))"
   ]
  },
  {
   "cell_type": "code",
   "execution_count": 305,
   "metadata": {},
   "outputs": [],
   "source": [
    "#add to metrics df\n",
    "\n",
    "accuracydf3_A['Decision Tree'] = [accuracy_score(y_test, y_predict), accuracy_score(y_train, y_predict_train)]\n"
   ]
  },
  {
   "cell_type": "markdown",
   "metadata": {},
   "source": [
    "## SVM - Only for Binary"
   ]
  },
  {
   "cell_type": "code",
   "execution_count": 306,
   "metadata": {},
   "outputs": [],
   "source": [
    "# Asigning Variables\n",
    "\n",
    "X = df3.iloc[:,:-3]\n",
    "y = df3.iloc[:,-2]"
   ]
  },
  {
   "cell_type": "markdown",
   "metadata": {},
   "source": [
    "## SVM Parameter Tuning"
   ]
  },
  {
   "cell_type": "code",
   "execution_count": 307,
   "metadata": {},
   "outputs": [
    {
     "data": {
      "text/plain": [
       "SVC(C=0.1, break_ties=False, cache_size=200, class_weight=None, coef0=0.0,\n",
       "    decision_function_shape='ovr', degree=3, gamma='scale', kernel='linear',\n",
       "    max_iter=-1, probability=False, random_state=None, shrinking=True,\n",
       "    tol=0.001, verbose=False)"
      ]
     },
     "execution_count": 307,
     "metadata": {},
     "output_type": "execute_result"
    },
    {
     "name": "stdout",
     "output_type": "stream",
     "text": [
      "SVC accuracy Test Data 0.1 =  0.7692307692307693\n",
      "SVC accuracy Training Data 0.1 =  0.7777215189873418\n",
      "Error = : 0.008\n"
     ]
    },
    {
     "data": {
      "text/plain": [
       "SVC(C=0.5, break_ties=False, cache_size=200, class_weight=None, coef0=0.0,\n",
       "    decision_function_shape='ovr', degree=3, gamma='scale', kernel='linear',\n",
       "    max_iter=-1, probability=False, random_state=None, shrinking=True,\n",
       "    tol=0.001, verbose=False)"
      ]
     },
     "execution_count": 307,
     "metadata": {},
     "output_type": "execute_result"
    },
    {
     "name": "stdout",
     "output_type": "stream",
     "text": [
      "SVC accuracy Test Data 0.5 =  0.7641700404858299\n",
      "SVC accuracy Training Data 0.5 =  0.7782278481012658\n",
      "Error = : 0.014\n"
     ]
    },
    {
     "data": {
      "text/plain": [
       "SVC(C=1, break_ties=False, cache_size=200, class_weight=None, coef0=0.0,\n",
       "    decision_function_shape='ovr', degree=3, gamma='scale', kernel='linear',\n",
       "    max_iter=-1, probability=False, random_state=None, shrinking=True,\n",
       "    tol=0.001, verbose=False)"
      ]
     },
     "execution_count": 307,
     "metadata": {},
     "output_type": "execute_result"
    },
    {
     "name": "stdout",
     "output_type": "stream",
     "text": [
      "SVC accuracy Test Data 1 =  0.7803643724696356\n",
      "SVC accuracy Training Data 1 =  0.7711392405063291\n",
      "Error = : 0.009\n"
     ]
    },
    {
     "data": {
      "text/plain": [
       "SVC(C=5, break_ties=False, cache_size=200, class_weight=None, coef0=0.0,\n",
       "    decision_function_shape='ovr', degree=3, gamma='scale', kernel='linear',\n",
       "    max_iter=-1, probability=False, random_state=None, shrinking=True,\n",
       "    tol=0.001, verbose=False)"
      ]
     },
     "execution_count": 307,
     "metadata": {},
     "output_type": "execute_result"
    },
    {
     "name": "stdout",
     "output_type": "stream",
     "text": [
      "SVC accuracy Test Data 5 =  0.7641700404858299\n",
      "SVC accuracy Training Data 5 =  0.7751898734177215\n",
      "Error = : 0.011\n"
     ]
    }
   ],
   "source": [
    "c_parameters = [.1,.5,1,5]\n",
    "\n",
    "for c in c_parameters:\n",
    "   # splitting data\n",
    "    from sklearn.model_selection import train_test_split as SPLIT\n",
    "\n",
    "    X_train, X_test, y_train, y_test = SPLIT(X, y, test_size = .2)\n",
    "\n",
    "    # Developing Model\n",
    "    from sklearn.svm import SVC\n",
    "\n",
    "    My_SVC = SVC(kernel = 'linear', C = c)\n",
    "\n",
    "    My_SVC.fit(X_train, y_train)\n",
    "    \n",
    "    y_predict = My_SVC.predict(X_test)\n",
    "\n",
    "    y_predict_train = My_SVC.predict(X_train)\n",
    "    \n",
    "    from sklearn.metrics import accuracy_score\n",
    "    \n",
    "    print(f'SVC accuracy Test Data {c} = ', accuracy_score(y_test, y_predict))\n",
    "\n",
    "    print(f'SVC accuracy Training Data {c} = ', accuracy_score(y_train, y_predict_train))\n",
    "    \n",
    "    print('Error = :', round(abs(accuracy_score(y_test, y_predict) - accuracy_score(y_train, y_predict_train)),3))\n"
   ]
  },
  {
   "cell_type": "code",
   "execution_count": 308,
   "metadata": {},
   "outputs": [
    {
     "data": {
      "text/plain": [
       "SVC(C=5, break_ties=False, cache_size=200, class_weight=None, coef0=0.0,\n",
       "    decision_function_shape='ovr', degree=3, gamma='scale', kernel='linear',\n",
       "    max_iter=-1, probability=False, random_state=None, shrinking=True,\n",
       "    tol=0.001, verbose=False)"
      ]
     },
     "execution_count": 308,
     "metadata": {},
     "output_type": "execute_result"
    }
   ],
   "source": [
    "# splitting data\n",
    "from sklearn.model_selection import train_test_split as SPLIT\n",
    "\n",
    "X_train, X_test, y_train, y_test = SPLIT(X, y, test_size = .2)\n",
    "\n",
    "# Developing Model\n",
    "from sklearn.svm import SVC\n",
    "\n",
    "My_SVC = SVC(kernel = 'linear', C = 5)\n",
    "\n",
    "My_SVC.fit(X_train, y_train)"
   ]
  },
  {
   "cell_type": "code",
   "execution_count": 309,
   "metadata": {},
   "outputs": [],
   "source": [
    "y_predict = My_SVC.predict(X_test)\n",
    "\n",
    "y_predict_train = My_SVC.predict(X_train)"
   ]
  },
  {
   "cell_type": "code",
   "execution_count": 310,
   "metadata": {},
   "outputs": [],
   "source": [
    "from sklearn.metrics import accuracy_score"
   ]
  },
  {
   "cell_type": "code",
   "execution_count": 311,
   "metadata": {},
   "outputs": [
    {
     "name": "stdout",
     "output_type": "stream",
     "text": [
      "SVC accuracy on Test Data =  0.7965587044534413\n",
      "SVC accuracy on Training Data =  0.7721518987341772\n"
     ]
    }
   ],
   "source": [
    "print('SVC accuracy on Test Data = ', accuracy_score(y_test, y_predict))\n",
    "\n",
    "print('SVC accuracy on Training Data = ', accuracy_score(y_train, y_predict_train))\n"
   ]
  },
  {
   "cell_type": "code",
   "execution_count": 312,
   "metadata": {},
   "outputs": [],
   "source": [
    "#add to metrics df\n",
    "\n",
    "accuracydf3_A['SVM'] = [accuracy_score(y_test, y_predict), accuracy_score(y_train, y_predict_train)]\n"
   ]
  },
  {
   "cell_type": "markdown",
   "metadata": {},
   "source": [
    "# Dummy Classifier for SVC Model"
   ]
  },
  {
   "cell_type": "code",
   "execution_count": 313,
   "metadata": {},
   "outputs": [
    {
     "name": "stdout",
     "output_type": "stream",
     "text": [
      "Original labels: season\n",
      "2006/2007    1\n",
      "2006/2007    1\n",
      "2006/2007    1\n",
      "2006/2007    1\n",
      "2006/2007    1\n",
      "2006/2007    0\n",
      "2006/2007    1\n",
      "2006/2007    1\n",
      "2006/2007    1\n",
      "2006/2007    1\n",
      "2006/2007    0\n",
      "2006/2007    1\n",
      "2006/2007    0\n",
      "2006/2007    0\n",
      "2006/2007    0\n",
      "2006/2007    0\n",
      "2006/2007    1\n",
      "2006/2007    1\n",
      "2006/2007    1\n",
      "2006/2007    1\n",
      "2006/2007    1\n",
      "2006/2007    0\n",
      "2006/2007    0\n",
      "2006/2007    1\n",
      "2006/2007    1\n",
      "2006/2007    0\n",
      "2006/2007    0\n",
      "2006/2007    0\n",
      "2006/2007    1\n",
      "Name: win, dtype: int64\n",
      "New binary labels: season\n",
      "2006/2007    1\n",
      "2006/2007    1\n",
      "2006/2007    1\n",
      "2006/2007    1\n",
      "2006/2007    1\n",
      "2006/2007    0\n",
      "2006/2007    1\n",
      "2006/2007    1\n",
      "2006/2007    1\n",
      "2006/2007    1\n",
      "2006/2007    0\n",
      "2006/2007    1\n",
      "2006/2007    0\n",
      "2006/2007    0\n",
      "2006/2007    0\n",
      "2006/2007    0\n",
      "2006/2007    1\n",
      "2006/2007    1\n",
      "2006/2007    1\n",
      "2006/2007    1\n",
      "2006/2007    1\n",
      "2006/2007    0\n",
      "2006/2007    0\n",
      "2006/2007    1\n",
      "2006/2007    1\n",
      "2006/2007    0\n",
      "2006/2007    0\n",
      "2006/2007    0\n",
      "2006/2007    1\n",
      "Name: win, dtype: int64\n"
     ]
    }
   ],
   "source": [
    "y_binary_imbalanced = y.copy()\n",
    "\n",
    "y_binary_imbalanced[y_binary_imbalanced != 1] = 0\n",
    "\n",
    "print ('Original labels:', y[1:30])\n",
    "\n",
    "print ('New binary labels:', y_binary_imbalanced[1:30])"
   ]
  },
  {
   "cell_type": "code",
   "execution_count": 314,
   "metadata": {},
   "outputs": [
    {
     "data": {
      "text/plain": [
       "array([0, 0, 0, 0, 0, 0, 0, 0, 0, 0, 0, 0, 0, 0, 0, 0, 0, 0, 0, 0, 0, 0,\n",
       "       0, 0, 0, 0, 0, 0, 0, 0, 0, 0, 0, 0, 0, 0, 0, 0, 0, 0, 0, 0, 0, 0,\n",
       "       0, 0, 0, 0, 0, 0, 0, 0, 0, 0, 0, 0, 0, 0, 0, 0, 0, 0, 0, 0, 0, 0,\n",
       "       0, 0, 0, 0, 0, 0, 0, 0, 0, 0, 0, 0, 0, 0, 0, 0, 0, 0, 0, 0, 0, 0,\n",
       "       0, 0, 0, 0, 0, 0, 0, 0, 0, 0, 0, 0, 0, 0, 0, 0, 0, 0, 0, 0, 0, 0,\n",
       "       0, 0, 0, 0, 0, 0, 0, 0, 0, 0, 0, 0, 0, 0, 0, 0, 0, 0, 0, 0, 0, 0,\n",
       "       0, 0, 0, 0, 0, 0, 0, 0, 0, 0, 0, 0, 0, 0, 0, 0, 0, 0, 0, 0, 0, 0,\n",
       "       0, 0, 0, 0, 0, 0, 0, 0, 0, 0, 0, 0, 0, 0, 0, 0, 0, 0, 0, 0, 0, 0,\n",
       "       0, 0, 0, 0, 0, 0, 0, 0, 0, 0, 0, 0, 0, 0, 0, 0, 0, 0, 0, 0, 0, 0,\n",
       "       0, 0, 0, 0, 0, 0, 0, 0, 0, 0, 0, 0, 0, 0, 0, 0, 0, 0, 0, 0, 0, 0,\n",
       "       0, 0, 0, 0, 0, 0, 0, 0, 0, 0, 0, 0, 0, 0, 0, 0, 0, 0, 0, 0, 0, 0,\n",
       "       0, 0, 0, 0, 0, 0, 0, 0, 0, 0, 0, 0, 0, 0, 0, 0, 0, 0, 0, 0, 0, 0,\n",
       "       0, 0, 0, 0, 0, 0, 0, 0, 0, 0, 0, 0, 0, 0, 0, 0, 0, 0, 0, 0, 0, 0,\n",
       "       0, 0, 0, 0, 0, 0, 0, 0, 0, 0, 0, 0, 0, 0, 0, 0, 0, 0, 0, 0, 0, 0,\n",
       "       0, 0, 0, 0, 0, 0, 0, 0, 0, 0, 0, 0, 0, 0, 0, 0, 0, 0, 0, 0, 0, 0,\n",
       "       0, 0, 0, 0, 0, 0, 0, 0, 0, 0, 0, 0, 0, 0, 0, 0, 0, 0, 0, 0, 0, 0,\n",
       "       0, 0, 0, 0, 0, 0, 0, 0, 0, 0, 0, 0, 0, 0, 0, 0, 0, 0, 0, 0, 0, 0,\n",
       "       0, 0, 0, 0, 0, 0, 0, 0, 0, 0, 0, 0, 0, 0, 0, 0, 0, 0, 0, 0, 0, 0,\n",
       "       0, 0, 0, 0, 0, 0, 0, 0, 0, 0, 0, 0, 0, 0, 0, 0, 0, 0, 0, 0, 0, 0,\n",
       "       0, 0, 0, 0, 0, 0, 0, 0, 0, 0, 0, 0, 0, 0, 0, 0, 0, 0, 0, 0, 0, 0,\n",
       "       0, 0, 0, 0, 0, 0, 0, 0, 0, 0, 0, 0, 0, 0, 0, 0, 0, 0, 0, 0, 0, 0,\n",
       "       0, 0, 0, 0, 0, 0, 0, 0, 0, 0, 0, 0, 0, 0, 0, 0, 0, 0, 0, 0, 0, 0,\n",
       "       0, 0, 0, 0, 0, 0, 0, 0, 0, 0, 0, 0, 0, 0, 0, 0, 0, 0, 0, 0, 0, 0,\n",
       "       0, 0, 0, 0, 0, 0, 0, 0, 0, 0, 0, 0, 0, 0, 0, 0, 0, 0, 0, 0, 0, 0,\n",
       "       0, 0, 0, 0, 0, 0, 0, 0, 0, 0, 0, 0, 0, 0, 0, 0, 0, 0, 0, 0, 0, 0,\n",
       "       0, 0, 0, 0, 0, 0, 0, 0, 0, 0, 0, 0, 0, 0, 0, 0, 0, 0, 0, 0, 0, 0,\n",
       "       0, 0, 0, 0, 0, 0, 0, 0, 0, 0, 0, 0, 0, 0, 0, 0, 0, 0, 0, 0, 0, 0,\n",
       "       0, 0, 0, 0, 0, 0, 0, 0, 0, 0, 0, 0, 0, 0, 0, 0, 0, 0, 0, 0, 0, 0,\n",
       "       0, 0, 0, 0, 0, 0, 0, 0, 0, 0, 0, 0, 0, 0, 0, 0, 0, 0, 0, 0, 0, 0,\n",
       "       0, 0, 0, 0, 0, 0, 0, 0, 0, 0, 0, 0, 0, 0, 0, 0, 0, 0, 0, 0, 0, 0,\n",
       "       0, 0, 0, 0, 0, 0, 0, 0, 0, 0, 0, 0, 0, 0, 0, 0, 0, 0, 0, 0, 0, 0,\n",
       "       0, 0, 0, 0, 0, 0, 0, 0, 0, 0, 0, 0, 0, 0, 0, 0, 0, 0, 0, 0, 0, 0,\n",
       "       0, 0, 0, 0, 0, 0, 0, 0, 0, 0, 0, 0, 0, 0, 0, 0, 0, 0, 0, 0, 0, 0,\n",
       "       0, 0, 0, 0, 0, 0, 0, 0, 0, 0, 0, 0, 0, 0, 0, 0, 0, 0, 0, 0, 0, 0,\n",
       "       0, 0, 0, 0, 0, 0, 0, 0, 0, 0, 0, 0, 0, 0, 0, 0, 0, 0, 0, 0, 0, 0,\n",
       "       0, 0, 0, 0, 0, 0, 0, 0, 0, 0, 0, 0, 0, 0, 0, 0, 0, 0, 0, 0, 0, 0,\n",
       "       0, 0, 0, 0, 0, 0, 0, 0, 0, 0, 0, 0, 0, 0, 0, 0, 0, 0, 0, 0, 0, 0,\n",
       "       0, 0, 0, 0, 0, 0, 0, 0, 0, 0, 0, 0, 0, 0, 0, 0, 0, 0, 0, 0, 0, 0,\n",
       "       0, 0, 0, 0, 0, 0, 0, 0, 0, 0, 0, 0, 0, 0, 0, 0, 0, 0, 0, 0, 0, 0,\n",
       "       0, 0, 0, 0, 0, 0, 0, 0, 0, 0, 0, 0, 0, 0, 0, 0, 0, 0, 0, 0, 0, 0,\n",
       "       0, 0, 0, 0, 0, 0, 0, 0, 0, 0, 0, 0, 0, 0, 0, 0, 0, 0, 0, 0, 0, 0,\n",
       "       0, 0, 0, 0, 0, 0, 0, 0, 0, 0, 0, 0, 0, 0, 0, 0, 0, 0, 0, 0, 0, 0,\n",
       "       0, 0, 0, 0, 0, 0, 0, 0, 0, 0, 0, 0, 0, 0, 0, 0, 0, 0, 0, 0, 0, 0,\n",
       "       0, 0, 0, 0, 0, 0, 0, 0, 0, 0, 0, 0, 0, 0, 0, 0, 0, 0, 0, 0, 0, 0,\n",
       "       0, 0, 0, 0, 0, 0, 0, 0, 0, 0, 0, 0, 0, 0, 0, 0, 0, 0, 0, 0])"
      ]
     },
     "execution_count": 314,
     "metadata": {},
     "output_type": "execute_result"
    }
   ],
   "source": [
    "from sklearn.dummy import DummyClassifier\n",
    "\n",
    "# Negative class (0) is most frequent\n",
    "dummy_majority = DummyClassifier(strategy = 'most_frequent').fit(X_train, y_train)\n",
    "\n",
    "#  The dummy 'most_frequent' classifier always predicts class 0\n",
    "y_dummy_predictions = dummy_majority.predict(X_test)\n",
    "\n",
    "y_dummy_predictions"
   ]
  },
  {
   "cell_type": "code",
   "execution_count": 315,
   "metadata": {},
   "outputs": [
    {
     "name": "stdout",
     "output_type": "stream",
     "text": [
      "Accuracy score of Dummy Classifier =  0.5445344129554656\n"
     ]
    }
   ],
   "source": [
    "print (\"Accuracy score of Dummy Classifier = \", accuracy_score(y_test, y_dummy_predictions))"
   ]
  },
  {
   "cell_type": "markdown",
   "metadata": {
    "collapsed": true
   },
   "source": [
    "# GNB"
   ]
  },
  {
   "cell_type": "code",
   "execution_count": 316,
   "metadata": {},
   "outputs": [],
   "source": [
    "# Asigning Variables\n",
    "\n",
    "X = df3.iloc[:,:-3]\n",
    "y = df3.iloc[:,-2]"
   ]
  },
  {
   "cell_type": "code",
   "execution_count": 317,
   "metadata": {},
   "outputs": [],
   "source": [
    "from sklearn.model_selection import train_test_split as SPLIT\n",
    "\n",
    "X_train, X_test, y_train, y_test = SPLIT(X, y)"
   ]
  },
  {
   "cell_type": "code",
   "execution_count": 318,
   "metadata": {},
   "outputs": [],
   "source": [
    "# Import Libraries\n",
    "# from sklear.naive_bayes import GaussianNB\n",
    "\n",
    "from sklearn.naive_bayes import GaussianNB\n",
    "\n",
    "My_GNB = GaussianNB().fit(X_train,y_train)\n"
   ]
  },
  {
   "cell_type": "code",
   "execution_count": 319,
   "metadata": {},
   "outputs": [
    {
     "name": "stdout",
     "output_type": "stream",
     "text": [
      "Accuracy Test =  0.642914979757085\n",
      "Accuracy Train =  0.6332703213610587\n"
     ]
    }
   ],
   "source": [
    "# make prediction on training and test data \n",
    "y_predict = My_GNB.predict(X_test)\n",
    "y_predict_train = My_GNB.predict(X_train)\n",
    "\n",
    "\n",
    "#accuracy score\n",
    "from sklearn.metrics import accuracy_score\n",
    "\n",
    "print(\"Accuracy Test = \", accuracy_score(y_test, y_predict))\n",
    "print(\"Accuracy Train = \", accuracy_score(y_train, y_predict_train))"
   ]
  },
  {
   "cell_type": "code",
   "execution_count": 320,
   "metadata": {},
   "outputs": [],
   "source": [
    "#add to metrics df\n",
    "\n",
    "accuracydf3_A['GNB'] = [accuracy_score(y_test, y_predict), accuracy_score(y_train, y_predict_train)]\n"
   ]
  },
  {
   "cell_type": "markdown",
   "metadata": {
    "collapsed": true
   },
   "source": [
    "# Random Forest"
   ]
  },
  {
   "cell_type": "code",
   "execution_count": 321,
   "metadata": {},
   "outputs": [],
   "source": [
    "# Asigning Variables\n",
    "\n",
    "X = df3.iloc[:,:-3]\n",
    "y = df3.iloc[:,-2]"
   ]
  },
  {
   "cell_type": "code",
   "execution_count": 322,
   "metadata": {},
   "outputs": [],
   "source": [
    "# import RandomForestClassifier from sklearn.ensemble module\n",
    "\n",
    "from sklearn.ensemble import RandomForestClassifier as FOREST\n",
    "\n",
    "k = 10\n",
    "\n",
    "My_Forest = FOREST(max_depth = 4 ,min_samples_leaf = 10, max_features = k).fit(X_train, y_train)\n"
   ]
  },
  {
   "cell_type": "code",
   "execution_count": 323,
   "metadata": {},
   "outputs": [
    {
     "name": "stdout",
     "output_type": "stream",
     "text": [
      "Test 0.728744939271255\n",
      "Train 0.7637051039697542\n"
     ]
    }
   ],
   "source": [
    "y_predict = My_Forest.predict(X_test)\n",
    "y_predict_train = My_Forest.predict(X_train)\n",
    "\n",
    "print('Test', accuracy_score(y_test, y_predict))\n",
    "print('Train', accuracy_score(y_train, y_predict_train))"
   ]
  },
  {
   "cell_type": "code",
   "execution_count": 324,
   "metadata": {},
   "outputs": [],
   "source": [
    "#add to metrics df\n",
    "\n",
    "accuracydf3_A['Rand Forest'] = [accuracy_score(y_test, y_predict), accuracy_score(y_train, y_predict_train)]\n"
   ]
  },
  {
   "cell_type": "markdown",
   "metadata": {
    "collapsed": true
   },
   "source": [
    "# Gradient Boosted Decision Trees"
   ]
  },
  {
   "cell_type": "code",
   "execution_count": 325,
   "metadata": {},
   "outputs": [],
   "source": [
    "# Asigning Variables\n",
    "\n",
    "X = df3.iloc[:,:-3]\n",
    "y = df3.iloc[:,-2]"
   ]
  },
  {
   "cell_type": "code",
   "execution_count": 326,
   "metadata": {},
   "outputs": [],
   "source": [
    "# Import Libraries\n",
    "# from sklear.ensemble import GradientBoostingClassifier\n",
    "from sklearn.ensemble import GradientBoostingClassifier as GBDT\n",
    "\n",
    "# set the random_state = 0\n",
    "My_GBDT = GBDT().fit(X_train, y_train)"
   ]
  },
  {
   "cell_type": "code",
   "execution_count": 327,
   "metadata": {},
   "outputs": [
    {
     "name": "stdout",
     "output_type": "stream",
     "text": [
      "Accuracy Score on Test Data =  0.7554655870445344\n",
      "Accuracy Score on Train Data =  0.8258169052119902\n"
     ]
    }
   ],
   "source": [
    "from sklearn.metrics import accuracy_score\n",
    "\n",
    "# make prediction on training and test data \n",
    "\n",
    "y_pred = My_GBDT.predict(X_test)\n",
    "\n",
    "y_pred_train = My_GBDT.predict(X_train)\n",
    "\n",
    "# print accuracy_score for your predictions\n",
    "print (\"Accuracy Score on Test Data = \", accuracy_score(y_test, y_pred))\n",
    "print (\"Accuracy Score on Train Data = \", accuracy_score(y_train, y_pred_train))"
   ]
  },
  {
   "cell_type": "code",
   "execution_count": 328,
   "metadata": {},
   "outputs": [],
   "source": [
    "# set the values for learning_rate and max_depth to control the performance of the algorithm\n",
    "# ReDo it for different values\n",
    "\n",
    "My_GBDT_2 = GBDT(learning_rate = .1, max_depth = 2).fit(X_train, y_train)"
   ]
  },
  {
   "cell_type": "code",
   "execution_count": 329,
   "metadata": {},
   "outputs": [
    {
     "name": "stdout",
     "output_type": "stream",
     "text": [
      "Accuracy Score on Test Data =  0.745748987854251\n",
      "Accuracy Score on Train Data =  0.7917904401836349\n"
     ]
    }
   ],
   "source": [
    "# make prediction on training and test data \n",
    "\n",
    "y_pred = My_GBDT_2.predict(X_test)\n",
    "\n",
    "y_pred_train = My_GBDT_2.predict(X_train)\n",
    "\n",
    "# print accuracy_score for your predictions\n",
    "print (\"Accuracy Score on Test Data = \", accuracy_score(y_test, y_pred))\n",
    "print (\"Accuracy Score on Train Data = \", accuracy_score(y_train, y_pred_train))"
   ]
  },
  {
   "cell_type": "code",
   "execution_count": 330,
   "metadata": {},
   "outputs": [],
   "source": [
    "#add to metrics df\n",
    "\n",
    "accuracydf3_A['GB Dec Tree'] = [accuracy_score(y_test, y_predict), accuracy_score(y_train, y_predict_train)]\n"
   ]
  },
  {
   "cell_type": "markdown",
   "metadata": {
    "collapsed": true
   },
   "source": [
    "# Artificial Neural Network"
   ]
  },
  {
   "cell_type": "code",
   "execution_count": 331,
   "metadata": {},
   "outputs": [],
   "source": [
    "# Asigning Variables\n",
    "\n",
    "X = df3.iloc[:,:-3]\n",
    "y = df3.iloc[:,-2]"
   ]
  },
  {
   "cell_type": "code",
   "execution_count": 332,
   "metadata": {},
   "outputs": [],
   "source": [
    "# Import Libraries\n",
    "\n",
    "from sklearn.neural_network import MLPClassifier\n",
    "from sklearn.preprocessing import MinMaxScaler"
   ]
  },
  {
   "cell_type": "markdown",
   "metadata": {},
   "source": [
    "## ANN Paramater Tuning"
   ]
  },
  {
   "cell_type": "code",
   "execution_count": 333,
   "metadata": {},
   "outputs": [
    {
     "name": "stdout",
     "output_type": "stream",
     "text": [
      "Accuracy Score on Test Data = 1  0.7692307692307693\n",
      "Accuracy Score on Train Data = 1 0.7890899270861463\n",
      "Error 1 = : -0.019859157855377063\n",
      "Accuracy Score on Test Data = 3  0.7611336032388664\n",
      "Accuracy Score on Train Data = 3 0.7942209019713745\n",
      "Error 3 = : -0.03308729873250815\n",
      "Accuracy Score on Test Data = 5  0.7635627530364373\n",
      "Accuracy Score on Train Data = 5 0.7871995679179044\n",
      "Error 5 = : -0.023636814881467072\n",
      "Accuracy Score on Test Data = 10  0.7603238866396761\n",
      "Accuracy Score on Train Data = 10 0.7793680799351876\n",
      "Error 10 = : -0.019044193295511547\n"
     ]
    }
   ],
   "source": [
    "a_parameters = [1, 3, 5, 10]\n",
    "\n",
    "for a in a_parameters:\n",
    "\n",
    "    \n",
    "    # Scale Data\n",
    "\n",
    "    Scaler = MinMaxScaler()\n",
    "\n",
    "    X_train_scaled = Scaler.fit_transform(X_train)\n",
    "    X_test_scaled = Scaler.transform(X_test)\n",
    "\n",
    "    # Build Model\n",
    "    My_ANN = MLPClassifier(activation = 'tanh', hidden_layer_sizes = [10, 10], alpha = a, solver = 'lbfgs').fit(X_train_scaled, y_train)\n",
    "\n",
    "    # make prediction on training and test data \n",
    "\n",
    "    y_pred = My_ANN.predict(X_test_scaled)\n",
    "\n",
    "    y_pred_train = My_ANN.predict(X_train_scaled)\n",
    "\n",
    "    # print accuracy_score for your predictions\n",
    "    print (f\"Accuracy Score on Test Data = {a} \", accuracy_score(y_test, y_pred))\n",
    "    print (f\"Accuracy Score on Train Data = {a}\", accuracy_score(y_train, y_pred_train))\n",
    "    print(f'Error {a} = :', accuracy_score(y_test, y_pred) - accuracy_score(y_train, y_pred_train))"
   ]
  },
  {
   "cell_type": "code",
   "execution_count": 334,
   "metadata": {},
   "outputs": [],
   "source": [
    "# Scale Data\n",
    "\n",
    "Scaler = MinMaxScaler()\n",
    "\n",
    "X_train_scaled = Scaler.fit_transform(X_train)\n",
    "X_test_scaled = Scaler.transform(X_test)"
   ]
  },
  {
   "cell_type": "code",
   "execution_count": 335,
   "metadata": {},
   "outputs": [],
   "source": [
    "# Build Model\n",
    "My_ANN = MLPClassifier(activation = 'tanh', hidden_layer_sizes = [10, 10], alpha = 1, solver = 'lbfgs').fit(X_train_scaled, y_train)"
   ]
  },
  {
   "cell_type": "code",
   "execution_count": 336,
   "metadata": {},
   "outputs": [
    {
     "name": "stdout",
     "output_type": "stream",
     "text": [
      "Accuracy Score on Test Data =  0.7603238866396761\n",
      "Accuracy Score on Train Data =  0.7942209019713745\n"
     ]
    }
   ],
   "source": [
    "# make prediction on training and test data \n",
    "\n",
    "y_pred = My_ANN.predict(X_test_scaled)\n",
    "\n",
    "y_pred_train = My_ANN.predict(X_train_scaled)\n",
    "\n",
    "# print accuracy_score for your predictions\n",
    "print (\"Accuracy Score on Test Data = \", accuracy_score(y_test, y_pred))\n",
    "print (\"Accuracy Score on Train Data = \", accuracy_score(y_train, y_pred_train))"
   ]
  },
  {
   "cell_type": "code",
   "execution_count": 337,
   "metadata": {},
   "outputs": [],
   "source": [
    "# Add results to metrics df\n",
    "\n",
    "accuracydf3_A['ANN'] = [accuracy_score(y_test, y_predict), accuracy_score(y_train, y_predict_train)]"
   ]
  },
  {
   "cell_type": "code",
   "execution_count": 338,
   "metadata": {},
   "outputs": [
    {
     "data": {
      "text/html": [
       "<div>\n",
       "<style scoped>\n",
       "    .dataframe tbody tr th:only-of-type {\n",
       "        vertical-align: middle;\n",
       "    }\n",
       "\n",
       "    .dataframe tbody tr th {\n",
       "        vertical-align: top;\n",
       "    }\n",
       "\n",
       "    .dataframe thead th {\n",
       "        text-align: right;\n",
       "    }\n",
       "</style>\n",
       "<table border=\"1\" class=\"dataframe\">\n",
       "  <thead>\n",
       "    <tr style=\"text-align: right;\">\n",
       "      <th></th>\n",
       "      <th>MLR</th>\n",
       "      <th>Ridge</th>\n",
       "      <th>Ridge - Feature Scale</th>\n",
       "      <th>Ridge - Poly Features</th>\n",
       "      <th>Lasso</th>\n",
       "      <th>Lasso - Feature Scaling</th>\n",
       "    </tr>\n",
       "  </thead>\n",
       "  <tbody>\n",
       "    <tr>\n",
       "      <th>Test</th>\n",
       "      <td>0.395492</td>\n",
       "      <td>0.367958</td>\n",
       "      <td>0.323248</td>\n",
       "      <td>0.382451</td>\n",
       "      <td>0.295344</td>\n",
       "      <td>-0.001091</td>\n",
       "    </tr>\n",
       "    <tr>\n",
       "      <th>Train</th>\n",
       "      <td>0.348102</td>\n",
       "      <td>0.354918</td>\n",
       "      <td>0.342202</td>\n",
       "      <td>0.351184</td>\n",
       "      <td>0.284577</td>\n",
       "      <td>0.000000</td>\n",
       "    </tr>\n",
       "  </tbody>\n",
       "</table>\n",
       "</div>"
      ],
      "text/plain": [
       "            MLR     Ridge  Ridge - Feature Scale  Ridge - Poly Features  \\\n",
       "Test   0.395492  0.367958               0.323248               0.382451   \n",
       "Train  0.348102  0.354918               0.342202               0.351184   \n",
       "\n",
       "          Lasso  Lasso - Feature Scaling  \n",
       "Test   0.295344                -0.001091  \n",
       "Train  0.284577                 0.000000  "
      ]
     },
     "execution_count": 338,
     "metadata": {},
     "output_type": "execute_result"
    }
   ],
   "source": [
    "rsquaresdf3_A.rename(index = {0: \"Test\", 1:\"Train\"}, inplace = True)\n",
    "rsquaresdf3_A"
   ]
  },
  {
   "cell_type": "code",
   "execution_count": 339,
   "metadata": {
    "scrolled": true
   },
   "outputs": [
    {
     "data": {
      "text/html": [
       "<div>\n",
       "<style scoped>\n",
       "    .dataframe tbody tr th:only-of-type {\n",
       "        vertical-align: middle;\n",
       "    }\n",
       "\n",
       "    .dataframe tbody tr th {\n",
       "        vertical-align: top;\n",
       "    }\n",
       "\n",
       "    .dataframe thead th {\n",
       "        text-align: right;\n",
       "    }\n",
       "</style>\n",
       "<table border=\"1\" class=\"dataframe\">\n",
       "  <thead>\n",
       "    <tr style=\"text-align: right;\">\n",
       "      <th></th>\n",
       "      <th>KNN</th>\n",
       "      <th>Decision Tree</th>\n",
       "      <th>SVM</th>\n",
       "      <th>GNB</th>\n",
       "      <th>Rand Forest</th>\n",
       "      <th>GB Dec Tree</th>\n",
       "      <th>ANN</th>\n",
       "    </tr>\n",
       "  </thead>\n",
       "  <tbody>\n",
       "    <tr>\n",
       "      <th>Test</th>\n",
       "      <td>0.698381</td>\n",
       "      <td>0.698381</td>\n",
       "      <td>0.796559</td>\n",
       "      <td>0.642915</td>\n",
       "      <td>0.728745</td>\n",
       "      <td>0.728745</td>\n",
       "      <td>0.728745</td>\n",
       "    </tr>\n",
       "    <tr>\n",
       "      <th>Train</th>\n",
       "      <td>0.743797</td>\n",
       "      <td>0.715190</td>\n",
       "      <td>0.772152</td>\n",
       "      <td>0.633270</td>\n",
       "      <td>0.763705</td>\n",
       "      <td>0.763705</td>\n",
       "      <td>0.763705</td>\n",
       "    </tr>\n",
       "  </tbody>\n",
       "</table>\n",
       "</div>"
      ],
      "text/plain": [
       "            KNN  Decision Tree       SVM       GNB  Rand Forest  GB Dec Tree  \\\n",
       "Test   0.698381       0.698381  0.796559  0.642915     0.728745     0.728745   \n",
       "Train  0.743797       0.715190  0.772152  0.633270     0.763705     0.763705   \n",
       "\n",
       "            ANN  \n",
       "Test   0.728745  \n",
       "Train  0.763705  "
      ]
     },
     "execution_count": 339,
     "metadata": {},
     "output_type": "execute_result"
    }
   ],
   "source": [
    "accuracydf3_A.rename(index = {0: \"Test\", 1:\"Train\"}, inplace = True)\n",
    "accuracydf3_A"
   ]
  },
  {
   "cell_type": "markdown",
   "metadata": {},
   "source": [
    "# Cross-Validation"
   ]
  },
  {
   "cell_type": "code",
   "execution_count": 340,
   "metadata": {},
   "outputs": [
    {
     "name": "stdout",
     "output_type": "stream",
     "text": [
      "CV_scores are :  [0.2864112  0.29998989 0.33925329 0.36613611 0.29202715 0.42661658\n",
      " 0.34176032 0.31211888 0.38974993 0.41268148]\n",
      "Average CV_Score =  0.3466744836498472\n"
     ]
    }
   ],
   "source": [
    "# Multi Linear Regression\n",
    "CV_scores = cross_val_score(my_model, X, y, cv = 10)\n",
    "print (\"CV_scores are : \", CV_scores)\n",
    "print (\"Average CV_Score = \",np.mean(CV_scores))"
   ]
  },
  {
   "cell_type": "code",
   "execution_count": 341,
   "metadata": {},
   "outputs": [
    {
     "name": "stdout",
     "output_type": "stream",
     "text": [
      "CV_scores are :  [0.28642391 0.29998813 0.33925832 0.36613122 0.29201418 0.42662336\n",
      " 0.34175033 0.31210749 0.38977182 0.41268288]\n",
      "Average CV_Score =  0.3466751656407504\n"
     ]
    }
   ],
   "source": [
    "# Ridge Regression\n",
    "CV_scores = cross_val_score(my_Ridge, X, y, cv = 10)\n",
    "print (\"CV_scores are : \", CV_scores)\n",
    "print (\"Average CV_Score = \",np.mean(CV_scores))"
   ]
  },
  {
   "cell_type": "code",
   "execution_count": 342,
   "metadata": {},
   "outputs": [
    {
     "name": "stdout",
     "output_type": "stream",
     "text": [
      "CV_scores are :  [0.2864225  0.29998833 0.33925777 0.36613177 0.29201562 0.42662261\n",
      " 0.34175144 0.31210876 0.38976939 0.41268273]\n",
      "Average CV_Score =  0.3466750921905378\n"
     ]
    }
   ],
   "source": [
    "# Ridge + Feature Scaling \n",
    "# Same Code for Ridge + Polynomial Features\n",
    "CV_scores = cross_val_score(my_ridge, X, y, cv = 10)\n",
    "print (\"CV_scores are : \", CV_scores)\n",
    "print (\"Average CV_Score = \",np.mean(CV_scores))"
   ]
  },
  {
   "cell_type": "code",
   "execution_count": 343,
   "metadata": {},
   "outputs": [
    {
     "name": "stdout",
     "output_type": "stream",
     "text": [
      "CV_scores are :  [0.11177818 0.09274462 0.10098983 0.10648778 0.10009977 0.12929607\n",
      " 0.08605656 0.05002369 0.11611393 0.12869043]\n",
      "Average CV_Score =  0.1022280850487975\n"
     ]
    }
   ],
   "source": [
    "# Lasso\n",
    "# Same Code for Lasso + Feature Scaling\n",
    "CV_scores = cross_val_score(my_Lasso, X, y, cv = 10)\n",
    "print (\"CV_scores are : \", CV_scores)\n",
    "print (\"Average CV_Score = \",np.mean(CV_scores))"
   ]
  },
  {
   "cell_type": "code",
   "execution_count": 344,
   "metadata": {},
   "outputs": [
    {
     "name": "stdout",
     "output_type": "stream",
     "text": [
      "CV_scores are :  [0.5708502  0.59311741 0.61336032 0.62145749 0.63157895 0.60728745\n",
      " 0.60526316 0.62348178 0.61866126 0.63894523]\n",
      "Average CV_Score =  0.6124003252005814\n"
     ]
    }
   ],
   "source": [
    "# KNN \n",
    "CV_scores = cross_val_score(My_KNN, X, y, cv = 10)\n",
    "print (\"CV_scores are : \", CV_scores)\n",
    "print (\"Average CV_Score = \",np.mean(CV_scores))"
   ]
  },
  {
   "cell_type": "code",
   "execution_count": 345,
   "metadata": {},
   "outputs": [
    {
     "name": "stdout",
     "output_type": "stream",
     "text": [
      "CV_scores are :  [0.69635628 0.66396761 0.66396761 0.70850202 0.70850202 0.73076923\n",
      " 0.68016194 0.68825911 0.73427992 0.71196755]\n",
      "Average CV_Score =  0.6986733294462557\n"
     ]
    }
   ],
   "source": [
    "# Decision Tree\n",
    "CV_scores = cross_val_score(My_Tree, X, y, cv = 10)\n",
    "print (\"CV_scores are : \", CV_scores)\n",
    "print (\"Average CV_Score = \",np.mean(CV_scores))"
   ]
  },
  {
   "cell_type": "code",
   "execution_count": 346,
   "metadata": {},
   "outputs": [
    {
     "name": "stdout",
     "output_type": "stream",
     "text": [
      "CV_scores are :  [0.75708502 0.74493927 0.76923077 0.77935223 0.77732794 0.79757085\n",
      " 0.76315789 0.75506073 0.79107505 0.78701826]\n",
      "Average CV_Score =  0.7721818002644307\n"
     ]
    }
   ],
   "source": [
    "# SVM\n",
    "CV_scores = cross_val_score(My_SVC, X, y, cv = 10)\n",
    "print (\"CV_scores are : \", CV_scores)\n",
    "print (\"Average CV_Score = \",np.mean(CV_scores))"
   ]
  },
  {
   "cell_type": "code",
   "execution_count": 347,
   "metadata": {},
   "outputs": [
    {
     "name": "stdout",
     "output_type": "stream",
     "text": [
      "CV_scores are :  [0.62955466 0.66396761 0.69635628 0.63157895 0.62550607 0.68218623\n",
      " 0.62753036 0.59919028 0.62677485 0.62677485]\n",
      "Average CV_Score =  0.6409420141084494\n"
     ]
    }
   ],
   "source": [
    "# GNB\n",
    "CV_scores = cross_val_score(My_GNB, X, y, cv = 10)\n",
    "print (\"CV_scores are : \", CV_scores)\n",
    "print (\"Average CV_Score = \",np.mean(CV_scores))"
   ]
  },
  {
   "cell_type": "code",
   "execution_count": 348,
   "metadata": {},
   "outputs": [
    {
     "name": "stdout",
     "output_type": "stream",
     "text": [
      "CV_scores are :  [0.72469636 0.69635628 0.72672065 0.74696356 0.70850202 0.75506073\n",
      " 0.72672065 0.70242915 0.7525355  0.73225152]\n",
      "Average CV_Score =  0.7272236410968128\n"
     ]
    }
   ],
   "source": [
    "#Random Forest\n",
    "CV_scores = cross_val_score(My_Forest, X, y, cv = 10)\n",
    "print (\"CV_scores are : \", CV_scores)\n",
    "print (\"Average CV_Score = \",np.mean(CV_scores))\n"
   ]
  },
  {
   "cell_type": "code",
   "execution_count": 349,
   "metadata": {},
   "outputs": [
    {
     "name": "stdout",
     "output_type": "stream",
     "text": [
      "CV_scores are :  [0.73481781 0.72672065 0.75910931 0.77530364 0.73684211 0.77530364\n",
      " 0.77732794 0.74898785 0.79513185 0.77687627]\n",
      "Average CV_Score =  0.7606421069055851\n"
     ]
    }
   ],
   "source": [
    "#Gradient Boosted \n",
    "CV_scores = cross_val_score(My_GBDT, X, y, cv = 10)\n",
    "print (\"CV_scores are : \", CV_scores)\n",
    "print (\"Average CV_Score = \",np.mean(CV_scores))"
   ]
  },
  {
   "cell_type": "code",
   "execution_count": 350,
   "metadata": {},
   "outputs": [],
   "source": [
    "\n",
    "\n",
    "\n",
    "\n",
    "\n",
    "\n",
    "\n",
    "\n",
    "\n",
    "\n",
    "\n",
    "\n",
    "\n",
    "\n",
    "#"
   ]
  },
  {
   "cell_type": "markdown",
   "metadata": {},
   "source": [
    "# <div class=\"alert alert-block alert-info\"> DF3-B </div>"
   ]
  },
  {
   "cell_type": "code",
   "execution_count": 351,
   "metadata": {},
   "outputs": [
    {
     "data": {
      "text/html": [
       "<div>\n",
       "<style scoped>\n",
       "    .dataframe tbody tr th:only-of-type {\n",
       "        vertical-align: middle;\n",
       "    }\n",
       "\n",
       "    .dataframe tbody tr th {\n",
       "        vertical-align: top;\n",
       "    }\n",
       "\n",
       "    .dataframe thead th {\n",
       "        text-align: right;\n",
       "    }\n",
       "</style>\n",
       "<table border=\"1\" class=\"dataframe\">\n",
       "  <thead>\n",
       "    <tr style=\"text-align: right;\">\n",
       "      <th></th>\n",
       "      <th>home_team</th>\n",
       "      <th>away_team</th>\n",
       "      <th>home_pos</th>\n",
       "      <th>away_pos</th>\n",
       "      <th>home_shots_on_target</th>\n",
       "      <th>away_shots_on_target</th>\n",
       "      <th>home_shots</th>\n",
       "      <th>away_shots</th>\n",
       "      <th>home_touch</th>\n",
       "      <th>away_touch</th>\n",
       "      <th>home_pass</th>\n",
       "      <th>away_pass</th>\n",
       "      <th>home_tackles</th>\n",
       "      <th>away_tackles</th>\n",
       "      <th>home_clear</th>\n",
       "      <th>away_clear</th>\n",
       "      <th>home_corner</th>\n",
       "      <th>away_corner</th>\n",
       "      <th>home_off</th>\n",
       "      <th>away_off</th>\n",
       "      <th>home_yellow</th>\n",
       "      <th>away_yellow</th>\n",
       "      <th>home_red</th>\n",
       "      <th>away_red</th>\n",
       "      <th>home_fouls</th>\n",
       "      <th>away_fouls</th>\n",
       "      <th>winner</th>\n",
       "      <th>win</th>\n",
       "      <th>non_loss</th>\n",
       "    </tr>\n",
       "    <tr>\n",
       "      <th>season</th>\n",
       "      <th></th>\n",
       "      <th></th>\n",
       "      <th></th>\n",
       "      <th></th>\n",
       "      <th></th>\n",
       "      <th></th>\n",
       "      <th></th>\n",
       "      <th></th>\n",
       "      <th></th>\n",
       "      <th></th>\n",
       "      <th></th>\n",
       "      <th></th>\n",
       "      <th></th>\n",
       "      <th></th>\n",
       "      <th></th>\n",
       "      <th></th>\n",
       "      <th></th>\n",
       "      <th></th>\n",
       "      <th></th>\n",
       "      <th></th>\n",
       "      <th></th>\n",
       "      <th></th>\n",
       "      <th></th>\n",
       "      <th></th>\n",
       "      <th></th>\n",
       "      <th></th>\n",
       "      <th></th>\n",
       "      <th></th>\n",
       "      <th></th>\n",
       "    </tr>\n",
       "  </thead>\n",
       "  <tbody>\n",
       "    <tr>\n",
       "      <th>2006/2007</th>\n",
       "      <td>1</td>\n",
       "      <td>13</td>\n",
       "      <td>72.9</td>\n",
       "      <td>27.1</td>\n",
       "      <td>7</td>\n",
       "      <td>3</td>\n",
       "      <td>24</td>\n",
       "      <td>6</td>\n",
       "      <td>807</td>\n",
       "      <td>417</td>\n",
       "      <td>631</td>\n",
       "      <td>232</td>\n",
       "      <td>22</td>\n",
       "      <td>33</td>\n",
       "      <td>14</td>\n",
       "      <td>51</td>\n",
       "      <td>18</td>\n",
       "      <td>1</td>\n",
       "      <td>2</td>\n",
       "      <td>6</td>\n",
       "      <td>1</td>\n",
       "      <td>2</td>\n",
       "      <td>0</td>\n",
       "      <td>0</td>\n",
       "      <td>10</td>\n",
       "      <td>19</td>\n",
       "      <td>0</td>\n",
       "      <td>0</td>\n",
       "      <td>1</td>\n",
       "    </tr>\n",
       "    <tr>\n",
       "      <th>2006/2007</th>\n",
       "      <td>2</td>\n",
       "      <td>11</td>\n",
       "      <td>37.8</td>\n",
       "      <td>62.2</td>\n",
       "      <td>4</td>\n",
       "      <td>2</td>\n",
       "      <td>13</td>\n",
       "      <td>10</td>\n",
       "      <td>411</td>\n",
       "      <td>591</td>\n",
       "      <td>243</td>\n",
       "      <td>427</td>\n",
       "      <td>28</td>\n",
       "      <td>17</td>\n",
       "      <td>20</td>\n",
       "      <td>43</td>\n",
       "      <td>6</td>\n",
       "      <td>3</td>\n",
       "      <td>3</td>\n",
       "      <td>1</td>\n",
       "      <td>0</td>\n",
       "      <td>0</td>\n",
       "      <td>0</td>\n",
       "      <td>0</td>\n",
       "      <td>22</td>\n",
       "      <td>22</td>\n",
       "      <td>1</td>\n",
       "      <td>1</td>\n",
       "      <td>1</td>\n",
       "    </tr>\n",
       "    <tr>\n",
       "      <th>2006/2007</th>\n",
       "      <td>3</td>\n",
       "      <td>12</td>\n",
       "      <td>47.0</td>\n",
       "      <td>53.0</td>\n",
       "      <td>2</td>\n",
       "      <td>7</td>\n",
       "      <td>8</td>\n",
       "      <td>13</td>\n",
       "      <td>460</td>\n",
       "      <td>493</td>\n",
       "      <td>288</td>\n",
       "      <td>321</td>\n",
       "      <td>17</td>\n",
       "      <td>24</td>\n",
       "      <td>61</td>\n",
       "      <td>32</td>\n",
       "      <td>0</td>\n",
       "      <td>6</td>\n",
       "      <td>5</td>\n",
       "      <td>1</td>\n",
       "      <td>2</td>\n",
       "      <td>2</td>\n",
       "      <td>0</td>\n",
       "      <td>0</td>\n",
       "      <td>12</td>\n",
       "      <td>15</td>\n",
       "      <td>1</td>\n",
       "      <td>1</td>\n",
       "      <td>1</td>\n",
       "    </tr>\n",
       "    <tr>\n",
       "      <th>2006/2007</th>\n",
       "      <td>4</td>\n",
       "      <td>20</td>\n",
       "      <td>55.3</td>\n",
       "      <td>44.7</td>\n",
       "      <td>5</td>\n",
       "      <td>4</td>\n",
       "      <td>8</td>\n",
       "      <td>13</td>\n",
       "      <td>519</td>\n",
       "      <td>448</td>\n",
       "      <td>352</td>\n",
       "      <td>278</td>\n",
       "      <td>27</td>\n",
       "      <td>33</td>\n",
       "      <td>15</td>\n",
       "      <td>16</td>\n",
       "      <td>4</td>\n",
       "      <td>11</td>\n",
       "      <td>6</td>\n",
       "      <td>3</td>\n",
       "      <td>1</td>\n",
       "      <td>2</td>\n",
       "      <td>0</td>\n",
       "      <td>0</td>\n",
       "      <td>18</td>\n",
       "      <td>19</td>\n",
       "      <td>1</td>\n",
       "      <td>1</td>\n",
       "      <td>1</td>\n",
       "    </tr>\n",
       "    <tr>\n",
       "      <th>2006/2007</th>\n",
       "      <td>5</td>\n",
       "      <td>14</td>\n",
       "      <td>44.3</td>\n",
       "      <td>55.7</td>\n",
       "      <td>11</td>\n",
       "      <td>3</td>\n",
       "      <td>21</td>\n",
       "      <td>8</td>\n",
       "      <td>415</td>\n",
       "      <td>527</td>\n",
       "      <td>279</td>\n",
       "      <td>327</td>\n",
       "      <td>23</td>\n",
       "      <td>19</td>\n",
       "      <td>15</td>\n",
       "      <td>28</td>\n",
       "      <td>6</td>\n",
       "      <td>2</td>\n",
       "      <td>5</td>\n",
       "      <td>0</td>\n",
       "      <td>2</td>\n",
       "      <td>0</td>\n",
       "      <td>0</td>\n",
       "      <td>1</td>\n",
       "      <td>22</td>\n",
       "      <td>17</td>\n",
       "      <td>1</td>\n",
       "      <td>1</td>\n",
       "      <td>1</td>\n",
       "    </tr>\n",
       "  </tbody>\n",
       "</table>\n",
       "</div>"
      ],
      "text/plain": [
       "           home_team  away_team  home_pos  away_pos  home_shots_on_target  \\\n",
       "season                                                                      \n",
       "2006/2007          1         13      72.9      27.1                     7   \n",
       "2006/2007          2         11      37.8      62.2                     4   \n",
       "2006/2007          3         12      47.0      53.0                     2   \n",
       "2006/2007          4         20      55.3      44.7                     5   \n",
       "2006/2007          5         14      44.3      55.7                    11   \n",
       "\n",
       "           away_shots_on_target  home_shots  away_shots  home_touch  \\\n",
       "season                                                                \n",
       "2006/2007                     3          24           6         807   \n",
       "2006/2007                     2          13          10         411   \n",
       "2006/2007                     7           8          13         460   \n",
       "2006/2007                     4           8          13         519   \n",
       "2006/2007                     3          21           8         415   \n",
       "\n",
       "           away_touch  home_pass  away_pass  home_tackles  away_tackles  \\\n",
       "season                                                                    \n",
       "2006/2007         417        631        232            22            33   \n",
       "2006/2007         591        243        427            28            17   \n",
       "2006/2007         493        288        321            17            24   \n",
       "2006/2007         448        352        278            27            33   \n",
       "2006/2007         527        279        327            23            19   \n",
       "\n",
       "           home_clear  away_clear  home_corner  away_corner  home_off  \\\n",
       "season                                                                  \n",
       "2006/2007          14          51           18            1         2   \n",
       "2006/2007          20          43            6            3         3   \n",
       "2006/2007          61          32            0            6         5   \n",
       "2006/2007          15          16            4           11         6   \n",
       "2006/2007          15          28            6            2         5   \n",
       "\n",
       "           away_off  home_yellow  away_yellow  home_red  away_red  home_fouls  \\\n",
       "season                                                                          \n",
       "2006/2007         6            1            2         0         0          10   \n",
       "2006/2007         1            0            0         0         0          22   \n",
       "2006/2007         1            2            2         0         0          12   \n",
       "2006/2007         3            1            2         0         0          18   \n",
       "2006/2007         0            2            0         0         1          22   \n",
       "\n",
       "           away_fouls  winner  win  non_loss  \n",
       "season                                        \n",
       "2006/2007          19       0    0         1  \n",
       "2006/2007          22       1    1         1  \n",
       "2006/2007          15       1    1         1  \n",
       "2006/2007          19       1    1         1  \n",
       "2006/2007          17       1    1         1  "
      ]
     },
     "execution_count": 351,
     "metadata": {},
     "output_type": "execute_result"
    }
   ],
   "source": [
    "# The DF3-B Dataset\n",
    "\n",
    "# Independent Variable is 0 for a home loss and 1 for a home win or tie.\n",
    "\n",
    "df3.head()"
   ]
  },
  {
   "cell_type": "markdown",
   "metadata": {},
   "source": [
    "## DF for Scores"
   ]
  },
  {
   "cell_type": "code",
   "execution_count": 352,
   "metadata": {},
   "outputs": [],
   "source": [
    "#rquares df\n",
    "\n",
    "rsquaresdf3_B = pd.DataFrame()\n",
    "\n",
    "\n",
    "#accuracy df\n",
    "\n",
    "accuracydf3_B = pd.DataFrame()"
   ]
  },
  {
   "cell_type": "markdown",
   "metadata": {},
   "source": [
    "# Multi Linear Regression"
   ]
  },
  {
   "cell_type": "code",
   "execution_count": 353,
   "metadata": {},
   "outputs": [],
   "source": [
    "# Asigning Variables\n",
    "\n",
    "X = df3.iloc[:,:-3]\n",
    "y = df3.iloc[:,-1]"
   ]
  },
  {
   "cell_type": "code",
   "execution_count": 354,
   "metadata": {},
   "outputs": [],
   "source": [
    "# Sperate train and test data\n",
    "from sklearn.model_selection import train_test_split\n",
    "\n",
    "X_train, X_test, y_train, y_test = train_test_split(X, y, test_size = 0.20)"
   ]
  },
  {
   "cell_type": "code",
   "execution_count": 355,
   "metadata": {},
   "outputs": [],
   "source": [
    "#import the model\n",
    "from sklearn.linear_model import LinearRegression"
   ]
  },
  {
   "cell_type": "code",
   "execution_count": 356,
   "metadata": {},
   "outputs": [],
   "source": [
    "my_model = LinearRegression().fit(X_train, y_train)"
   ]
  },
  {
   "cell_type": "code",
   "execution_count": 357,
   "metadata": {},
   "outputs": [],
   "source": [
    "#prediction test\n",
    "y_predict = my_model.predict(X_test)\n",
    "\n",
    "#prediction train\n",
    "y_predict_train = my_model.predict(X_train)"
   ]
  },
  {
   "cell_type": "code",
   "execution_count": 358,
   "metadata": {},
   "outputs": [
    {
     "name": "stdout",
     "output_type": "stream",
     "text": [
      "R Squared for test data is:  0.31475874016176897\n",
      "R Squared for training data is:  0.32131996907491367\n"
     ]
    }
   ],
   "source": [
    "#accuracy metrics\n",
    "from sklearn.metrics import r2_score\n",
    "\n",
    "print('R Squared for test data is: ', r2_score(y_test, y_predict))\n",
    "print('R Squared for training data is: ', r2_score(y_train, y_predict_train))"
   ]
  },
  {
   "cell_type": "code",
   "execution_count": 359,
   "metadata": {},
   "outputs": [],
   "source": [
    "#add to metrics df\n",
    "\n",
    "rsquaresdf3_B['MLR'] = [ r2_score(y_test, y_predict), r2_score(y_train, y_predict_train)]\n",
    "\n"
   ]
  },
  {
   "cell_type": "markdown",
   "metadata": {},
   "source": [
    "# Regularized Regression - Ridge"
   ]
  },
  {
   "cell_type": "code",
   "execution_count": 360,
   "metadata": {},
   "outputs": [],
   "source": [
    "# Asigning Variables\n",
    "\n",
    "X = df3.iloc[:,:-3]\n",
    "y = df3.iloc[:,-1]"
   ]
  },
  {
   "cell_type": "code",
   "execution_count": 361,
   "metadata": {},
   "outputs": [],
   "source": [
    "# Sperate train and test data\n",
    "from sklearn.model_selection import train_test_split\n",
    "\n",
    "X_train, X_test, y_train, y_test = train_test_split(X, y, test_size = 0.20)"
   ]
  },
  {
   "cell_type": "code",
   "execution_count": 362,
   "metadata": {},
   "outputs": [],
   "source": [
    "#import the model\n",
    "from sklearn.linear_model import Ridge"
   ]
  },
  {
   "cell_type": "code",
   "execution_count": 363,
   "metadata": {},
   "outputs": [],
   "source": [
    "my_Ridge = Ridge(alpha = .45).fit(X_train, y_train)"
   ]
  },
  {
   "cell_type": "code",
   "execution_count": 364,
   "metadata": {},
   "outputs": [],
   "source": [
    "#predict test\n",
    "y_predict = my_Ridge.predict(X_test)\n",
    "\n",
    "#predict train\n",
    "y_predict_train = my_Ridge.predict(X_train)"
   ]
  },
  {
   "cell_type": "code",
   "execution_count": 365,
   "metadata": {},
   "outputs": [
    {
     "name": "stdout",
     "output_type": "stream",
     "text": [
      "R Squared for test data is:  0.3285557648957542\n",
      "R Squared for training data is:  0.31766578063492845\n"
     ]
    }
   ],
   "source": [
    "#add to metrics df\n",
    "\n",
    "\n",
    "#accuracy metrics\n",
    "from sklearn.metrics import r2_score\n",
    "\n",
    "print('R Squared for test data is: ', r2_score(y_test, y_predict))\n",
    "print('R Squared for training data is: ', r2_score(y_train, y_predict_train))"
   ]
  },
  {
   "cell_type": "code",
   "execution_count": 366,
   "metadata": {},
   "outputs": [],
   "source": [
    "#add to metrics df\n",
    "\n",
    "rsquaresdf3_B['Ridge'] = [ r2_score(y_test, y_predict), r2_score(y_train, y_predict_train)]\n"
   ]
  },
  {
   "cell_type": "markdown",
   "metadata": {},
   "source": [
    "# Ridge + Feature Scaling (Normalization)"
   ]
  },
  {
   "cell_type": "code",
   "execution_count": 367,
   "metadata": {},
   "outputs": [],
   "source": [
    "# Asigning Variables\n",
    "\n",
    "X = df3.iloc[:,:-3]\n",
    "y = df3.iloc[:,-1]"
   ]
  },
  {
   "cell_type": "code",
   "execution_count": 368,
   "metadata": {},
   "outputs": [],
   "source": [
    "# Sperate train and test data\n",
    "from sklearn.model_selection import train_test_split\n",
    "# Asigning Variables\n",
    "\n",
    "\n",
    "X_train, X_test, y_train, y_test = train_test_split(X, y, test_size = 0.20)"
   ]
  },
  {
   "cell_type": "code",
   "execution_count": 369,
   "metadata": {},
   "outputs": [],
   "source": [
    "#importing MinMaxScaler\n",
    "from sklearn.preprocessing import MinMaxScaler"
   ]
  },
  {
   "cell_type": "code",
   "execution_count": 370,
   "metadata": {},
   "outputs": [],
   "source": [
    "#create an object of MinMaxScaler\n",
    "scaler = MinMaxScaler()"
   ]
  },
  {
   "cell_type": "code",
   "execution_count": 371,
   "metadata": {},
   "outputs": [
    {
     "data": {
      "text/plain": [
       "MinMaxScaler(copy=True, feature_range=(0, 1))"
      ]
     },
     "execution_count": 371,
     "metadata": {},
     "output_type": "execute_result"
    }
   ],
   "source": [
    "#normalizing the data\n",
    "\n",
    "#fitting\n",
    "scaler.fit(X_train)\n",
    "\n",
    "#transforming the x varaible\n",
    "X_train_scaled = scaler.transform(X_train)\n",
    "\n",
    "X_test_scaled = scaler.transform(X_test)"
   ]
  },
  {
   "cell_type": "code",
   "execution_count": 372,
   "metadata": {},
   "outputs": [],
   "source": [
    "#create model with scaled data\n",
    "my_ridge = Ridge(alpha = 7).fit(X_train_scaled, y_train)"
   ]
  },
  {
   "cell_type": "code",
   "execution_count": 373,
   "metadata": {},
   "outputs": [],
   "source": [
    "#make predictions\n",
    "\n",
    "#test data\n",
    "y_predict = my_ridge.predict(X_test_scaled)\n",
    "\n",
    "#train data\n",
    "y_predict_train = my_ridge.predict(X_train_scaled)\n"
   ]
  },
  {
   "cell_type": "code",
   "execution_count": 374,
   "metadata": {
    "scrolled": true
   },
   "outputs": [
    {
     "name": "stdout",
     "output_type": "stream",
     "text": [
      "R Squared for test data is:  0.31604901173616473\n",
      "R Squared for training data is:  0.3014774219522247\n"
     ]
    }
   ],
   "source": [
    "#accuracy metrics\n",
    "from sklearn.metrics import r2_score\n",
    "\n",
    "print('R Squared for test data is: ', r2_score(y_test, y_predict))\n",
    "print('R Squared for training data is: ', r2_score(y_train, y_predict_train))"
   ]
  },
  {
   "cell_type": "code",
   "execution_count": 375,
   "metadata": {},
   "outputs": [],
   "source": [
    "#add to metrics df\n",
    "\n",
    "rsquaresdf3_B['Ridge - Feature Scale'] = [ r2_score(y_test, y_predict), r2_score(y_train, y_predict_train)]\n"
   ]
  },
  {
   "cell_type": "markdown",
   "metadata": {},
   "source": [
    "# Ridge + Polynomial Features"
   ]
  },
  {
   "cell_type": "code",
   "execution_count": 376,
   "metadata": {},
   "outputs": [],
   "source": [
    "# Asigning Variables\n",
    "\n",
    "X = df3.iloc[:,:-3]\n",
    "y = df3.iloc[:,-1]"
   ]
  },
  {
   "cell_type": "code",
   "execution_count": 377,
   "metadata": {},
   "outputs": [],
   "source": [
    "#import polynomial features\n",
    "from sklearn.preprocessing import PolynomialFeatures"
   ]
  },
  {
   "cell_type": "code",
   "execution_count": 378,
   "metadata": {},
   "outputs": [],
   "source": [
    "#Create an object\n",
    "poly = PolynomialFeatures(degree=2)\n",
    "\n",
    "#Create new features of X variable\n",
    "X_poly = poly.fit_transform(X)"
   ]
  },
  {
   "cell_type": "code",
   "execution_count": 379,
   "metadata": {},
   "outputs": [],
   "source": [
    "# Sperate train and test data\n",
    "from sklearn.model_selection import train_test_split\n",
    "\n",
    "X_train, X_test, y_train, y_test = train_test_split(X, y, test_size = 0.20)"
   ]
  },
  {
   "cell_type": "code",
   "execution_count": 380,
   "metadata": {},
   "outputs": [],
   "source": [
    "my_ridge = Ridge(alpha = .4).fit(X_train, y_train)"
   ]
  },
  {
   "cell_type": "code",
   "execution_count": 381,
   "metadata": {},
   "outputs": [],
   "source": [
    "#predict test\n",
    "y_predict = my_ridge.predict(X_test)\n",
    "\n",
    "#predict train\n",
    "y_predict_train = my_ridge.predict(X_train)"
   ]
  },
  {
   "cell_type": "code",
   "execution_count": 382,
   "metadata": {},
   "outputs": [
    {
     "name": "stdout",
     "output_type": "stream",
     "text": [
      "R Squared for test data is:  0.3057329526824939\n",
      "R Squared for training data is:  0.3206824190214038\n"
     ]
    }
   ],
   "source": [
    "from sklearn.metrics import r2_score\n",
    "\n",
    "print('R Squared for test data is: ', r2_score(y_test, y_predict))\n",
    "print('R Squared for training data is: ', r2_score(y_train, y_predict_train))"
   ]
  },
  {
   "cell_type": "code",
   "execution_count": 383,
   "metadata": {},
   "outputs": [],
   "source": [
    "#add to metrics df\n",
    "\n",
    "rsquaresdf3_B['Ridge - Poly Features'] = [ r2_score(y_test, y_predict), r2_score(y_train, y_predict_train)]\n"
   ]
  },
  {
   "cell_type": "markdown",
   "metadata": {},
   "source": [
    "# Regularized Regression - Lasso"
   ]
  },
  {
   "cell_type": "code",
   "execution_count": 384,
   "metadata": {},
   "outputs": [],
   "source": [
    "# Asigning Variables\n",
    "\n",
    "X = df3.iloc[:,:-3]\n",
    "y = df3.iloc[:,-1]"
   ]
  },
  {
   "cell_type": "code",
   "execution_count": 385,
   "metadata": {},
   "outputs": [],
   "source": [
    "# Sperate train and test data\n",
    "from sklearn.model_selection import train_test_split\n",
    "\n",
    "X_train, X_test, y_train, y_test = train_test_split(X, y, test_size = 0.20)# Asigning Variables\n",
    "\n"
   ]
  },
  {
   "cell_type": "code",
   "execution_count": 386,
   "metadata": {},
   "outputs": [],
   "source": [
    "#import the model\n",
    "from sklearn.linear_model import Lasso"
   ]
  },
  {
   "cell_type": "code",
   "execution_count": 387,
   "metadata": {},
   "outputs": [],
   "source": [
    "my_Lasso = Lasso(alpha = .15).fit(X_train, y_train)"
   ]
  },
  {
   "cell_type": "code",
   "execution_count": 388,
   "metadata": {},
   "outputs": [],
   "source": [
    "#predict test\n",
    "y_predict = my_Lasso.predict(X_test)\n",
    "\n",
    "#predict_train\n",
    "y_predict_train = my_Lasso.predict(X_train)"
   ]
  },
  {
   "cell_type": "code",
   "execution_count": 389,
   "metadata": {},
   "outputs": [
    {
     "name": "stdout",
     "output_type": "stream",
     "text": [
      "R Squared for test data is:  0.24997431133077452\n",
      "R Squared for training data is:  0.24679013710863906\n"
     ]
    }
   ],
   "source": [
    "from sklearn.metrics import r2_score\n",
    "\n",
    "print('R Squared for test data is: ', r2_score(y_test, y_predict))\n",
    "print('R Squared for training data is: ', r2_score(y_train, y_predict_train))"
   ]
  },
  {
   "cell_type": "code",
   "execution_count": 390,
   "metadata": {},
   "outputs": [],
   "source": [
    "#add to metrics df\n",
    "\n",
    "rsquaresdf3_B['Lasso'] = [ r2_score(y_test, y_predict), r2_score(y_train, y_predict_train)]\n"
   ]
  },
  {
   "cell_type": "markdown",
   "metadata": {},
   "source": [
    "# Lasso + Feature Scaling (Normalization)"
   ]
  },
  {
   "cell_type": "code",
   "execution_count": 391,
   "metadata": {},
   "outputs": [],
   "source": [
    "# Asigning Variables\n",
    "\n",
    "X = df3.iloc[:,:-3]\n",
    "y = df3.iloc[:,-1]"
   ]
  },
  {
   "cell_type": "code",
   "execution_count": 392,
   "metadata": {},
   "outputs": [],
   "source": [
    "# Sperate train and test data\n",
    "from sklearn.model_selection import train_test_split\n",
    "\n",
    "X_train, X_test, y_train, y_test = train_test_split(X, y, test_size = 0.20)"
   ]
  },
  {
   "cell_type": "code",
   "execution_count": 393,
   "metadata": {},
   "outputs": [],
   "source": [
    "#importing MinMaxScaler\n",
    "from sklearn.preprocessing import MinMaxScaler"
   ]
  },
  {
   "cell_type": "code",
   "execution_count": 394,
   "metadata": {},
   "outputs": [],
   "source": [
    "#create an object of MinMaxScaler\n",
    "scaler = MinMaxScaler()"
   ]
  },
  {
   "cell_type": "code",
   "execution_count": 395,
   "metadata": {},
   "outputs": [
    {
     "data": {
      "text/plain": [
       "MinMaxScaler(copy=True, feature_range=(0, 1))"
      ]
     },
     "execution_count": 395,
     "metadata": {},
     "output_type": "execute_result"
    }
   ],
   "source": [
    "#normalizing the data\n",
    "\n",
    "#fitting\n",
    "scaler.fit(X_train)\n",
    "\n",
    "#transforming the x varaible\n",
    "X_train_scaled = scaler.transform(X_train)\n",
    "\n",
    "X_test_scaled = scaler.transform(X_test)"
   ]
  },
  {
   "cell_type": "code",
   "execution_count": 396,
   "metadata": {},
   "outputs": [],
   "source": [
    "#import the model\n",
    "from sklearn.linear_model import Lasso"
   ]
  },
  {
   "cell_type": "code",
   "execution_count": 397,
   "metadata": {},
   "outputs": [],
   "source": [
    "my_Lasso = Lasso(alpha = .8).fit(X_train_scaled, y_train)"
   ]
  },
  {
   "cell_type": "code",
   "execution_count": 398,
   "metadata": {},
   "outputs": [],
   "source": [
    "#predict test\n",
    "y_predict = my_Lasso.predict(X_test_scaled)\n",
    "\n",
    "#predict_train\n",
    "y_predict_train = my_Lasso.predict(X_train_scaled)"
   ]
  },
  {
   "cell_type": "code",
   "execution_count": 399,
   "metadata": {},
   "outputs": [
    {
     "name": "stdout",
     "output_type": "stream",
     "text": [
      "R Squared for test data is:  -0.0006071105408633759\n",
      "R Squared for training data is:  0.0\n"
     ]
    }
   ],
   "source": [
    "from sklearn.metrics import r2_score\n",
    "\n",
    "print('R Squared for test data is: ', r2_score(y_test, y_predict))\n",
    "print('R Squared for training data is: ', r2_score(y_train, y_predict_train))"
   ]
  },
  {
   "cell_type": "code",
   "execution_count": 400,
   "metadata": {},
   "outputs": [],
   "source": [
    "#add to metrics df\n",
    "\n",
    "rsquaresdf3_B['Lasso - Feature Scaling'] = [ r2_score(y_test, y_predict), r2_score(y_train, y_predict_train)]\n"
   ]
  },
  {
   "cell_type": "markdown",
   "metadata": {},
   "source": [
    "# KNN"
   ]
  },
  {
   "cell_type": "code",
   "execution_count": 401,
   "metadata": {},
   "outputs": [],
   "source": [
    "# Asigning Variables\n",
    "\n",
    "X = df3.iloc[:,:-3]\n",
    "y = df3.iloc[:,-1]"
   ]
  },
  {
   "cell_type": "code",
   "execution_count": 402,
   "metadata": {},
   "outputs": [],
   "source": [
    "# Sperate train and test data\n",
    "from sklearn.model_selection import train_test_split\n",
    "\n",
    "X_train, X_test, y_train, y_test = train_test_split(X, y, test_size = 0.20)\n"
   ]
  },
  {
   "cell_type": "code",
   "execution_count": 403,
   "metadata": {},
   "outputs": [],
   "source": [
    "#Normalizing (Feature Scaling)\n",
    "from sklearn.preprocessing import StandardScaler\n",
    "\n",
    "scaler = StandardScaler()\n",
    "\n",
    "X_train = scaler.fit_transform(X_train)\n",
    "X_test = scaler.fit_transform(X_test)"
   ]
  },
  {
   "cell_type": "code",
   "execution_count": 404,
   "metadata": {},
   "outputs": [],
   "source": [
    "#import model\n",
    "from sklearn.neighbors import KNeighborsClassifier"
   ]
  },
  {
   "cell_type": "markdown",
   "metadata": {},
   "source": [
    "## Paramater Tuning Code"
   ]
  },
  {
   "cell_type": "code",
   "execution_count": 405,
   "metadata": {},
   "outputs": [
    {
     "data": {
      "text/plain": [
       "KNeighborsClassifier(algorithm='auto', leaf_size=30, metric='minkowski',\n",
       "                     metric_params=None, n_jobs=None, n_neighbors=1, p=2,\n",
       "                     weights='uniform')"
      ]
     },
     "execution_count": 405,
     "metadata": {},
     "output_type": "execute_result"
    },
    {
     "data": {
      "text/plain": [
       "KNeighborsClassifier(algorithm='auto', leaf_size=30, metric='minkowski',\n",
       "                     metric_params=None, n_jobs=None, n_neighbors=2, p=2,\n",
       "                     weights='uniform')"
      ]
     },
     "execution_count": 405,
     "metadata": {},
     "output_type": "execute_result"
    },
    {
     "data": {
      "text/plain": [
       "KNeighborsClassifier(algorithm='auto', leaf_size=30, metric='minkowski',\n",
       "                     metric_params=None, n_jobs=None, n_neighbors=3, p=2,\n",
       "                     weights='uniform')"
      ]
     },
     "execution_count": 405,
     "metadata": {},
     "output_type": "execute_result"
    },
    {
     "data": {
      "text/plain": [
       "KNeighborsClassifier(algorithm='auto', leaf_size=30, metric='minkowski',\n",
       "                     metric_params=None, n_jobs=None, n_neighbors=4, p=2,\n",
       "                     weights='uniform')"
      ]
     },
     "execution_count": 405,
     "metadata": {},
     "output_type": "execute_result"
    },
    {
     "data": {
      "text/plain": [
       "KNeighborsClassifier(algorithm='auto', leaf_size=30, metric='minkowski',\n",
       "                     metric_params=None, n_jobs=None, n_neighbors=5, p=2,\n",
       "                     weights='uniform')"
      ]
     },
     "execution_count": 405,
     "metadata": {},
     "output_type": "execute_result"
    },
    {
     "data": {
      "text/plain": [
       "KNeighborsClassifier(algorithm='auto', leaf_size=30, metric='minkowski',\n",
       "                     metric_params=None, n_jobs=None, n_neighbors=6, p=2,\n",
       "                     weights='uniform')"
      ]
     },
     "execution_count": 405,
     "metadata": {},
     "output_type": "execute_result"
    },
    {
     "data": {
      "text/plain": [
       "KNeighborsClassifier(algorithm='auto', leaf_size=30, metric='minkowski',\n",
       "                     metric_params=None, n_jobs=None, n_neighbors=7, p=2,\n",
       "                     weights='uniform')"
      ]
     },
     "execution_count": 405,
     "metadata": {},
     "output_type": "execute_result"
    },
    {
     "data": {
      "text/plain": [
       "KNeighborsClassifier(algorithm='auto', leaf_size=30, metric='minkowski',\n",
       "                     metric_params=None, n_jobs=None, n_neighbors=8, p=2,\n",
       "                     weights='uniform')"
      ]
     },
     "execution_count": 405,
     "metadata": {},
     "output_type": "execute_result"
    },
    {
     "data": {
      "text/plain": [
       "KNeighborsClassifier(algorithm='auto', leaf_size=30, metric='minkowski',\n",
       "                     metric_params=None, n_jobs=None, n_neighbors=9, p=2,\n",
       "                     weights='uniform')"
      ]
     },
     "execution_count": 405,
     "metadata": {},
     "output_type": "execute_result"
    },
    {
     "data": {
      "text/plain": [
       "KNeighborsClassifier(algorithm='auto', leaf_size=30, metric='minkowski',\n",
       "                     metric_params=None, n_jobs=None, n_neighbors=10, p=2,\n",
       "                     weights='uniform')"
      ]
     },
     "execution_count": 405,
     "metadata": {},
     "output_type": "execute_result"
    },
    {
     "data": {
      "text/plain": [
       "KNeighborsClassifier(algorithm='auto', leaf_size=30, metric='minkowski',\n",
       "                     metric_params=None, n_jobs=None, n_neighbors=11, p=2,\n",
       "                     weights='uniform')"
      ]
     },
     "execution_count": 405,
     "metadata": {},
     "output_type": "execute_result"
    },
    {
     "data": {
      "text/plain": [
       "KNeighborsClassifier(algorithm='auto', leaf_size=30, metric='minkowski',\n",
       "                     metric_params=None, n_jobs=None, n_neighbors=12, p=2,\n",
       "                     weights='uniform')"
      ]
     },
     "execution_count": 405,
     "metadata": {},
     "output_type": "execute_result"
    },
    {
     "data": {
      "text/plain": [
       "KNeighborsClassifier(algorithm='auto', leaf_size=30, metric='minkowski',\n",
       "                     metric_params=None, n_jobs=None, n_neighbors=13, p=2,\n",
       "                     weights='uniform')"
      ]
     },
     "execution_count": 405,
     "metadata": {},
     "output_type": "execute_result"
    },
    {
     "data": {
      "text/plain": [
       "KNeighborsClassifier(algorithm='auto', leaf_size=30, metric='minkowski',\n",
       "                     metric_params=None, n_jobs=None, n_neighbors=14, p=2,\n",
       "                     weights='uniform')"
      ]
     },
     "execution_count": 405,
     "metadata": {},
     "output_type": "execute_result"
    },
    {
     "data": {
      "text/plain": [
       "KNeighborsClassifier(algorithm='auto', leaf_size=30, metric='minkowski',\n",
       "                     metric_params=None, n_jobs=None, n_neighbors=15, p=2,\n",
       "                     weights='uniform')"
      ]
     },
     "execution_count": 405,
     "metadata": {},
     "output_type": "execute_result"
    },
    {
     "data": {
      "text/plain": [
       "KNeighborsClassifier(algorithm='auto', leaf_size=30, metric='minkowski',\n",
       "                     metric_params=None, n_jobs=None, n_neighbors=16, p=2,\n",
       "                     weights='uniform')"
      ]
     },
     "execution_count": 405,
     "metadata": {},
     "output_type": "execute_result"
    },
    {
     "data": {
      "text/plain": [
       "KNeighborsClassifier(algorithm='auto', leaf_size=30, metric='minkowski',\n",
       "                     metric_params=None, n_jobs=None, n_neighbors=17, p=2,\n",
       "                     weights='uniform')"
      ]
     },
     "execution_count": 405,
     "metadata": {},
     "output_type": "execute_result"
    },
    {
     "data": {
      "text/plain": [
       "KNeighborsClassifier(algorithm='auto', leaf_size=30, metric='minkowski',\n",
       "                     metric_params=None, n_jobs=None, n_neighbors=18, p=2,\n",
       "                     weights='uniform')"
      ]
     },
     "execution_count": 405,
     "metadata": {},
     "output_type": "execute_result"
    },
    {
     "data": {
      "text/plain": [
       "KNeighborsClassifier(algorithm='auto', leaf_size=30, metric='minkowski',\n",
       "                     metric_params=None, n_jobs=None, n_neighbors=19, p=2,\n",
       "                     weights='uniform')"
      ]
     },
     "execution_count": 405,
     "metadata": {},
     "output_type": "execute_result"
    },
    {
     "data": {
      "text/plain": [
       "KNeighborsClassifier(algorithm='auto', leaf_size=30, metric='minkowski',\n",
       "                     metric_params=None, n_jobs=None, n_neighbors=20, p=2,\n",
       "                     weights='uniform')"
      ]
     },
     "execution_count": 405,
     "metadata": {},
     "output_type": "execute_result"
    },
    {
     "data": {
      "text/plain": [
       "KNeighborsClassifier(algorithm='auto', leaf_size=30, metric='minkowski',\n",
       "                     metric_params=None, n_jobs=None, n_neighbors=21, p=2,\n",
       "                     weights='uniform')"
      ]
     },
     "execution_count": 405,
     "metadata": {},
     "output_type": "execute_result"
    },
    {
     "data": {
      "text/plain": [
       "KNeighborsClassifier(algorithm='auto', leaf_size=30, metric='minkowski',\n",
       "                     metric_params=None, n_jobs=None, n_neighbors=22, p=2,\n",
       "                     weights='uniform')"
      ]
     },
     "execution_count": 405,
     "metadata": {},
     "output_type": "execute_result"
    },
    {
     "data": {
      "text/plain": [
       "KNeighborsClassifier(algorithm='auto', leaf_size=30, metric='minkowski',\n",
       "                     metric_params=None, n_jobs=None, n_neighbors=23, p=2,\n",
       "                     weights='uniform')"
      ]
     },
     "execution_count": 405,
     "metadata": {},
     "output_type": "execute_result"
    },
    {
     "data": {
      "text/plain": [
       "KNeighborsClassifier(algorithm='auto', leaf_size=30, metric='minkowski',\n",
       "                     metric_params=None, n_jobs=None, n_neighbors=24, p=2,\n",
       "                     weights='uniform')"
      ]
     },
     "execution_count": 405,
     "metadata": {},
     "output_type": "execute_result"
    },
    {
     "data": {
      "text/plain": [
       "KNeighborsClassifier(algorithm='auto', leaf_size=30, metric='minkowski',\n",
       "                     metric_params=None, n_jobs=None, n_neighbors=25, p=2,\n",
       "                     weights='uniform')"
      ]
     },
     "execution_count": 405,
     "metadata": {},
     "output_type": "execute_result"
    },
    {
     "data": {
      "text/plain": [
       "KNeighborsClassifier(algorithm='auto', leaf_size=30, metric='minkowski',\n",
       "                     metric_params=None, n_jobs=None, n_neighbors=26, p=2,\n",
       "                     weights='uniform')"
      ]
     },
     "execution_count": 405,
     "metadata": {},
     "output_type": "execute_result"
    },
    {
     "data": {
      "text/plain": [
       "KNeighborsClassifier(algorithm='auto', leaf_size=30, metric='minkowski',\n",
       "                     metric_params=None, n_jobs=None, n_neighbors=27, p=2,\n",
       "                     weights='uniform')"
      ]
     },
     "execution_count": 405,
     "metadata": {},
     "output_type": "execute_result"
    },
    {
     "data": {
      "text/plain": [
       "KNeighborsClassifier(algorithm='auto', leaf_size=30, metric='minkowski',\n",
       "                     metric_params=None, n_jobs=None, n_neighbors=28, p=2,\n",
       "                     weights='uniform')"
      ]
     },
     "execution_count": 405,
     "metadata": {},
     "output_type": "execute_result"
    },
    {
     "data": {
      "text/plain": [
       "KNeighborsClassifier(algorithm='auto', leaf_size=30, metric='minkowski',\n",
       "                     metric_params=None, n_jobs=None, n_neighbors=29, p=2,\n",
       "                     weights='uniform')"
      ]
     },
     "execution_count": 405,
     "metadata": {},
     "output_type": "execute_result"
    },
    {
     "data": {
      "text/plain": [
       "KNeighborsClassifier(algorithm='auto', leaf_size=30, metric='minkowski',\n",
       "                     metric_params=None, n_jobs=None, n_neighbors=30, p=2,\n",
       "                     weights='uniform')"
      ]
     },
     "execution_count": 405,
     "metadata": {},
     "output_type": "execute_result"
    },
    {
     "data": {
      "text/plain": [
       "KNeighborsClassifier(algorithm='auto', leaf_size=30, metric='minkowski',\n",
       "                     metric_params=None, n_jobs=None, n_neighbors=31, p=2,\n",
       "                     weights='uniform')"
      ]
     },
     "execution_count": 405,
     "metadata": {},
     "output_type": "execute_result"
    },
    {
     "data": {
      "text/plain": [
       "KNeighborsClassifier(algorithm='auto', leaf_size=30, metric='minkowski',\n",
       "                     metric_params=None, n_jobs=None, n_neighbors=32, p=2,\n",
       "                     weights='uniform')"
      ]
     },
     "execution_count": 405,
     "metadata": {},
     "output_type": "execute_result"
    },
    {
     "data": {
      "text/plain": [
       "KNeighborsClassifier(algorithm='auto', leaf_size=30, metric='minkowski',\n",
       "                     metric_params=None, n_jobs=None, n_neighbors=33, p=2,\n",
       "                     weights='uniform')"
      ]
     },
     "execution_count": 405,
     "metadata": {},
     "output_type": "execute_result"
    },
    {
     "data": {
      "text/plain": [
       "KNeighborsClassifier(algorithm='auto', leaf_size=30, metric='minkowski',\n",
       "                     metric_params=None, n_jobs=None, n_neighbors=34, p=2,\n",
       "                     weights='uniform')"
      ]
     },
     "execution_count": 405,
     "metadata": {},
     "output_type": "execute_result"
    },
    {
     "data": {
      "text/plain": [
       "KNeighborsClassifier(algorithm='auto', leaf_size=30, metric='minkowski',\n",
       "                     metric_params=None, n_jobs=None, n_neighbors=35, p=2,\n",
       "                     weights='uniform')"
      ]
     },
     "execution_count": 405,
     "metadata": {},
     "output_type": "execute_result"
    },
    {
     "data": {
      "text/plain": [
       "KNeighborsClassifier(algorithm='auto', leaf_size=30, metric='minkowski',\n",
       "                     metric_params=None, n_jobs=None, n_neighbors=36, p=2,\n",
       "                     weights='uniform')"
      ]
     },
     "execution_count": 405,
     "metadata": {},
     "output_type": "execute_result"
    },
    {
     "data": {
      "text/plain": [
       "KNeighborsClassifier(algorithm='auto', leaf_size=30, metric='minkowski',\n",
       "                     metric_params=None, n_jobs=None, n_neighbors=37, p=2,\n",
       "                     weights='uniform')"
      ]
     },
     "execution_count": 405,
     "metadata": {},
     "output_type": "execute_result"
    },
    {
     "data": {
      "text/plain": [
       "KNeighborsClassifier(algorithm='auto', leaf_size=30, metric='minkowski',\n",
       "                     metric_params=None, n_jobs=None, n_neighbors=38, p=2,\n",
       "                     weights='uniform')"
      ]
     },
     "execution_count": 405,
     "metadata": {},
     "output_type": "execute_result"
    },
    {
     "data": {
      "text/plain": [
       "KNeighborsClassifier(algorithm='auto', leaf_size=30, metric='minkowski',\n",
       "                     metric_params=None, n_jobs=None, n_neighbors=39, p=2,\n",
       "                     weights='uniform')"
      ]
     },
     "execution_count": 405,
     "metadata": {},
     "output_type": "execute_result"
    },
    {
     "data": {
      "text/plain": [
       "<Figure size 864x432 with 0 Axes>"
      ]
     },
     "execution_count": 405,
     "metadata": {},
     "output_type": "execute_result"
    },
    {
     "data": {
      "text/plain": [
       "[<matplotlib.lines.Line2D at 0x1a208c7b00>]"
      ]
     },
     "execution_count": 405,
     "metadata": {},
     "output_type": "execute_result"
    },
    {
     "data": {
      "text/plain": [
       "Text(0.5, 1.0, 'Error Rates for different k-values')"
      ]
     },
     "execution_count": 405,
     "metadata": {},
     "output_type": "execute_result"
    },
    {
     "data": {
      "text/plain": [
       "Text(0.5, 0, 'k-value')"
      ]
     },
     "execution_count": 405,
     "metadata": {},
     "output_type": "execute_result"
    },
    {
     "data": {
      "text/plain": [
       "Text(0, 0.5, 'Mean Error')"
      ]
     },
     "execution_count": 405,
     "metadata": {},
     "output_type": "execute_result"
    },
    {
     "data": {
      "image/png": "[encoded data removed]",
      "text/plain": [
       "<Figure size 864x432 with 1 Axes>"
      ]
     },
     "metadata": {
      "needs_background": "light"
     },
     "output_type": "display_data"
    }
   ],
   "source": [
    "# Arbitrarily we chose k = 5 and it turns out to be a good choice. However, in reality we have to try mutiple values and select\n",
    "# the best one. This is what we do here:\n",
    "\n",
    "error = []\n",
    "\n",
    "# calculate the error for k values between 1 and 40\n",
    "for i in range(1, 40):\n",
    "    knn = KNeighborsClassifier(n_neighbors = i)\n",
    "    knn.fit(X_train, y_train)\n",
    "    pred_y_i = knn.predict(X_test)\n",
    "    error.append(np.mean(pred_y_i != y_test))\n",
    "    \n",
    "    \n",
    "# Now, we can plot the errors\n",
    "plt.figure(figsize = (12, 6))\n",
    "plt.plot(range(1, 40), error, color = 'red', linestyle = 'dashed', marker = 'o',\n",
    "        markerfacecolor = 'green', markersize = 10)\n",
    "\n",
    "plt.title('Error Rates for different k-values')\n",
    "plt.xlabel('k-value')\n",
    "plt.ylabel('Mean Error')\n",
    "plt.show()\n"
   ]
  },
  {
   "cell_type": "code",
   "execution_count": 406,
   "metadata": {},
   "outputs": [
    {
     "data": {
      "text/plain": [
       "KNeighborsClassifier(algorithm='auto', leaf_size=30, metric='minkowski',\n",
       "                     metric_params=None, n_jobs=None, n_neighbors=21, p=2,\n",
       "                     weights='uniform')"
      ]
     },
     "execution_count": 406,
     "metadata": {},
     "output_type": "execute_result"
    }
   ],
   "source": [
    "#create an instance\n",
    "\n",
    "My_KNN = KNeighborsClassifier(n_neighbors = 21) \n",
    "My_KNN.fit(X_train, y_train)"
   ]
  },
  {
   "cell_type": "code",
   "execution_count": 407,
   "metadata": {},
   "outputs": [],
   "source": [
    "#predict test\n",
    "y_predict = My_KNN.predict(X_test)\n",
    "\n",
    "#predict train\n",
    "y_predict_train = My_KNN.predict(X_train)"
   ]
  },
  {
   "cell_type": "code",
   "execution_count": 408,
   "metadata": {},
   "outputs": [
    {
     "name": "stdout",
     "output_type": "stream",
     "text": [
      "test data is:  0.7682186234817814\n",
      "training data is:  0.800506329113924\n"
     ]
    }
   ],
   "source": [
    "#accuracy score\n",
    "from sklearn.metrics import accuracy_score\n",
    "\n",
    "print('test data is: ', accuracy_score(y_test, y_predict))\n",
    "print('training data is: ', accuracy_score(y_train, y_predict_train))"
   ]
  },
  {
   "cell_type": "code",
   "execution_count": 409,
   "metadata": {},
   "outputs": [],
   "source": [
    "#add to metrics df\n",
    "\n",
    "accuracydf3_B['KNN'] = [accuracy_score(y_test, y_predict), accuracy_score(y_train, y_predict_train)]\n"
   ]
  },
  {
   "cell_type": "markdown",
   "metadata": {},
   "source": [
    "# DECISION TREE"
   ]
  },
  {
   "cell_type": "code",
   "execution_count": 410,
   "metadata": {},
   "outputs": [],
   "source": [
    "# Asigning Variables\n",
    "\n",
    "X = df3.iloc[:,:-3]\n",
    "y = df3.iloc[:,-1]"
   ]
  },
  {
   "cell_type": "code",
   "execution_count": 411,
   "metadata": {},
   "outputs": [
    {
     "data": {
      "text/plain": [
       "DecisionTreeClassifier(ccp_alpha=0.0, class_weight=None, criterion='gini',\n",
       "                       max_depth=3, max_features=None, max_leaf_nodes=None,\n",
       "                       min_impurity_decrease=0.0, min_impurity_split=None,\n",
       "                       min_samples_leaf=7, min_samples_split=2,\n",
       "                       min_weight_fraction_leaf=0.0, presort='deprecated',\n",
       "                       random_state=None, splitter='best')"
      ]
     },
     "execution_count": 411,
     "metadata": {},
     "output_type": "execute_result"
    }
   ],
   "source": [
    "from sklearn.model_selection import train_test_split as SPLIT\n",
    "\n",
    "X_train, X_test, y_train, y_test = SPLIT(X, y, test_size = .2)\n",
    "\n",
    "from sklearn.tree import DecisionTreeClassifier\n",
    "\n",
    "My_Tree = DecisionTreeClassifier(max_depth = 3 ,min_samples_leaf = 7)\n",
    "\n",
    "My_Tree.fit(X_train, y_train)"
   ]
  },
  {
   "cell_type": "code",
   "execution_count": 412,
   "metadata": {},
   "outputs": [
    {
     "name": "stdout",
     "output_type": "stream",
     "text": [
      "test 0.7530364372469636\n",
      "train 0.7668354430379747\n"
     ]
    }
   ],
   "source": [
    "# print accuracy scores\n",
    "\n",
    "y_predict = My_Tree.predict(X_test)\n",
    "y_predict_train = My_Tree.predict(X_train)\n",
    "\n",
    "from sklearn.metrics import accuracy_score\n",
    "\n",
    "print(\"test\", accuracy_score(y_test, y_predict))\n",
    "print(\"train\", accuracy_score(y_train, y_predict_train))"
   ]
  },
  {
   "cell_type": "code",
   "execution_count": 413,
   "metadata": {},
   "outputs": [],
   "source": [
    "#add to metrics df\n",
    "\n",
    "accuracydf3_B['Decision Tree'] = [accuracy_score(y_test, y_predict), accuracy_score(y_train, y_predict_train)]\n"
   ]
  },
  {
   "cell_type": "markdown",
   "metadata": {},
   "source": [
    "## SVM - Only for Binary"
   ]
  },
  {
   "cell_type": "code",
   "execution_count": 414,
   "metadata": {},
   "outputs": [],
   "source": [
    "# Asigning Variables\n",
    "\n",
    "X = df3.iloc[:,:-3]\n",
    "y = df3.iloc[:,-1]"
   ]
  },
  {
   "cell_type": "markdown",
   "metadata": {},
   "source": [
    "## SVM Parameter Tuning"
   ]
  },
  {
   "cell_type": "code",
   "execution_count": 415,
   "metadata": {},
   "outputs": [
    {
     "data": {
      "text/plain": [
       "SVC(C=0.1, break_ties=False, cache_size=200, class_weight=None, coef0=0.0,\n",
       "    decision_function_shape='ovr', degree=3, gamma='scale', kernel='linear',\n",
       "    max_iter=-1, probability=False, random_state=None, shrinking=True,\n",
       "    tol=0.001, verbose=False)"
      ]
     },
     "execution_count": 415,
     "metadata": {},
     "output_type": "execute_result"
    },
    {
     "name": "stdout",
     "output_type": "stream",
     "text": [
      "SVC accuracy Test Data 0.1 =  0.8178137651821862\n",
      "SVC accuracy Training Data 0.1 =  0.810379746835443\n",
      "Error = : 0.007\n"
     ]
    },
    {
     "data": {
      "text/plain": [
       "SVC(C=0.5, break_ties=False, cache_size=200, class_weight=None, coef0=0.0,\n",
       "    decision_function_shape='ovr', degree=3, gamma='scale', kernel='linear',\n",
       "    max_iter=-1, probability=False, random_state=None, shrinking=True,\n",
       "    tol=0.001, verbose=False)"
      ]
     },
     "execution_count": 415,
     "metadata": {},
     "output_type": "execute_result"
    },
    {
     "name": "stdout",
     "output_type": "stream",
     "text": [
      "SVC accuracy Test Data 0.5 =  0.805668016194332\n",
      "SVC accuracy Training Data 0.5 =  0.8078481012658227\n",
      "Error = : 0.002\n"
     ]
    },
    {
     "data": {
      "text/plain": [
       "SVC(C=1, break_ties=False, cache_size=200, class_weight=None, coef0=0.0,\n",
       "    decision_function_shape='ovr', degree=3, gamma='scale', kernel='linear',\n",
       "    max_iter=-1, probability=False, random_state=None, shrinking=True,\n",
       "    tol=0.001, verbose=False)"
      ]
     },
     "execution_count": 415,
     "metadata": {},
     "output_type": "execute_result"
    },
    {
     "name": "stdout",
     "output_type": "stream",
     "text": [
      "SVC accuracy Test Data 1 =  0.7975708502024291\n",
      "SVC accuracy Training Data 1 =  0.809620253164557\n",
      "Error = : 0.012\n"
     ]
    },
    {
     "data": {
      "text/plain": [
       "SVC(C=5, break_ties=False, cache_size=200, class_weight=None, coef0=0.0,\n",
       "    decision_function_shape='ovr', degree=3, gamma='scale', kernel='linear',\n",
       "    max_iter=-1, probability=False, random_state=None, shrinking=True,\n",
       "    tol=0.001, verbose=False)"
      ]
     },
     "execution_count": 415,
     "metadata": {},
     "output_type": "execute_result"
    },
    {
     "name": "stdout",
     "output_type": "stream",
     "text": [
      "SVC accuracy Test Data 5 =  0.8107287449392713\n",
      "SVC accuracy Training Data 5 =  0.810379746835443\n",
      "Error = : 0.0\n"
     ]
    }
   ],
   "source": [
    "c_parameters = [.1,.5,1,5]\n",
    "\n",
    "for c in c_parameters:\n",
    "   # splitting data\n",
    "    from sklearn.model_selection import train_test_split as SPLIT\n",
    "\n",
    "    X_train, X_test, y_train, y_test = SPLIT(X, y, test_size = .2)\n",
    "\n",
    "    # Developing Model\n",
    "    from sklearn.svm import SVC\n",
    "\n",
    "    My_SVC = SVC(kernel = 'linear', C = c)\n",
    "\n",
    "    My_SVC.fit(X_train, y_train)\n",
    "    \n",
    "    y_predict = My_SVC.predict(X_test)\n",
    "\n",
    "    y_predict_train = My_SVC.predict(X_train)\n",
    "    \n",
    "    from sklearn.metrics import accuracy_score\n",
    "    \n",
    "    print(f'SVC accuracy Test Data {c} = ', accuracy_score(y_test, y_predict))\n",
    "\n",
    "    print(f'SVC accuracy Training Data {c} = ', accuracy_score(y_train, y_predict_train))\n",
    "    \n",
    "    print('Error = :', round(abs(accuracy_score(y_test, y_predict) - accuracy_score(y_train, y_predict_train)),3))\n"
   ]
  },
  {
   "cell_type": "code",
   "execution_count": 416,
   "metadata": {},
   "outputs": [
    {
     "data": {
      "text/plain": [
       "SVC(C=1, break_ties=False, cache_size=200, class_weight=None, coef0=0.0,\n",
       "    decision_function_shape='ovr', degree=3, gamma='scale', kernel='linear',\n",
       "    max_iter=-1, probability=False, random_state=None, shrinking=True,\n",
       "    tol=0.001, verbose=False)"
      ]
     },
     "execution_count": 416,
     "metadata": {},
     "output_type": "execute_result"
    }
   ],
   "source": [
    "# splitting data\n",
    "from sklearn.model_selection import train_test_split as SPLIT\n",
    "\n",
    "X_train, X_test, y_train, y_test = SPLIT(X, y, test_size = .2)\n",
    "\n",
    "# Developing Model\n",
    "from sklearn.svm import SVC\n",
    "\n",
    "My_SVC = SVC(kernel = 'linear', C = 1)\n",
    "\n",
    "My_SVC.fit(X_train, y_train)"
   ]
  },
  {
   "cell_type": "code",
   "execution_count": 417,
   "metadata": {},
   "outputs": [],
   "source": [
    "y_predict = My_SVC.predict(X_test)\n",
    "\n",
    "y_predict_train = My_SVC.predict(X_train)"
   ]
  },
  {
   "cell_type": "code",
   "execution_count": 418,
   "metadata": {},
   "outputs": [],
   "source": [
    "from sklearn.metrics import accuracy_score"
   ]
  },
  {
   "cell_type": "code",
   "execution_count": 419,
   "metadata": {},
   "outputs": [
    {
     "name": "stdout",
     "output_type": "stream",
     "text": [
      "SVC accuracy on Test Data =  0.8218623481781376\n",
      "SVC accuracy on Training Data =  0.8073417721518987\n"
     ]
    }
   ],
   "source": [
    "print('SVC accuracy on Test Data = ', accuracy_score(y_test, y_predict))\n",
    "\n",
    "print('SVC accuracy on Training Data = ', accuracy_score(y_train, y_predict_train))\n"
   ]
  },
  {
   "cell_type": "code",
   "execution_count": 420,
   "metadata": {},
   "outputs": [],
   "source": [
    "#add to metrics df\n",
    "\n",
    "accuracydf3_B['SVM'] = [accuracy_score(y_test, y_predict), accuracy_score(y_train, y_predict_train)]\n"
   ]
  },
  {
   "cell_type": "markdown",
   "metadata": {},
   "source": [
    "# Dummy Classifier for SVC Model"
   ]
  },
  {
   "cell_type": "code",
   "execution_count": 421,
   "metadata": {},
   "outputs": [
    {
     "name": "stdout",
     "output_type": "stream",
     "text": [
      "Original labels: season\n",
      "2006/2007    1\n",
      "2006/2007    1\n",
      "2006/2007    1\n",
      "2006/2007    1\n",
      "2006/2007    1\n",
      "2006/2007    1\n",
      "2006/2007    1\n",
      "2006/2007    1\n",
      "2006/2007    1\n",
      "2006/2007    1\n",
      "2006/2007    1\n",
      "2006/2007    1\n",
      "2006/2007    1\n",
      "2006/2007    0\n",
      "2006/2007    1\n",
      "2006/2007    1\n",
      "2006/2007    1\n",
      "2006/2007    1\n",
      "2006/2007    1\n",
      "2006/2007    1\n",
      "2006/2007    1\n",
      "2006/2007    0\n",
      "2006/2007    0\n",
      "2006/2007    1\n",
      "2006/2007    1\n",
      "2006/2007    0\n",
      "2006/2007    0\n",
      "2006/2007    1\n",
      "2006/2007    1\n",
      "Name: non_loss, dtype: int64\n",
      "New binary labels: season\n",
      "2006/2007    1\n",
      "2006/2007    1\n",
      "2006/2007    1\n",
      "2006/2007    1\n",
      "2006/2007    1\n",
      "2006/2007    1\n",
      "2006/2007    1\n",
      "2006/2007    1\n",
      "2006/2007    1\n",
      "2006/2007    1\n",
      "2006/2007    1\n",
      "2006/2007    1\n",
      "2006/2007    1\n",
      "2006/2007    0\n",
      "2006/2007    1\n",
      "2006/2007    1\n",
      "2006/2007    1\n",
      "2006/2007    1\n",
      "2006/2007    1\n",
      "2006/2007    1\n",
      "2006/2007    1\n",
      "2006/2007    0\n",
      "2006/2007    0\n",
      "2006/2007    1\n",
      "2006/2007    1\n",
      "2006/2007    0\n",
      "2006/2007    0\n",
      "2006/2007    1\n",
      "2006/2007    1\n",
      "Name: non_loss, dtype: int64\n"
     ]
    }
   ],
   "source": [
    "y_binary_imbalanced = y.copy()\n",
    "\n",
    "y_binary_imbalanced[y_binary_imbalanced != 1] = 0\n",
    "\n",
    "print ('Original labels:', y[1:30])\n",
    "\n",
    "print ('New binary labels:', y_binary_imbalanced[1:30])"
   ]
  },
  {
   "cell_type": "code",
   "execution_count": 422,
   "metadata": {},
   "outputs": [
    {
     "data": {
      "text/plain": [
       "array([1, 1, 1, 1, 1, 1, 1, 1, 1, 1, 1, 1, 1, 1, 1, 1, 1, 1, 1, 1, 1, 1,\n",
       "       1, 1, 1, 1, 1, 1, 1, 1, 1, 1, 1, 1, 1, 1, 1, 1, 1, 1, 1, 1, 1, 1,\n",
       "       1, 1, 1, 1, 1, 1, 1, 1, 1, 1, 1, 1, 1, 1, 1, 1, 1, 1, 1, 1, 1, 1,\n",
       "       1, 1, 1, 1, 1, 1, 1, 1, 1, 1, 1, 1, 1, 1, 1, 1, 1, 1, 1, 1, 1, 1,\n",
       "       1, 1, 1, 1, 1, 1, 1, 1, 1, 1, 1, 1, 1, 1, 1, 1, 1, 1, 1, 1, 1, 1,\n",
       "       1, 1, 1, 1, 1, 1, 1, 1, 1, 1, 1, 1, 1, 1, 1, 1, 1, 1, 1, 1, 1, 1,\n",
       "       1, 1, 1, 1, 1, 1, 1, 1, 1, 1, 1, 1, 1, 1, 1, 1, 1, 1, 1, 1, 1, 1,\n",
       "       1, 1, 1, 1, 1, 1, 1, 1, 1, 1, 1, 1, 1, 1, 1, 1, 1, 1, 1, 1, 1, 1,\n",
       "       1, 1, 1, 1, 1, 1, 1, 1, 1, 1, 1, 1, 1, 1, 1, 1, 1, 1, 1, 1, 1, 1,\n",
       "       1, 1, 1, 1, 1, 1, 1, 1, 1, 1, 1, 1, 1, 1, 1, 1, 1, 1, 1, 1, 1, 1,\n",
       "       1, 1, 1, 1, 1, 1, 1, 1, 1, 1, 1, 1, 1, 1, 1, 1, 1, 1, 1, 1, 1, 1,\n",
       "       1, 1, 1, 1, 1, 1, 1, 1, 1, 1, 1, 1, 1, 1, 1, 1, 1, 1, 1, 1, 1, 1,\n",
       "       1, 1, 1, 1, 1, 1, 1, 1, 1, 1, 1, 1, 1, 1, 1, 1, 1, 1, 1, 1, 1, 1,\n",
       "       1, 1, 1, 1, 1, 1, 1, 1, 1, 1, 1, 1, 1, 1, 1, 1, 1, 1, 1, 1, 1, 1,\n",
       "       1, 1, 1, 1, 1, 1, 1, 1, 1, 1, 1, 1, 1, 1, 1, 1, 1, 1, 1, 1, 1, 1,\n",
       "       1, 1, 1, 1, 1, 1, 1, 1, 1, 1, 1, 1, 1, 1, 1, 1, 1, 1, 1, 1, 1, 1,\n",
       "       1, 1, 1, 1, 1, 1, 1, 1, 1, 1, 1, 1, 1, 1, 1, 1, 1, 1, 1, 1, 1, 1,\n",
       "       1, 1, 1, 1, 1, 1, 1, 1, 1, 1, 1, 1, 1, 1, 1, 1, 1, 1, 1, 1, 1, 1,\n",
       "       1, 1, 1, 1, 1, 1, 1, 1, 1, 1, 1, 1, 1, 1, 1, 1, 1, 1, 1, 1, 1, 1,\n",
       "       1, 1, 1, 1, 1, 1, 1, 1, 1, 1, 1, 1, 1, 1, 1, 1, 1, 1, 1, 1, 1, 1,\n",
       "       1, 1, 1, 1, 1, 1, 1, 1, 1, 1, 1, 1, 1, 1, 1, 1, 1, 1, 1, 1, 1, 1,\n",
       "       1, 1, 1, 1, 1, 1, 1, 1, 1, 1, 1, 1, 1, 1, 1, 1, 1, 1, 1, 1, 1, 1,\n",
       "       1, 1, 1, 1, 1, 1, 1, 1, 1, 1, 1, 1, 1, 1, 1, 1, 1, 1, 1, 1, 1, 1,\n",
       "       1, 1, 1, 1, 1, 1, 1, 1, 1, 1, 1, 1, 1, 1, 1, 1, 1, 1, 1, 1, 1, 1,\n",
       "       1, 1, 1, 1, 1, 1, 1, 1, 1, 1, 1, 1, 1, 1, 1, 1, 1, 1, 1, 1, 1, 1,\n",
       "       1, 1, 1, 1, 1, 1, 1, 1, 1, 1, 1, 1, 1, 1, 1, 1, 1, 1, 1, 1, 1, 1,\n",
       "       1, 1, 1, 1, 1, 1, 1, 1, 1, 1, 1, 1, 1, 1, 1, 1, 1, 1, 1, 1, 1, 1,\n",
       "       1, 1, 1, 1, 1, 1, 1, 1, 1, 1, 1, 1, 1, 1, 1, 1, 1, 1, 1, 1, 1, 1,\n",
       "       1, 1, 1, 1, 1, 1, 1, 1, 1, 1, 1, 1, 1, 1, 1, 1, 1, 1, 1, 1, 1, 1,\n",
       "       1, 1, 1, 1, 1, 1, 1, 1, 1, 1, 1, 1, 1, 1, 1, 1, 1, 1, 1, 1, 1, 1,\n",
       "       1, 1, 1, 1, 1, 1, 1, 1, 1, 1, 1, 1, 1, 1, 1, 1, 1, 1, 1, 1, 1, 1,\n",
       "       1, 1, 1, 1, 1, 1, 1, 1, 1, 1, 1, 1, 1, 1, 1, 1, 1, 1, 1, 1, 1, 1,\n",
       "       1, 1, 1, 1, 1, 1, 1, 1, 1, 1, 1, 1, 1, 1, 1, 1, 1, 1, 1, 1, 1, 1,\n",
       "       1, 1, 1, 1, 1, 1, 1, 1, 1, 1, 1, 1, 1, 1, 1, 1, 1, 1, 1, 1, 1, 1,\n",
       "       1, 1, 1, 1, 1, 1, 1, 1, 1, 1, 1, 1, 1, 1, 1, 1, 1, 1, 1, 1, 1, 1,\n",
       "       1, 1, 1, 1, 1, 1, 1, 1, 1, 1, 1, 1, 1, 1, 1, 1, 1, 1, 1, 1, 1, 1,\n",
       "       1, 1, 1, 1, 1, 1, 1, 1, 1, 1, 1, 1, 1, 1, 1, 1, 1, 1, 1, 1, 1, 1,\n",
       "       1, 1, 1, 1, 1, 1, 1, 1, 1, 1, 1, 1, 1, 1, 1, 1, 1, 1, 1, 1, 1, 1,\n",
       "       1, 1, 1, 1, 1, 1, 1, 1, 1, 1, 1, 1, 1, 1, 1, 1, 1, 1, 1, 1, 1, 1,\n",
       "       1, 1, 1, 1, 1, 1, 1, 1, 1, 1, 1, 1, 1, 1, 1, 1, 1, 1, 1, 1, 1, 1,\n",
       "       1, 1, 1, 1, 1, 1, 1, 1, 1, 1, 1, 1, 1, 1, 1, 1, 1, 1, 1, 1, 1, 1,\n",
       "       1, 1, 1, 1, 1, 1, 1, 1, 1, 1, 1, 1, 1, 1, 1, 1, 1, 1, 1, 1, 1, 1,\n",
       "       1, 1, 1, 1, 1, 1, 1, 1, 1, 1, 1, 1, 1, 1, 1, 1, 1, 1, 1, 1, 1, 1,\n",
       "       1, 1, 1, 1, 1, 1, 1, 1, 1, 1, 1, 1, 1, 1, 1, 1, 1, 1, 1, 1, 1, 1,\n",
       "       1, 1, 1, 1, 1, 1, 1, 1, 1, 1, 1, 1, 1, 1, 1, 1, 1, 1, 1, 1])"
      ]
     },
     "execution_count": 422,
     "metadata": {},
     "output_type": "execute_result"
    }
   ],
   "source": [
    "from sklearn.dummy import DummyClassifier\n",
    "\n",
    "# Negative class (0) is most frequent\n",
    "dummy_majority = DummyClassifier(strategy = 'most_frequent').fit(X_train, y_train)\n",
    "\n",
    "#  The dummy 'most_frequent' classifier always predicts class 0\n",
    "y_dummy_predictions = dummy_majority.predict(X_test)\n",
    "\n",
    "y_dummy_predictions"
   ]
  },
  {
   "cell_type": "code",
   "execution_count": 423,
   "metadata": {},
   "outputs": [
    {
     "name": "stdout",
     "output_type": "stream",
     "text": [
      "Accuracy score of Dummy Classifier =  0.7226720647773279\n"
     ]
    }
   ],
   "source": [
    "print (\"Accuracy score of Dummy Classifier = \", accuracy_score(y_test, y_dummy_predictions))"
   ]
  },
  {
   "cell_type": "markdown",
   "metadata": {
    "collapsed": true
   },
   "source": [
    "# GNB"
   ]
  },
  {
   "cell_type": "code",
   "execution_count": 424,
   "metadata": {},
   "outputs": [],
   "source": [
    "# Asigning Variables\n",
    "\n",
    "X = df3.iloc[:,:-3]\n",
    "y = df3.iloc[:,-1]"
   ]
  },
  {
   "cell_type": "code",
   "execution_count": 425,
   "metadata": {},
   "outputs": [],
   "source": [
    "from sklearn.model_selection import train_test_split as SPLIT\n",
    "\n",
    "X_train, X_test, y_train, y_test = SPLIT(X, y)"
   ]
  },
  {
   "cell_type": "code",
   "execution_count": 426,
   "metadata": {},
   "outputs": [],
   "source": [
    "# Import Libraries\n",
    "# from sklear.naive_bayes import GaussianNB\n",
    "\n",
    "from sklearn.naive_bayes import GaussianNB\n",
    "\n",
    "My_GNB = GaussianNB().fit(X_train,y_train)\n"
   ]
  },
  {
   "cell_type": "code",
   "execution_count": 427,
   "metadata": {},
   "outputs": [
    {
     "name": "stdout",
     "output_type": "stream",
     "text": [
      "Accuracy Test =  0.6720647773279352\n",
      "Accuracy Train =  0.6740480691331353\n"
     ]
    }
   ],
   "source": [
    "# make prediction on training and test data \n",
    "y_predict = My_GNB.predict(X_test)\n",
    "y_predict_train = My_GNB.predict(X_train)\n",
    "\n",
    "\n",
    "#accuracy score\n",
    "from sklearn.metrics import accuracy_score\n",
    "\n",
    "print(\"Accuracy Test = \", accuracy_score(y_test, y_predict))\n",
    "print(\"Accuracy Train = \", accuracy_score(y_train, y_predict_train))"
   ]
  },
  {
   "cell_type": "code",
   "execution_count": 428,
   "metadata": {},
   "outputs": [],
   "source": [
    "#add to metrics df\n",
    "\n",
    "accuracydf3_B['GNB'] = [accuracy_score(y_test, y_predict), accuracy_score(y_train, y_predict_train)]\n"
   ]
  },
  {
   "cell_type": "markdown",
   "metadata": {
    "collapsed": true
   },
   "source": [
    "# Random Forest"
   ]
  },
  {
   "cell_type": "code",
   "execution_count": 429,
   "metadata": {},
   "outputs": [],
   "source": [
    "# Asigning Variables\n",
    "\n",
    "X = df3.iloc[:,:-3]\n",
    "y = df3.iloc[:,-1]"
   ]
  },
  {
   "cell_type": "code",
   "execution_count": 430,
   "metadata": {},
   "outputs": [],
   "source": [
    "# import RandomForestClassifier from sklearn.ensemble module\n",
    "\n",
    "from sklearn.ensemble import RandomForestClassifier as FOREST\n",
    "\n",
    "k = 10\n",
    "\n",
    "My_Forest = FOREST(max_depth = 4 ,min_samples_leaf = 10, max_features = k).fit(X_train, y_train)\n"
   ]
  },
  {
   "cell_type": "code",
   "execution_count": 431,
   "metadata": {},
   "outputs": [
    {
     "name": "stdout",
     "output_type": "stream",
     "text": [
      "Test 0.7684210526315789\n",
      "Train 0.7890899270861463\n"
     ]
    }
   ],
   "source": [
    "y_predict = My_Forest.predict(X_test)\n",
    "y_predict_train = My_Forest.predict(X_train)\n",
    "\n",
    "print('Test', accuracy_score(y_test, y_predict))\n",
    "print('Train', accuracy_score(y_train, y_predict_train))"
   ]
  },
  {
   "cell_type": "code",
   "execution_count": 432,
   "metadata": {},
   "outputs": [],
   "source": [
    "#add to metrics df\n",
    "\n",
    "accuracydf3_B['Rand Forest'] = [accuracy_score(y_test, y_predict), accuracy_score(y_train, y_predict_train)]\n"
   ]
  },
  {
   "cell_type": "markdown",
   "metadata": {
    "collapsed": true
   },
   "source": [
    "# Gradient Boosted Decision Trees"
   ]
  },
  {
   "cell_type": "code",
   "execution_count": 433,
   "metadata": {},
   "outputs": [],
   "source": [
    "# Asigning Variables\n",
    "\n",
    "X = df3.iloc[:,:-3]\n",
    "y = df3.iloc[:,-1]"
   ]
  },
  {
   "cell_type": "code",
   "execution_count": 434,
   "metadata": {},
   "outputs": [],
   "source": [
    "# Import Libraries\n",
    "# from sklear.ensemble import GradientBoostingClassifier\n",
    "from sklearn.ensemble import GradientBoostingClassifier as GBDT\n",
    "\n",
    "# set the random_state = 0\n",
    "My_GBDT = GBDT().fit(X_train, y_train)"
   ]
  },
  {
   "cell_type": "code",
   "execution_count": 435,
   "metadata": {},
   "outputs": [
    {
     "name": "stdout",
     "output_type": "stream",
     "text": [
      "Accuracy Score on Test Data =  0.8048582995951417\n",
      "Accuracy Score on Train Data =  0.8501215230893869\n"
     ]
    }
   ],
   "source": [
    "from sklearn.metrics import accuracy_score\n",
    "\n",
    "# make prediction on training and test data \n",
    "\n",
    "y_pred = My_GBDT.predict(X_test)\n",
    "\n",
    "y_pred_train = My_GBDT.predict(X_train)\n",
    "\n",
    "# print accuracy_score for your predictions\n",
    "print (\"Accuracy Score on Test Data = \", accuracy_score(y_test, y_pred))\n",
    "print (\"Accuracy Score on Train Data = \", accuracy_score(y_train, y_pred_train))"
   ]
  },
  {
   "cell_type": "code",
   "execution_count": 436,
   "metadata": {},
   "outputs": [],
   "source": [
    "# set the values for learning_rate and max_depth to control the performance of the algorithm\n",
    "# ReDo it for different values\n",
    "\n",
    "My_GBDT_2 = GBDT(learning_rate = .1, max_depth = 2).fit(X_train, y_train)"
   ]
  },
  {
   "cell_type": "code",
   "execution_count": 437,
   "metadata": {},
   "outputs": [
    {
     "name": "stdout",
     "output_type": "stream",
     "text": [
      "Accuracy Score on Test Data =  0.8072874493927126\n",
      "Accuracy Score on Train Data =  0.8220361868755064\n"
     ]
    }
   ],
   "source": [
    "# make prediction on training and test data \n",
    "\n",
    "y_pred = My_GBDT_2.predict(X_test)\n",
    "\n",
    "y_pred_train = My_GBDT_2.predict(X_train)\n",
    "\n",
    "# print accuracy_score for your predictions\n",
    "print (\"Accuracy Score on Test Data = \", accuracy_score(y_test, y_pred))\n",
    "print (\"Accuracy Score on Train Data = \", accuracy_score(y_train, y_pred_train))"
   ]
  },
  {
   "cell_type": "code",
   "execution_count": 438,
   "metadata": {},
   "outputs": [],
   "source": [
    "#add to metrics df\n",
    "\n",
    "accuracydf3_B['GB Dec Tree'] = [accuracy_score(y_test, y_predict), accuracy_score(y_train, y_predict_train)]\n"
   ]
  },
  {
   "cell_type": "markdown",
   "metadata": {
    "collapsed": true
   },
   "source": [
    "# Artificial Neural Network"
   ]
  },
  {
   "cell_type": "code",
   "execution_count": 439,
   "metadata": {},
   "outputs": [],
   "source": [
    "# Asigning Variables\n",
    "\n",
    "X = df3.iloc[:,:-3]\n",
    "y = df3.iloc[:,-1]"
   ]
  },
  {
   "cell_type": "code",
   "execution_count": 440,
   "metadata": {},
   "outputs": [],
   "source": [
    "# Import Libraries\n",
    "\n",
    "from sklearn.neural_network import MLPClassifier\n",
    "from sklearn.preprocessing import MinMaxScaler"
   ]
  },
  {
   "cell_type": "markdown",
   "metadata": {},
   "source": [
    "## ANN Paramater Tuning"
   ]
  },
  {
   "cell_type": "code",
   "execution_count": 441,
   "metadata": {},
   "outputs": [
    {
     "name": "stdout",
     "output_type": "stream",
     "text": [
      "Accuracy Score on Test Data = 1  0.8040485829959514\n",
      "Accuracy Score on Train Data = 1 0.8239265460437483\n",
      "Error 1 = : -0.019877963047796876\n",
      "Accuracy Score on Test Data = 3  0.8032388663967611\n",
      "Accuracy Score on Train Data = 3 0.8223062381852552\n",
      "Error 3 = : -0.019067371788494047\n",
      "Accuracy Score on Test Data = 5  0.805668016194332\n",
      "Accuracy Score on Train Data = 5 0.8182554685390224\n",
      "Error 5 = : -0.012587452344690386\n",
      "Accuracy Score on Test Data = 10  0.8080971659919028\n",
      "Accuracy Score on Train Data = 10 0.8144747502025385\n",
      "Error 10 = : -0.006377584210635612\n"
     ]
    }
   ],
   "source": [
    "a_parameters = [1, 3, 5, 10]\n",
    "\n",
    "for a in a_parameters:\n",
    "\n",
    "    \n",
    "    # Scale Data\n",
    "\n",
    "    Scaler = MinMaxScaler()\n",
    "\n",
    "    X_train_scaled = Scaler.fit_transform(X_train)\n",
    "    X_test_scaled = Scaler.transform(X_test)\n",
    "\n",
    "    # Build Model\n",
    "    My_ANN = MLPClassifier(activation = 'tanh', hidden_layer_sizes = [10, 10], alpha = a, solver = 'lbfgs').fit(X_train_scaled, y_train)\n",
    "\n",
    "    # make prediction on training and test data \n",
    "\n",
    "    y_pred = My_ANN.predict(X_test_scaled)\n",
    "\n",
    "    y_pred_train = My_ANN.predict(X_train_scaled)\n",
    "\n",
    "    # print accuracy_score for your predictions\n",
    "    print (f\"Accuracy Score on Test Data = {a} \", accuracy_score(y_test, y_pred))\n",
    "    print (f\"Accuracy Score on Train Data = {a}\", accuracy_score(y_train, y_pred_train))\n",
    "    print(f'Error {a} = :', accuracy_score(y_test, y_pred) - accuracy_score(y_train, y_pred_train))"
   ]
  },
  {
   "cell_type": "code",
   "execution_count": 442,
   "metadata": {},
   "outputs": [],
   "source": [
    "# Scale Data\n",
    "\n",
    "Scaler = MinMaxScaler()\n",
    "\n",
    "X_train_scaled = Scaler.fit_transform(X_train)\n",
    "X_test_scaled = Scaler.transform(X_test)"
   ]
  },
  {
   "cell_type": "code",
   "execution_count": 443,
   "metadata": {},
   "outputs": [],
   "source": [
    "# Build Model\n",
    "My_ANN = MLPClassifier(activation = 'tanh', hidden_layer_sizes = [10, 10], alpha = 3, solver = 'lbfgs').fit(X_train_scaled, y_train)\n"
   ]
  },
  {
   "cell_type": "code",
   "execution_count": 444,
   "metadata": {},
   "outputs": [
    {
     "name": "stdout",
     "output_type": "stream",
     "text": [
      "Accuracy Score on Test Data =  0.8024291497975709\n",
      "Accuracy Score on Train Data =  0.8206859303267621\n"
     ]
    }
   ],
   "source": [
    "# make prediction on training and test data \n",
    "\n",
    "y_pred = My_ANN.predict(X_test_scaled)\n",
    "\n",
    "y_pred_train = My_ANN.predict(X_train_scaled)\n",
    "\n",
    "# print accuracy_score for your predictions\n",
    "print (\"Accuracy Score on Test Data = \", accuracy_score(y_test, y_pred))\n",
    "print (\"Accuracy Score on Train Data = \", accuracy_score(y_train, y_pred_train))"
   ]
  },
  {
   "cell_type": "code",
   "execution_count": 445,
   "metadata": {},
   "outputs": [],
   "source": [
    "# Add results to metrics df\n",
    "\n",
    "accuracydf3_B['ANN'] = [accuracy_score(y_test, y_predict), accuracy_score(y_train, y_predict_train)]"
   ]
  },
  {
   "cell_type": "code",
   "execution_count": 446,
   "metadata": {},
   "outputs": [
    {
     "data": {
      "text/html": [
       "<div>\n",
       "<style scoped>\n",
       "    .dataframe tbody tr th:only-of-type {\n",
       "        vertical-align: middle;\n",
       "    }\n",
       "\n",
       "    .dataframe tbody tr th {\n",
       "        vertical-align: top;\n",
       "    }\n",
       "\n",
       "    .dataframe thead th {\n",
       "        text-align: right;\n",
       "    }\n",
       "</style>\n",
       "<table border=\"1\" class=\"dataframe\">\n",
       "  <thead>\n",
       "    <tr style=\"text-align: right;\">\n",
       "      <th></th>\n",
       "      <th>MLR</th>\n",
       "      <th>Ridge</th>\n",
       "      <th>Ridge - Feature Scale</th>\n",
       "      <th>Ridge - Poly Features</th>\n",
       "      <th>Lasso</th>\n",
       "      <th>Lasso - Feature Scaling</th>\n",
       "    </tr>\n",
       "  </thead>\n",
       "  <tbody>\n",
       "    <tr>\n",
       "      <th>Test</th>\n",
       "      <td>0.314759</td>\n",
       "      <td>0.328556</td>\n",
       "      <td>0.316049</td>\n",
       "      <td>0.305733</td>\n",
       "      <td>0.249974</td>\n",
       "      <td>-0.000607</td>\n",
       "    </tr>\n",
       "    <tr>\n",
       "      <th>Train</th>\n",
       "      <td>0.321320</td>\n",
       "      <td>0.317666</td>\n",
       "      <td>0.301477</td>\n",
       "      <td>0.320682</td>\n",
       "      <td>0.246790</td>\n",
       "      <td>0.000000</td>\n",
       "    </tr>\n",
       "  </tbody>\n",
       "</table>\n",
       "</div>"
      ],
      "text/plain": [
       "            MLR     Ridge  Ridge - Feature Scale  Ridge - Poly Features  \\\n",
       "Test   0.314759  0.328556               0.316049               0.305733   \n",
       "Train  0.321320  0.317666               0.301477               0.320682   \n",
       "\n",
       "          Lasso  Lasso - Feature Scaling  \n",
       "Test   0.249974                -0.000607  \n",
       "Train  0.246790                 0.000000  "
      ]
     },
     "execution_count": 446,
     "metadata": {},
     "output_type": "execute_result"
    }
   ],
   "source": [
    "rsquaresdf3_B.rename(index = {0: \"Test\", 1:\"Train\"}, inplace = True)\n",
    "rsquaresdf3_B"
   ]
  },
  {
   "cell_type": "code",
   "execution_count": 447,
   "metadata": {
    "scrolled": false
   },
   "outputs": [
    {
     "data": {
      "text/html": [
       "<div>\n",
       "<style scoped>\n",
       "    .dataframe tbody tr th:only-of-type {\n",
       "        vertical-align: middle;\n",
       "    }\n",
       "\n",
       "    .dataframe tbody tr th {\n",
       "        vertical-align: top;\n",
       "    }\n",
       "\n",
       "    .dataframe thead th {\n",
       "        text-align: right;\n",
       "    }\n",
       "</style>\n",
       "<table border=\"1\" class=\"dataframe\">\n",
       "  <thead>\n",
       "    <tr style=\"text-align: right;\">\n",
       "      <th></th>\n",
       "      <th>KNN</th>\n",
       "      <th>Decision Tree</th>\n",
       "      <th>SVM</th>\n",
       "      <th>GNB</th>\n",
       "      <th>Rand Forest</th>\n",
       "      <th>GB Dec Tree</th>\n",
       "      <th>ANN</th>\n",
       "    </tr>\n",
       "  </thead>\n",
       "  <tbody>\n",
       "    <tr>\n",
       "      <th>Test</th>\n",
       "      <td>0.768219</td>\n",
       "      <td>0.753036</td>\n",
       "      <td>0.821862</td>\n",
       "      <td>0.672065</td>\n",
       "      <td>0.768421</td>\n",
       "      <td>0.768421</td>\n",
       "      <td>0.768421</td>\n",
       "    </tr>\n",
       "    <tr>\n",
       "      <th>Train</th>\n",
       "      <td>0.800506</td>\n",
       "      <td>0.766835</td>\n",
       "      <td>0.807342</td>\n",
       "      <td>0.674048</td>\n",
       "      <td>0.789090</td>\n",
       "      <td>0.789090</td>\n",
       "      <td>0.789090</td>\n",
       "    </tr>\n",
       "  </tbody>\n",
       "</table>\n",
       "</div>"
      ],
      "text/plain": [
       "            KNN  Decision Tree       SVM       GNB  Rand Forest  GB Dec Tree  \\\n",
       "Test   0.768219       0.753036  0.821862  0.672065     0.768421     0.768421   \n",
       "Train  0.800506       0.766835  0.807342  0.674048     0.789090     0.789090   \n",
       "\n",
       "            ANN  \n",
       "Test   0.768421  \n",
       "Train  0.789090  "
      ]
     },
     "execution_count": 447,
     "metadata": {},
     "output_type": "execute_result"
    }
   ],
   "source": [
    "accuracydf3_B.rename(index = {0: \"Test\", 1:\"Train\"}, inplace = True)\n",
    "accuracydf3_B"
   ]
  },
  {
   "cell_type": "markdown",
   "metadata": {},
   "source": [
    "# Cross-Validation"
   ]
  },
  {
   "cell_type": "code",
   "execution_count": 448,
   "metadata": {},
   "outputs": [
    {
     "name": "stdout",
     "output_type": "stream",
     "text": [
      "CV_scores are :  [0.27747658 0.27824328 0.25731322 0.28712508 0.28839891 0.32568962\n",
      " 0.28965064 0.32324593 0.38131034 0.34015304]\n",
      "Average CV_Score =  0.3048606638378811\n"
     ]
    }
   ],
   "source": [
    "# Multi Linear Regression\n",
    "CV_scores = cross_val_score(my_model, X, y, cv = 10)\n",
    "print (\"CV_scores are : \", CV_scores)\n",
    "print (\"Average CV_Score = \",np.mean(CV_scores))"
   ]
  },
  {
   "cell_type": "code",
   "execution_count": 449,
   "metadata": {},
   "outputs": [
    {
     "name": "stdout",
     "output_type": "stream",
     "text": [
      "CV_scores are :  [0.27750536 0.27824956 0.25731732 0.28713176 0.2883603  0.32570731\n",
      " 0.28963914 0.32323965 0.38131799 0.34015009]\n",
      "Average CV_Score =  0.30486184656110477\n"
     ]
    }
   ],
   "source": [
    "# Ridge Regression\n",
    "CV_scores = cross_val_score(my_Ridge, X, y, cv = 10)\n",
    "print (\"CV_scores are : \", CV_scores)\n",
    "print (\"Average CV_Score = \",np.mean(CV_scores))"
   ]
  },
  {
   "cell_type": "code",
   "execution_count": 450,
   "metadata": {},
   "outputs": [
    {
     "name": "stdout",
     "output_type": "stream",
     "text": [
      "CV_scores are :  [0.27750217 0.27824887 0.25731686 0.28713102 0.28836459 0.32570535\n",
      " 0.28964042 0.32324035 0.38131714 0.34015042]\n",
      "Average CV_Score =  0.3048617180128986\n"
     ]
    }
   ],
   "source": [
    "# Ridge + Feature Scaling \n",
    "# Same Code for Ridge + Polynomial Features\n",
    "CV_scores = cross_val_score(my_ridge, X, y, cv = 10)\n",
    "print (\"CV_scores are : \", CV_scores)\n",
    "print (\"Average CV_Score = \",np.mean(CV_scores))"
   ]
  },
  {
   "cell_type": "code",
   "execution_count": 451,
   "metadata": {},
   "outputs": [
    {
     "name": "stdout",
     "output_type": "stream",
     "text": [
      "CV_scores are :  [0.09197496 0.08988404 0.07940072 0.0449511  0.07718988 0.07852233\n",
      " 0.05956497 0.06022491 0.12094654 0.11303438]\n",
      "Average CV_Score =  0.08156938391474912\n"
     ]
    }
   ],
   "source": [
    "# Lasso\n",
    "# Same Code for Lasso + Feature Scaling\n",
    "CV_scores = cross_val_score(my_Lasso, X, y, cv = 10)\n",
    "print (\"CV_scores are : \", CV_scores)\n",
    "print (\"Average CV_Score = \",np.mean(CV_scores))"
   ]
  },
  {
   "cell_type": "code",
   "execution_count": 452,
   "metadata": {},
   "outputs": [
    {
     "name": "stdout",
     "output_type": "stream",
     "text": [
      "CV_scores are :  [0.72469636 0.72064777 0.73076923 0.72469636 0.70445344 0.72064777\n",
      " 0.73684211 0.70242915 0.72819473 0.72210953]\n",
      "Average CV_Score =  0.7215486445869705\n"
     ]
    }
   ],
   "source": [
    "# KNN \n",
    "CV_scores = cross_val_score(My_KNN, X, y, cv = 10)\n",
    "print (\"CV_scores are : \", CV_scores)\n",
    "print (\"Average CV_Score = \",np.mean(CV_scores))"
   ]
  },
  {
   "cell_type": "code",
   "execution_count": 453,
   "metadata": {},
   "outputs": [
    {
     "name": "stdout",
     "output_type": "stream",
     "text": [
      "CV_scores are :  [0.7388664  0.75101215 0.75506073 0.74898785 0.75101215 0.74898785\n",
      " 0.73076923 0.74493927 0.80121704 0.74442191]\n",
      "Average CV_Score =  0.751527457276363\n"
     ]
    }
   ],
   "source": [
    "# Decision Tree\n",
    "CV_scores = cross_val_score(My_Tree, X, y, cv = 10)\n",
    "print (\"CV_scores are : \", CV_scores)\n",
    "print (\"Average CV_Score = \",np.mean(CV_scores))"
   ]
  },
  {
   "cell_type": "code",
   "execution_count": 454,
   "metadata": {},
   "outputs": [
    {
     "name": "stdout",
     "output_type": "stream",
     "text": [
      "CV_scores are :  [0.7854251  0.77125506 0.79554656 0.79757085 0.8097166  0.79149798\n",
      " 0.81174089 0.81578947 0.83975659 0.80933063]\n",
      "Average CV_Score =  0.8027629731216793\n"
     ]
    }
   ],
   "source": [
    "# SVM\n",
    "CV_scores = cross_val_score(My_SVC, X, y, cv = 10)\n",
    "print (\"CV_scores are : \", CV_scores)\n",
    "print (\"Average CV_Score = \",np.mean(CV_scores))"
   ]
  },
  {
   "cell_type": "code",
   "execution_count": 455,
   "metadata": {},
   "outputs": [
    {
     "name": "stdout",
     "output_type": "stream",
     "text": [
      "CV_scores are :  [0.74089069 0.70850202 0.74089069 0.62955466 0.65587045 0.65587045\n",
      " 0.6437247  0.66194332 0.65314402 0.65922921]\n",
      "Average CV_Score =  0.6749620188714883\n"
     ]
    }
   ],
   "source": [
    "# GNB\n",
    "CV_scores = cross_val_score(My_GNB, X, y, cv = 10)\n",
    "print (\"CV_scores are : \", CV_scores)\n",
    "print (\"Average CV_Score = \",np.mean(CV_scores))"
   ]
  },
  {
   "cell_type": "code",
   "execution_count": 456,
   "metadata": {},
   "outputs": [
    {
     "name": "stdout",
     "output_type": "stream",
     "text": [
      "CV_scores are :  [0.74493927 0.75506073 0.74696356 0.77935223 0.77935223 0.78137652\n",
      " 0.77125506 0.78947368 0.8296146  0.78498986]\n",
      "Average CV_Score =  0.7762377741826871\n"
     ]
    }
   ],
   "source": [
    "#Random Forest\n",
    "CV_scores = cross_val_score(My_Forest, X, y, cv = 10)\n",
    "print (\"CV_scores are : \", CV_scores)\n",
    "print (\"Average CV_Score = \",np.mean(CV_scores))\n"
   ]
  },
  {
   "cell_type": "code",
   "execution_count": 457,
   "metadata": {},
   "outputs": [
    {
     "name": "stdout",
     "output_type": "stream",
     "text": [
      "CV_scores are :  [0.78744939 0.79757085 0.78947368 0.77935223 0.82793522 0.78137652\n",
      " 0.81376518 0.82388664 0.84989858 0.81135903]\n",
      "Average CV_Score =  0.8062067323090062\n"
     ]
    }
   ],
   "source": [
    "#Gradient Boosted \n",
    "CV_scores = cross_val_score(My_GBDT, X, y, cv = 10)\n",
    "print (\"CV_scores are : \", CV_scores)\n",
    "print (\"Average CV_Score = \",np.mean(CV_scores))"
   ]
  },
  {
   "cell_type": "code",
   "execution_count": 458,
   "metadata": {},
   "outputs": [],
   "source": [
    "\n",
    "\n",
    "\n",
    "\n",
    "\n",
    "\n",
    "\n",
    "\n",
    "\n",
    "\n",
    "\n",
    "\n",
    "\n",
    "\n",
    "#"
   ]
  },
  {
   "cell_type": "markdown",
   "metadata": {},
   "source": [
    "# <div class=\"alert alert-block alert-success\"> Final Tables </div>"
   ]
  },
  {
   "cell_type": "markdown",
   "metadata": {},
   "source": [
    "# Starts with Posession, Target is Home Win = 1, Home Tie or Loss = 0\n",
    "# Predicts if the Home Team will win based off of game stats"
   ]
  },
  {
   "cell_type": "code",
   "execution_count": 459,
   "metadata": {},
   "outputs": [
    {
     "data": {
      "text/html": [
       "<div>\n",
       "<style scoped>\n",
       "    .dataframe tbody tr th:only-of-type {\n",
       "        vertical-align: middle;\n",
       "    }\n",
       "\n",
       "    .dataframe tbody tr th {\n",
       "        vertical-align: top;\n",
       "    }\n",
       "\n",
       "    .dataframe thead th {\n",
       "        text-align: right;\n",
       "    }\n",
       "</style>\n",
       "<table border=\"1\" class=\"dataframe\">\n",
       "  <thead>\n",
       "    <tr style=\"text-align: right;\">\n",
       "      <th></th>\n",
       "      <th>MLR</th>\n",
       "      <th>Ridge</th>\n",
       "      <th>Ridge - Feature Scale</th>\n",
       "      <th>Ridge - Poly Features</th>\n",
       "      <th>Lasso</th>\n",
       "      <th>Lasso - Feature Scaling</th>\n",
       "    </tr>\n",
       "  </thead>\n",
       "  <tbody>\n",
       "    <tr>\n",
       "      <th>Test</th>\n",
       "      <td>0.324920</td>\n",
       "      <td>0.317923</td>\n",
       "      <td>0.329071</td>\n",
       "      <td>0.354378</td>\n",
       "      <td>0.279093</td>\n",
       "      <td>-0.001454</td>\n",
       "    </tr>\n",
       "    <tr>\n",
       "      <th>Train</th>\n",
       "      <td>0.351813</td>\n",
       "      <td>0.358007</td>\n",
       "      <td>0.329965</td>\n",
       "      <td>0.348393</td>\n",
       "      <td>0.285807</td>\n",
       "      <td>0.000000</td>\n",
       "    </tr>\n",
       "  </tbody>\n",
       "</table>\n",
       "</div>"
      ],
      "text/plain": [
       "            MLR     Ridge  Ridge - Feature Scale  Ridge - Poly Features  \\\n",
       "Test   0.324920  0.317923               0.329071               0.354378   \n",
       "Train  0.351813  0.358007               0.329965               0.348393   \n",
       "\n",
       "          Lasso  Lasso - Feature Scaling  \n",
       "Test   0.279093                -0.001454  \n",
       "Train  0.285807                 0.000000  "
      ]
     },
     "execution_count": 459,
     "metadata": {},
     "output_type": "execute_result"
    }
   ],
   "source": [
    "rsquaresdf2_A"
   ]
  },
  {
   "cell_type": "code",
   "execution_count": 460,
   "metadata": {},
   "outputs": [
    {
     "data": {
      "text/html": [
       "<div>\n",
       "<style scoped>\n",
       "    .dataframe tbody tr th:only-of-type {\n",
       "        vertical-align: middle;\n",
       "    }\n",
       "\n",
       "    .dataframe tbody tr th {\n",
       "        vertical-align: top;\n",
       "    }\n",
       "\n",
       "    .dataframe thead th {\n",
       "        text-align: right;\n",
       "    }\n",
       "</style>\n",
       "<table border=\"1\" class=\"dataframe\">\n",
       "  <thead>\n",
       "    <tr style=\"text-align: right;\">\n",
       "      <th></th>\n",
       "      <th>KNN</th>\n",
       "      <th>Decision Tree</th>\n",
       "      <th>SVM</th>\n",
       "      <th>GNB</th>\n",
       "      <th>Rand Forest</th>\n",
       "      <th>GB Dec Tree</th>\n",
       "      <th>ANN</th>\n",
       "    </tr>\n",
       "  </thead>\n",
       "  <tbody>\n",
       "    <tr>\n",
       "      <th>Test</th>\n",
       "      <td>0.720648</td>\n",
       "      <td>0.702429</td>\n",
       "      <td>0.784413</td>\n",
       "      <td>0.624291</td>\n",
       "      <td>0.726316</td>\n",
       "      <td>0.726316</td>\n",
       "      <td>0.726316</td>\n",
       "    </tr>\n",
       "    <tr>\n",
       "      <th>Train</th>\n",
       "      <td>0.752405</td>\n",
       "      <td>0.710380</td>\n",
       "      <td>0.767342</td>\n",
       "      <td>0.629220</td>\n",
       "      <td>0.749122</td>\n",
       "      <td>0.749122</td>\n",
       "      <td>0.749122</td>\n",
       "    </tr>\n",
       "  </tbody>\n",
       "</table>\n",
       "</div>"
      ],
      "text/plain": [
       "            KNN  Decision Tree       SVM       GNB  Rand Forest  GB Dec Tree  \\\n",
       "Test   0.720648       0.702429  0.784413  0.624291     0.726316     0.726316   \n",
       "Train  0.752405       0.710380  0.767342  0.629220     0.749122     0.749122   \n",
       "\n",
       "            ANN  \n",
       "Test   0.726316  \n",
       "Train  0.749122  "
      ]
     },
     "execution_count": 460,
     "metadata": {},
     "output_type": "execute_result"
    }
   ],
   "source": [
    "accuracydf2_A"
   ]
  },
  {
   "cell_type": "markdown",
   "metadata": {},
   "source": [
    "# Starts with Posession, Target is Home Win or Tie = 1, Home Loss = 0\n",
    "# Predicts if the Home Team will not lose based off of game stats"
   ]
  },
  {
   "cell_type": "code",
   "execution_count": 461,
   "metadata": {},
   "outputs": [
    {
     "data": {
      "text/html": [
       "<div>\n",
       "<style scoped>\n",
       "    .dataframe tbody tr th:only-of-type {\n",
       "        vertical-align: middle;\n",
       "    }\n",
       "\n",
       "    .dataframe tbody tr th {\n",
       "        vertical-align: top;\n",
       "    }\n",
       "\n",
       "    .dataframe thead th {\n",
       "        text-align: right;\n",
       "    }\n",
       "</style>\n",
       "<table border=\"1\" class=\"dataframe\">\n",
       "  <thead>\n",
       "    <tr style=\"text-align: right;\">\n",
       "      <th></th>\n",
       "      <th>MLR</th>\n",
       "      <th>Ridge</th>\n",
       "      <th>Ridge - Feature Scale</th>\n",
       "      <th>Ridge - Poly Features</th>\n",
       "      <th>Lasso</th>\n",
       "      <th>Lasso - Feature Scaling</th>\n",
       "    </tr>\n",
       "  </thead>\n",
       "  <tbody>\n",
       "    <tr>\n",
       "      <th>Test</th>\n",
       "      <td>0.297519</td>\n",
       "      <td>0.303748</td>\n",
       "      <td>0.280091</td>\n",
       "      <td>0.283248</td>\n",
       "      <td>0.217232</td>\n",
       "      <td>-0.00118</td>\n",
       "    </tr>\n",
       "    <tr>\n",
       "      <th>Train</th>\n",
       "      <td>0.318174</td>\n",
       "      <td>0.317217</td>\n",
       "      <td>0.304775</td>\n",
       "      <td>0.322553</td>\n",
       "      <td>0.251788</td>\n",
       "      <td>0.00000</td>\n",
       "    </tr>\n",
       "  </tbody>\n",
       "</table>\n",
       "</div>"
      ],
      "text/plain": [
       "            MLR     Ridge  Ridge - Feature Scale  Ridge - Poly Features  \\\n",
       "Test   0.297519  0.303748               0.280091               0.283248   \n",
       "Train  0.318174  0.317217               0.304775               0.322553   \n",
       "\n",
       "          Lasso  Lasso - Feature Scaling  \n",
       "Test   0.217232                 -0.00118  \n",
       "Train  0.251788                  0.00000  "
      ]
     },
     "execution_count": 461,
     "metadata": {},
     "output_type": "execute_result"
    }
   ],
   "source": [
    "rsquaresdf2_B"
   ]
  },
  {
   "cell_type": "code",
   "execution_count": 462,
   "metadata": {},
   "outputs": [
    {
     "data": {
      "text/html": [
       "<div>\n",
       "<style scoped>\n",
       "    .dataframe tbody tr th:only-of-type {\n",
       "        vertical-align: middle;\n",
       "    }\n",
       "\n",
       "    .dataframe tbody tr th {\n",
       "        vertical-align: top;\n",
       "    }\n",
       "\n",
       "    .dataframe thead th {\n",
       "        text-align: right;\n",
       "    }\n",
       "</style>\n",
       "<table border=\"1\" class=\"dataframe\">\n",
       "  <thead>\n",
       "    <tr style=\"text-align: right;\">\n",
       "      <th></th>\n",
       "      <th>KNN</th>\n",
       "      <th>Decision Tree</th>\n",
       "      <th>SVM</th>\n",
       "      <th>GNB</th>\n",
       "      <th>Rand Forest</th>\n",
       "      <th>GB Dec Tree</th>\n",
       "      <th>ANN</th>\n",
       "    </tr>\n",
       "  </thead>\n",
       "  <tbody>\n",
       "    <tr>\n",
       "      <th>Test</th>\n",
       "      <td>0.786437</td>\n",
       "      <td>0.747976</td>\n",
       "      <td>0.803644</td>\n",
       "      <td>0.661538</td>\n",
       "      <td>0.780567</td>\n",
       "      <td>0.780567</td>\n",
       "      <td>0.780567</td>\n",
       "    </tr>\n",
       "    <tr>\n",
       "      <th>Train</th>\n",
       "      <td>0.785570</td>\n",
       "      <td>0.752658</td>\n",
       "      <td>0.810127</td>\n",
       "      <td>0.668647</td>\n",
       "      <td>0.786389</td>\n",
       "      <td>0.786389</td>\n",
       "      <td>0.786389</td>\n",
       "    </tr>\n",
       "  </tbody>\n",
       "</table>\n",
       "</div>"
      ],
      "text/plain": [
       "            KNN  Decision Tree       SVM       GNB  Rand Forest  GB Dec Tree  \\\n",
       "Test   0.786437       0.747976  0.803644  0.661538     0.780567     0.780567   \n",
       "Train  0.785570       0.752658  0.810127  0.668647     0.786389     0.786389   \n",
       "\n",
       "            ANN  \n",
       "Test   0.780567  \n",
       "Train  0.786389  "
      ]
     },
     "execution_count": 462,
     "metadata": {},
     "output_type": "execute_result"
    }
   ],
   "source": [
    "accuracydf2_B"
   ]
  },
  {
   "cell_type": "markdown",
   "metadata": {},
   "source": [
    "# Starts with Home and Away Teams, Target is Home Win = 1, Home Tie or Loss = 0\n",
    "# Predicts if the Home Team will win based off of the game stats"
   ]
  },
  {
   "cell_type": "code",
   "execution_count": 463,
   "metadata": {},
   "outputs": [
    {
     "data": {
      "text/html": [
       "<div>\n",
       "<style scoped>\n",
       "    .dataframe tbody tr th:only-of-type {\n",
       "        vertical-align: middle;\n",
       "    }\n",
       "\n",
       "    .dataframe tbody tr th {\n",
       "        vertical-align: top;\n",
       "    }\n",
       "\n",
       "    .dataframe thead th {\n",
       "        text-align: right;\n",
       "    }\n",
       "</style>\n",
       "<table border=\"1\" class=\"dataframe\">\n",
       "  <thead>\n",
       "    <tr style=\"text-align: right;\">\n",
       "      <th></th>\n",
       "      <th>MLR</th>\n",
       "      <th>Ridge</th>\n",
       "      <th>Ridge - Feature Scale</th>\n",
       "      <th>Ridge - Poly Features</th>\n",
       "      <th>Lasso</th>\n",
       "      <th>Lasso - Feature Scaling</th>\n",
       "    </tr>\n",
       "  </thead>\n",
       "  <tbody>\n",
       "    <tr>\n",
       "      <th>Test</th>\n",
       "      <td>0.395492</td>\n",
       "      <td>0.367958</td>\n",
       "      <td>0.323248</td>\n",
       "      <td>0.382451</td>\n",
       "      <td>0.295344</td>\n",
       "      <td>-0.001091</td>\n",
       "    </tr>\n",
       "    <tr>\n",
       "      <th>Train</th>\n",
       "      <td>0.348102</td>\n",
       "      <td>0.354918</td>\n",
       "      <td>0.342202</td>\n",
       "      <td>0.351184</td>\n",
       "      <td>0.284577</td>\n",
       "      <td>0.000000</td>\n",
       "    </tr>\n",
       "  </tbody>\n",
       "</table>\n",
       "</div>"
      ],
      "text/plain": [
       "            MLR     Ridge  Ridge - Feature Scale  Ridge - Poly Features  \\\n",
       "Test   0.395492  0.367958               0.323248               0.382451   \n",
       "Train  0.348102  0.354918               0.342202               0.351184   \n",
       "\n",
       "          Lasso  Lasso - Feature Scaling  \n",
       "Test   0.295344                -0.001091  \n",
       "Train  0.284577                 0.000000  "
      ]
     },
     "execution_count": 463,
     "metadata": {},
     "output_type": "execute_result"
    }
   ],
   "source": [
    "rsquaresdf3_A"
   ]
  },
  {
   "cell_type": "code",
   "execution_count": 464,
   "metadata": {},
   "outputs": [
    {
     "data": {
      "text/html": [
       "<div>\n",
       "<style scoped>\n",
       "    .dataframe tbody tr th:only-of-type {\n",
       "        vertical-align: middle;\n",
       "    }\n",
       "\n",
       "    .dataframe tbody tr th {\n",
       "        vertical-align: top;\n",
       "    }\n",
       "\n",
       "    .dataframe thead th {\n",
       "        text-align: right;\n",
       "    }\n",
       "</style>\n",
       "<table border=\"1\" class=\"dataframe\">\n",
       "  <thead>\n",
       "    <tr style=\"text-align: right;\">\n",
       "      <th></th>\n",
       "      <th>KNN</th>\n",
       "      <th>Decision Tree</th>\n",
       "      <th>SVM</th>\n",
       "      <th>GNB</th>\n",
       "      <th>Rand Forest</th>\n",
       "      <th>GB Dec Tree</th>\n",
       "      <th>ANN</th>\n",
       "    </tr>\n",
       "  </thead>\n",
       "  <tbody>\n",
       "    <tr>\n",
       "      <th>Test</th>\n",
       "      <td>0.698381</td>\n",
       "      <td>0.698381</td>\n",
       "      <td>0.796559</td>\n",
       "      <td>0.642915</td>\n",
       "      <td>0.728745</td>\n",
       "      <td>0.728745</td>\n",
       "      <td>0.728745</td>\n",
       "    </tr>\n",
       "    <tr>\n",
       "      <th>Train</th>\n",
       "      <td>0.743797</td>\n",
       "      <td>0.715190</td>\n",
       "      <td>0.772152</td>\n",
       "      <td>0.633270</td>\n",
       "      <td>0.763705</td>\n",
       "      <td>0.763705</td>\n",
       "      <td>0.763705</td>\n",
       "    </tr>\n",
       "  </tbody>\n",
       "</table>\n",
       "</div>"
      ],
      "text/plain": [
       "            KNN  Decision Tree       SVM       GNB  Rand Forest  GB Dec Tree  \\\n",
       "Test   0.698381       0.698381  0.796559  0.642915     0.728745     0.728745   \n",
       "Train  0.743797       0.715190  0.772152  0.633270     0.763705     0.763705   \n",
       "\n",
       "            ANN  \n",
       "Test   0.728745  \n",
       "Train  0.763705  "
      ]
     },
     "execution_count": 464,
     "metadata": {},
     "output_type": "execute_result"
    }
   ],
   "source": [
    "accuracydf3_A"
   ]
  },
  {
   "cell_type": "markdown",
   "metadata": {},
   "source": [
    "# Starts with Home and Away Teams, Target is Home Win or Tie = 1, Home Loss = 0\n",
    "# Predicts if the Home Team will not lose based off of game stats"
   ]
  },
  {
   "cell_type": "code",
   "execution_count": 465,
   "metadata": {},
   "outputs": [
    {
     "data": {
      "text/html": [
       "<div>\n",
       "<style scoped>\n",
       "    .dataframe tbody tr th:only-of-type {\n",
       "        vertical-align: middle;\n",
       "    }\n",
       "\n",
       "    .dataframe tbody tr th {\n",
       "        vertical-align: top;\n",
       "    }\n",
       "\n",
       "    .dataframe thead th {\n",
       "        text-align: right;\n",
       "    }\n",
       "</style>\n",
       "<table border=\"1\" class=\"dataframe\">\n",
       "  <thead>\n",
       "    <tr style=\"text-align: right;\">\n",
       "      <th></th>\n",
       "      <th>MLR</th>\n",
       "      <th>Ridge</th>\n",
       "      <th>Ridge - Feature Scale</th>\n",
       "      <th>Ridge - Poly Features</th>\n",
       "      <th>Lasso</th>\n",
       "      <th>Lasso - Feature Scaling</th>\n",
       "    </tr>\n",
       "  </thead>\n",
       "  <tbody>\n",
       "    <tr>\n",
       "      <th>Test</th>\n",
       "      <td>0.314759</td>\n",
       "      <td>0.328556</td>\n",
       "      <td>0.316049</td>\n",
       "      <td>0.305733</td>\n",
       "      <td>0.249974</td>\n",
       "      <td>-0.000607</td>\n",
       "    </tr>\n",
       "    <tr>\n",
       "      <th>Train</th>\n",
       "      <td>0.321320</td>\n",
       "      <td>0.317666</td>\n",
       "      <td>0.301477</td>\n",
       "      <td>0.320682</td>\n",
       "      <td>0.246790</td>\n",
       "      <td>0.000000</td>\n",
       "    </tr>\n",
       "  </tbody>\n",
       "</table>\n",
       "</div>"
      ],
      "text/plain": [
       "            MLR     Ridge  Ridge - Feature Scale  Ridge - Poly Features  \\\n",
       "Test   0.314759  0.328556               0.316049               0.305733   \n",
       "Train  0.321320  0.317666               0.301477               0.320682   \n",
       "\n",
       "          Lasso  Lasso - Feature Scaling  \n",
       "Test   0.249974                -0.000607  \n",
       "Train  0.246790                 0.000000  "
      ]
     },
     "execution_count": 465,
     "metadata": {},
     "output_type": "execute_result"
    }
   ],
   "source": [
    "rsquaresdf3_B"
   ]
  },
  {
   "cell_type": "code",
   "execution_count": 466,
   "metadata": {
    "scrolled": true
   },
   "outputs": [
    {
     "data": {
      "text/html": [
       "<div>\n",
       "<style scoped>\n",
       "    .dataframe tbody tr th:only-of-type {\n",
       "        vertical-align: middle;\n",
       "    }\n",
       "\n",
       "    .dataframe tbody tr th {\n",
       "        vertical-align: top;\n",
       "    }\n",
       "\n",
       "    .dataframe thead th {\n",
       "        text-align: right;\n",
       "    }\n",
       "</style>\n",
       "<table border=\"1\" class=\"dataframe\">\n",
       "  <thead>\n",
       "    <tr style=\"text-align: right;\">\n",
       "      <th></th>\n",
       "      <th>KNN</th>\n",
       "      <th>Decision Tree</th>\n",
       "      <th>SVM</th>\n",
       "      <th>GNB</th>\n",
       "      <th>Rand Forest</th>\n",
       "      <th>GB Dec Tree</th>\n",
       "      <th>ANN</th>\n",
       "    </tr>\n",
       "  </thead>\n",
       "  <tbody>\n",
       "    <tr>\n",
       "      <th>Test</th>\n",
       "      <td>0.768219</td>\n",
       "      <td>0.753036</td>\n",
       "      <td>0.821862</td>\n",
       "      <td>0.672065</td>\n",
       "      <td>0.768421</td>\n",
       "      <td>0.768421</td>\n",
       "      <td>0.768421</td>\n",
       "    </tr>\n",
       "    <tr>\n",
       "      <th>Train</th>\n",
       "      <td>0.800506</td>\n",
       "      <td>0.766835</td>\n",
       "      <td>0.807342</td>\n",
       "      <td>0.674048</td>\n",
       "      <td>0.789090</td>\n",
       "      <td>0.789090</td>\n",
       "      <td>0.789090</td>\n",
       "    </tr>\n",
       "  </tbody>\n",
       "</table>\n",
       "</div>"
      ],
      "text/plain": [
       "            KNN  Decision Tree       SVM       GNB  Rand Forest  GB Dec Tree  \\\n",
       "Test   0.768219       0.753036  0.821862  0.672065     0.768421     0.768421   \n",
       "Train  0.800506       0.766835  0.807342  0.674048     0.789090     0.789090   \n",
       "\n",
       "            ANN  \n",
       "Test   0.768421  \n",
       "Train  0.789090  "
      ]
     },
     "execution_count": 466,
     "metadata": {},
     "output_type": "execute_result"
    }
   ],
   "source": [
    "accuracydf3_B"
   ]
  },
  {
   "cell_type": "code",
   "execution_count": 467,
   "metadata": {},
   "outputs": [],
   "source": [
    "\n",
    "\n",
    "\n",
    "\n",
    "\n",
    "\n",
    "\n",
    "\n",
    "\n",
    "\n",
    "\n",
    "\n",
    "\n",
    "\n",
    "#"
   ]
  },
  {
   "cell_type": "markdown",
   "metadata": {},
   "source": [
    "# <div class=\"alert alert-block alert-success\"> Final Results </div>"
   ]
  },
  {
   "cell_type": "code",
   "execution_count": 468,
   "metadata": {},
   "outputs": [],
   "source": [
    "# Forecasting Home Win with anonymous team names with forecasted game statistics\n",
    "\n",
    "#Train: 76.91%\n",
    "#Test: 76.65%"
   ]
  },
  {
   "cell_type": "code",
   "execution_count": 469,
   "metadata": {},
   "outputs": [],
   "source": [
    "# Forecasting Home Non-Loss with anonymous team names with forecasted game statistics\n",
    "\n",
    "#Train: 80.51%\n",
    "#Test: 80.77%"
   ]
  },
  {
   "cell_type": "code",
   "execution_count": 470,
   "metadata": {},
   "outputs": [],
   "source": [
    "# Forecasting Home Win with known Home and Away team with forecasted game statistics\n",
    "\n",
    "#Train: 77.87%\n",
    "#Test: 78.04%"
   ]
  },
  {
   "cell_type": "code",
   "execution_count": 471,
   "metadata": {},
   "outputs": [],
   "source": [
    "# Forecasting Home Non-Loss with known Home and Away team with forecasted game statistics\n",
    "\n",
    "#Train: 81.42%\n",
    "#Test: 81.12%"
   ]
  },
  {
   "cell_type": "markdown",
   "metadata": {},
   "source": [
    "# <div class=\"alert alert-block alert-warning\"> Interesting Findings </div>"
   ]
  },
  {
   "cell_type": "markdown",
   "metadata": {},
   "source": [
    "## 1"
   ]
  },
  {
   "cell_type": "markdown",
   "metadata": {},
   "source": [
    "The more shots a home team takes, the more shots the away team takes.\n",
    "A team would rather take fewer shots with higher quality, since the more they shoot, the more shots the away team will get.\n"
   ]
  },
  {
   "cell_type": "markdown",
   "metadata": {},
   "source": [
    "## 2"
   ]
  },
  {
   "cell_type": "markdown",
   "metadata": {},
   "source": [
    "Knowing the teams that are playing yields a slightly better result in predicting the result of a match.\n",
    "This shows that sometimes the teams that are playing are sometimes more important than just pure game statistics in predicting the result."
   ]
  },
  {
   "cell_type": "markdown",
   "metadata": {},
   "source": [
    "## 3"
   ]
  },
  {
   "cell_type": "markdown",
   "metadata": {},
   "source": [
    "There was a lower correlation between away possession and away goals than home possesion and home goals, so it is clear to see that home teams are more focused on build up play and away teams are most focused on counter attacks."
   ]
  }
 ],
 "metadata": {
  "kernelspec": {
   "display_name": "Python 3",
   "language": "python",
   "name": "python3"
  },
  "language_info": {
   "codemirror_mode": {
    "name": "ipython",
    "version": 3
   },
   "file_extension": ".py",
   "mimetype": "text/x-python",
   "name": "python",
   "nbconvert_exporter": "python",
   "pygments_lexer": "ipython3",
   "version": "3.7.6"
  }
 },
 "nbformat": 4,
 "nbformat_minor": 2
}
